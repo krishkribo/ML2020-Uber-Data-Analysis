{
 "metadata": {
  "language_info": {
   "codemirror_mode": {
    "name": "ipython",
    "version": 3
   },
   "file_extension": ".py",
   "mimetype": "text/x-python",
   "name": "python",
   "nbconvert_exporter": "python",
   "pygments_lexer": "ipython3",
   "version": "3.8.7-final"
  },
  "orig_nbformat": 2,
  "kernelspec": {
   "name": "python3",
   "display_name": "Python 3",
   "language": "python"
  }
 },
 "nbformat": 4,
 "nbformat_minor": 2,
 "cells": [
  {
   "cell_type": "code",
   "execution_count": 1,
   "metadata": {},
   "outputs": [],
   "source": [
    "import os\n",
    "import sys\n",
    "module_path = os.path.abspath(os.path.join('..'))\n",
    "if module_path not in sys.path:\n",
    "    sys.path.append(module_path)\n",
    "\n",
    "# FIX ME: Root dir as argument\n",
    "root_dir = \"../../data/picklerCheckpoints/\"\n",
    "is_compressed = True;"
   ]
  },
  {
   "cell_type": "code",
   "execution_count": 2,
   "metadata": {},
   "outputs": [
    {
     "output_type": "stream",
     "name": "stdout",
     "text": [
      "Importing Jupyter notebook from d:\\Academics\\MachineLearning\\commons\\utility\\pickle_util.ipynb\n"
     ]
    }
   ],
   "source": [
    "import numpy as np\n",
    "import pandas as pd\n",
    "import nbimporter\n",
    "import commons.utility.pickle_util as pickle"
   ]
  },
  {
   "cell_type": "code",
   "execution_count": 3,
   "metadata": {},
   "outputs": [],
   "source": [
    "uberDataPath= '../data/uberData/'\n",
    "weatherDataPath = \"../data/weatherData/\"\n",
    "windDirectionPath = \"../data/weatherData/\"\n",
    "windSpeedPath = \"../data/weatherData/\"\n",
    "pressurePath = \"../data/weatherData/\"\n",
    "humidityPath = \"../data/weatherData/\"\n",
    "temperaturePath = \"../data/weatherData/\"\n",
    "pickleStore = \"../data/picklerCheckpoints/enrichedData/\""
   ]
  },
  {
   "cell_type": "code",
   "execution_count": 4,
   "metadata": {},
   "outputs": [],
   "source": [
    "# uberDataDF = pd.read_csv(uberDataPath + 'uber-raw-data-apr14.csv')\n",
    "# uberDataDF['datetime'] = pd.to_datetime(uberDataDF['Date/Time'])\n",
    "# uberDataDF['datetime'] = uberDataDF['datetime'].dt.strftime('%m-%d-%Y:%H')"
   ]
  },
  {
   "cell_type": "code",
   "execution_count": 5,
   "metadata": {},
   "outputs": [],
   "source": [
    "#uberDataDF"
   ]
  },
  {
   "cell_type": "code",
   "execution_count": 6,
   "metadata": {},
   "outputs": [],
   "source": [
    "# weatherData = pd.read_csv(weatherDataPath + 'weather_description.csv')\n",
    "# weatherData[\"datetime\"] = pd.to_datetime(weatherData['datetime'])\n",
    "# weatherData['datetime'] = weatherData['datetime'].dt.strftime('%m-%d-%Y:%H')\n",
    "# weatherData = weatherData[['datetime', 'New York']].drop_duplicates().dropna()\n",
    "# weatherData.rename(columns = {'New York':'weatherCondition'}, inplace = True) "
   ]
  },
  {
   "cell_type": "code",
   "execution_count": 7,
   "metadata": {},
   "outputs": [],
   "source": [
    "# humidityDf = pd.read_csv(humidityPath + 'humidity.csv')\n",
    "# humidityDf[\"datetime\"] = pd.to_datetime(humidityDf['datetime'])\n",
    "# humidityDf['datetime'] = humidityDf['datetime'].dt.strftime('%m-%d-%Y:%H')\n",
    "# humidityDf = humidityDf[['datetime', 'New York']].drop_duplicates().dropna()\n",
    "# humidityDf.rename(columns = {'New York':'humidity'}, inplace = True) "
   ]
  },
  {
   "cell_type": "code",
   "execution_count": 8,
   "metadata": {},
   "outputs": [],
   "source": [
    "# pressureDf = pd.read_csv(pressurePath + 'pressure.csv')\n",
    "# pressureDf[\"datetime\"] = pd.to_datetime(pressureDf['datetime'])\n",
    "# pressureDf['datetime'] = pressureDf['datetime'].dt.strftime('%m-%d-%Y:%H')\n",
    "# pressureDf = pressureDf[['datetime', 'New York']].drop_duplicates().dropna()\n",
    "# pressureDf.rename(columns = {'New York':'pressure'}, inplace = True) "
   ]
  },
  {
   "cell_type": "code",
   "execution_count": 9,
   "metadata": {},
   "outputs": [],
   "source": [
    "# temperatureDf = pd.read_csv(temperaturePath + 'temperature.csv')\n",
    "# temperatureDf[\"datetime\"] = pd.to_datetime(temperatureDf['datetime'])\n",
    "# temperatureDf['datetime'] = temperatureDf['datetime'].dt.strftime('%m-%d-%Y:%H')\n",
    "# temperatureDf = temperatureDf[['datetime', 'New York']].drop_duplicates().dropna()\n",
    "# temperatureDf.rename(columns = {'New York':'temperature'}, inplace = True) "
   ]
  },
  {
   "cell_type": "code",
   "execution_count": 10,
   "metadata": {},
   "outputs": [],
   "source": [
    "# windDirectionDf = pd.read_csv(windDirectionPath + 'wind_direction.csv')\n",
    "# windDirectionDf[\"datetime\"] = pd.to_datetime(windDirectionDf['datetime'])\n",
    "# windDirectionDf['datetime'] = windDirectionDf['datetime'].dt.strftime('%m-%d-%Y:%H')\n",
    "# windDirectionDf = windDirectionDf[['datetime', 'New York']].drop_duplicates().dropna()\n",
    "# windDirectionDf.rename(columns = {'New York':'windDirection'}, inplace = True) "
   ]
  },
  {
   "cell_type": "code",
   "execution_count": 11,
   "metadata": {},
   "outputs": [],
   "source": [
    "# windSpeedDf = pd.read_csv(windSpeedPath + 'wind_speed.csv')\n",
    "# windSpeedDf[\"datetime\"] = pd.to_datetime(windSpeedDf['datetime'])\n",
    "# windSpeedDf['datetime'] = windSpeedDf['datetime'].dt.strftime('%m-%d-%Y:%H')\n",
    "# windSpeedDf = windSpeedDf[['datetime', 'New York']].drop_duplicates().dropna()\n",
    "# windSpeedDf.rename(columns = {'New York':'windSpeed'}, inplace = True) "
   ]
  },
  {
   "cell_type": "code",
   "execution_count": 12,
   "metadata": {},
   "outputs": [],
   "source": [
    "# mergedDF = uberDataDF.merge(weatherData, on='datetime', how='left')\n",
    "# mergedDF = mergedDF.merge(humidityDf, on='datetime', how='left')\n",
    "# mergedDF = mergedDF.merge(pressureDf, on='datetime', how='left')\n",
    "# mergedDF = mergedDF.merge(temperatureDf, on='datetime', how='left')\n",
    "# mergedDF = mergedDF.merge(windDirectionDf, on='datetime', how='left')\n",
    "# mergedDF = mergedDF.merge(windSpeedDf, on='datetime', how='left')\n"
   ]
  },
  {
   "cell_type": "code",
   "execution_count": 13,
   "metadata": {},
   "outputs": [],
   "source": [
    "# mergedDF"
   ]
  },
  {
   "cell_type": "code",
   "execution_count": 14,
   "metadata": {},
   "outputs": [],
   "source": [
    "# os.path.exists('../data/picklerCheckpoints/enrichedData/')"
   ]
  },
  {
   "cell_type": "code",
   "execution_count": 15,
   "metadata": {},
   "outputs": [],
   "source": [
    "# pickle.save(mergedDF, '../data/picklerCheckpoints/enrichedData/', 'uber-enriched-data-apr14', True)"
   ]
  },
  {
   "cell_type": "code",
   "execution_count": 16,
   "metadata": {},
   "outputs": [],
   "source": [
    "def mergeAndSaveData(uberDataPaths, weatherDataPath, outputFileNames):\n",
    "    # Read the weather condition\n",
    "    weatherData = pd.read_csv(weatherDataPath + 'weather_description.csv')\n",
    "    weatherData[\"datetime\"] = pd.to_datetime(weatherData['datetime'])\n",
    "    weatherData['datetime'] = weatherData['datetime'].dt.strftime('%m-%d-%Y:%H')\n",
    "    weatherData = weatherData[['datetime', 'New York']].drop_duplicates().dropna()\n",
    "    weatherData.rename(columns = {'New York':'weatherCondition'}, inplace = True) \n",
    "\n",
    "    #Read the humidity readings\n",
    "    humidityDf = pd.read_csv(weatherDataPath + 'humidity.csv')\n",
    "    humidityDf[\"datetime\"] = pd.to_datetime(humidityDf['datetime'])\n",
    "    humidityDf['datetime'] = humidityDf['datetime'].dt.strftime('%m-%d-%Y:%H')\n",
    "    humidityDf = humidityDf[['datetime', 'New York']].drop_duplicates().dropna()\n",
    "    humidityDf.rename(columns = {'New York':'humidity'}, inplace = True) \n",
    "\n",
    "    #Read the pressure readings\n",
    "    pressureDf = pd.read_csv(weatherDataPath + 'pressure.csv')\n",
    "    pressureDf[\"datetime\"] = pd.to_datetime(pressureDf['datetime'])\n",
    "    pressureDf['datetime'] = pressureDf['datetime'].dt.strftime('%m-%d-%Y:%H')\n",
    "    pressureDf = pressureDf[['datetime', 'New York']].drop_duplicates().dropna()\n",
    "    pressureDf.rename(columns = {'New York':'pressure'}, inplace = True) \n",
    "\n",
    "    #Read the temperature readings\n",
    "    temperatureDf = pd.read_csv(weatherDataPath + 'temperature.csv')\n",
    "    temperatureDf[\"datetime\"] = pd.to_datetime(temperatureDf['datetime'])\n",
    "    temperatureDf['datetime'] = temperatureDf['datetime'].dt.strftime('%m-%d-%Y:%H')\n",
    "    temperatureDf = temperatureDf[['datetime', 'New York']].drop_duplicates().dropna()\n",
    "    temperatureDf.rename(columns = {'New York':'temperature'}, inplace = True) \n",
    "\n",
    "    #Read the wind direction readings\n",
    "    windDirectionDf = pd.read_csv(weatherDataPath + 'wind_direction.csv')\n",
    "    windDirectionDf[\"datetime\"] = pd.to_datetime(windDirectionDf['datetime'])\n",
    "    windDirectionDf['datetime'] = windDirectionDf['datetime'].dt.strftime('%m-%d-%Y:%H')\n",
    "    windDirectionDf = windDirectionDf[['datetime', 'New York']].drop_duplicates().dropna()\n",
    "    windDirectionDf.rename(columns = {'New York':'windDirection'}, inplace = True) \n",
    "\n",
    "\n",
    "    #Read the wind speed readings\n",
    "    windSpeedDf = pd.read_csv(weatherDataPath + 'wind_speed.csv')\n",
    "    windSpeedDf[\"datetime\"] = pd.to_datetime(windSpeedDf['datetime'])\n",
    "    windSpeedDf['datetime'] = windSpeedDf['datetime'].dt.strftime('%m-%d-%Y:%H')\n",
    "    windSpeedDf = windSpeedDf[['datetime', 'New York']].drop_duplicates().dropna()\n",
    "    windSpeedDf.rename(columns = {'New York':'windSpeed'}, inplace = True) \n",
    "\n",
    "    #loop through each uber input data file and introduce the new features to it.\n",
    "    for i in range(0, len(uberDataPaths)):\n",
    "        uberDataDF = pd.read_csv(uberDataPaths[i])\n",
    "        uberDataDF['datetime'] = pd.to_datetime(uberDataDF['Date/Time'])\n",
    "        uberDataDF['datetime'] = uberDataDF['datetime'].dt.strftime('%m-%d-%Y:%H')\n",
    "\n",
    "        mergedDF = uberDataDF.merge(weatherData, on='datetime', how='left')\n",
    "        mergedDF = mergedDF.merge(humidityDf, on='datetime', how='left')\n",
    "        mergedDF = mergedDF.merge(pressureDf, on='datetime', how='left')\n",
    "        mergedDF = mergedDF.merge(temperatureDf, on='datetime', how='left')\n",
    "        mergedDF = mergedDF.merge(windDirectionDf, on='datetime', how='left')\n",
    "        mergedDF = mergedDF.merge(windSpeedDf, on='datetime', how='left')\n",
    "\n",
    "        pickle.save(mergedDF, '../data/picklerCheckpoints/enrichedData/', outputFileNames[i], True)\n",
    "    print(\"Enrichment process has finished successfully\")\n"
   ]
  },
  {
   "cell_type": "code",
   "execution_count": 17,
   "metadata": {},
   "outputs": [],
   "source": [
    "uberDataPaths = [uberDataPath + 'uber-raw-data-apr14.csv', \n",
    "                 uberDataPath + 'uber-raw-data-may14.csv',\n",
    "                 uberDataPath + 'uber-raw-data-jun14.csv',\n",
    "                 uberDataPath + 'uber-raw-data-jul14.csv',\n",
    "                 uberDataPath + 'uber-raw-data-aug14.csv',\n",
    "                 uberDataPath + 'uber-raw-data-sep14.csv']\n",
    "\n",
    "outputFileNames = ['uber-enriched-data-apr14', \n",
    "                   'uber-enriched-data-may14',\n",
    "                   'uber-enriched-data-jun14',\n",
    "                   'uber-enriched-data-jul14',\n",
    "                   'uber-enriched-data-aug14',\n",
    "                   'uber-enriched-data-sep14']\n",
    "\n",
    "#mergeAndSaveData(uberDataPaths, weatherDataPath, outputFileNames)"
   ]
  },
  {
   "cell_type": "code",
   "execution_count": 18,
   "metadata": {},
   "outputs": [],
   "source": [
    "def getUberDataforMonth(month):\n",
    "    uberDataPath= '../data/uberData/'\n",
    "    pickleStore = \"../data/picklerCheckpoints/enrichedData/\"\n",
    "    weatherDataPath = \"../data/weatherData/\"\n",
    "    validMonths = ['apr', 'may', 'jun', 'jul','aug', 'sep']\n",
    "    data = None\n",
    "    path = pickleStore + 'uber-enriched-data-'+ month +'14.p'\n",
    "    if(month in validMonths):\n",
    "        if (os.path.exists(path) or os.path.exists(path+'.pbz2')):\n",
    "            data = pickle.load(path, True)\n",
    "            print(\"Dataset loaded\")\n",
    "        else:\n",
    "            print(\"Missing data--Regenerating the eneriched data\")\n",
    "            mergeAndSaveData([uberDataPath + 'uber-raw-data-'+ month +'14.csv'], weatherDataPath, ['uber-enriched-data-'+ month +'14'])\n",
    "            data = pickle.load(path, True)\n",
    "            print(\"Dataset loaded\")\n",
    "    else: \n",
    "        print(\"Invalid month entered \\n Valid months are: \")\n",
    "        print(*validMonths, sep='\\n')\n",
    "    return data"
   ]
  },
  {
   "cell_type": "code",
   "execution_count": 19,
   "metadata": {},
   "outputs": [
    {
     "output_type": "stream",
     "name": "stdout",
     "text": [
      "++++++++++++++++++++++++++++++++++++++++++++++++++++++++++++++++++++++++++++++++++++++++++++++++++++\n",
      "Loading file ../data/picklerCheckpoints/enrichedData/uber-enriched-data-aug14.p\n",
      "Decompressing ../data/picklerCheckpoints/enrichedData/uber-enriched-data-aug14.p.pbz2..............Done\n",
      "++++++++++++++++++++++++++++++++++++++++++++++++++++++++++++++++++++++++++++++++++++++++++++++++++++\n",
      "\n",
      "Dataset loaded\n"
     ]
    },
    {
     "output_type": "execute_result",
     "data": {
      "text/plain": [
       "                 Date/Time      Lat      Lon    Base       datetime  \\\n",
       "0         8/1/2014 0:03:00  40.7366 -73.9906  B02512  08-01-2014:00   \n",
       "1         8/1/2014 0:09:00  40.7260 -73.9918  B02512  08-01-2014:00   \n",
       "2         8/1/2014 0:12:00  40.7209 -74.0507  B02512  08-01-2014:00   \n",
       "3         8/1/2014 0:12:00  40.7387 -73.9856  B02512  08-01-2014:00   \n",
       "4         8/1/2014 0:12:00  40.7323 -74.0077  B02512  08-01-2014:00   \n",
       "...                    ...      ...      ...     ...            ...   \n",
       "829270  8/31/2014 23:55:00  40.7552 -73.9753  B02764  08-31-2014:23   \n",
       "829271  8/31/2014 23:55:00  40.7552 -73.9753  B02764  08-31-2014:23   \n",
       "829272  8/31/2014 23:55:00  40.7617 -73.9788  B02764  08-31-2014:23   \n",
       "829273  8/31/2014 23:59:00  40.7395 -73.9889  B02764  08-31-2014:23   \n",
       "829274  8/31/2014 23:59:00  40.7270 -73.9802  B02764  08-31-2014:23   \n",
       "\n",
       "       weatherCondition  humidity  pressure  temperature  windDirection  \\\n",
       "0         broken clouds      57.0    1019.0       297.51            0.0   \n",
       "1         broken clouds      57.0    1019.0       297.51            0.0   \n",
       "2         broken clouds      57.0    1019.0       297.51            0.0   \n",
       "3         broken clouds      57.0    1019.0       297.51            0.0   \n",
       "4         broken clouds      57.0    1019.0       297.51            0.0   \n",
       "...                 ...       ...       ...          ...            ...   \n",
       "829270             mist      88.0    1015.0       298.53            0.0   \n",
       "829271             mist      88.0    1015.0       298.53            0.0   \n",
       "829272             mist      88.0    1015.0       298.53            0.0   \n",
       "829273             mist      88.0    1015.0       298.53            0.0   \n",
       "829274             mist      88.0    1015.0       298.53            0.0   \n",
       "\n",
       "        windSpeed  \n",
       "0             2.0  \n",
       "1             2.0  \n",
       "2             2.0  \n",
       "3             2.0  \n",
       "4             2.0  \n",
       "...           ...  \n",
       "829270        2.0  \n",
       "829271        2.0  \n",
       "829272        2.0  \n",
       "829273        2.0  \n",
       "829274        2.0  \n",
       "\n",
       "[829275 rows x 11 columns]"
      ],
      "text/html": "<div>\n<style scoped>\n    .dataframe tbody tr th:only-of-type {\n        vertical-align: middle;\n    }\n\n    .dataframe tbody tr th {\n        vertical-align: top;\n    }\n\n    .dataframe thead th {\n        text-align: right;\n    }\n</style>\n<table border=\"1\" class=\"dataframe\">\n  <thead>\n    <tr style=\"text-align: right;\">\n      <th></th>\n      <th>Date/Time</th>\n      <th>Lat</th>\n      <th>Lon</th>\n      <th>Base</th>\n      <th>datetime</th>\n      <th>weatherCondition</th>\n      <th>humidity</th>\n      <th>pressure</th>\n      <th>temperature</th>\n      <th>windDirection</th>\n      <th>windSpeed</th>\n    </tr>\n  </thead>\n  <tbody>\n    <tr>\n      <th>0</th>\n      <td>8/1/2014 0:03:00</td>\n      <td>40.7366</td>\n      <td>-73.9906</td>\n      <td>B02512</td>\n      <td>08-01-2014:00</td>\n      <td>broken clouds</td>\n      <td>57.0</td>\n      <td>1019.0</td>\n      <td>297.51</td>\n      <td>0.0</td>\n      <td>2.0</td>\n    </tr>\n    <tr>\n      <th>1</th>\n      <td>8/1/2014 0:09:00</td>\n      <td>40.7260</td>\n      <td>-73.9918</td>\n      <td>B02512</td>\n      <td>08-01-2014:00</td>\n      <td>broken clouds</td>\n      <td>57.0</td>\n      <td>1019.0</td>\n      <td>297.51</td>\n      <td>0.0</td>\n      <td>2.0</td>\n    </tr>\n    <tr>\n      <th>2</th>\n      <td>8/1/2014 0:12:00</td>\n      <td>40.7209</td>\n      <td>-74.0507</td>\n      <td>B02512</td>\n      <td>08-01-2014:00</td>\n      <td>broken clouds</td>\n      <td>57.0</td>\n      <td>1019.0</td>\n      <td>297.51</td>\n      <td>0.0</td>\n      <td>2.0</td>\n    </tr>\n    <tr>\n      <th>3</th>\n      <td>8/1/2014 0:12:00</td>\n      <td>40.7387</td>\n      <td>-73.9856</td>\n      <td>B02512</td>\n      <td>08-01-2014:00</td>\n      <td>broken clouds</td>\n      <td>57.0</td>\n      <td>1019.0</td>\n      <td>297.51</td>\n      <td>0.0</td>\n      <td>2.0</td>\n    </tr>\n    <tr>\n      <th>4</th>\n      <td>8/1/2014 0:12:00</td>\n      <td>40.7323</td>\n      <td>-74.0077</td>\n      <td>B02512</td>\n      <td>08-01-2014:00</td>\n      <td>broken clouds</td>\n      <td>57.0</td>\n      <td>1019.0</td>\n      <td>297.51</td>\n      <td>0.0</td>\n      <td>2.0</td>\n    </tr>\n    <tr>\n      <th>...</th>\n      <td>...</td>\n      <td>...</td>\n      <td>...</td>\n      <td>...</td>\n      <td>...</td>\n      <td>...</td>\n      <td>...</td>\n      <td>...</td>\n      <td>...</td>\n      <td>...</td>\n      <td>...</td>\n    </tr>\n    <tr>\n      <th>829270</th>\n      <td>8/31/2014 23:55:00</td>\n      <td>40.7552</td>\n      <td>-73.9753</td>\n      <td>B02764</td>\n      <td>08-31-2014:23</td>\n      <td>mist</td>\n      <td>88.0</td>\n      <td>1015.0</td>\n      <td>298.53</td>\n      <td>0.0</td>\n      <td>2.0</td>\n    </tr>\n    <tr>\n      <th>829271</th>\n      <td>8/31/2014 23:55:00</td>\n      <td>40.7552</td>\n      <td>-73.9753</td>\n      <td>B02764</td>\n      <td>08-31-2014:23</td>\n      <td>mist</td>\n      <td>88.0</td>\n      <td>1015.0</td>\n      <td>298.53</td>\n      <td>0.0</td>\n      <td>2.0</td>\n    </tr>\n    <tr>\n      <th>829272</th>\n      <td>8/31/2014 23:55:00</td>\n      <td>40.7617</td>\n      <td>-73.9788</td>\n      <td>B02764</td>\n      <td>08-31-2014:23</td>\n      <td>mist</td>\n      <td>88.0</td>\n      <td>1015.0</td>\n      <td>298.53</td>\n      <td>0.0</td>\n      <td>2.0</td>\n    </tr>\n    <tr>\n      <th>829273</th>\n      <td>8/31/2014 23:59:00</td>\n      <td>40.7395</td>\n      <td>-73.9889</td>\n      <td>B02764</td>\n      <td>08-31-2014:23</td>\n      <td>mist</td>\n      <td>88.0</td>\n      <td>1015.0</td>\n      <td>298.53</td>\n      <td>0.0</td>\n      <td>2.0</td>\n    </tr>\n    <tr>\n      <th>829274</th>\n      <td>8/31/2014 23:59:00</td>\n      <td>40.7270</td>\n      <td>-73.9802</td>\n      <td>B02764</td>\n      <td>08-31-2014:23</td>\n      <td>mist</td>\n      <td>88.0</td>\n      <td>1015.0</td>\n      <td>298.53</td>\n      <td>0.0</td>\n      <td>2.0</td>\n    </tr>\n  </tbody>\n</table>\n<p>829275 rows × 11 columns</p>\n</div>"
     },
     "metadata": {},
     "execution_count": 19
    }
   ],
   "source": [
    "getUberDataforMonth('aug')"
   ]
  }
 ]
}