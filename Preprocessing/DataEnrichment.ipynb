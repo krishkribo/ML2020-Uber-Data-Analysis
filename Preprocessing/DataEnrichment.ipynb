{
 "metadata": {
  "language_info": {
   "codemirror_mode": {
    "name": "ipython",
    "version": 3
   },
   "file_extension": ".py",
   "mimetype": "text/x-python",
   "name": "python",
   "nbconvert_exporter": "python",
   "pygments_lexer": "ipython3",
   "version": "3.8.7-final"
  },
  "orig_nbformat": 2,
  "kernelspec": {
   "name": "python3",
   "display_name": "Python 3",
   "language": "python"
  }
 },
 "nbformat": 4,
 "nbformat_minor": 2,
 "cells": [
  {
   "cell_type": "code",
   "execution_count": 1,
   "metadata": {},
   "outputs": [],
   "source": [
    "import os\n",
    "import sys\n",
    "module_path = os.path.abspath(os.path.join('..'))\n",
    "if module_path not in sys.path:\n",
    "    sys.path.append(module_path)\n",
    "\n",
    "# FIX ME: Root dir as argument\n",
    "root_dir = \"../../data/picklerCheckpoints/\"\n",
    "is_compressed = True;"
   ]
  },
  {
   "cell_type": "code",
   "execution_count": 2,
   "metadata": {},
   "outputs": [
    {
     "output_type": "stream",
     "name": "stdout",
     "text": [
      "Importing Jupyter notebook from d:\\Academics\\MachineLearning\\commons\\utility\\pickle_util.ipynb\n"
     ]
    }
   ],
   "source": [
    "import numpy as np\n",
    "import pandas as pd\n",
    "import nbimporter\n",
    "import commons.utility.pickle_util as pickle"
   ]
  },
  {
   "cell_type": "code",
   "execution_count": 3,
   "metadata": {},
   "outputs": [],
   "source": [
    "uberDataPath= '../data/uberData/'\n",
    "weatherDataPath = \"../data/weatherData/\""
   ]
  },
  {
   "cell_type": "code",
   "execution_count": 4,
   "metadata": {},
   "outputs": [],
   "source": [
    "uberDataDF = pd.read_csv(uberDataPath + 'uber-raw-data-apr14.csv')\n",
    "uberDataDF['datetime'] = pd.to_datetime(uberDataDF['Date/Time'])\n",
    "uberDataDF['datetime'] = uberDataDF['datetime'].dt.strftime('%m-%d-%Y:%H')"
   ]
  },
  {
   "cell_type": "code",
   "execution_count": 5,
   "metadata": {},
   "outputs": [],
   "source": [
    "#uberDataDF"
   ]
  },
  {
   "cell_type": "code",
   "execution_count": 6,
   "metadata": {},
   "outputs": [],
   "source": [
    "weatherData = pd.read_csv(weatherDataPath + 'weather_description.csv')\n",
    "weatherData[\"datetime\"] = pd.to_datetime(weatherData['datetime'])\n",
    "weatherData['datetime'] = weatherData['datetime'].dt.strftime('%m-%d-%Y:%H')"
   ]
  },
  {
   "cell_type": "code",
   "execution_count": 7,
   "metadata": {},
   "outputs": [],
   "source": [
    " weatherData = weatherData[['datetime', 'New York']].drop_duplicates().dropna()\n",
    " #weatherData = weatherData[weatherData['New York'].notna()]\n",
    " #weatherData"
   ]
  },
  {
   "cell_type": "code",
   "execution_count": 8,
   "metadata": {},
   "outputs": [],
   "source": [
    "mergedDF = uberDataDF.merge(weatherData, on='datetime', how='left')"
   ]
  },
  {
   "cell_type": "code",
   "execution_count": 9,
   "metadata": {},
   "outputs": [
    {
     "output_type": "execute_result",
     "data": {
      "text/plain": [
       "False"
      ]
     },
     "metadata": {},
     "execution_count": 9
    }
   ],
   "source": [
    "os.path.exists('../data/picklerCheckpoints/enrichedData/')"
   ]
  },
  {
   "cell_type": "code",
   "execution_count": 10,
   "metadata": {},
   "outputs": [
    {
     "output_type": "stream",
     "name": "stdout",
     "text": [
      "Result Saved in ../data/picklerCheckpoints/enrichedData/\n"
     ]
    }
   ],
   "source": [
    "pickle.save(mergedDF, '../data/picklerCheckpoints/enrichedData/', 'uber-enriched-data-apr14', True)"
   ]
  }
 ]
}