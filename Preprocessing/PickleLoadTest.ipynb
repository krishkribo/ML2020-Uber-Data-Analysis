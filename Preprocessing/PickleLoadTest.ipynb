{
 "metadata": {
  "language_info": {
   "codemirror_mode": {
    "name": "ipython",
    "version": 3
   },
   "file_extension": ".py",
   "mimetype": "text/x-python",
   "name": "python",
   "nbconvert_exporter": "python",
   "pygments_lexer": "ipython3",
   "version": "3.8.7-final"
  },
  "orig_nbformat": 2,
  "kernelspec": {
   "name": "python3",
   "display_name": "Python 3",
   "language": "python"
  }
 },
 "nbformat": 4,
 "nbformat_minor": 2,
 "cells": [
  {
   "cell_type": "code",
   "execution_count": 7,
   "metadata": {},
   "outputs": [],
   "source": [
    "import os\n",
    "import sys\n",
    "module_path = os.path.abspath(os.path.join('..'))\n",
    "if module_path not in sys.path:\n",
    "    sys.path.append(module_path)"
   ]
  },
  {
   "cell_type": "code",
   "execution_count": 9,
   "metadata": {},
   "outputs": [],
   "source": [
    "import nbimporter\n",
    "import commons.utility.pickle_util as pickle\n",
    "import DataEnrichment as de"
   ]
  },
  {
   "source": [
    "## Reading Data using pickle"
   ],
   "cell_type": "markdown",
   "metadata": {}
  },
  {
   "cell_type": "code",
   "execution_count": 12,
   "metadata": {},
   "outputs": [
    {
     "output_type": "stream",
     "name": "stdout",
     "text": [
      "++++++++++++++++++++++++++++++++++++++++++++++++++++++++++++++++++++++++++++++++++++++++++++++++++++\n",
      "Loading file ../data/picklerCheckpoints/enrichedData/uber-enriched-data-may14.p\n",
      "Decompressing ../data/picklerCheckpoints/enrichedData/uber-enriched-data-may14.p.pbz2..............Done\n",
      "++++++++++++++++++++++++++++++++++++++++++++++++++++++++++++++++++++++++++++++++++++++++++++++++++++\n",
      "\n"
     ]
    },
    {
     "output_type": "execute_result",
     "data": {
      "text/plain": [
       "                 Date/Time      Lat      Lon    Base       datetime  \\\n",
       "0         5/1/2014 0:02:00  40.7521 -73.9914  B02512  05-01-2014:00   \n",
       "1         5/1/2014 0:06:00  40.6965 -73.9715  B02512  05-01-2014:00   \n",
       "2         5/1/2014 0:15:00  40.7464 -73.9838  B02512  05-01-2014:00   \n",
       "3         5/1/2014 0:17:00  40.7463 -74.0011  B02512  05-01-2014:00   \n",
       "4         5/1/2014 0:17:00  40.7594 -73.9734  B02512  05-01-2014:00   \n",
       "...                    ...      ...      ...     ...            ...   \n",
       "652430  5/31/2014 23:45:00  40.7309 -74.0014  B02764  05-31-2014:23   \n",
       "652431  5/31/2014 23:52:00  40.7528 -73.9798  B02764  05-31-2014:23   \n",
       "652432  5/31/2014 23:55:00  40.7158 -73.9519  B02764  05-31-2014:23   \n",
       "652433  5/31/2014 23:56:00  40.6961 -73.8997  B02764  05-31-2014:23   \n",
       "652434  5/31/2014 23:59:00  40.7393 -73.9919  B02764  05-31-2014:23   \n",
       "\n",
       "        weatherCondition  humidity  pressure  temperature  windDirection  \\\n",
       "0          moderate rain      95.0    1033.0      283.736          115.0   \n",
       "1          moderate rain      95.0    1033.0      283.736          115.0   \n",
       "2          moderate rain      95.0    1033.0      283.736          115.0   \n",
       "3          moderate rain      95.0    1033.0      283.736          115.0   \n",
       "4          moderate rain      95.0    1033.0      283.736          115.0   \n",
       "...                  ...       ...       ...          ...            ...   \n",
       "652430  scattered clouds      43.0    1023.0      292.800           30.0   \n",
       "652431  scattered clouds      43.0    1023.0      292.800           30.0   \n",
       "652432  scattered clouds      43.0    1023.0      292.800           30.0   \n",
       "652433  scattered clouds      43.0    1023.0      292.800           30.0   \n",
       "652434  scattered clouds      43.0    1023.0      292.800           30.0   \n",
       "\n",
       "        windSpeed  \n",
       "0             4.0  \n",
       "1             4.0  \n",
       "2             4.0  \n",
       "3             4.0  \n",
       "4             4.0  \n",
       "...           ...  \n",
       "652430        5.0  \n",
       "652431        5.0  \n",
       "652432        5.0  \n",
       "652433        5.0  \n",
       "652434        5.0  \n",
       "\n",
       "[652435 rows x 11 columns]"
      ],
      "text/html": "<div>\n<style scoped>\n    .dataframe tbody tr th:only-of-type {\n        vertical-align: middle;\n    }\n\n    .dataframe tbody tr th {\n        vertical-align: top;\n    }\n\n    .dataframe thead th {\n        text-align: right;\n    }\n</style>\n<table border=\"1\" class=\"dataframe\">\n  <thead>\n    <tr style=\"text-align: right;\">\n      <th></th>\n      <th>Date/Time</th>\n      <th>Lat</th>\n      <th>Lon</th>\n      <th>Base</th>\n      <th>datetime</th>\n      <th>weatherCondition</th>\n      <th>humidity</th>\n      <th>pressure</th>\n      <th>temperature</th>\n      <th>windDirection</th>\n      <th>windSpeed</th>\n    </tr>\n  </thead>\n  <tbody>\n    <tr>\n      <th>0</th>\n      <td>5/1/2014 0:02:00</td>\n      <td>40.7521</td>\n      <td>-73.9914</td>\n      <td>B02512</td>\n      <td>05-01-2014:00</td>\n      <td>moderate rain</td>\n      <td>95.0</td>\n      <td>1033.0</td>\n      <td>283.736</td>\n      <td>115.0</td>\n      <td>4.0</td>\n    </tr>\n    <tr>\n      <th>1</th>\n      <td>5/1/2014 0:06:00</td>\n      <td>40.6965</td>\n      <td>-73.9715</td>\n      <td>B02512</td>\n      <td>05-01-2014:00</td>\n      <td>moderate rain</td>\n      <td>95.0</td>\n      <td>1033.0</td>\n      <td>283.736</td>\n      <td>115.0</td>\n      <td>4.0</td>\n    </tr>\n    <tr>\n      <th>2</th>\n      <td>5/1/2014 0:15:00</td>\n      <td>40.7464</td>\n      <td>-73.9838</td>\n      <td>B02512</td>\n      <td>05-01-2014:00</td>\n      <td>moderate rain</td>\n      <td>95.0</td>\n      <td>1033.0</td>\n      <td>283.736</td>\n      <td>115.0</td>\n      <td>4.0</td>\n    </tr>\n    <tr>\n      <th>3</th>\n      <td>5/1/2014 0:17:00</td>\n      <td>40.7463</td>\n      <td>-74.0011</td>\n      <td>B02512</td>\n      <td>05-01-2014:00</td>\n      <td>moderate rain</td>\n      <td>95.0</td>\n      <td>1033.0</td>\n      <td>283.736</td>\n      <td>115.0</td>\n      <td>4.0</td>\n    </tr>\n    <tr>\n      <th>4</th>\n      <td>5/1/2014 0:17:00</td>\n      <td>40.7594</td>\n      <td>-73.9734</td>\n      <td>B02512</td>\n      <td>05-01-2014:00</td>\n      <td>moderate rain</td>\n      <td>95.0</td>\n      <td>1033.0</td>\n      <td>283.736</td>\n      <td>115.0</td>\n      <td>4.0</td>\n    </tr>\n    <tr>\n      <th>...</th>\n      <td>...</td>\n      <td>...</td>\n      <td>...</td>\n      <td>...</td>\n      <td>...</td>\n      <td>...</td>\n      <td>...</td>\n      <td>...</td>\n      <td>...</td>\n      <td>...</td>\n      <td>...</td>\n    </tr>\n    <tr>\n      <th>652430</th>\n      <td>5/31/2014 23:45:00</td>\n      <td>40.7309</td>\n      <td>-74.0014</td>\n      <td>B02764</td>\n      <td>05-31-2014:23</td>\n      <td>scattered clouds</td>\n      <td>43.0</td>\n      <td>1023.0</td>\n      <td>292.800</td>\n      <td>30.0</td>\n      <td>5.0</td>\n    </tr>\n    <tr>\n      <th>652431</th>\n      <td>5/31/2014 23:52:00</td>\n      <td>40.7528</td>\n      <td>-73.9798</td>\n      <td>B02764</td>\n      <td>05-31-2014:23</td>\n      <td>scattered clouds</td>\n      <td>43.0</td>\n      <td>1023.0</td>\n      <td>292.800</td>\n      <td>30.0</td>\n      <td>5.0</td>\n    </tr>\n    <tr>\n      <th>652432</th>\n      <td>5/31/2014 23:55:00</td>\n      <td>40.7158</td>\n      <td>-73.9519</td>\n      <td>B02764</td>\n      <td>05-31-2014:23</td>\n      <td>scattered clouds</td>\n      <td>43.0</td>\n      <td>1023.0</td>\n      <td>292.800</td>\n      <td>30.0</td>\n      <td>5.0</td>\n    </tr>\n    <tr>\n      <th>652433</th>\n      <td>5/31/2014 23:56:00</td>\n      <td>40.6961</td>\n      <td>-73.8997</td>\n      <td>B02764</td>\n      <td>05-31-2014:23</td>\n      <td>scattered clouds</td>\n      <td>43.0</td>\n      <td>1023.0</td>\n      <td>292.800</td>\n      <td>30.0</td>\n      <td>5.0</td>\n    </tr>\n    <tr>\n      <th>652434</th>\n      <td>5/31/2014 23:59:00</td>\n      <td>40.7393</td>\n      <td>-73.9919</td>\n      <td>B02764</td>\n      <td>05-31-2014:23</td>\n      <td>scattered clouds</td>\n      <td>43.0</td>\n      <td>1023.0</td>\n      <td>292.800</td>\n      <td>30.0</td>\n      <td>5.0</td>\n    </tr>\n  </tbody>\n</table>\n<p>652435 rows × 11 columns</p>\n</div>"
     },
     "metadata": {},
     "execution_count": 12
    }
   ],
   "source": [
    "pickle.load('../data/picklerCheckpoints/enrichedData/uber-enriched-data-may14.p', True)"
   ]
  },
  {
   "source": [
    "## Reading enriched data made easier\n",
    "### Simply enter the valid month enumeration to fetch the data\n",
    "### Valid months are: \n",
    "apr\n",
    "may\n",
    "jun\n",
    "jul\n",
    "aug\n",
    "sep\n",
    "\n",
    "#### Note: Files will be regenerated if it does not exist."
   ],
   "cell_type": "markdown",
   "metadata": {}
  },
  {
   "cell_type": "code",
   "execution_count": 11,
   "metadata": {},
   "outputs": [
    {
     "output_type": "stream",
     "name": "stdout",
     "text": [
      "Missing data--Regenerating the eneriched data\n",
      "Result Saved in ../data/picklerCheckpoints/enrichedData/uber-enriched-data-apr14.p\n",
      "Enrichment process has finished successfully\n",
      "++++++++++++++++++++++++++++++++++++++++++++++++++++++++++++++++++++++++++++++++++++++++++++++++++++\n",
      "Loading file ../data/picklerCheckpoints/enrichedData/uber-enriched-data-apr14.p\n",
      "Decompressing ../data/picklerCheckpoints/enrichedData/uber-enriched-data-apr14.p.pbz2..............Done\n",
      "++++++++++++++++++++++++++++++++++++++++++++++++++++++++++++++++++++++++++++++++++++++++++++++++++++\n",
      "\n",
      "Dataset loaded\n"
     ]
    },
    {
     "output_type": "execute_result",
     "data": {
      "text/plain": [
       "                 Date/Time      Lat      Lon    Base       datetime  \\\n",
       "0         4/1/2014 0:11:00  40.7690 -73.9549  B02512  04-01-2014:00   \n",
       "1         4/1/2014 0:17:00  40.7267 -74.0345  B02512  04-01-2014:00   \n",
       "2         4/1/2014 0:21:00  40.7316 -73.9873  B02512  04-01-2014:00   \n",
       "3         4/1/2014 0:28:00  40.7588 -73.9776  B02512  04-01-2014:00   \n",
       "4         4/1/2014 0:33:00  40.7594 -73.9722  B02512  04-01-2014:00   \n",
       "...                    ...      ...      ...     ...            ...   \n",
       "564511  4/30/2014 23:22:00  40.7640 -73.9744  B02764  04-30-2014:23   \n",
       "564512  4/30/2014 23:26:00  40.7629 -73.9672  B02764  04-30-2014:23   \n",
       "564513  4/30/2014 23:31:00  40.7443 -73.9889  B02764  04-30-2014:23   \n",
       "564514  4/30/2014 23:32:00  40.6756 -73.9405  B02764  04-30-2014:23   \n",
       "564515  4/30/2014 23:48:00  40.6880 -73.9608  B02764  04-30-2014:23   \n",
       "\n",
       "        weatherCondition  humidity  pressure  temperature  windDirection  \\\n",
       "0       scattered clouds      40.0    1016.0      282.960          330.0   \n",
       "1       scattered clouds      40.0    1016.0      282.960          330.0   \n",
       "2       scattered clouds      40.0    1016.0      282.960          330.0   \n",
       "3       scattered clouds      40.0    1016.0      282.960          330.0   \n",
       "4       scattered clouds      40.0    1016.0      282.960          330.0   \n",
       "...                  ...       ...       ...          ...            ...   \n",
       "564511   very heavy rain      95.0    1033.0      284.317          118.0   \n",
       "564512   very heavy rain      95.0    1033.0      284.317          118.0   \n",
       "564513   very heavy rain      95.0    1033.0      284.317          118.0   \n",
       "564514   very heavy rain      95.0    1033.0      284.317          118.0   \n",
       "564515   very heavy rain      95.0    1033.0      284.317          118.0   \n",
       "\n",
       "        windSpeed  \n",
       "0             5.0  \n",
       "1             5.0  \n",
       "2             5.0  \n",
       "3             5.0  \n",
       "4             5.0  \n",
       "...           ...  \n",
       "564511        5.0  \n",
       "564512        5.0  \n",
       "564513        5.0  \n",
       "564514        5.0  \n",
       "564515        5.0  \n",
       "\n",
       "[564516 rows x 11 columns]"
      ],
      "text/html": "<div>\n<style scoped>\n    .dataframe tbody tr th:only-of-type {\n        vertical-align: middle;\n    }\n\n    .dataframe tbody tr th {\n        vertical-align: top;\n    }\n\n    .dataframe thead th {\n        text-align: right;\n    }\n</style>\n<table border=\"1\" class=\"dataframe\">\n  <thead>\n    <tr style=\"text-align: right;\">\n      <th></th>\n      <th>Date/Time</th>\n      <th>Lat</th>\n      <th>Lon</th>\n      <th>Base</th>\n      <th>datetime</th>\n      <th>weatherCondition</th>\n      <th>humidity</th>\n      <th>pressure</th>\n      <th>temperature</th>\n      <th>windDirection</th>\n      <th>windSpeed</th>\n    </tr>\n  </thead>\n  <tbody>\n    <tr>\n      <th>0</th>\n      <td>4/1/2014 0:11:00</td>\n      <td>40.7690</td>\n      <td>-73.9549</td>\n      <td>B02512</td>\n      <td>04-01-2014:00</td>\n      <td>scattered clouds</td>\n      <td>40.0</td>\n      <td>1016.0</td>\n      <td>282.960</td>\n      <td>330.0</td>\n      <td>5.0</td>\n    </tr>\n    <tr>\n      <th>1</th>\n      <td>4/1/2014 0:17:00</td>\n      <td>40.7267</td>\n      <td>-74.0345</td>\n      <td>B02512</td>\n      <td>04-01-2014:00</td>\n      <td>scattered clouds</td>\n      <td>40.0</td>\n      <td>1016.0</td>\n      <td>282.960</td>\n      <td>330.0</td>\n      <td>5.0</td>\n    </tr>\n    <tr>\n      <th>2</th>\n      <td>4/1/2014 0:21:00</td>\n      <td>40.7316</td>\n      <td>-73.9873</td>\n      <td>B02512</td>\n      <td>04-01-2014:00</td>\n      <td>scattered clouds</td>\n      <td>40.0</td>\n      <td>1016.0</td>\n      <td>282.960</td>\n      <td>330.0</td>\n      <td>5.0</td>\n    </tr>\n    <tr>\n      <th>3</th>\n      <td>4/1/2014 0:28:00</td>\n      <td>40.7588</td>\n      <td>-73.9776</td>\n      <td>B02512</td>\n      <td>04-01-2014:00</td>\n      <td>scattered clouds</td>\n      <td>40.0</td>\n      <td>1016.0</td>\n      <td>282.960</td>\n      <td>330.0</td>\n      <td>5.0</td>\n    </tr>\n    <tr>\n      <th>4</th>\n      <td>4/1/2014 0:33:00</td>\n      <td>40.7594</td>\n      <td>-73.9722</td>\n      <td>B02512</td>\n      <td>04-01-2014:00</td>\n      <td>scattered clouds</td>\n      <td>40.0</td>\n      <td>1016.0</td>\n      <td>282.960</td>\n      <td>330.0</td>\n      <td>5.0</td>\n    </tr>\n    <tr>\n      <th>...</th>\n      <td>...</td>\n      <td>...</td>\n      <td>...</td>\n      <td>...</td>\n      <td>...</td>\n      <td>...</td>\n      <td>...</td>\n      <td>...</td>\n      <td>...</td>\n      <td>...</td>\n      <td>...</td>\n    </tr>\n    <tr>\n      <th>564511</th>\n      <td>4/30/2014 23:22:00</td>\n      <td>40.7640</td>\n      <td>-73.9744</td>\n      <td>B02764</td>\n      <td>04-30-2014:23</td>\n      <td>very heavy rain</td>\n      <td>95.0</td>\n      <td>1033.0</td>\n      <td>284.317</td>\n      <td>118.0</td>\n      <td>5.0</td>\n    </tr>\n    <tr>\n      <th>564512</th>\n      <td>4/30/2014 23:26:00</td>\n      <td>40.7629</td>\n      <td>-73.9672</td>\n      <td>B02764</td>\n      <td>04-30-2014:23</td>\n      <td>very heavy rain</td>\n      <td>95.0</td>\n      <td>1033.0</td>\n      <td>284.317</td>\n      <td>118.0</td>\n      <td>5.0</td>\n    </tr>\n    <tr>\n      <th>564513</th>\n      <td>4/30/2014 23:31:00</td>\n      <td>40.7443</td>\n      <td>-73.9889</td>\n      <td>B02764</td>\n      <td>04-30-2014:23</td>\n      <td>very heavy rain</td>\n      <td>95.0</td>\n      <td>1033.0</td>\n      <td>284.317</td>\n      <td>118.0</td>\n      <td>5.0</td>\n    </tr>\n    <tr>\n      <th>564514</th>\n      <td>4/30/2014 23:32:00</td>\n      <td>40.6756</td>\n      <td>-73.9405</td>\n      <td>B02764</td>\n      <td>04-30-2014:23</td>\n      <td>very heavy rain</td>\n      <td>95.0</td>\n      <td>1033.0</td>\n      <td>284.317</td>\n      <td>118.0</td>\n      <td>5.0</td>\n    </tr>\n    <tr>\n      <th>564515</th>\n      <td>4/30/2014 23:48:00</td>\n      <td>40.6880</td>\n      <td>-73.9608</td>\n      <td>B02764</td>\n      <td>04-30-2014:23</td>\n      <td>very heavy rain</td>\n      <td>95.0</td>\n      <td>1033.0</td>\n      <td>284.317</td>\n      <td>118.0</td>\n      <td>5.0</td>\n    </tr>\n  </tbody>\n</table>\n<p>564516 rows × 11 columns</p>\n</div>"
     },
     "metadata": {},
     "execution_count": 11
    }
   ],
   "source": [
    "de.getUberDataforMonth('apr')"
   ]
  }
 ]
}