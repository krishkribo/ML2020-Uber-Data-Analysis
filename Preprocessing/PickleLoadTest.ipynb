{
 "metadata": {
  "language_info": {
   "codemirror_mode": {
    "name": "ipython",
    "version": 3
   },
   "file_extension": ".py",
   "mimetype": "text/x-python",
   "name": "python",
   "nbconvert_exporter": "python",
   "pygments_lexer": "ipython3",
   "version": "3.8.7-final"
  },
  "orig_nbformat": 2,
  "kernelspec": {
   "name": "python3",
   "display_name": "Python 3",
   "language": "python"
  }
 },
 "nbformat": 4,
 "nbformat_minor": 2,
 "cells": [
  {
   "cell_type": "code",
   "execution_count": 1,
   "metadata": {},
   "outputs": [],
   "source": [
    "import os\n",
    "import sys\n",
    "module_path = os.path.abspath(os.path.join('..'))\n",
    "if module_path not in sys.path:\n",
    "    sys.path.append(module_path)"
   ]
  },
  {
   "cell_type": "code",
   "execution_count": 2,
   "metadata": {},
   "outputs": [
    {
     "output_type": "stream",
     "name": "stdout",
     "text": [
      "Importing Jupyter notebook from d:\\Academics\\MachineLearning\\commons\\utility\\pickle_util.ipynb\n"
     ]
    }
   ],
   "source": [
    "import nbimporter\n",
    "import commons.utility.pickle_util as pickle"
   ]
  },
  {
   "cell_type": "code",
   "execution_count": 3,
   "metadata": {},
   "outputs": [
    {
     "output_type": "stream",
     "name": "stdout",
     "text": [
      "++++++++++++++++++++++++++++++++++++++++++++++++++++++++++++++++++++++++++++++++++++++++++++++++++++\n",
      "Loading file ../data/picklerCheckpoints/enrichedData/uber-enriched-data-apr14.p\n",
      "Decompressing ../data/picklerCheckpoints/enrichedData/uber-enriched-data-apr14.p.pbz2..............Done\n",
      "++++++++++++++++++++++++++++++++++++++++++++++++++++++++++++++++++++++++++++++++++++++++++++++++++++\n",
      "\n"
     ]
    },
    {
     "output_type": "execute_result",
     "data": {
      "text/plain": [
       "                 Date/Time      Lat      Lon    Base       datetime  \\\n",
       "0         4/1/2014 0:11:00  40.7690 -73.9549  B02512  04-01-2014:00   \n",
       "1         4/1/2014 0:17:00  40.7267 -74.0345  B02512  04-01-2014:00   \n",
       "2         4/1/2014 0:21:00  40.7316 -73.9873  B02512  04-01-2014:00   \n",
       "3         4/1/2014 0:28:00  40.7588 -73.9776  B02512  04-01-2014:00   \n",
       "4         4/1/2014 0:33:00  40.7594 -73.9722  B02512  04-01-2014:00   \n",
       "...                    ...      ...      ...     ...            ...   \n",
       "564511  4/30/2014 23:22:00  40.7640 -73.9744  B02764  04-30-2014:23   \n",
       "564512  4/30/2014 23:26:00  40.7629 -73.9672  B02764  04-30-2014:23   \n",
       "564513  4/30/2014 23:31:00  40.7443 -73.9889  B02764  04-30-2014:23   \n",
       "564514  4/30/2014 23:32:00  40.6756 -73.9405  B02764  04-30-2014:23   \n",
       "564515  4/30/2014 23:48:00  40.6880 -73.9608  B02764  04-30-2014:23   \n",
       "\n",
       "                New York  \n",
       "0       scattered clouds  \n",
       "1       scattered clouds  \n",
       "2       scattered clouds  \n",
       "3       scattered clouds  \n",
       "4       scattered clouds  \n",
       "...                  ...  \n",
       "564511   very heavy rain  \n",
       "564512   very heavy rain  \n",
       "564513   very heavy rain  \n",
       "564514   very heavy rain  \n",
       "564515   very heavy rain  \n",
       "\n",
       "[564516 rows x 6 columns]"
      ],
      "text/html": "<div>\n<style scoped>\n    .dataframe tbody tr th:only-of-type {\n        vertical-align: middle;\n    }\n\n    .dataframe tbody tr th {\n        vertical-align: top;\n    }\n\n    .dataframe thead th {\n        text-align: right;\n    }\n</style>\n<table border=\"1\" class=\"dataframe\">\n  <thead>\n    <tr style=\"text-align: right;\">\n      <th></th>\n      <th>Date/Time</th>\n      <th>Lat</th>\n      <th>Lon</th>\n      <th>Base</th>\n      <th>datetime</th>\n      <th>New York</th>\n    </tr>\n  </thead>\n  <tbody>\n    <tr>\n      <th>0</th>\n      <td>4/1/2014 0:11:00</td>\n      <td>40.7690</td>\n      <td>-73.9549</td>\n      <td>B02512</td>\n      <td>04-01-2014:00</td>\n      <td>scattered clouds</td>\n    </tr>\n    <tr>\n      <th>1</th>\n      <td>4/1/2014 0:17:00</td>\n      <td>40.7267</td>\n      <td>-74.0345</td>\n      <td>B02512</td>\n      <td>04-01-2014:00</td>\n      <td>scattered clouds</td>\n    </tr>\n    <tr>\n      <th>2</th>\n      <td>4/1/2014 0:21:00</td>\n      <td>40.7316</td>\n      <td>-73.9873</td>\n      <td>B02512</td>\n      <td>04-01-2014:00</td>\n      <td>scattered clouds</td>\n    </tr>\n    <tr>\n      <th>3</th>\n      <td>4/1/2014 0:28:00</td>\n      <td>40.7588</td>\n      <td>-73.9776</td>\n      <td>B02512</td>\n      <td>04-01-2014:00</td>\n      <td>scattered clouds</td>\n    </tr>\n    <tr>\n      <th>4</th>\n      <td>4/1/2014 0:33:00</td>\n      <td>40.7594</td>\n      <td>-73.9722</td>\n      <td>B02512</td>\n      <td>04-01-2014:00</td>\n      <td>scattered clouds</td>\n    </tr>\n    <tr>\n      <th>...</th>\n      <td>...</td>\n      <td>...</td>\n      <td>...</td>\n      <td>...</td>\n      <td>...</td>\n      <td>...</td>\n    </tr>\n    <tr>\n      <th>564511</th>\n      <td>4/30/2014 23:22:00</td>\n      <td>40.7640</td>\n      <td>-73.9744</td>\n      <td>B02764</td>\n      <td>04-30-2014:23</td>\n      <td>very heavy rain</td>\n    </tr>\n    <tr>\n      <th>564512</th>\n      <td>4/30/2014 23:26:00</td>\n      <td>40.7629</td>\n      <td>-73.9672</td>\n      <td>B02764</td>\n      <td>04-30-2014:23</td>\n      <td>very heavy rain</td>\n    </tr>\n    <tr>\n      <th>564513</th>\n      <td>4/30/2014 23:31:00</td>\n      <td>40.7443</td>\n      <td>-73.9889</td>\n      <td>B02764</td>\n      <td>04-30-2014:23</td>\n      <td>very heavy rain</td>\n    </tr>\n    <tr>\n      <th>564514</th>\n      <td>4/30/2014 23:32:00</td>\n      <td>40.6756</td>\n      <td>-73.9405</td>\n      <td>B02764</td>\n      <td>04-30-2014:23</td>\n      <td>very heavy rain</td>\n    </tr>\n    <tr>\n      <th>564515</th>\n      <td>4/30/2014 23:48:00</td>\n      <td>40.6880</td>\n      <td>-73.9608</td>\n      <td>B02764</td>\n      <td>04-30-2014:23</td>\n      <td>very heavy rain</td>\n    </tr>\n  </tbody>\n</table>\n<p>564516 rows × 6 columns</p>\n</div>"
     },
     "metadata": {},
     "execution_count": 3
    }
   ],
   "source": [
    "pickle.load('../data/picklerCheckpoints/enrichedData/uber-enriched-data-apr14.p', True)"
   ]
  }
 ]
}