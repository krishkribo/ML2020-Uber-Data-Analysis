{
 "cells": [
  {
   "cell_type": "code",
   "execution_count": 28,
   "metadata": {},
   "outputs": [],
   "source": [
    "import os\n",
    "import sys\n",
    "\n",
    "module_path = os.path.abspath(os.path.join('..'))\n",
    "if module_path not in sys.path:\n",
    "    sys.path.append(module_path)\n",
    "\n",
    "# FIX ME: Root dir as argument\n",
    "root_dir = \"../../data/picklerCheckpoints/\"\n",
    "is_compressed = True;"
   ]
  },
  {
   "cell_type": "code",
   "execution_count": 30,
   "metadata": {},
   "outputs": [],
   "source": [
    "import numpy as np\n",
    "import pandas as pd\n",
    "import nbimporter\n",
    "import geopandas as gpd\n",
    "import commons.utility.pickle_util as pickle\n",
    "from shapely.geometry import Point\n"
   ]
  },
  {
   "cell_type": "code",
   "execution_count": 3,
   "metadata": {},
   "outputs": [],
   "source": [
    "uberDataPath= '../data/uberData/'\n",
    "weatherDataPath = \"../data/weatherData/\"\n",
    "windDirectionPath = \"../data/weatherData/\"\n",
    "windSpeedPath = \"../data/weatherData/\"\n",
    "pressurePath = \"../data/weatherData/\"\n",
    "humidityPath = \"../data/weatherData/\"\n",
    "temperaturePath = \"../data/weatherData/\"\n",
    "holidays = \"../data/holidays/\"\n",
    "pickleStore = \"../data/picklerCheckpoints/enrichedData/\" "
   ]
  },
  {
   "cell_type": "code",
   "execution_count": 4,
   "metadata": {},
   "outputs": [],
   "source": [
    "import pandas as pd\n",
    "import glob\n",
    "\n"
   ]
  },
  {
   "cell_type": "code",
   "execution_count": 24,
   "metadata": {},
   "outputs": [],
   "source": [
    "def generateHolidayLookupTable():\n",
    "    picklerSave = \"../data/picklerCheckpoints/holidays/holidays.p\" \n",
    "    if (os.path.exists(picklerSave) or os.path.exists(picklerSave+'.pbz2')):\n",
    "        frame = pickle.load(picklerSave, True)\n",
    "        print(\"Holidays table loaded\")\n",
    "    else:\n",
    "        print(\"Generating holidays lookup table\")\n",
    "        path = r'../data/holidays/' # use your path\n",
    "        all_files = glob.glob(path + \"/*.csv\")\n",
    "\n",
    "        li = []\n",
    "\n",
    "        for filename in all_files:\n",
    "            df = pd.read_csv(filename, index_col=None, header=0)\n",
    "            li.append(df)\n",
    "\n",
    "        frame = pd.concat(li, axis=0, ignore_index=True)\n",
    "        frame = frame [['date-year', 'holiday']]\n",
    "        frame = frame.drop_duplicates()\n",
    "        pickle.save(frame, '../data/picklerCheckpoints/holidays/', 'holidays', True)\n",
    "    return frame"
   ]
  },
  {
   "cell_type": "code",
   "execution_count": 25,
   "metadata": {},
   "outputs": [
    {
     "name": "stdout",
     "output_type": "stream",
     "text": [
      "++++++++++++++++++++++++++++++++++++++++++++++++++++++++++++++++++++++++++++++++++++++++++++++++++++\n",
      "Loading file ../data/picklerCheckpoints/holidays/holidays.p\n",
      "Decompressing ../data/picklerCheckpoints/holidays/holidays.p.pbz2..............Done\n",
      "++++++++++++++++++++++++++++++++++++++++++++++++++++++++++++++++++++++++++++++++++++++++++++++++++++\n",
      "\n",
      "Holidays table loaded\n"
     ]
    },
    {
     "data": {
      "text/html": [
       "<div>\n",
       "<style scoped>\n",
       "    .dataframe tbody tr th:only-of-type {\n",
       "        vertical-align: middle;\n",
       "    }\n",
       "\n",
       "    .dataframe tbody tr th {\n",
       "        vertical-align: top;\n",
       "    }\n",
       "\n",
       "    .dataframe thead th {\n",
       "        text-align: right;\n",
       "    }\n",
       "</style>\n",
       "<table border=\"1\" class=\"dataframe\">\n",
       "  <thead>\n",
       "    <tr style=\"text-align: right;\">\n",
       "      <th></th>\n",
       "      <th>date-year</th>\n",
       "      <th>holiday</th>\n",
       "    </tr>\n",
       "  </thead>\n",
       "  <tbody>\n",
       "    <tr>\n",
       "      <th>0</th>\n",
       "      <td>4/1/2014</td>\n",
       "      <td>weekday</td>\n",
       "    </tr>\n",
       "    <tr>\n",
       "      <th>1011</th>\n",
       "      <td>4/2/2014</td>\n",
       "      <td>weekday</td>\n",
       "    </tr>\n",
       "    <tr>\n",
       "      <th>2347</th>\n",
       "      <td>4/3/2014</td>\n",
       "      <td>weekday</td>\n",
       "    </tr>\n",
       "    <tr>\n",
       "      <th>3829</th>\n",
       "      <td>4/4/2014</td>\n",
       "      <td>weekday</td>\n",
       "    </tr>\n",
       "    <tr>\n",
       "      <th>5656</th>\n",
       "      <td>4/5/2014</td>\n",
       "      <td>weekend</td>\n",
       "    </tr>\n",
       "    <tr>\n",
       "      <th>...</th>\n",
       "      <td>...</td>\n",
       "      <td>...</td>\n",
       "    </tr>\n",
       "    <tr>\n",
       "      <th>3535996</th>\n",
       "      <td>9/26/2014</td>\n",
       "      <td>weekday</td>\n",
       "    </tr>\n",
       "    <tr>\n",
       "      <th>3536949</th>\n",
       "      <td>9/27/2014</td>\n",
       "      <td>weekend</td>\n",
       "    </tr>\n",
       "    <tr>\n",
       "      <th>3537954</th>\n",
       "      <td>9/28/2014</td>\n",
       "      <td>weekend</td>\n",
       "    </tr>\n",
       "    <tr>\n",
       "      <th>3538688</th>\n",
       "      <td>9/29/2014</td>\n",
       "      <td>weekday</td>\n",
       "    </tr>\n",
       "    <tr>\n",
       "      <th>3539593</th>\n",
       "      <td>9/30/2014</td>\n",
       "      <td>weekday</td>\n",
       "    </tr>\n",
       "  </tbody>\n",
       "</table>\n",
       "<p>183 rows × 2 columns</p>\n",
       "</div>"
      ],
      "text/plain": [
       "         date-year  holiday\n",
       "0         4/1/2014  weekday\n",
       "1011      4/2/2014  weekday\n",
       "2347      4/3/2014  weekday\n",
       "3829      4/4/2014  weekday\n",
       "5656      4/5/2014  weekend\n",
       "...            ...      ...\n",
       "3535996  9/26/2014  weekday\n",
       "3536949  9/27/2014  weekend\n",
       "3537954  9/28/2014  weekend\n",
       "3538688  9/29/2014  weekday\n",
       "3539593  9/30/2014  weekday\n",
       "\n",
       "[183 rows x 2 columns]"
      ]
     },
     "execution_count": 25,
     "metadata": {},
     "output_type": "execute_result"
    }
   ],
   "source": [
    "generateHolidayLookupTable()"
   ]
  }
 ],
 "metadata": {
  "kernelspec": {
   "display_name": "Python 3.7 (tensorflow)",
   "language": "python",
   "name": "tensorflow"
  },
  "language_info": {
   "codemirror_mode": {
    "name": "ipython",
    "version": 3
   },
   "file_extension": ".py",
   "mimetype": "text/x-python",
   "name": "python",
   "nbconvert_exporter": "python",
   "pygments_lexer": "ipython3",
   "version": "3.7.9"
  }
 },
 "nbformat": 4,
 "nbformat_minor": 4
}
