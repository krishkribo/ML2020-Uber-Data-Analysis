{
 "metadata": {
  "language_info": {
   "codemirror_mode": {
    "name": "ipython",
    "version": 3
   },
   "file_extension": ".py",
   "mimetype": "text/x-python",
   "name": "python",
   "nbconvert_exporter": "python",
   "pygments_lexer": "ipython3",
   "version": "3.8.7-final"
  },
  "orig_nbformat": 2,
  "kernelspec": {
   "name": "python3",
   "display_name": "Python 3",
   "language": "python"
  }
 },
 "nbformat": 4,
 "nbformat_minor": 2,
 "cells": [
  {
   "cell_type": "code",
   "execution_count": 1,
   "metadata": {},
   "outputs": [],
   "source": [
    "import bz2\n",
    "import pickle\n",
    "import _pickle as cPickle\n",
    "import os"
   ]
  },
  {
   "cell_type": "code",
   "execution_count": 2,
   "metadata": {},
   "outputs": [],
   "source": [
    "# root_dir = \"../../data/picklerCheckpoints/\"\n",
    "is_compressed = True;"
   ]
  },
  {
   "cell_type": "code",
   "execution_count": 3,
   "metadata": {},
   "outputs": [],
   "source": [
    "def compressed_pickle(title, data):\n",
    "  with bz2.BZ2File(title + '.pbz2', 'w') as f: \n",
    "    cPickle.dump(data, f)"
   ]
  },
  {
   "cell_type": "code",
   "execution_count": 4,
   "metadata": {},
   "outputs": [],
   "source": [
    "def decompress_pickle(file):\n",
    " data = bz2.BZ2File(file+'.pbz2', 'rb')\n",
    " data = cPickle.load(data)\n",
    " print(\"Decompressing {}..............Done\\n\".format(file+'.pbz2')+\"+\"*100+\"\\n\");\n",
    " return data"
   ]
  },
  {
   "cell_type": "code",
   "execution_count": 5,
   "metadata": {},
   "outputs": [],
   "source": [
    "def save(obj, path, filename, is_compressed):\n",
    "  dir_name = path;\n",
    "  if not os.path.exists(dir_name):\n",
    "    os.makedirs(dir_name);\n",
    "  file_name = filename +\".p\";\n",
    "  if (is_compressed):\n",
    "    compressed_pickle(dir_name+file_name, obj);\n",
    "  else:\n",
    "    pickle.dump(obj, open( dir_name+file_name, \"wb\" ))\n",
    "  print(\"Result Saved in \"+ dir_name + file_name)"
   ]
  },
  {
   "cell_type": "code",
   "execution_count": 6,
   "metadata": {},
   "outputs": [],
   "source": [
    "def load(path, is_compressed):\n",
    "  # dir_name = path;\n",
    "  # file_name = filename +\".p\";\n",
    "  print(\"+\"*100+\"\\nLoading file {}\".format(path))\n",
    "  if(is_compressed):\n",
    "    obj = decompress_pickle(path);\n",
    "  else:\n",
    "    obj = pickle.load( open( path, \"rb\" ) );\n",
    "  return obj;"
   ]
  },
  {
   "cell_type": "code",
   "execution_count": null,
   "metadata": {},
   "outputs": [],
   "source": []
  }
 ]
}