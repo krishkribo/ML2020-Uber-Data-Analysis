{
 "cells": [
  {
   "cell_type": "code",
   "execution_count": 1,
   "id": "independent-development",
   "metadata": {},
   "outputs": [],
   "source": [
    "import numpy as np\n",
    "from matplotlib import pyplot as plt\n",
    "import pandas as pd\n",
    "import os\n",
    "import sys\n",
    "\n",
    "module_path = os.path.abspath(os.path.join('..'))\n",
    "if module_path not in sys.path:\n",
    "    sys.path.append(module_path)\n",
    "\n",
    "# FIX ME: Root dir as argument\n",
    "root_dir = \"../../../data/picklerCheckpoints/\"\n",
    "is_compressed = True;"
   ]
  },
  {
   "cell_type": "code",
   "execution_count": 2,
   "id": "burning-convertible",
   "metadata": {
    "scrolled": true
   },
   "outputs": [
    {
     "name": "stderr",
     "output_type": "stream",
     "text": [
      "WARNING: You are using pip version 20.2.3; however, version 21.0.1 is available.\n",
      "You should consider upgrading via the 'D:\\python\\python.exe -m pip install --upgrade pip' command.\n"
     ]
    },
    {
     "name": "stdout",
     "output_type": "stream",
     "text": [
      "Requirement already satisfied: seaborn in d:\\python\\lib\\site-packages (0.11.1)\n",
      "Requirement already satisfied: pandas>=0.23 in d:\\python\\lib\\site-packages (from seaborn) (1.2.1)\n",
      "Requirement already satisfied: scipy>=1.0 in d:\\python\\lib\\site-packages (from seaborn) (1.4.1)\n",
      "Requirement already satisfied: numpy>=1.15 in d:\\python\\lib\\site-packages (from seaborn) (1.19.5)\n",
      "Requirement already satisfied: matplotlib>=2.2 in d:\\python\\lib\\site-packages (from seaborn) (3.3.4)\n",
      "Requirement already satisfied: pytz>=2017.3 in d:\\python\\lib\\site-packages (from pandas>=0.23->seaborn) (2021.1)\n",
      "Requirement already satisfied: python-dateutil>=2.7.3 in d:\\python\\lib\\site-packages (from pandas>=0.23->seaborn) (2.8.1)\n",
      "Requirement already satisfied: pillow>=6.2.0 in d:\\python\\lib\\site-packages (from matplotlib>=2.2->seaborn) (8.1.0)\n",
      "Requirement already satisfied: pyparsing!=2.0.4,!=2.1.2,!=2.1.6,>=2.0.3 in d:\\python\\lib\\site-packages (from matplotlib>=2.2->seaborn) (2.4.7)\n",
      "Requirement already satisfied: cycler>=0.10 in d:\\python\\lib\\site-packages (from matplotlib>=2.2->seaborn) (0.10.0)\n",
      "Requirement already satisfied: kiwisolver>=1.0.1 in d:\\python\\lib\\site-packages (from matplotlib>=2.2->seaborn) (1.3.1)\n",
      "Requirement already satisfied: six>=1.5 in d:\\python\\lib\\site-packages (from python-dateutil>=2.7.3->pandas>=0.23->seaborn) (1.15.0)\n",
      "Importing Jupyter notebook from D:\\Academics\\MLRepoFeb\\ML2020-Uber-Data-Analysis\\Preprocessing\\SpatialMapping.ipynb\n",
      "Importing Jupyter notebook from D:\\Academics\\MLRepoFeb\\ML2020-Uber-Data-Analysis\\commons\\utility\\pickle_util.ipynb\n",
      "Importing Jupyter notebook from D:\\Academics\\MLRepoFeb\\ML2020-Uber-Data-Analysis\\Preprocessing\\DataEnrichment.ipynb\n",
      "Importing Jupyter notebook from D:\\Academics\\MLRepoFeb\\ML2020-Uber-Data-Analysis\\Preprocessing\\Discretization.ipynb\n"
     ]
    }
   ],
   "source": [
    "!{sys.executable} -m pip install seaborn\n",
    "#!{sys.executable} -m pip install imblearn\n",
    "import nbimporter\n",
    "import Preprocessing.SpatialMapping as sm\n",
    "import Preprocessing.Discretization as dis\n",
    "import time\n",
    "import math\n",
    "import seaborn as sns\n",
    "plt.rcParams.update({'font.size': 22})"
   ]
  },
  {
   "cell_type": "code",
   "execution_count": 3,
   "id": "weird-impossible",
   "metadata": {},
   "outputs": [
    {
     "name": "stdout",
     "output_type": "stream",
     "text": [
      "Data for the month :apr Found.....\n",
      "++++++++++++++++++++++++++++++++++++++++++++++++++++++++++++++++++++++++++++++++++++++++++++++++++++\n",
      "Loading file ../data/picklerCheckpoints/spatialJoinData/uber-spatial-data-apr14.p\n",
      "Decompressing ../data/picklerCheckpoints/spatialJoinData/uber-spatial-data-apr14.p.pbz2..............Done\n",
      "++++++++++++++++++++++++++++++++++++++++++++++++++++++++++++++++++++++++++++++++++++++++++++++++++++\n",
      "\n",
      "Data for the month :may Found.....\n",
      "++++++++++++++++++++++++++++++++++++++++++++++++++++++++++++++++++++++++++++++++++++++++++++++++++++\n",
      "Loading file ../data/picklerCheckpoints/spatialJoinData/uber-spatial-data-may14.p\n",
      "Decompressing ../data/picklerCheckpoints/spatialJoinData/uber-spatial-data-may14.p.pbz2..............Done\n",
      "++++++++++++++++++++++++++++++++++++++++++++++++++++++++++++++++++++++++++++++++++++++++++++++++++++\n",
      "\n",
      "Data for the month :jun Found.....\n",
      "++++++++++++++++++++++++++++++++++++++++++++++++++++++++++++++++++++++++++++++++++++++++++++++++++++\n",
      "Loading file ../data/picklerCheckpoints/spatialJoinData/uber-spatial-data-jun14.p\n",
      "Decompressing ../data/picklerCheckpoints/spatialJoinData/uber-spatial-data-jun14.p.pbz2..............Done\n",
      "++++++++++++++++++++++++++++++++++++++++++++++++++++++++++++++++++++++++++++++++++++++++++++++++++++\n",
      "\n",
      "Data for the month :jul Found.....\n",
      "++++++++++++++++++++++++++++++++++++++++++++++++++++++++++++++++++++++++++++++++++++++++++++++++++++\n",
      "Loading file ../data/picklerCheckpoints/spatialJoinData/uber-spatial-data-jul14.p\n",
      "Decompressing ../data/picklerCheckpoints/spatialJoinData/uber-spatial-data-jul14.p.pbz2..............Done\n",
      "++++++++++++++++++++++++++++++++++++++++++++++++++++++++++++++++++++++++++++++++++++++++++++++++++++\n",
      "\n",
      "Data for the month :aug Found.....\n",
      "++++++++++++++++++++++++++++++++++++++++++++++++++++++++++++++++++++++++++++++++++++++++++++++++++++\n",
      "Loading file ../data/picklerCheckpoints/spatialJoinData/uber-spatial-data-aug14.p\n",
      "Decompressing ../data/picklerCheckpoints/spatialJoinData/uber-spatial-data-aug14.p.pbz2..............Done\n",
      "++++++++++++++++++++++++++++++++++++++++++++++++++++++++++++++++++++++++++++++++++++++++++++++++++++\n",
      "\n"
     ]
    }
   ],
   "source": [
    "data = sm.run(['apr', 'may', 'jun', 'jul', 'aug'])"
   ]
  },
  {
   "cell_type": "code",
   "execution_count": 4,
   "id": "overall-pearl",
   "metadata": {},
   "outputs": [],
   "source": [
    "df = data.copy()\n",
    "columns = ['datetime', 'zone', 'weatherCondition', 'humidity', 'pressure', 'temperature', 'windDirection', 'windSpeed', 'holiday']"
   ]
  },
  {
   "cell_type": "code",
   "execution_count": 5,
   "id": "champion-soccer",
   "metadata": {},
   "outputs": [
    {
     "name": "stderr",
     "output_type": "stream",
     "text": [
      "D:\\Academics\\MLRepoFeb\\ML2020-Uber-Data-Analysis\\Preprocessing\\Discretization.ipynb:7: SettingWithCopyWarning: \n",
      "A value is trying to be set on a copy of a slice from a DataFrame.\n",
      "Try using .loc[row_indexer,col_indexer] = value instead\n",
      "\n",
      "See the caveats in the documentation: https://pandas.pydata.org/pandas-docs/stable/user_guide/indexing.html#returning-a-view-versus-a-copy\n",
      "  \"metadata\": {},\n"
     ]
    },
    {
     "name": "stdout",
     "output_type": "stream",
     "text": [
      "Result Saved in ../data/encodedMappings/zone.p\n",
      "Result Saved in ../data/encodedMappings/weatherCondition.p\n",
      "Result Saved in ../data/encodedMappings/holiday.p\n"
     ]
    }
   ],
   "source": [
    "df2 = df[columns]\n",
    "df2g = dis.encode(df2, ['zone', 'weatherCondition', 'holiday'])\n",
    "df2g = df2.groupby(columns).size().reset_index(name='counts')\n",
    "df2g['datetime'] = pd.to_datetime(df2g['datetime'], format='%m-%d-%Y:%H').apply(lambda x: time.mktime(x.timetuple()))"
   ]
  },
  {
   "cell_type": "code",
   "execution_count": 6,
   "id": "permanent-diameter",
   "metadata": {},
   "outputs": [],
   "source": [
    "from sklearn.preprocessing import MinMaxScaler\n",
    "counts = df2g['counts'].copy()\n",
    "datetime = df2g['datetime'].copy()"
   ]
  },
  {
   "cell_type": "code",
   "execution_count": 7,
   "id": "naval-round",
   "metadata": {},
   "outputs": [
    {
     "data": {
      "text/html": [
       "<div>\n",
       "<style scoped>\n",
       "    .dataframe tbody tr th:only-of-type {\n",
       "        vertical-align: middle;\n",
       "    }\n",
       "\n",
       "    .dataframe tbody tr th {\n",
       "        vertical-align: top;\n",
       "    }\n",
       "\n",
       "    .dataframe thead th {\n",
       "        text-align: right;\n",
       "    }\n",
       "</style>\n",
       "<table border=\"1\" class=\"dataframe\">\n",
       "  <thead>\n",
       "    <tr style=\"text-align: right;\">\n",
       "      <th></th>\n",
       "      <th>datetime</th>\n",
       "      <th>zone</th>\n",
       "      <th>weatherCondition</th>\n",
       "      <th>humidity</th>\n",
       "      <th>pressure</th>\n",
       "      <th>temperature</th>\n",
       "      <th>windDirection</th>\n",
       "      <th>windSpeed</th>\n",
       "      <th>holiday</th>\n",
       "      <th>counts</th>\n",
       "    </tr>\n",
       "  </thead>\n",
       "  <tbody>\n",
       "    <tr>\n",
       "      <th>0</th>\n",
       "      <td>1.396291e+09</td>\n",
       "      <td>10</td>\n",
       "      <td>15</td>\n",
       "      <td>40.0</td>\n",
       "      <td>1016.0</td>\n",
       "      <td>282.96</td>\n",
       "      <td>330.0</td>\n",
       "      <td>5.0</td>\n",
       "      <td>1</td>\n",
       "      <td>3</td>\n",
       "    </tr>\n",
       "    <tr>\n",
       "      <th>1</th>\n",
       "      <td>1.396291e+09</td>\n",
       "      <td>11</td>\n",
       "      <td>15</td>\n",
       "      <td>40.0</td>\n",
       "      <td>1016.0</td>\n",
       "      <td>282.96</td>\n",
       "      <td>330.0</td>\n",
       "      <td>5.0</td>\n",
       "      <td>1</td>\n",
       "      <td>1</td>\n",
       "    </tr>\n",
       "    <tr>\n",
       "      <th>2</th>\n",
       "      <td>1.396291e+09</td>\n",
       "      <td>14</td>\n",
       "      <td>15</td>\n",
       "      <td>40.0</td>\n",
       "      <td>1016.0</td>\n",
       "      <td>282.96</td>\n",
       "      <td>330.0</td>\n",
       "      <td>5.0</td>\n",
       "      <td>1</td>\n",
       "      <td>2</td>\n",
       "    </tr>\n",
       "    <tr>\n",
       "      <th>3</th>\n",
       "      <td>1.396291e+09</td>\n",
       "      <td>22</td>\n",
       "      <td>15</td>\n",
       "      <td>40.0</td>\n",
       "      <td>1016.0</td>\n",
       "      <td>282.96</td>\n",
       "      <td>330.0</td>\n",
       "      <td>5.0</td>\n",
       "      <td>1</td>\n",
       "      <td>1</td>\n",
       "    </tr>\n",
       "    <tr>\n",
       "      <th>4</th>\n",
       "      <td>1.396291e+09</td>\n",
       "      <td>25</td>\n",
       "      <td>15</td>\n",
       "      <td>40.0</td>\n",
       "      <td>1016.0</td>\n",
       "      <td>282.96</td>\n",
       "      <td>330.0</td>\n",
       "      <td>5.0</td>\n",
       "      <td>1</td>\n",
       "      <td>1</td>\n",
       "    </tr>\n",
       "    <tr>\n",
       "      <th>...</th>\n",
       "      <td>...</td>\n",
       "      <td>...</td>\n",
       "      <td>...</td>\n",
       "      <td>...</td>\n",
       "      <td>...</td>\n",
       "      <td>...</td>\n",
       "      <td>...</td>\n",
       "      <td>...</td>\n",
       "      <td>...</td>\n",
       "      <td>...</td>\n",
       "    </tr>\n",
       "    <tr>\n",
       "      <th>486661</th>\n",
       "      <td>1.409506e+09</td>\n",
       "      <td>251</td>\n",
       "      <td>10</td>\n",
       "      <td>88.0</td>\n",
       "      <td>1015.0</td>\n",
       "      <td>298.53</td>\n",
       "      <td>0.0</td>\n",
       "      <td>2.0</td>\n",
       "      <td>2</td>\n",
       "      <td>3</td>\n",
       "    </tr>\n",
       "    <tr>\n",
       "      <th>486662</th>\n",
       "      <td>1.409506e+09</td>\n",
       "      <td>254</td>\n",
       "      <td>10</td>\n",
       "      <td>88.0</td>\n",
       "      <td>1015.0</td>\n",
       "      <td>298.53</td>\n",
       "      <td>0.0</td>\n",
       "      <td>2.0</td>\n",
       "      <td>2</td>\n",
       "      <td>5</td>\n",
       "    </tr>\n",
       "    <tr>\n",
       "      <th>486663</th>\n",
       "      <td>1.409506e+09</td>\n",
       "      <td>255</td>\n",
       "      <td>10</td>\n",
       "      <td>88.0</td>\n",
       "      <td>1015.0</td>\n",
       "      <td>298.53</td>\n",
       "      <td>0.0</td>\n",
       "      <td>2.0</td>\n",
       "      <td>2</td>\n",
       "      <td>7</td>\n",
       "    </tr>\n",
       "    <tr>\n",
       "      <th>486664</th>\n",
       "      <td>1.409506e+09</td>\n",
       "      <td>256</td>\n",
       "      <td>10</td>\n",
       "      <td>88.0</td>\n",
       "      <td>1015.0</td>\n",
       "      <td>298.53</td>\n",
       "      <td>0.0</td>\n",
       "      <td>2.0</td>\n",
       "      <td>2</td>\n",
       "      <td>6</td>\n",
       "    </tr>\n",
       "    <tr>\n",
       "      <th>486665</th>\n",
       "      <td>1.409506e+09</td>\n",
       "      <td>257</td>\n",
       "      <td>10</td>\n",
       "      <td>88.0</td>\n",
       "      <td>1015.0</td>\n",
       "      <td>298.53</td>\n",
       "      <td>0.0</td>\n",
       "      <td>2.0</td>\n",
       "      <td>2</td>\n",
       "      <td>10</td>\n",
       "    </tr>\n",
       "  </tbody>\n",
       "</table>\n",
       "<p>486666 rows × 10 columns</p>\n",
       "</div>"
      ],
      "text/plain": [
       "            datetime  zone  weatherCondition  humidity  pressure  temperature  \\\n",
       "0       1.396291e+09    10                15      40.0    1016.0       282.96   \n",
       "1       1.396291e+09    11                15      40.0    1016.0       282.96   \n",
       "2       1.396291e+09    14                15      40.0    1016.0       282.96   \n",
       "3       1.396291e+09    22                15      40.0    1016.0       282.96   \n",
       "4       1.396291e+09    25                15      40.0    1016.0       282.96   \n",
       "...              ...   ...               ...       ...       ...          ...   \n",
       "486661  1.409506e+09   251                10      88.0    1015.0       298.53   \n",
       "486662  1.409506e+09   254                10      88.0    1015.0       298.53   \n",
       "486663  1.409506e+09   255                10      88.0    1015.0       298.53   \n",
       "486664  1.409506e+09   256                10      88.0    1015.0       298.53   \n",
       "486665  1.409506e+09   257                10      88.0    1015.0       298.53   \n",
       "\n",
       "        windDirection  windSpeed  holiday  counts  \n",
       "0               330.0        5.0        1       3  \n",
       "1               330.0        5.0        1       1  \n",
       "2               330.0        5.0        1       2  \n",
       "3               330.0        5.0        1       1  \n",
       "4               330.0        5.0        1       1  \n",
       "...               ...        ...      ...     ...  \n",
       "486661            0.0        2.0        2       3  \n",
       "486662            0.0        2.0        2       5  \n",
       "486663            0.0        2.0        2       7  \n",
       "486664            0.0        2.0        2       6  \n",
       "486665            0.0        2.0        2      10  \n",
       "\n",
       "[486666 rows x 10 columns]"
      ]
     },
     "execution_count": 7,
     "metadata": {},
     "output_type": "execute_result"
    }
   ],
   "source": [
    "df2g"
   ]
  },
  {
   "cell_type": "code",
   "execution_count": 8,
   "id": "restricted-latter",
   "metadata": {},
   "outputs": [],
   "source": [
    "bins = [0, 10, 50, np.inf]\n",
    "names = ['low', 'med', 'high']\n",
    "\n",
    "df2g['label'] = pd.cut(df2g['counts'], bins, labels=names)"
   ]
  },
  {
   "cell_type": "code",
   "execution_count": 9,
   "id": "smaller-opera",
   "metadata": {},
   "outputs": [
    {
     "name": "stdout",
     "output_type": "stream",
     "text": [
      "Result Saved in ../data/encodedMappings/label.p\n"
     ]
    }
   ],
   "source": [
    "df2g = dis.encode(df2g, ['label'])"
   ]
  },
  {
   "cell_type": "code",
   "execution_count": 10,
   "id": "dressed-difference",
   "metadata": {},
   "outputs": [],
   "source": [
    "class0, class1, class2 = df2g['label'].value_counts()"
   ]
  },
  {
   "cell_type": "code",
   "execution_count": 11,
   "id": "consistent-olive",
   "metadata": {},
   "outputs": [],
   "source": [
    "from imblearn.over_sampling import RandomOverSampler\n",
    "from imblearn.under_sampling import RandomUnderSampler\n",
    "ros = RandomUnderSampler(random_state=101)"
   ]
  },
  {
   "cell_type": "code",
   "execution_count": 12,
   "id": "intermediate-respect",
   "metadata": {},
   "outputs": [],
   "source": [
    "x_ros, y_ros = ros.fit_resample(df2g[columns], df2g['label'])\n",
    "df3 = x_ros\n",
    "df3['label'] = y_ros"
   ]
  },
  {
   "cell_type": "code",
   "execution_count": 13,
   "id": "structured-trailer",
   "metadata": {},
   "outputs": [],
   "source": [
    "scaler = MinMaxScaler() \n",
    "scaled_values = scaler.fit_transform(df3) \n",
    "df3.loc[:,:] = scaled_values\n",
    "df3['counts'] = counts\n",
    "df3['datetime'] = datetime"
   ]
  },
  {
   "cell_type": "code",
   "execution_count": 14,
   "id": "sustained-ethiopia",
   "metadata": {},
   "outputs": [
    {
     "data": {
      "text/html": [
       "<div>\n",
       "<style scoped>\n",
       "    .dataframe tbody tr th:only-of-type {\n",
       "        vertical-align: middle;\n",
       "    }\n",
       "\n",
       "    .dataframe tbody tr th {\n",
       "        vertical-align: top;\n",
       "    }\n",
       "\n",
       "    .dataframe thead th {\n",
       "        text-align: right;\n",
       "    }\n",
       "</style>\n",
       "<table border=\"1\" class=\"dataframe\">\n",
       "  <thead>\n",
       "    <tr style=\"text-align: right;\">\n",
       "      <th></th>\n",
       "      <th>datetime</th>\n",
       "      <th>zone</th>\n",
       "      <th>weatherCondition</th>\n",
       "      <th>humidity</th>\n",
       "      <th>pressure</th>\n",
       "      <th>temperature</th>\n",
       "      <th>windDirection</th>\n",
       "      <th>windSpeed</th>\n",
       "      <th>holiday</th>\n",
       "      <th>label</th>\n",
       "      <th>counts</th>\n",
       "    </tr>\n",
       "  </thead>\n",
       "  <tbody>\n",
       "    <tr>\n",
       "      <th>0</th>\n",
       "      <td>1.396291e+09</td>\n",
       "      <td>0.155642</td>\n",
       "      <td>0.727273</td>\n",
       "      <td>0.600000</td>\n",
       "      <td>0.510638</td>\n",
       "      <td>0.107153</td>\n",
       "      <td>0.805556</td>\n",
       "      <td>0.250000</td>\n",
       "      <td>0.5</td>\n",
       "      <td>0.0</td>\n",
       "      <td>3</td>\n",
       "    </tr>\n",
       "    <tr>\n",
       "      <th>1</th>\n",
       "      <td>1.396291e+09</td>\n",
       "      <td>0.525292</td>\n",
       "      <td>0.727273</td>\n",
       "      <td>0.600000</td>\n",
       "      <td>0.510638</td>\n",
       "      <td>0.107153</td>\n",
       "      <td>0.805556</td>\n",
       "      <td>0.250000</td>\n",
       "      <td>0.5</td>\n",
       "      <td>0.0</td>\n",
       "      <td>1</td>\n",
       "    </tr>\n",
       "    <tr>\n",
       "      <th>2</th>\n",
       "      <td>1.396291e+09</td>\n",
       "      <td>0.894942</td>\n",
       "      <td>0.727273</td>\n",
       "      <td>0.600000</td>\n",
       "      <td>0.510638</td>\n",
       "      <td>0.107153</td>\n",
       "      <td>0.805556</td>\n",
       "      <td>0.250000</td>\n",
       "      <td>0.5</td>\n",
       "      <td>0.0</td>\n",
       "      <td>2</td>\n",
       "    </tr>\n",
       "    <tr>\n",
       "      <th>3</th>\n",
       "      <td>1.396291e+09</td>\n",
       "      <td>1.000000</td>\n",
       "      <td>0.727273</td>\n",
       "      <td>0.600000</td>\n",
       "      <td>0.510638</td>\n",
       "      <td>0.107153</td>\n",
       "      <td>0.805556</td>\n",
       "      <td>0.250000</td>\n",
       "      <td>0.5</td>\n",
       "      <td>0.0</td>\n",
       "      <td>1</td>\n",
       "    </tr>\n",
       "    <tr>\n",
       "      <th>4</th>\n",
       "      <td>1.396291e+09</td>\n",
       "      <td>0.155642</td>\n",
       "      <td>0.727273</td>\n",
       "      <td>0.655556</td>\n",
       "      <td>0.510638</td>\n",
       "      <td>0.080510</td>\n",
       "      <td>0.833333</td>\n",
       "      <td>0.250000</td>\n",
       "      <td>0.5</td>\n",
       "      <td>0.0</td>\n",
       "      <td>1</td>\n",
       "    </tr>\n",
       "    <tr>\n",
       "      <th>...</th>\n",
       "      <td>...</td>\n",
       "      <td>...</td>\n",
       "      <td>...</td>\n",
       "      <td>...</td>\n",
       "      <td>...</td>\n",
       "      <td>...</td>\n",
       "      <td>...</td>\n",
       "      <td>...</td>\n",
       "      <td>...</td>\n",
       "      <td>...</td>\n",
       "      <td>...</td>\n",
       "    </tr>\n",
       "    <tr>\n",
       "      <th>97003</th>\n",
       "      <td>1.399307e+09</td>\n",
       "      <td>0.536965</td>\n",
       "      <td>0.681818</td>\n",
       "      <td>0.788889</td>\n",
       "      <td>0.276596</td>\n",
       "      <td>0.870258</td>\n",
       "      <td>0.847222</td>\n",
       "      <td>0.000000</td>\n",
       "      <td>0.5</td>\n",
       "      <td>1.0</td>\n",
       "      <td>1</td>\n",
       "    </tr>\n",
       "    <tr>\n",
       "      <th>97004</th>\n",
       "      <td>1.399307e+09</td>\n",
       "      <td>0.883268</td>\n",
       "      <td>0.681818</td>\n",
       "      <td>0.333333</td>\n",
       "      <td>0.361702</td>\n",
       "      <td>0.897480</td>\n",
       "      <td>0.166667</td>\n",
       "      <td>0.083333</td>\n",
       "      <td>0.5</td>\n",
       "      <td>1.0</td>\n",
       "      <td>41</td>\n",
       "    </tr>\n",
       "    <tr>\n",
       "      <th>97005</th>\n",
       "      <td>1.399307e+09</td>\n",
       "      <td>0.533074</td>\n",
       "      <td>0.409091</td>\n",
       "      <td>0.400000</td>\n",
       "      <td>0.425532</td>\n",
       "      <td>0.349262</td>\n",
       "      <td>0.888889</td>\n",
       "      <td>0.666667</td>\n",
       "      <td>1.0</td>\n",
       "      <td>1.0</td>\n",
       "      <td>1</td>\n",
       "    </tr>\n",
       "    <tr>\n",
       "      <th>97006</th>\n",
       "      <td>1.399307e+09</td>\n",
       "      <td>0.459144</td>\n",
       "      <td>0.681818</td>\n",
       "      <td>0.566667</td>\n",
       "      <td>0.489362</td>\n",
       "      <td>0.743122</td>\n",
       "      <td>0.361111</td>\n",
       "      <td>0.166667</td>\n",
       "      <td>1.0</td>\n",
       "      <td>1.0</td>\n",
       "      <td>2</td>\n",
       "    </tr>\n",
       "    <tr>\n",
       "      <th>97007</th>\n",
       "      <td>1.399307e+09</td>\n",
       "      <td>0.389105</td>\n",
       "      <td>0.000000</td>\n",
       "      <td>0.166667</td>\n",
       "      <td>0.446809</td>\n",
       "      <td>0.523892</td>\n",
       "      <td>0.388889</td>\n",
       "      <td>0.333333</td>\n",
       "      <td>0.5</td>\n",
       "      <td>1.0</td>\n",
       "      <td>26</td>\n",
       "    </tr>\n",
       "  </tbody>\n",
       "</table>\n",
       "<p>97008 rows × 11 columns</p>\n",
       "</div>"
      ],
      "text/plain": [
       "           datetime      zone  weatherCondition  humidity  pressure  \\\n",
       "0      1.396291e+09  0.155642          0.727273  0.600000  0.510638   \n",
       "1      1.396291e+09  0.525292          0.727273  0.600000  0.510638   \n",
       "2      1.396291e+09  0.894942          0.727273  0.600000  0.510638   \n",
       "3      1.396291e+09  1.000000          0.727273  0.600000  0.510638   \n",
       "4      1.396291e+09  0.155642          0.727273  0.655556  0.510638   \n",
       "...             ...       ...               ...       ...       ...   \n",
       "97003  1.399307e+09  0.536965          0.681818  0.788889  0.276596   \n",
       "97004  1.399307e+09  0.883268          0.681818  0.333333  0.361702   \n",
       "97005  1.399307e+09  0.533074          0.409091  0.400000  0.425532   \n",
       "97006  1.399307e+09  0.459144          0.681818  0.566667  0.489362   \n",
       "97007  1.399307e+09  0.389105          0.000000  0.166667  0.446809   \n",
       "\n",
       "       temperature  windDirection  windSpeed  holiday  label  counts  \n",
       "0         0.107153       0.805556   0.250000      0.5    0.0       3  \n",
       "1         0.107153       0.805556   0.250000      0.5    0.0       1  \n",
       "2         0.107153       0.805556   0.250000      0.5    0.0       2  \n",
       "3         0.107153       0.805556   0.250000      0.5    0.0       1  \n",
       "4         0.080510       0.833333   0.250000      0.5    0.0       1  \n",
       "...            ...            ...        ...      ...    ...     ...  \n",
       "97003     0.870258       0.847222   0.000000      0.5    1.0       1  \n",
       "97004     0.897480       0.166667   0.083333      0.5    1.0      41  \n",
       "97005     0.349262       0.888889   0.666667      1.0    1.0       1  \n",
       "97006     0.743122       0.361111   0.166667      1.0    1.0       2  \n",
       "97007     0.523892       0.388889   0.333333      0.5    1.0      26  \n",
       "\n",
       "[97008 rows x 11 columns]"
      ]
     },
     "execution_count": 14,
     "metadata": {},
     "output_type": "execute_result"
    }
   ],
   "source": [
    "x_ros"
   ]
  },
  {
   "cell_type": "code",
   "execution_count": null,
   "id": "little-journalist",
   "metadata": {},
   "outputs": [],
   "source": []
  },
  {
   "cell_type": "code",
   "execution_count": null,
   "id": "organized-robertson",
   "metadata": {},
   "outputs": [],
   "source": []
  },
  {
   "cell_type": "code",
   "execution_count": 15,
   "id": "sorted-xerox",
   "metadata": {},
   "outputs": [
    {
     "data": {
      "image/png": "[encoded data removed]",
      "text/plain": [
       "<Figure size 864x720 with 2 Axes>"
      ]
     },
     "metadata": {
      "needs_background": "light"
     },
     "output_type": "display_data"
    }
   ],
   "source": [
    "plt.figure(figsize=(12,10))\n",
    "plt.rcParams.update({'font.size': 14})\n",
    "corrCols = columns.copy()\n",
    "corrCols.append('label')\n",
    "cor = df3[corrCols].corr()\n",
    "sns.heatmap(cor, annot=True, cmap=plt.cm.Reds)\n",
    "plt.savefig('LinearRegression/LR-2-Correlation.png')\n",
    "plt.show()"
   ]
  },
  {
   "cell_type": "code",
   "execution_count": 16,
   "id": "proud-luxembourg",
   "metadata": {},
   "outputs": [
    {
     "data": {
      "text/plain": [
       "datetime    0.943636\n",
       "label       1.000000\n",
       "Name: label, dtype: float64"
      ]
     },
     "execution_count": 16,
     "metadata": {},
     "output_type": "execute_result"
    }
   ],
   "source": [
    "#Correlation with output variable\n",
    "cor_target = abs(cor[\"label\"])\n",
    "#Selecting highly correlated features\n",
    "relevant_features = cor_target[cor_target>0.5]\n",
    "relevant_features"
   ]
  },
  {
   "cell_type": "code",
   "execution_count": null,
   "id": "vanilla-heaven",
   "metadata": {},
   "outputs": [],
   "source": []
  },
  {
   "cell_type": "code",
   "execution_count": 17,
   "id": "short-translator",
   "metadata": {},
   "outputs": [],
   "source": [
    "from sklearn.model_selection import train_test_split"
   ]
  },
  {
   "cell_type": "code",
   "execution_count": 18,
   "id": "disciplinary-oakland",
   "metadata": {},
   "outputs": [],
   "source": [
    "X_train, X_test, y_train, y_test = train_test_split( df3[columns], df3['label'], test_size=0.33, random_state=100)"
   ]
  },
  {
   "cell_type": "code",
   "execution_count": 19,
   "id": "constant-hopkins",
   "metadata": {},
   "outputs": [],
   "source": [
    "from sklearn.linear_model import LinearRegression\n",
    "from sklearn.linear_model import Ridge"
   ]
  },
  {
   "cell_type": "code",
   "execution_count": 20,
   "id": "relevant-thunder",
   "metadata": {},
   "outputs": [],
   "source": [
    "model = Ridge(0.8)\n",
    "startTr = int(round(time.time() * 1000))\n",
    "trained = model.fit(X_train, y_train)\n",
    "endTr = int(round(time.time() * 1000))"
   ]
  },
  {
   "cell_type": "code",
   "execution_count": 21,
   "id": "smooth-proceeding",
   "metadata": {},
   "outputs": [],
   "source": [
    "startTe = int(round(time.time() * 1000))\n",
    "x_predict = model.predict(X_test)\n",
    "endTe = int(round(time.time() * 1000))"
   ]
  },
  {
   "cell_type": "code",
   "execution_count": null,
   "id": "warming-constraint",
   "metadata": {},
   "outputs": [],
   "source": []
  },
  {
   "cell_type": "code",
   "execution_count": 22,
   "id": "nervous-payroll",
   "metadata": {},
   "outputs": [],
   "source": [
    "testDf = pd.DataFrame(X_test, columns=columns)\n",
    "testDf['label'] = y_test\n",
    "testDf.loc[:,:] = scaler.inverse_transform(testDf)\n",
    "predictedDf = pd.DataFrame(X_test, columns=columns)\n",
    "predictedDf['label'] = x_predict\n",
    "predictedDf.loc[:,:] = scaler.inverse_transform(predictedDf)\n",
    "predictedDf['label'] = predictedDf['label'].astype(int)"
   ]
  },
  {
   "cell_type": "code",
   "execution_count": 23,
   "id": "impressed-canvas",
   "metadata": {},
   "outputs": [],
   "source": [
    "y_test = testDf['label']\n",
    "x_predict = predictedDf['label']"
   ]
  },
  {
   "cell_type": "code",
   "execution_count": 24,
   "id": "undefined-elimination",
   "metadata": {},
   "outputs": [],
   "source": [
    "from sklearn import metrics"
   ]
  },
  {
   "cell_type": "code",
   "execution_count": 25,
   "id": "silent-niagara",
   "metadata": {},
   "outputs": [
    {
     "name": "stdout",
     "output_type": "stream",
     "text": [
      "0.37041202011682756\n",
      "0.37041202011682756\n",
      "0.44200236756942657\n"
     ]
    }
   ],
   "source": [
    "print(metrics.mean_absolute_error(y_test, x_predict))\n",
    "print(metrics.mean_squared_error(y_test, x_predict))\n",
    "print(metrics.r2_score(y_test, x_predict))"
   ]
  },
  {
   "cell_type": "code",
   "execution_count": 26,
   "id": "vocational-avatar",
   "metadata": {},
   "outputs": [],
   "source": [
    "from sklearn.metrics import classification_report"
   ]
  },
  {
   "cell_type": "code",
   "execution_count": 27,
   "id": "nearby-average",
   "metadata": {},
   "outputs": [
    {
     "name": "stdout",
     "output_type": "stream",
     "text": [
      "              precision    recall  f1-score   support\n",
      "\n",
      "         0.0       0.67      1.00      0.80     10636\n",
      "         1.0       0.45      0.51      0.48     10762\n",
      "         2.0       1.00      0.38      0.55     10615\n",
      "\n",
      "    accuracy                           0.63     32013\n",
      "   macro avg       0.71      0.63      0.61     32013\n",
      "weighted avg       0.71      0.63      0.61     32013\n",
      "\n"
     ]
    }
   ],
   "source": [
    "report = classification_report(y_test, x_predict)\n",
    "print(report)"
   ]
  },
  {
   "cell_type": "code",
   "execution_count": 28,
   "id": "animal-prediction",
   "metadata": {},
   "outputs": [],
   "source": [
    "# report = classification_report(y_testdf['label'],  x_predictdf['label'])\n",
    "# print(report)"
   ]
  },
  {
   "cell_type": "code",
   "execution_count": 29,
   "id": "typical-punch",
   "metadata": {},
   "outputs": [],
   "source": [
    "from sklearn.decomposition import PCA"
   ]
  },
  {
   "cell_type": "code",
   "execution_count": 30,
   "id": "enabling-heather",
   "metadata": {},
   "outputs": [],
   "source": [
    "pca = PCA(n_components=2)"
   ]
  },
  {
   "cell_type": "code",
   "execution_count": 31,
   "id": "going-reporter",
   "metadata": {},
   "outputs": [
    {
     "data": {
      "text/plain": [
       "PCA(n_components=2)"
      ]
     },
     "execution_count": 31,
     "metadata": {},
     "output_type": "execute_result"
    }
   ],
   "source": [
    "pca.fit(X_train)"
   ]
  },
  {
   "cell_type": "code",
   "execution_count": 32,
   "id": "grave-merchandise",
   "metadata": {},
   "outputs": [
    {
     "name": "stdout",
     "output_type": "stream",
     "text": [
      "[1.00000000e+00 1.14877963e-13]\n"
     ]
    }
   ],
   "source": [
    "print(pca.explained_variance_ratio_)"
   ]
  },
  {
   "cell_type": "code",
   "execution_count": 33,
   "id": "derived-scheduling",
   "metadata": {},
   "outputs": [
    {
     "name": "stdout",
     "output_type": "stream",
     "text": [
      "[2.24675984e+08 7.61508956e+01]\n"
     ]
    }
   ],
   "source": [
    "print(pca.singular_values_)"
   ]
  },
  {
   "cell_type": "code",
   "execution_count": 34,
   "id": "occasional-password",
   "metadata": {},
   "outputs": [],
   "source": [
    "transformed = pd.DataFrame(pca.fit_transform(X_test))\n"
   ]
  },
  {
   "cell_type": "code",
   "execution_count": 35,
   "id": "novel-basin",
   "metadata": {},
   "outputs": [
    {
     "data": {
      "text/plain": [
       "[<matplotlib.lines.Line2D at 0x21c9afb1ee0>,\n",
       " <matplotlib.lines.Line2D at 0x21c9add3370>,\n",
       " <matplotlib.lines.Line2D at 0x21c9adcbbb0>,\n",
       " <matplotlib.lines.Line2D at 0x21c9adcb880>,\n",
       " <matplotlib.lines.Line2D at 0x21c9adb3eb0>,\n",
       " <matplotlib.lines.Line2D at 0x21c9ada60d0>,\n",
       " <matplotlib.lines.Line2D at 0x21c9ad9e8b0>,\n",
       " <matplotlib.lines.Line2D at 0x21c9ad99af0>,\n",
       " <matplotlib.lines.Line2D at 0x21c9ad911f0>]"
      ]
     },
     "execution_count": 35,
     "metadata": {},
     "output_type": "execute_result"
    },
    {
     "data": {
      "image/png": "[encoded data removed]",
      "text/plain": [
       "<Figure size 432x288 with 1 Axes>"
      ]
     },
     "metadata": {
      "needs_background": "light"
     },
     "output_type": "display_data"
    }
   ],
   "source": [
    "plt.plot(X_test, x_predict, color='blue', linewidth=3)"
   ]
  },
  {
   "cell_type": "code",
   "execution_count": 36,
   "id": "color-compatibility",
   "metadata": {},
   "outputs": [
    {
     "data": {
      "text/html": [
       "<div>\n",
       "<style scoped>\n",
       "    .dataframe tbody tr th:only-of-type {\n",
       "        vertical-align: middle;\n",
       "    }\n",
       "\n",
       "    .dataframe tbody tr th {\n",
       "        vertical-align: top;\n",
       "    }\n",
       "\n",
       "    .dataframe thead th {\n",
       "        text-align: right;\n",
       "    }\n",
       "</style>\n",
       "<table border=\"1\" class=\"dataframe\">\n",
       "  <thead>\n",
       "    <tr style=\"text-align: right;\">\n",
       "      <th></th>\n",
       "      <th>datetime</th>\n",
       "      <th>zone</th>\n",
       "      <th>weatherCondition</th>\n",
       "      <th>humidity</th>\n",
       "      <th>pressure</th>\n",
       "      <th>temperature</th>\n",
       "      <th>windDirection</th>\n",
       "      <th>windSpeed</th>\n",
       "      <th>holiday</th>\n",
       "    </tr>\n",
       "  </thead>\n",
       "  <tbody>\n",
       "    <tr>\n",
       "      <th>26945</th>\n",
       "      <td>1.397140e+09</td>\n",
       "      <td>0.607004</td>\n",
       "      <td>0.000000</td>\n",
       "      <td>0.644444</td>\n",
       "      <td>0.468085</td>\n",
       "      <td>0.472343</td>\n",
       "      <td>0.805556</td>\n",
       "      <td>0.166667</td>\n",
       "      <td>0.5</td>\n",
       "    </tr>\n",
       "    <tr>\n",
       "      <th>81923</th>\n",
       "      <td>1.398875e+09</td>\n",
       "      <td>0.887160</td>\n",
       "      <td>0.454545</td>\n",
       "      <td>0.866667</td>\n",
       "      <td>0.510638</td>\n",
       "      <td>0.468868</td>\n",
       "      <td>0.055556</td>\n",
       "      <td>0.250000</td>\n",
       "      <td>1.0</td>\n",
       "    </tr>\n",
       "    <tr>\n",
       "      <th>94522</th>\n",
       "      <td>1.399239e+09</td>\n",
       "      <td>0.175097</td>\n",
       "      <td>0.681818</td>\n",
       "      <td>0.788889</td>\n",
       "      <td>0.489362</td>\n",
       "      <td>0.301477</td>\n",
       "      <td>0.916667</td>\n",
       "      <td>0.250000</td>\n",
       "      <td>1.0</td>\n",
       "    </tr>\n",
       "    <tr>\n",
       "      <th>8713</th>\n",
       "      <td>1.396579e+09</td>\n",
       "      <td>0.249027</td>\n",
       "      <td>0.409091</td>\n",
       "      <td>0.555556</td>\n",
       "      <td>0.531915</td>\n",
       "      <td>0.357370</td>\n",
       "      <td>0.763889</td>\n",
       "      <td>0.000000</td>\n",
       "      <td>1.0</td>\n",
       "    </tr>\n",
       "    <tr>\n",
       "      <th>20838</th>\n",
       "      <td>1.396949e+09</td>\n",
       "      <td>0.607004</td>\n",
       "      <td>0.000000</td>\n",
       "      <td>0.344444</td>\n",
       "      <td>0.425532</td>\n",
       "      <td>0.772951</td>\n",
       "      <td>0.727778</td>\n",
       "      <td>0.166667</td>\n",
       "      <td>0.5</td>\n",
       "    </tr>\n",
       "    <tr>\n",
       "      <th>...</th>\n",
       "      <td>...</td>\n",
       "      <td>...</td>\n",
       "      <td>...</td>\n",
       "      <td>...</td>\n",
       "      <td>...</td>\n",
       "      <td>...</td>\n",
       "      <td>...</td>\n",
       "      <td>...</td>\n",
       "      <td>...</td>\n",
       "    </tr>\n",
       "    <tr>\n",
       "      <th>55036</th>\n",
       "      <td>1.398051e+09</td>\n",
       "      <td>0.494163</td>\n",
       "      <td>0.409091</td>\n",
       "      <td>0.700000</td>\n",
       "      <td>0.489362</td>\n",
       "      <td>0.643498</td>\n",
       "      <td>0.416667</td>\n",
       "      <td>0.333333</td>\n",
       "      <td>1.0</td>\n",
       "    </tr>\n",
       "    <tr>\n",
       "      <th>1711</th>\n",
       "      <td>1.396348e+09</td>\n",
       "      <td>0.871595</td>\n",
       "      <td>0.545455</td>\n",
       "      <td>0.277778</td>\n",
       "      <td>0.425532</td>\n",
       "      <td>0.598610</td>\n",
       "      <td>0.666667</td>\n",
       "      <td>0.333333</td>\n",
       "      <td>0.5</td>\n",
       "    </tr>\n",
       "    <tr>\n",
       "      <th>70681</th>\n",
       "      <td>1.398530e+09</td>\n",
       "      <td>0.459144</td>\n",
       "      <td>0.000000</td>\n",
       "      <td>0.411111</td>\n",
       "      <td>0.510638</td>\n",
       "      <td>0.763105</td>\n",
       "      <td>0.083333</td>\n",
       "      <td>0.333333</td>\n",
       "      <td>1.0</td>\n",
       "    </tr>\n",
       "    <tr>\n",
       "      <th>36693</th>\n",
       "      <td>1.397446e+09</td>\n",
       "      <td>0.361868</td>\n",
       "      <td>0.000000</td>\n",
       "      <td>0.444444</td>\n",
       "      <td>0.425532</td>\n",
       "      <td>0.869679</td>\n",
       "      <td>0.619444</td>\n",
       "      <td>0.166667</td>\n",
       "      <td>0.5</td>\n",
       "    </tr>\n",
       "    <tr>\n",
       "      <th>39763</th>\n",
       "      <td>1.397551e+09</td>\n",
       "      <td>0.151751</td>\n",
       "      <td>0.681818</td>\n",
       "      <td>0.244444</td>\n",
       "      <td>0.319149</td>\n",
       "      <td>0.379380</td>\n",
       "      <td>0.836111</td>\n",
       "      <td>0.166667</td>\n",
       "      <td>0.5</td>\n",
       "    </tr>\n",
       "  </tbody>\n",
       "</table>\n",
       "<p>32013 rows × 9 columns</p>\n",
       "</div>"
      ],
      "text/plain": [
       "           datetime      zone  weatherCondition  humidity  pressure  \\\n",
       "26945  1.397140e+09  0.607004          0.000000  0.644444  0.468085   \n",
       "81923  1.398875e+09  0.887160          0.454545  0.866667  0.510638   \n",
       "94522  1.399239e+09  0.175097          0.681818  0.788889  0.489362   \n",
       "8713   1.396579e+09  0.249027          0.409091  0.555556  0.531915   \n",
       "20838  1.396949e+09  0.607004          0.000000  0.344444  0.425532   \n",
       "...             ...       ...               ...       ...       ...   \n",
       "55036  1.398051e+09  0.494163          0.409091  0.700000  0.489362   \n",
       "1711   1.396348e+09  0.871595          0.545455  0.277778  0.425532   \n",
       "70681  1.398530e+09  0.459144          0.000000  0.411111  0.510638   \n",
       "36693  1.397446e+09  0.361868          0.000000  0.444444  0.425532   \n",
       "39763  1.397551e+09  0.151751          0.681818  0.244444  0.319149   \n",
       "\n",
       "       temperature  windDirection  windSpeed  holiday  \n",
       "26945     0.472343       0.805556   0.166667      0.5  \n",
       "81923     0.468868       0.055556   0.250000      1.0  \n",
       "94522     0.301477       0.916667   0.250000      1.0  \n",
       "8713      0.357370       0.763889   0.000000      1.0  \n",
       "20838     0.772951       0.727778   0.166667      0.5  \n",
       "...            ...            ...        ...      ...  \n",
       "55036     0.643498       0.416667   0.333333      1.0  \n",
       "1711      0.598610       0.666667   0.333333      0.5  \n",
       "70681     0.763105       0.083333   0.333333      1.0  \n",
       "36693     0.869679       0.619444   0.166667      0.5  \n",
       "39763     0.379380       0.836111   0.166667      0.5  \n",
       "\n",
       "[32013 rows x 9 columns]"
      ]
     },
     "execution_count": 36,
     "metadata": {},
     "output_type": "execute_result"
    }
   ],
   "source": [
    "X_test"
   ]
  },
  {
   "cell_type": "code",
   "execution_count": 37,
   "id": "progressive-least",
   "metadata": {},
   "outputs": [
    {
     "data": {
      "text/plain": [
       "32013"
      ]
     },
     "execution_count": 37,
     "metadata": {},
     "output_type": "execute_result"
    }
   ],
   "source": [
    "len(x_predict)"
   ]
  },
  {
   "cell_type": "code",
   "execution_count": 41,
   "id": "nutritional-mount",
   "metadata": {},
   "outputs": [
    {
     "name": "stderr",
     "output_type": "stream",
     "text": [
      "No handles with labels found to put in legend.\n"
     ]
    },
    {
     "data": {
      "image/png": "[encoded data removed]",
      "text/plain": [
       "<Figure size 432x288 with 1 Axes>"
      ]
     },
     "metadata": {
      "needs_background": "light"
     },
     "output_type": "display_data"
    }
   ],
   "source": [
    "plt.scatter(transformed[0], y_test, edgecolors='w', alpha=0.3)\n",
    "plt.plot(transformed[0], x_predict, color='r', alpha=0.3)\n",
    "plt.legend()\n",
    "plt.xlabel('PC-1')\n",
    "plt.ylabel('Demand predictions')\n",
    "plt.title('Predicting the novel test data RR-2')\n",
    "plt.savefig('LinearRegression/RR-2.png')\n",
    "plt.show()"
   ]
  },
  {
   "cell_type": "code",
   "execution_count": 39,
   "id": "failing-diary",
   "metadata": {},
   "outputs": [
    {
     "name": "stdout",
     "output_type": "stream",
     "text": [
      "Training time: =  55 ms\n"
     ]
    }
   ],
   "source": [
    "print(\"Training time: = %3d ms\" %(endTr-startTr))"
   ]
  },
  {
   "cell_type": "code",
   "execution_count": 40,
   "id": "portuguese-renewal",
   "metadata": {},
   "outputs": [
    {
     "name": "stdout",
     "output_type": "stream",
     "text": [
      "Testing time: =   4 ms\n"
     ]
    }
   ],
   "source": [
    "print(\"Testing time: = %3d ms\" %(endTe-startTe))"
   ]
  },
  {
   "cell_type": "code",
   "execution_count": null,
   "id": "identified-portrait",
   "metadata": {},
   "outputs": [],
   "source": []
  }
 ],
 "metadata": {
  "kernelspec": {
   "display_name": "Python 3.7 (tensorflow2)",
   "language": "python",
   "name": "tensorflow2"
  },
  "language_info": {
   "codemirror_mode": {
    "name": "ipython",
    "version": 3
   },
   "file_extension": ".py",
   "mimetype": "text/x-python",
   "name": "python",
   "nbconvert_exporter": "python",
   "pygments_lexer": "ipython3",
   "version": "3.8.7"
  }
 },
 "nbformat": 4,
 "nbformat_minor": 5
}
