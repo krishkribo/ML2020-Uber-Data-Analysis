{
 "cells": [
  {
   "cell_type": "code",
   "execution_count": 1,
   "id": "independent-development",
   "metadata": {},
   "outputs": [],
   "source": [
    "import numpy as np\n",
    "from matplotlib import pyplot as plt\n",
    "import pandas as pd\n",
    "import os\n",
    "import sys\n",
    "\n",
    "module_path = os.path.abspath(os.path.join('..'))\n",
    "if module_path not in sys.path:\n",
    "    sys.path.append(module_path)\n",
    "\n",
    "# FIX ME: Root dir as argument\n",
    "root_dir = \"../../data/picklerCheckpoints/\"\n",
    "is_compressed = True;"
   ]
  },
  {
   "cell_type": "code",
   "execution_count": 2,
   "id": "burning-convertible",
   "metadata": {},
   "outputs": [
    {
     "name": "stdout",
     "output_type": "stream",
     "text": [
      "Importing Jupyter notebook from D:\\Academics\\MLRepoNew\\ML2020-Uber-Data-Analysis\\Preprocessing\\SpatialMapping.ipynb\n",
      "Importing Jupyter notebook from D:\\Academics\\MLRepoNew\\ML2020-Uber-Data-Analysis\\commons\\utility\\pickle_util.ipynb\n",
      "Importing Jupyter notebook from D:\\Academics\\MLRepoNew\\ML2020-Uber-Data-Analysis\\Preprocessing\\DataEnrichment.ipynb\n",
      "Importing Jupyter notebook from D:\\Academics\\MLRepoNew\\ML2020-Uber-Data-Analysis\\Preprocessing\\Discretization.ipynb\n"
     ]
    }
   ],
   "source": [
    "import nbimporter\n",
    "import Preprocessing.SpatialMapping as sm\n",
    "import Preprocessing.Discretization as dis\n",
    "import time\n",
    "import math\n",
    "import seaborn as sns"
   ]
  },
  {
   "cell_type": "code",
   "execution_count": 3,
   "id": "weird-impossible",
   "metadata": {},
   "outputs": [
    {
     "name": "stdout",
     "output_type": "stream",
     "text": [
      "Data for the month :apr Found.....\n",
      "++++++++++++++++++++++++++++++++++++++++++++++++++++++++++++++++++++++++++++++++++++++++++++++++++++\n",
      "Loading file ../data/picklerCheckpoints/spatialJoinData/uber-spatial-data-apr14.p\n",
      "Decompressing ../data/picklerCheckpoints/spatialJoinData/uber-spatial-data-apr14.p.pbz2..............Done\n",
      "++++++++++++++++++++++++++++++++++++++++++++++++++++++++++++++++++++++++++++++++++++++++++++++++++++\n",
      "\n",
      "Data for the month :may Found.....\n",
      "++++++++++++++++++++++++++++++++++++++++++++++++++++++++++++++++++++++++++++++++++++++++++++++++++++\n",
      "Loading file ../data/picklerCheckpoints/spatialJoinData/uber-spatial-data-may14.p\n",
      "Decompressing ../data/picklerCheckpoints/spatialJoinData/uber-spatial-data-may14.p.pbz2..............Done\n",
      "++++++++++++++++++++++++++++++++++++++++++++++++++++++++++++++++++++++++++++++++++++++++++++++++++++\n",
      "\n"
     ]
    }
   ],
   "source": [
    "data = sm.run(['jun', 'jul'])"
   ]
  },
  {
   "cell_type": "code",
   "execution_count": 4,
   "id": "overall-pearl",
   "metadata": {},
   "outputs": [],
   "source": [
    "df = data.copy()\n",
    "columns = ['datetime', 'zone', 'weatherCondition', 'humidity', 'pressure', 'temperature', 'windDirection', 'windSpeed', 'holiday']"
   ]
  },
  {
   "cell_type": "code",
   "execution_count": 5,
   "id": "champion-soccer",
   "metadata": {},
   "outputs": [
    {
     "name": "stderr",
     "output_type": "stream",
     "text": [
      "D:\\Academics\\MLRepoNew\\ML2020-Uber-Data-Analysis\\Preprocessing\\Discretization.ipynb:7: SettingWithCopyWarning: \n",
      "A value is trying to be set on a copy of a slice from a DataFrame.\n",
      "Try using .loc[row_indexer,col_indexer] = value instead\n",
      "\n",
      "See the caveats in the documentation: https://pandas.pydata.org/pandas-docs/stable/user_guide/indexing.html#returning-a-view-versus-a-copy\n",
      "  \"metadata\": {},\n"
     ]
    },
    {
     "name": "stdout",
     "output_type": "stream",
     "text": [
      "Result Saved in ../data/encodedMappings/zone.p\n",
      "Result Saved in ../data/encodedMappings/weatherCondition.p\n",
      "Result Saved in ../data/encodedMappings/holiday.p\n"
     ]
    }
   ],
   "source": [
    "df2 = df[columns]\n",
    "df2g = dis.encode(df2, ['zone', 'weatherCondition', 'holiday'])\n",
    "df2g = df2.groupby(columns).size().reset_index(name='counts')\n",
    "df2g['datetime'] = pd.to_datetime(df2g['datetime'], format='%m-%d-%Y:%H').apply(lambda x: time.mktime(x.timetuple()))"
   ]
  },
  {
   "cell_type": "code",
   "execution_count": 6,
   "id": "permanent-diameter",
   "metadata": {},
   "outputs": [],
   "source": [
    "from sklearn.preprocessing import MinMaxScaler\n",
    "counts = df2g['counts'].copy()\n",
    "datetime = df2g['datetime'].copy()"
   ]
  },
  {
   "cell_type": "code",
   "execution_count": 7,
   "id": "naval-round",
   "metadata": {},
   "outputs": [
    {
     "data": {
      "text/html": [
       "<div>\n",
       "<style scoped>\n",
       "    .dataframe tbody tr th:only-of-type {\n",
       "        vertical-align: middle;\n",
       "    }\n",
       "\n",
       "    .dataframe tbody tr th {\n",
       "        vertical-align: top;\n",
       "    }\n",
       "\n",
       "    .dataframe thead th {\n",
       "        text-align: right;\n",
       "    }\n",
       "</style>\n",
       "<table border=\"1\" class=\"dataframe\">\n",
       "  <thead>\n",
       "    <tr style=\"text-align: right;\">\n",
       "      <th></th>\n",
       "      <th>datetime</th>\n",
       "      <th>zone</th>\n",
       "      <th>weatherCondition</th>\n",
       "      <th>humidity</th>\n",
       "      <th>pressure</th>\n",
       "      <th>temperature</th>\n",
       "      <th>windDirection</th>\n",
       "      <th>windSpeed</th>\n",
       "      <th>holiday</th>\n",
       "      <th>counts</th>\n",
       "    </tr>\n",
       "  </thead>\n",
       "  <tbody>\n",
       "    <tr>\n",
       "      <th>0</th>\n",
       "      <td>1.396291e+09</td>\n",
       "      <td>10</td>\n",
       "      <td>11</td>\n",
       "      <td>40.0</td>\n",
       "      <td>1016.0</td>\n",
       "      <td>282.96</td>\n",
       "      <td>330.0</td>\n",
       "      <td>5.0</td>\n",
       "      <td>1</td>\n",
       "      <td>3</td>\n",
       "    </tr>\n",
       "    <tr>\n",
       "      <th>1</th>\n",
       "      <td>1.396291e+09</td>\n",
       "      <td>11</td>\n",
       "      <td>11</td>\n",
       "      <td>40.0</td>\n",
       "      <td>1016.0</td>\n",
       "      <td>282.96</td>\n",
       "      <td>330.0</td>\n",
       "      <td>5.0</td>\n",
       "      <td>1</td>\n",
       "      <td>1</td>\n",
       "    </tr>\n",
       "    <tr>\n",
       "      <th>2</th>\n",
       "      <td>1.396291e+09</td>\n",
       "      <td>14</td>\n",
       "      <td>11</td>\n",
       "      <td>40.0</td>\n",
       "      <td>1016.0</td>\n",
       "      <td>282.96</td>\n",
       "      <td>330.0</td>\n",
       "      <td>5.0</td>\n",
       "      <td>1</td>\n",
       "      <td>2</td>\n",
       "    </tr>\n",
       "    <tr>\n",
       "      <th>3</th>\n",
       "      <td>1.396291e+09</td>\n",
       "      <td>22</td>\n",
       "      <td>11</td>\n",
       "      <td>40.0</td>\n",
       "      <td>1016.0</td>\n",
       "      <td>282.96</td>\n",
       "      <td>330.0</td>\n",
       "      <td>5.0</td>\n",
       "      <td>1</td>\n",
       "      <td>1</td>\n",
       "    </tr>\n",
       "    <tr>\n",
       "      <th>4</th>\n",
       "      <td>1.396291e+09</td>\n",
       "      <td>25</td>\n",
       "      <td>11</td>\n",
       "      <td>40.0</td>\n",
       "      <td>1016.0</td>\n",
       "      <td>282.96</td>\n",
       "      <td>330.0</td>\n",
       "      <td>5.0</td>\n",
       "      <td>1</td>\n",
       "      <td>1</td>\n",
       "    </tr>\n",
       "    <tr>\n",
       "      <th>...</th>\n",
       "      <td>...</td>\n",
       "      <td>...</td>\n",
       "      <td>...</td>\n",
       "      <td>...</td>\n",
       "      <td>...</td>\n",
       "      <td>...</td>\n",
       "      <td>...</td>\n",
       "      <td>...</td>\n",
       "      <td>...</td>\n",
       "      <td>...</td>\n",
       "    </tr>\n",
       "    <tr>\n",
       "      <th>175073</th>\n",
       "      <td>1.401557e+09</td>\n",
       "      <td>251</td>\n",
       "      <td>11</td>\n",
       "      <td>43.0</td>\n",
       "      <td>1023.0</td>\n",
       "      <td>292.80</td>\n",
       "      <td>30.0</td>\n",
       "      <td>5.0</td>\n",
       "      <td>2</td>\n",
       "      <td>3</td>\n",
       "    </tr>\n",
       "    <tr>\n",
       "      <th>175074</th>\n",
       "      <td>1.401557e+09</td>\n",
       "      <td>254</td>\n",
       "      <td>11</td>\n",
       "      <td>43.0</td>\n",
       "      <td>1023.0</td>\n",
       "      <td>292.80</td>\n",
       "      <td>30.0</td>\n",
       "      <td>5.0</td>\n",
       "      <td>2</td>\n",
       "      <td>5</td>\n",
       "    </tr>\n",
       "    <tr>\n",
       "      <th>175075</th>\n",
       "      <td>1.401557e+09</td>\n",
       "      <td>255</td>\n",
       "      <td>11</td>\n",
       "      <td>43.0</td>\n",
       "      <td>1023.0</td>\n",
       "      <td>292.80</td>\n",
       "      <td>30.0</td>\n",
       "      <td>5.0</td>\n",
       "      <td>2</td>\n",
       "      <td>8</td>\n",
       "    </tr>\n",
       "    <tr>\n",
       "      <th>175076</th>\n",
       "      <td>1.401557e+09</td>\n",
       "      <td>256</td>\n",
       "      <td>11</td>\n",
       "      <td>43.0</td>\n",
       "      <td>1023.0</td>\n",
       "      <td>292.80</td>\n",
       "      <td>30.0</td>\n",
       "      <td>5.0</td>\n",
       "      <td>2</td>\n",
       "      <td>11</td>\n",
       "    </tr>\n",
       "    <tr>\n",
       "      <th>175077</th>\n",
       "      <td>1.401557e+09</td>\n",
       "      <td>257</td>\n",
       "      <td>11</td>\n",
       "      <td>43.0</td>\n",
       "      <td>1023.0</td>\n",
       "      <td>292.80</td>\n",
       "      <td>30.0</td>\n",
       "      <td>5.0</td>\n",
       "      <td>2</td>\n",
       "      <td>22</td>\n",
       "    </tr>\n",
       "  </tbody>\n",
       "</table>\n",
       "<p>175078 rows × 10 columns</p>\n",
       "</div>"
      ],
      "text/plain": [
       "            datetime  zone  weatherCondition  humidity  pressure  temperature  \\\n",
       "0       1.396291e+09    10                11      40.0    1016.0       282.96   \n",
       "1       1.396291e+09    11                11      40.0    1016.0       282.96   \n",
       "2       1.396291e+09    14                11      40.0    1016.0       282.96   \n",
       "3       1.396291e+09    22                11      40.0    1016.0       282.96   \n",
       "4       1.396291e+09    25                11      40.0    1016.0       282.96   \n",
       "...              ...   ...               ...       ...       ...          ...   \n",
       "175073  1.401557e+09   251                11      43.0    1023.0       292.80   \n",
       "175074  1.401557e+09   254                11      43.0    1023.0       292.80   \n",
       "175075  1.401557e+09   255                11      43.0    1023.0       292.80   \n",
       "175076  1.401557e+09   256                11      43.0    1023.0       292.80   \n",
       "175077  1.401557e+09   257                11      43.0    1023.0       292.80   \n",
       "\n",
       "        windDirection  windSpeed  holiday  counts  \n",
       "0               330.0        5.0        1       3  \n",
       "1               330.0        5.0        1       1  \n",
       "2               330.0        5.0        1       2  \n",
       "3               330.0        5.0        1       1  \n",
       "4               330.0        5.0        1       1  \n",
       "...               ...        ...      ...     ...  \n",
       "175073           30.0        5.0        2       3  \n",
       "175074           30.0        5.0        2       5  \n",
       "175075           30.0        5.0        2       8  \n",
       "175076           30.0        5.0        2      11  \n",
       "175077           30.0        5.0        2      22  \n",
       "\n",
       "[175078 rows x 10 columns]"
      ]
     },
     "execution_count": 7,
     "metadata": {},
     "output_type": "execute_result"
    }
   ],
   "source": [
    "df2g"
   ]
  },
  {
   "cell_type": "code",
   "execution_count": 8,
   "id": "structured-trailer",
   "metadata": {},
   "outputs": [],
   "source": [
    "scaler = MinMaxScaler() \n",
    "scaled_values = scaler.fit_transform(df2g) \n",
    "df2g.loc[:,:] = scaled_values\n",
    "df2g['counts'] = counts\n",
    "df2g['datetime'] = datetime"
   ]
  },
  {
   "cell_type": "code",
   "execution_count": 9,
   "id": "sustained-ethiopia",
   "metadata": {},
   "outputs": [],
   "source": [
    "bins = [0, 10, 50, np.inf]\n",
    "names = ['low', 'med', 'high']\n",
    "\n",
    "df2g['label'] = pd.cut(df2g['counts'], bins, labels=names)"
   ]
  },
  {
   "cell_type": "code",
   "execution_count": null,
   "id": "little-journalist",
   "metadata": {},
   "outputs": [],
   "source": []
  },
  {
   "cell_type": "code",
   "execution_count": 10,
   "id": "organized-robertson",
   "metadata": {},
   "outputs": [
    {
     "name": "stdout",
     "output_type": "stream",
     "text": [
      "Result Saved in ../data/encodedMappings/label.p\n"
     ]
    }
   ],
   "source": [
    "df2g = dis.encode(df2g, ['label'])"
   ]
  },
  {
   "cell_type": "code",
   "execution_count": 11,
   "id": "sorted-xerox",
   "metadata": {},
   "outputs": [
    {
     "data": {
      "image/png": "[encoded data removed]",
      "text/plain": [
       "<Figure size 864x720 with 2 Axes>"
      ]
     },
     "metadata": {
      "needs_background": "light"
     },
     "output_type": "display_data"
    }
   ],
   "source": [
    "plt.figure(figsize=(12,10))\n",
    "corrCols = columns.copy()\n",
    "corrCols.append('label')\n",
    "cor = df2g[corrCols].corr()\n",
    "sns.heatmap(cor, annot=True, cmap=plt.cm.Reds)\n",
    "plt.show()"
   ]
  },
  {
   "cell_type": "code",
   "execution_count": 12,
   "id": "proud-luxembourg",
   "metadata": {},
   "outputs": [
    {
     "data": {
      "text/plain": [
       "label    1.0\n",
       "Name: label, dtype: float64"
      ]
     },
     "execution_count": 12,
     "metadata": {},
     "output_type": "execute_result"
    }
   ],
   "source": [
    "#Correlation with output variable\n",
    "cor_target = abs(cor[\"label\"])\n",
    "#Selecting highly correlated features\n",
    "relevant_features = cor_target[cor_target>0.5]\n",
    "relevant_features"
   ]
  },
  {
   "cell_type": "code",
   "execution_count": 13,
   "id": "coordinate-pension",
   "metadata": {},
   "outputs": [],
   "source": [
    "class0, class1, class2 = df2g['label'].value_counts()"
   ]
  },
  {
   "cell_type": "code",
   "execution_count": 14,
   "id": "horizontal-military",
   "metadata": {},
   "outputs": [],
   "source": [
    "from imblearn.over_sampling import RandomOverSampler\n",
    "from imblearn.under_sampling import RandomUnderSampler\n",
    "ros = RandomUnderSampler(random_state=101)"
   ]
  },
  {
   "cell_type": "code",
   "execution_count": 15,
   "id": "lesser-mother",
   "metadata": {},
   "outputs": [],
   "source": [
    "x_ros, y_ros = ros.fit_resample(df2g[columns], df2g['label'])"
   ]
  },
  {
   "cell_type": "code",
   "execution_count": 16,
   "id": "vanilla-heaven",
   "metadata": {},
   "outputs": [
    {
     "data": {
      "text/plain": [
       "11133"
      ]
     },
     "execution_count": 16,
     "metadata": {},
     "output_type": "execute_result"
    }
   ],
   "source": [
    "class2"
   ]
  },
  {
   "cell_type": "code",
   "execution_count": 17,
   "id": "short-translator",
   "metadata": {},
   "outputs": [],
   "source": [
    "from sklearn.model_selection import train_test_split"
   ]
  },
  {
   "cell_type": "code",
   "execution_count": 18,
   "id": "disciplinary-oakland",
   "metadata": {},
   "outputs": [],
   "source": [
    "X_train, X_test, y_train, y_test = train_test_split( x_ros, y_ros, test_size=0.33, random_state=100)"
   ]
  },
  {
   "cell_type": "code",
   "execution_count": 19,
   "id": "constant-hopkins",
   "metadata": {},
   "outputs": [],
   "source": [
    "from sklearn.linear_model import LinearRegression\n",
    "from sklearn.linear_model import Ridge"
   ]
  },
  {
   "cell_type": "code",
   "execution_count": 20,
   "id": "relevant-thunder",
   "metadata": {},
   "outputs": [],
   "source": [
    "model = LinearRegression()\n",
    "trained = model.fit(X_train, y_train)"
   ]
  },
  {
   "cell_type": "code",
   "execution_count": 21,
   "id": "smooth-proceeding",
   "metadata": {},
   "outputs": [],
   "source": [
    "x_predict = model.predict(X_test).astype(int)"
   ]
  },
  {
   "cell_type": "code",
   "execution_count": 22,
   "id": "integrated-intensity",
   "metadata": {},
   "outputs": [],
   "source": [
    "# x_predictdf = pd.DataFrame(x_predict, columns =['counts'])\n",
    "# x_predictdf['label'] = pd.cut(x_predictdf['counts'], bins, labels=names)\n",
    "# x_predictdf = dis.encode(x_predictdf, ['label'])\n"
   ]
  },
  {
   "cell_type": "code",
   "execution_count": 23,
   "id": "better-jaguar",
   "metadata": {},
   "outputs": [],
   "source": [
    "# y_testdf = pd.DataFrame(y_test, columns =['counts'])\n",
    "# y_testdf['label'] = pd.cut(y_testdf['counts'], bins, labels=names)\n",
    "# y_testdf = dis.encode(y_testdf, ['label'])\n"
   ]
  },
  {
   "cell_type": "code",
   "execution_count": 24,
   "id": "nervous-payroll",
   "metadata": {},
   "outputs": [
    {
     "data": {
      "text/html": [
       "<div>\n",
       "<style scoped>\n",
       "    .dataframe tbody tr th:only-of-type {\n",
       "        vertical-align: middle;\n",
       "    }\n",
       "\n",
       "    .dataframe tbody tr th {\n",
       "        vertical-align: top;\n",
       "    }\n",
       "\n",
       "    .dataframe thead th {\n",
       "        text-align: right;\n",
       "    }\n",
       "</style>\n",
       "<table border=\"1\" class=\"dataframe\">\n",
       "  <thead>\n",
       "    <tr style=\"text-align: right;\">\n",
       "      <th></th>\n",
       "      <th>datetime</th>\n",
       "      <th>zone</th>\n",
       "      <th>weatherCondition</th>\n",
       "      <th>humidity</th>\n",
       "      <th>pressure</th>\n",
       "      <th>temperature</th>\n",
       "      <th>windDirection</th>\n",
       "      <th>windSpeed</th>\n",
       "      <th>holiday</th>\n",
       "    </tr>\n",
       "  </thead>\n",
       "  <tbody>\n",
       "    <tr>\n",
       "      <th>31500</th>\n",
       "      <td>1.396917e+09</td>\n",
       "      <td>0.684825</td>\n",
       "      <td>0.466667</td>\n",
       "      <td>0.922222</td>\n",
       "      <td>0.148936</td>\n",
       "      <td>0.279160</td>\n",
       "      <td>0.138889</td>\n",
       "      <td>0.166667</td>\n",
       "      <td>0.5</td>\n",
       "    </tr>\n",
       "    <tr>\n",
       "      <th>28892</th>\n",
       "      <td>1.397900e+09</td>\n",
       "      <td>0.322957</td>\n",
       "      <td>0.000000</td>\n",
       "      <td>0.211111</td>\n",
       "      <td>0.617021</td>\n",
       "      <td>0.514055</td>\n",
       "      <td>0.888889</td>\n",
       "      <td>0.333333</td>\n",
       "      <td>1.0</td>\n",
       "    </tr>\n",
       "    <tr>\n",
       "      <th>25125</th>\n",
       "      <td>1.396489e+09</td>\n",
       "      <td>0.373541</td>\n",
       "      <td>0.666667</td>\n",
       "      <td>0.922222</td>\n",
       "      <td>0.489362</td>\n",
       "      <td>0.206785</td>\n",
       "      <td>0.083333</td>\n",
       "      <td>0.166667</td>\n",
       "      <td>0.5</td>\n",
       "    </tr>\n",
       "    <tr>\n",
       "      <th>32078</th>\n",
       "      <td>1.400006e+09</td>\n",
       "      <td>0.291829</td>\n",
       "      <td>0.733333</td>\n",
       "      <td>0.722222</td>\n",
       "      <td>0.574468</td>\n",
       "      <td>0.532795</td>\n",
       "      <td>0.330556</td>\n",
       "      <td>0.250000</td>\n",
       "      <td>0.5</td>\n",
       "    </tr>\n",
       "    <tr>\n",
       "      <th>23579</th>\n",
       "      <td>1.401035e+09</td>\n",
       "      <td>0.536965</td>\n",
       "      <td>0.466667</td>\n",
       "      <td>0.200000</td>\n",
       "      <td>0.425532</td>\n",
       "      <td>0.864943</td>\n",
       "      <td>0.000000</td>\n",
       "      <td>0.250000</td>\n",
       "      <td>1.0</td>\n",
       "    </tr>\n",
       "    <tr>\n",
       "      <th>...</th>\n",
       "      <td>...</td>\n",
       "      <td>...</td>\n",
       "      <td>...</td>\n",
       "      <td>...</td>\n",
       "      <td>...</td>\n",
       "      <td>...</td>\n",
       "      <td>...</td>\n",
       "      <td>...</td>\n",
       "      <td>...</td>\n",
       "    </tr>\n",
       "    <tr>\n",
       "      <th>25166</th>\n",
       "      <td>1.400405e+09</td>\n",
       "      <td>0.525292</td>\n",
       "      <td>0.466667</td>\n",
       "      <td>0.488889</td>\n",
       "      <td>0.531915</td>\n",
       "      <td>0.564782</td>\n",
       "      <td>0.197222</td>\n",
       "      <td>0.166667</td>\n",
       "      <td>1.0</td>\n",
       "    </tr>\n",
       "    <tr>\n",
       "      <th>28166</th>\n",
       "      <td>1.399012e+09</td>\n",
       "      <td>0.322957</td>\n",
       "      <td>0.466667</td>\n",
       "      <td>0.866667</td>\n",
       "      <td>0.531915</td>\n",
       "      <td>0.459370</td>\n",
       "      <td>0.800000</td>\n",
       "      <td>0.083333</td>\n",
       "      <td>0.5</td>\n",
       "    </tr>\n",
       "    <tr>\n",
       "      <th>32149</th>\n",
       "      <td>1.400024e+09</td>\n",
       "      <td>0.525292</td>\n",
       "      <td>0.066667</td>\n",
       "      <td>0.711111</td>\n",
       "      <td>0.617021</td>\n",
       "      <td>0.386753</td>\n",
       "      <td>0.208333</td>\n",
       "      <td>0.166667</td>\n",
       "      <td>0.5</td>\n",
       "    </tr>\n",
       "    <tr>\n",
       "      <th>23735</th>\n",
       "      <td>1.398965e+09</td>\n",
       "      <td>0.607004</td>\n",
       "      <td>0.333333</td>\n",
       "      <td>0.911111</td>\n",
       "      <td>0.489362</td>\n",
       "      <td>0.549155</td>\n",
       "      <td>0.563889</td>\n",
       "      <td>0.166667</td>\n",
       "      <td>0.5</td>\n",
       "    </tr>\n",
       "    <tr>\n",
       "      <th>27396</th>\n",
       "      <td>1.399736e+09</td>\n",
       "      <td>0.529183</td>\n",
       "      <td>0.600000</td>\n",
       "      <td>0.600000</td>\n",
       "      <td>0.297872</td>\n",
       "      <td>0.758320</td>\n",
       "      <td>0.858333</td>\n",
       "      <td>0.083333</td>\n",
       "      <td>1.0</td>\n",
       "    </tr>\n",
       "  </tbody>\n",
       "</table>\n",
       "<p>3711 rows × 9 columns</p>\n",
       "</div>"
      ],
      "text/plain": [
       "           datetime      zone  weatherCondition  humidity  pressure  \\\n",
       "31500  1.396917e+09  0.684825          0.466667  0.922222  0.148936   \n",
       "28892  1.397900e+09  0.322957          0.000000  0.211111  0.617021   \n",
       "25125  1.396489e+09  0.373541          0.666667  0.922222  0.489362   \n",
       "32078  1.400006e+09  0.291829          0.733333  0.722222  0.574468   \n",
       "23579  1.401035e+09  0.536965          0.466667  0.200000  0.425532   \n",
       "...             ...       ...               ...       ...       ...   \n",
       "25166  1.400405e+09  0.525292          0.466667  0.488889  0.531915   \n",
       "28166  1.399012e+09  0.322957          0.466667  0.866667  0.531915   \n",
       "32149  1.400024e+09  0.525292          0.066667  0.711111  0.617021   \n",
       "23735  1.398965e+09  0.607004          0.333333  0.911111  0.489362   \n",
       "27396  1.399736e+09  0.529183          0.600000  0.600000  0.297872   \n",
       "\n",
       "       temperature  windDirection  windSpeed  holiday  \n",
       "31500     0.279160       0.138889   0.166667      0.5  \n",
       "28892     0.514055       0.888889   0.333333      1.0  \n",
       "25125     0.206785       0.083333   0.166667      0.5  \n",
       "32078     0.532795       0.330556   0.250000      0.5  \n",
       "23579     0.864943       0.000000   0.250000      1.0  \n",
       "...            ...            ...        ...      ...  \n",
       "25166     0.564782       0.197222   0.166667      1.0  \n",
       "28166     0.459370       0.800000   0.083333      0.5  \n",
       "32149     0.386753       0.208333   0.166667      0.5  \n",
       "23735     0.549155       0.563889   0.166667      0.5  \n",
       "27396     0.758320       0.858333   0.083333      1.0  \n",
       "\n",
       "[3711 rows x 9 columns]"
      ]
     },
     "execution_count": 24,
     "metadata": {},
     "output_type": "execute_result"
    }
   ],
   "source": [
    "X_test[y_test==2]"
   ]
  },
  {
   "cell_type": "code",
   "execution_count": 25,
   "id": "undefined-elimination",
   "metadata": {},
   "outputs": [],
   "source": [
    "from sklearn import metrics"
   ]
  },
  {
   "cell_type": "code",
   "execution_count": 26,
   "id": "silent-niagara",
   "metadata": {},
   "outputs": [
    {
     "name": "stdout",
     "output_type": "stream",
     "text": [
      "0.7514062783523862\n",
      "1.0713119216113227\n",
      "-0.5965519090769065\n"
     ]
    }
   ],
   "source": [
    "print(metrics.mean_absolute_error(y_test, x_predict))\n",
    "print(metrics.mean_squared_error(y_test, x_predict))\n",
    "print(metrics.r2_score(y_test, x_predict))"
   ]
  },
  {
   "cell_type": "code",
   "execution_count": 27,
   "id": "distant-viking",
   "metadata": {},
   "outputs": [],
   "source": [
    "# print(metrics.mean_absolute_error(y_testdf['label'], x_predictdf['label']))\n",
    "# print(metrics.mean_squared_error(y_testdf['label'], x_predictdf['label']))\n",
    "# print(metrics.r2_score(y_testdf['label'], x_predictdf['label']))"
   ]
  },
  {
   "cell_type": "code",
   "execution_count": 28,
   "id": "vocational-avatar",
   "metadata": {},
   "outputs": [],
   "source": [
    "from sklearn.metrics import classification_report"
   ]
  },
  {
   "cell_type": "code",
   "execution_count": 29,
   "id": "nearby-average",
   "metadata": {},
   "outputs": [
    {
     "name": "stdout",
     "output_type": "stream",
     "text": [
      "              precision    recall  f1-score   support\n",
      "\n",
      "           0       0.42      0.67      0.52      3685\n",
      "           1       0.39      0.56      0.46      3626\n",
      "           2       0.00      0.00      0.00      3711\n",
      "\n",
      "    accuracy                           0.41     11022\n",
      "   macro avg       0.27      0.41      0.33     11022\n",
      "weighted avg       0.27      0.41      0.33     11022\n",
      "\n"
     ]
    },
    {
     "name": "stderr",
     "output_type": "stream",
     "text": [
      "D:\\Anaconda\\envs\\tensorflow\\lib\\site-packages\\sklearn\\metrics\\_classification.py:1245: UndefinedMetricWarning: Precision and F-score are ill-defined and being set to 0.0 in labels with no predicted samples. Use `zero_division` parameter to control this behavior.\n",
      "  _warn_prf(average, modifier, msg_start, len(result))\n",
      "D:\\Anaconda\\envs\\tensorflow\\lib\\site-packages\\sklearn\\metrics\\_classification.py:1245: UndefinedMetricWarning: Precision and F-score are ill-defined and being set to 0.0 in labels with no predicted samples. Use `zero_division` parameter to control this behavior.\n",
      "  _warn_prf(average, modifier, msg_start, len(result))\n",
      "D:\\Anaconda\\envs\\tensorflow\\lib\\site-packages\\sklearn\\metrics\\_classification.py:1245: UndefinedMetricWarning: Precision and F-score are ill-defined and being set to 0.0 in labels with no predicted samples. Use `zero_division` parameter to control this behavior.\n",
      "  _warn_prf(average, modifier, msg_start, len(result))\n"
     ]
    }
   ],
   "source": [
    "report = classification_report(y_test, x_predict)\n",
    "print(report)"
   ]
  },
  {
   "cell_type": "code",
   "execution_count": 30,
   "id": "animal-prediction",
   "metadata": {},
   "outputs": [],
   "source": [
    "# report = classification_report(y_testdf['label'],  x_predictdf['label'])\n",
    "# print(report)"
   ]
  },
  {
   "cell_type": "code",
   "execution_count": 31,
   "id": "typical-punch",
   "metadata": {},
   "outputs": [],
   "source": [
    "from sklearn.decomposition import PCA"
   ]
  },
  {
   "cell_type": "code",
   "execution_count": 32,
   "id": "enabling-heather",
   "metadata": {},
   "outputs": [],
   "source": [
    "pca = PCA(n_components=2)"
   ]
  },
  {
   "cell_type": "code",
   "execution_count": 33,
   "id": "going-reporter",
   "metadata": {},
   "outputs": [
    {
     "data": {
      "text/plain": [
       "PCA(n_components=2)"
      ]
     },
     "execution_count": 33,
     "metadata": {},
     "output_type": "execute_result"
    }
   ],
   "source": [
    "pca.fit(X_train)"
   ]
  },
  {
   "cell_type": "code",
   "execution_count": 34,
   "id": "grave-merchandise",
   "metadata": {},
   "outputs": [
    {
     "name": "stdout",
     "output_type": "stream",
     "text": [
      "[1.00000000e+00 4.90191442e-14]\n"
     ]
    }
   ],
   "source": [
    "print(pca.explained_variance_ratio_)"
   ]
  },
  {
   "cell_type": "code",
   "execution_count": 35,
   "id": "derived-scheduling",
   "metadata": {},
   "outputs": [
    {
     "name": "stdout",
     "output_type": "stream",
     "text": [
      "[2.25305374e+08 4.98832124e+01]\n"
     ]
    }
   ],
   "source": [
    "print(pca.singular_values_)"
   ]
  },
  {
   "cell_type": "code",
   "execution_count": 36,
   "id": "occasional-password",
   "metadata": {},
   "outputs": [],
   "source": [
    "transformed = pd.DataFrame(pca.fit_transform(X_train))\n"
   ]
  },
  {
   "cell_type": "code",
   "execution_count": 37,
   "id": "novel-basin",
   "metadata": {},
   "outputs": [
    {
     "data": {
      "text/plain": [
       "[<matplotlib.lines.Line2D at 0x2b1f84b23c8>,\n",
       " <matplotlib.lines.Line2D at 0x2b1f61d82c8>,\n",
       " <matplotlib.lines.Line2D at 0x2b1f61cb4c8>,\n",
       " <matplotlib.lines.Line2D at 0x2b1f61cb3c8>,\n",
       " <matplotlib.lines.Line2D at 0x2b1f61cb248>,\n",
       " <matplotlib.lines.Line2D at 0x2b1f61c8f88>,\n",
       " <matplotlib.lines.Line2D at 0x2b1f61c8d08>,\n",
       " <matplotlib.lines.Line2D at 0x2b1f61c8a88>,\n",
       " <matplotlib.lines.Line2D at 0x2b1f61c8808>]"
      ]
     },
     "execution_count": 37,
     "metadata": {},
     "output_type": "execute_result"
    },
    {
     "data": {
      "image/png": "[encoded data removed]",
      "text/plain": [
       "<Figure size 432x288 with 1 Axes>"
      ]
     },
     "metadata": {
      "needs_background": "light"
     },
     "output_type": "display_data"
    }
   ],
   "source": [
    "plt.plot(X_test, x_predict, color='blue', linewidth=3)"
   ]
  },
  {
   "cell_type": "code",
   "execution_count": 38,
   "id": "color-compatibility",
   "metadata": {},
   "outputs": [
    {
     "data": {
      "text/html": [
       "<div>\n",
       "<style scoped>\n",
       "    .dataframe tbody tr th:only-of-type {\n",
       "        vertical-align: middle;\n",
       "    }\n",
       "\n",
       "    .dataframe tbody tr th {\n",
       "        vertical-align: top;\n",
       "    }\n",
       "\n",
       "    .dataframe thead th {\n",
       "        text-align: right;\n",
       "    }\n",
       "</style>\n",
       "<table border=\"1\" class=\"dataframe\">\n",
       "  <thead>\n",
       "    <tr style=\"text-align: right;\">\n",
       "      <th></th>\n",
       "      <th>datetime</th>\n",
       "      <th>zone</th>\n",
       "      <th>weatherCondition</th>\n",
       "      <th>humidity</th>\n",
       "      <th>pressure</th>\n",
       "      <th>temperature</th>\n",
       "      <th>windDirection</th>\n",
       "      <th>windSpeed</th>\n",
       "      <th>holiday</th>\n",
       "    </tr>\n",
       "  </thead>\n",
       "  <tbody>\n",
       "    <tr>\n",
       "      <th>31500</th>\n",
       "      <td>1.396917e+09</td>\n",
       "      <td>0.684825</td>\n",
       "      <td>0.466667</td>\n",
       "      <td>0.922222</td>\n",
       "      <td>0.148936</td>\n",
       "      <td>0.279160</td>\n",
       "      <td>0.138889</td>\n",
       "      <td>0.166667</td>\n",
       "      <td>0.5</td>\n",
       "    </tr>\n",
       "    <tr>\n",
       "      <th>18995</th>\n",
       "      <td>1.400888e+09</td>\n",
       "      <td>0.867704</td>\n",
       "      <td>0.533333</td>\n",
       "      <td>0.944444</td>\n",
       "      <td>0.297872</td>\n",
       "      <td>0.503716</td>\n",
       "      <td>0.980556</td>\n",
       "      <td>0.083333</td>\n",
       "      <td>1.0</td>\n",
       "    </tr>\n",
       "    <tr>\n",
       "      <th>14545</th>\n",
       "      <td>1.400384e+09</td>\n",
       "      <td>0.824903</td>\n",
       "      <td>0.800000</td>\n",
       "      <td>0.766667</td>\n",
       "      <td>0.489362</td>\n",
       "      <td>0.338611</td>\n",
       "      <td>0.838889</td>\n",
       "      <td>0.000000</td>\n",
       "      <td>1.0</td>\n",
       "    </tr>\n",
       "    <tr>\n",
       "      <th>28892</th>\n",
       "      <td>1.397900e+09</td>\n",
       "      <td>0.322957</td>\n",
       "      <td>0.000000</td>\n",
       "      <td>0.211111</td>\n",
       "      <td>0.617021</td>\n",
       "      <td>0.514055</td>\n",
       "      <td>0.888889</td>\n",
       "      <td>0.333333</td>\n",
       "      <td>1.0</td>\n",
       "    </tr>\n",
       "    <tr>\n",
       "      <th>19264</th>\n",
       "      <td>1.396370e+09</td>\n",
       "      <td>0.295720</td>\n",
       "      <td>0.466667</td>\n",
       "      <td>0.400000</td>\n",
       "      <td>0.425532</td>\n",
       "      <td>0.462036</td>\n",
       "      <td>0.444444</td>\n",
       "      <td>0.333333</td>\n",
       "      <td>0.5</td>\n",
       "    </tr>\n",
       "    <tr>\n",
       "      <th>...</th>\n",
       "      <td>...</td>\n",
       "      <td>...</td>\n",
       "      <td>...</td>\n",
       "      <td>...</td>\n",
       "      <td>...</td>\n",
       "      <td>...</td>\n",
       "      <td>...</td>\n",
       "      <td>...</td>\n",
       "      <td>...</td>\n",
       "    </tr>\n",
       "    <tr>\n",
       "      <th>32149</th>\n",
       "      <td>1.400024e+09</td>\n",
       "      <td>0.525292</td>\n",
       "      <td>0.066667</td>\n",
       "      <td>0.711111</td>\n",
       "      <td>0.617021</td>\n",
       "      <td>0.386753</td>\n",
       "      <td>0.208333</td>\n",
       "      <td>0.166667</td>\n",
       "      <td>0.5</td>\n",
       "    </tr>\n",
       "    <tr>\n",
       "      <th>23735</th>\n",
       "      <td>1.398965e+09</td>\n",
       "      <td>0.607004</td>\n",
       "      <td>0.333333</td>\n",
       "      <td>0.911111</td>\n",
       "      <td>0.489362</td>\n",
       "      <td>0.549155</td>\n",
       "      <td>0.563889</td>\n",
       "      <td>0.166667</td>\n",
       "      <td>0.5</td>\n",
       "    </tr>\n",
       "    <tr>\n",
       "      <th>27396</th>\n",
       "      <td>1.399736e+09</td>\n",
       "      <td>0.529183</td>\n",
       "      <td>0.600000</td>\n",
       "      <td>0.600000</td>\n",
       "      <td>0.297872</td>\n",
       "      <td>0.758320</td>\n",
       "      <td>0.858333</td>\n",
       "      <td>0.083333</td>\n",
       "      <td>1.0</td>\n",
       "    </tr>\n",
       "    <tr>\n",
       "      <th>1097</th>\n",
       "      <td>1.396870e+09</td>\n",
       "      <td>0.591440</td>\n",
       "      <td>0.666667</td>\n",
       "      <td>0.477778</td>\n",
       "      <td>0.531915</td>\n",
       "      <td>0.357674</td>\n",
       "      <td>0.361111</td>\n",
       "      <td>0.333333</td>\n",
       "      <td>0.5</td>\n",
       "    </tr>\n",
       "    <tr>\n",
       "      <th>6898</th>\n",
       "      <td>1.399646e+09</td>\n",
       "      <td>0.416342</td>\n",
       "      <td>0.533333</td>\n",
       "      <td>0.922222</td>\n",
       "      <td>0.468085</td>\n",
       "      <td>0.532149</td>\n",
       "      <td>0.480556</td>\n",
       "      <td>0.083333</td>\n",
       "      <td>0.5</td>\n",
       "    </tr>\n",
       "  </tbody>\n",
       "</table>\n",
       "<p>11022 rows × 9 columns</p>\n",
       "</div>"
      ],
      "text/plain": [
       "           datetime      zone  weatherCondition  humidity  pressure  \\\n",
       "31500  1.396917e+09  0.684825          0.466667  0.922222  0.148936   \n",
       "18995  1.400888e+09  0.867704          0.533333  0.944444  0.297872   \n",
       "14545  1.400384e+09  0.824903          0.800000  0.766667  0.489362   \n",
       "28892  1.397900e+09  0.322957          0.000000  0.211111  0.617021   \n",
       "19264  1.396370e+09  0.295720          0.466667  0.400000  0.425532   \n",
       "...             ...       ...               ...       ...       ...   \n",
       "32149  1.400024e+09  0.525292          0.066667  0.711111  0.617021   \n",
       "23735  1.398965e+09  0.607004          0.333333  0.911111  0.489362   \n",
       "27396  1.399736e+09  0.529183          0.600000  0.600000  0.297872   \n",
       "1097   1.396870e+09  0.591440          0.666667  0.477778  0.531915   \n",
       "6898   1.399646e+09  0.416342          0.533333  0.922222  0.468085   \n",
       "\n",
       "       temperature  windDirection  windSpeed  holiday  \n",
       "31500     0.279160       0.138889   0.166667      0.5  \n",
       "18995     0.503716       0.980556   0.083333      1.0  \n",
       "14545     0.338611       0.838889   0.000000      1.0  \n",
       "28892     0.514055       0.888889   0.333333      1.0  \n",
       "19264     0.462036       0.444444   0.333333      0.5  \n",
       "...            ...            ...        ...      ...  \n",
       "32149     0.386753       0.208333   0.166667      0.5  \n",
       "23735     0.549155       0.563889   0.166667      0.5  \n",
       "27396     0.758320       0.858333   0.083333      1.0  \n",
       "1097      0.357674       0.361111   0.333333      0.5  \n",
       "6898      0.532149       0.480556   0.083333      0.5  \n",
       "\n",
       "[11022 rows x 9 columns]"
      ]
     },
     "execution_count": 38,
     "metadata": {},
     "output_type": "execute_result"
    }
   ],
   "source": [
    "X_test"
   ]
  },
  {
   "cell_type": "code",
   "execution_count": 39,
   "id": "progressive-least",
   "metadata": {},
   "outputs": [
    {
     "data": {
      "text/plain": [
       "11022"
      ]
     },
     "execution_count": 39,
     "metadata": {},
     "output_type": "execute_result"
    }
   ],
   "source": [
    "len(x_predict)"
   ]
  },
  {
   "cell_type": "code",
   "execution_count": 40,
   "id": "nutritional-mount",
   "metadata": {},
   "outputs": [
    {
     "name": "stderr",
     "output_type": "stream",
     "text": [
      "No handles with labels found to put in legend.\n"
     ]
    },
    {
     "data": {
      "image/png": "[encoded data removed]",
      "text/plain": [
       "<Figure size 432x288 with 1 Axes>"
      ]
     },
     "metadata": {
      "needs_background": "light"
     },
     "output_type": "display_data"
    }
   ],
   "source": [
    "plt.scatter(transformed[0], transformed[1], alpha=0.7)\n",
    "plt.legend()\n",
    "plt.show()"
   ]
  },
  {
   "cell_type": "code",
   "execution_count": 41,
   "id": "failing-diary",
   "metadata": {},
   "outputs": [
    {
     "data": {
      "text/html": [
       "<div>\n",
       "<style scoped>\n",
       "    .dataframe tbody tr th:only-of-type {\n",
       "        vertical-align: middle;\n",
       "    }\n",
       "\n",
       "    .dataframe tbody tr th {\n",
       "        vertical-align: top;\n",
       "    }\n",
       "\n",
       "    .dataframe thead th {\n",
       "        text-align: right;\n",
       "    }\n",
       "</style>\n",
       "<table border=\"1\" class=\"dataframe\">\n",
       "  <thead>\n",
       "    <tr style=\"text-align: right;\">\n",
       "      <th></th>\n",
       "      <th>datetime</th>\n",
       "      <th>zone</th>\n",
       "      <th>weatherCondition</th>\n",
       "      <th>humidity</th>\n",
       "      <th>pressure</th>\n",
       "      <th>temperature</th>\n",
       "      <th>windDirection</th>\n",
       "      <th>windSpeed</th>\n",
       "      <th>holiday</th>\n",
       "    </tr>\n",
       "  </thead>\n",
       "  <tbody>\n",
       "    <tr>\n",
       "      <th>1080</th>\n",
       "      <td>1.396867e+09</td>\n",
       "      <td>0.871595</td>\n",
       "      <td>0.666667</td>\n",
       "      <td>0.288889</td>\n",
       "      <td>0.553191</td>\n",
       "      <td>0.331179</td>\n",
       "      <td>0.277778</td>\n",
       "      <td>0.250000</td>\n",
       "      <td>0.5</td>\n",
       "    </tr>\n",
       "    <tr>\n",
       "      <th>6269</th>\n",
       "      <td>1.399477e+09</td>\n",
       "      <td>0.249027</td>\n",
       "      <td>0.000000</td>\n",
       "      <td>0.222222</td>\n",
       "      <td>0.531915</td>\n",
       "      <td>0.636511</td>\n",
       "      <td>0.605556</td>\n",
       "      <td>0.166667</td>\n",
       "      <td>0.5</td>\n",
       "    </tr>\n",
       "    <tr>\n",
       "      <th>27732</th>\n",
       "      <td>1.396370e+09</td>\n",
       "      <td>0.992218</td>\n",
       "      <td>0.466667</td>\n",
       "      <td>0.400000</td>\n",
       "      <td>0.425532</td>\n",
       "      <td>0.462036</td>\n",
       "      <td>0.444444</td>\n",
       "      <td>0.333333</td>\n",
       "      <td>0.5</td>\n",
       "    </tr>\n",
       "    <tr>\n",
       "      <th>15013</th>\n",
       "      <td>1.399459e+09</td>\n",
       "      <td>0.031128</td>\n",
       "      <td>0.800000</td>\n",
       "      <td>0.288889</td>\n",
       "      <td>0.574468</td>\n",
       "      <td>0.592569</td>\n",
       "      <td>0.819444</td>\n",
       "      <td>0.083333</td>\n",
       "      <td>0.5</td>\n",
       "    </tr>\n",
       "    <tr>\n",
       "      <th>31218</th>\n",
       "      <td>1.398515e+09</td>\n",
       "      <td>0.564202</td>\n",
       "      <td>0.733333</td>\n",
       "      <td>0.244444</td>\n",
       "      <td>0.212766</td>\n",
       "      <td>0.617124</td>\n",
       "      <td>0.916667</td>\n",
       "      <td>0.333333</td>\n",
       "      <td>1.0</td>\n",
       "    </tr>\n",
       "    <tr>\n",
       "      <th>...</th>\n",
       "      <td>...</td>\n",
       "      <td>...</td>\n",
       "      <td>...</td>\n",
       "      <td>...</td>\n",
       "      <td>...</td>\n",
       "      <td>...</td>\n",
       "      <td>...</td>\n",
       "      <td>...</td>\n",
       "      <td>...</td>\n",
       "    </tr>\n",
       "    <tr>\n",
       "      <th>16734</th>\n",
       "      <td>1.397637e+09</td>\n",
       "      <td>0.097276</td>\n",
       "      <td>0.466667</td>\n",
       "      <td>0.411111</td>\n",
       "      <td>0.659574</td>\n",
       "      <td>0.090145</td>\n",
       "      <td>0.916667</td>\n",
       "      <td>0.666667</td>\n",
       "      <td>0.5</td>\n",
       "    </tr>\n",
       "    <tr>\n",
       "      <th>16304</th>\n",
       "      <td>1.397295e+09</td>\n",
       "      <td>0.988327</td>\n",
       "      <td>0.733333</td>\n",
       "      <td>0.288889</td>\n",
       "      <td>0.595745</td>\n",
       "      <td>0.581583</td>\n",
       "      <td>0.000000</td>\n",
       "      <td>0.000000</td>\n",
       "      <td>1.0</td>\n",
       "    </tr>\n",
       "    <tr>\n",
       "      <th>79</th>\n",
       "      <td>1.396355e+09</td>\n",
       "      <td>0.871595</td>\n",
       "      <td>0.466667</td>\n",
       "      <td>0.277778</td>\n",
       "      <td>0.468085</td>\n",
       "      <td>0.464297</td>\n",
       "      <td>0.000000</td>\n",
       "      <td>0.083333</td>\n",
       "      <td>0.5</td>\n",
       "    </tr>\n",
       "    <tr>\n",
       "      <th>12119</th>\n",
       "      <td>1.398908e+09</td>\n",
       "      <td>0.649805</td>\n",
       "      <td>0.333333</td>\n",
       "      <td>0.922222</td>\n",
       "      <td>0.617021</td>\n",
       "      <td>0.470210</td>\n",
       "      <td>0.480556</td>\n",
       "      <td>0.333333</td>\n",
       "      <td>0.5</td>\n",
       "    </tr>\n",
       "    <tr>\n",
       "      <th>14147</th>\n",
       "      <td>1.398843e+09</td>\n",
       "      <td>0.731518</td>\n",
       "      <td>0.333333</td>\n",
       "      <td>1.000000</td>\n",
       "      <td>0.936170</td>\n",
       "      <td>0.245988</td>\n",
       "      <td>0.250000</td>\n",
       "      <td>0.500000</td>\n",
       "      <td>0.5</td>\n",
       "    </tr>\n",
       "  </tbody>\n",
       "</table>\n",
       "<p>22377 rows × 9 columns</p>\n",
       "</div>"
      ],
      "text/plain": [
       "           datetime      zone  weatherCondition  humidity  pressure  \\\n",
       "1080   1.396867e+09  0.871595          0.666667  0.288889  0.553191   \n",
       "6269   1.399477e+09  0.249027          0.000000  0.222222  0.531915   \n",
       "27732  1.396370e+09  0.992218          0.466667  0.400000  0.425532   \n",
       "15013  1.399459e+09  0.031128          0.800000  0.288889  0.574468   \n",
       "31218  1.398515e+09  0.564202          0.733333  0.244444  0.212766   \n",
       "...             ...       ...               ...       ...       ...   \n",
       "16734  1.397637e+09  0.097276          0.466667  0.411111  0.659574   \n",
       "16304  1.397295e+09  0.988327          0.733333  0.288889  0.595745   \n",
       "79     1.396355e+09  0.871595          0.466667  0.277778  0.468085   \n",
       "12119  1.398908e+09  0.649805          0.333333  0.922222  0.617021   \n",
       "14147  1.398843e+09  0.731518          0.333333  1.000000  0.936170   \n",
       "\n",
       "       temperature  windDirection  windSpeed  holiday  \n",
       "1080      0.331179       0.277778   0.250000      0.5  \n",
       "6269      0.636511       0.605556   0.166667      0.5  \n",
       "27732     0.462036       0.444444   0.333333      0.5  \n",
       "15013     0.592569       0.819444   0.083333      0.5  \n",
       "31218     0.617124       0.916667   0.333333      1.0  \n",
       "...            ...            ...        ...      ...  \n",
       "16734     0.090145       0.916667   0.666667      0.5  \n",
       "16304     0.581583       0.000000   0.000000      1.0  \n",
       "79        0.464297       0.000000   0.083333      0.5  \n",
       "12119     0.470210       0.480556   0.333333      0.5  \n",
       "14147     0.245988       0.250000   0.500000      0.5  \n",
       "\n",
       "[22377 rows x 9 columns]"
      ]
     },
     "execution_count": 41,
     "metadata": {},
     "output_type": "execute_result"
    }
   ],
   "source": [
    "X_train"
   ]
  }
 ],
 "metadata": {
  "kernelspec": {
   "display_name": "Python 3",
   "language": "python",
   "name": "python3"
  },
  "language_info": {
   "codemirror_mode": {
    "name": "ipython",
    "version": 3
   },
   "file_extension": ".py",
   "mimetype": "text/x-python",
   "name": "python",
   "nbconvert_exporter": "python",
   "pygments_lexer": "ipython3",
   "version": "3.7.9"
  }
 },
 "nbformat": 4,
 "nbformat_minor": 5
}
