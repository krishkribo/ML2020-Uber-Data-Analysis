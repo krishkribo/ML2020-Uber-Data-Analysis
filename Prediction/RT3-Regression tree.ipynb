{
 "cells": [
  {
   "cell_type": "code",
   "execution_count": 1,
   "metadata": {},
   "outputs": [],
   "source": [
    "import numpy as np\n",
    "from matplotlib import pyplot as plt\n",
    "import pandas as pd\n",
    "import os\n",
    "import sys\n",
    "\n",
    "module_path = os.path.abspath(os.path.join('..'))\n",
    "if module_path not in sys.path:\n",
    "    sys.path.append(module_path)\n",
    "\n",
    "# FIX ME: Root dir as argument\n",
    "root_dir = \"../../data/picklerCheckpoints/\"\n",
    "is_compressed = True;"
   ]
  },
  {
   "cell_type": "code",
   "execution_count": 2,
   "metadata": {},
   "outputs": [
    {
     "name": "stdout",
     "output_type": "stream",
     "text": [
      "C:\\ProgramData\\Anaconda3\\python.exe\n",
      "3.8.5 (default, Sep  3 2020, 21:29:08) [MSC v.1916 64 bit (AMD64)]\n",
      "sys.version_info(major=3, minor=8, micro=5, releaselevel='final', serial=0)\n"
     ]
    }
   ],
   "source": [
    "import sys\n",
    "print(sys.executable)\n",
    "print(sys.version)\n",
    "print(sys.version_info)"
   ]
  },
  {
   "cell_type": "code",
   "execution_count": 3,
   "metadata": {},
   "outputs": [
    {
     "name": "stdout",
     "output_type": "stream",
     "text": [
      "Importing Jupyter notebook from C:\\Users\\KaavyaaStalinThara\\Downloads\\New folder\\ML2020-Uber-Data-Analysis-main\\Preprocessing\\SpatialMapping.ipynb\n",
      "Importing Jupyter notebook from C:\\Users\\KaavyaaStalinThara\\Downloads\\New folder\\ML2020-Uber-Data-Analysis-main\\commons\\utility\\pickle_util.ipynb\n",
      "Importing Jupyter notebook from C:\\Users\\KaavyaaStalinThara\\Downloads\\New folder\\ML2020-Uber-Data-Analysis-main\\Preprocessing\\DataEnrichment.ipynb\n",
      "Importing Jupyter notebook from C:\\Users\\KaavyaaStalinThara\\Downloads\\New folder\\ML2020-Uber-Data-Analysis-main\\Preprocessing\\Discretization.ipynb\n"
     ]
    }
   ],
   "source": [
    "import nbimporter\n",
    "import Preprocessing.SpatialMapping as sm\n",
    "import Preprocessing.Discretization as dis\n",
    "import time\n",
    "import math\n",
    "import seaborn as sns"
   ]
  },
  {
   "cell_type": "code",
   "execution_count": 4,
   "metadata": {},
   "outputs": [
    {
     "name": "stdout",
     "output_type": "stream",
     "text": [
      "Data for the month :aug Found.....\n",
      "++++++++++++++++++++++++++++++++++++++++++++++++++++++++++++++++++++++++++++++++++++++++++++++++++++\n",
      "Loading file ../data/picklerCheckpoints/spatialJoinData/uber-spatial-data-aug14.p\n",
      "Decompressing ../data/picklerCheckpoints/spatialJoinData/uber-spatial-data-aug14.p.pbz2..............Done\n",
      "++++++++++++++++++++++++++++++++++++++++++++++++++++++++++++++++++++++++++++++++++++++++++++++++++++\n",
      "\n",
      "Data for the month :jun Found.....\n",
      "++++++++++++++++++++++++++++++++++++++++++++++++++++++++++++++++++++++++++++++++++++++++++++++++++++\n",
      "Loading file ../data/picklerCheckpoints/spatialJoinData/uber-spatial-data-jun14.p\n",
      "Decompressing ../data/picklerCheckpoints/spatialJoinData/uber-spatial-data-jun14.p.pbz2..............Done\n",
      "++++++++++++++++++++++++++++++++++++++++++++++++++++++++++++++++++++++++++++++++++++++++++++++++++++\n",
      "\n"
     ]
    }
   ],
   "source": [
    "data = sm.run(['aug', 'jun'])"
   ]
  },
  {
   "cell_type": "code",
   "execution_count": 5,
   "metadata": {},
   "outputs": [
    {
     "data": {
      "text/html": [
       "<div>\n",
       "<style scoped>\n",
       "    .dataframe tbody tr th:only-of-type {\n",
       "        vertical-align: middle;\n",
       "    }\n",
       "\n",
       "    .dataframe tbody tr th {\n",
       "        vertical-align: top;\n",
       "    }\n",
       "\n",
       "    .dataframe thead th {\n",
       "        text-align: right;\n",
       "    }\n",
       "</style>\n",
       "<table border=\"1\" class=\"dataframe\">\n",
       "  <thead>\n",
       "    <tr style=\"text-align: right;\">\n",
       "      <th></th>\n",
       "      <th>Date/Time</th>\n",
       "      <th>Lat</th>\n",
       "      <th>Lon</th>\n",
       "      <th>Base</th>\n",
       "      <th>datetime</th>\n",
       "      <th>weatherCondition</th>\n",
       "      <th>humidity</th>\n",
       "      <th>pressure</th>\n",
       "      <th>temperature</th>\n",
       "      <th>windDirection</th>\n",
       "      <th>windSpeed</th>\n",
       "      <th>holiday</th>\n",
       "      <th>geometry</th>\n",
       "      <th>index_right</th>\n",
       "      <th>zone</th>\n",
       "      <th>LocationID</th>\n",
       "      <th>borough</th>\n",
       "      <th>borough_categ</th>\n",
       "    </tr>\n",
       "  </thead>\n",
       "  <tbody>\n",
       "    <tr>\n",
       "      <th>0</th>\n",
       "      <td>8/1/2014 0:03:00</td>\n",
       "      <td>40.7366</td>\n",
       "      <td>-73.9906</td>\n",
       "      <td>B02512</td>\n",
       "      <td>08-01-2014:00</td>\n",
       "      <td>broken clouds</td>\n",
       "      <td>57.0</td>\n",
       "      <td>1019.0</td>\n",
       "      <td>297.51</td>\n",
       "      <td>0.0</td>\n",
       "      <td>2.0</td>\n",
       "      <td>weekday</td>\n",
       "      <td>POINT (-73.99060 40.73660)</td>\n",
       "      <td>112.0</td>\n",
       "      <td>Greenwich Village North</td>\n",
       "      <td>113.0</td>\n",
       "      <td>Manhattan</td>\n",
       "      <td>3.0</td>\n",
       "    </tr>\n",
       "    <tr>\n",
       "      <th>0</th>\n",
       "      <td>8/1/2014 0:03:00</td>\n",
       "      <td>40.7366</td>\n",
       "      <td>-73.9906</td>\n",
       "      <td>B02512</td>\n",
       "      <td>08-01-2014:00</td>\n",
       "      <td>broken clouds</td>\n",
       "      <td>57.0</td>\n",
       "      <td>1019.0</td>\n",
       "      <td>297.51</td>\n",
       "      <td>0.0</td>\n",
       "      <td>2.0</td>\n",
       "      <td>weekday</td>\n",
       "      <td>POINT (-73.99060 40.73660)</td>\n",
       "      <td>233.0</td>\n",
       "      <td>Union Sq</td>\n",
       "      <td>234.0</td>\n",
       "      <td>Manhattan</td>\n",
       "      <td>3.0</td>\n",
       "    </tr>\n",
       "    <tr>\n",
       "      <th>1</th>\n",
       "      <td>8/1/2014 0:09:00</td>\n",
       "      <td>40.7260</td>\n",
       "      <td>-73.9918</td>\n",
       "      <td>B02512</td>\n",
       "      <td>08-01-2014:00</td>\n",
       "      <td>broken clouds</td>\n",
       "      <td>57.0</td>\n",
       "      <td>1019.0</td>\n",
       "      <td>297.51</td>\n",
       "      <td>0.0</td>\n",
       "      <td>2.0</td>\n",
       "      <td>weekday</td>\n",
       "      <td>POINT (-73.99180 40.72600)</td>\n",
       "      <td>78.0</td>\n",
       "      <td>East Village</td>\n",
       "      <td>79.0</td>\n",
       "      <td>Manhattan</td>\n",
       "      <td>3.0</td>\n",
       "    </tr>\n",
       "    <tr>\n",
       "      <th>1</th>\n",
       "      <td>8/1/2014 0:09:00</td>\n",
       "      <td>40.7260</td>\n",
       "      <td>-73.9918</td>\n",
       "      <td>B02512</td>\n",
       "      <td>08-01-2014:00</td>\n",
       "      <td>broken clouds</td>\n",
       "      <td>57.0</td>\n",
       "      <td>1019.0</td>\n",
       "      <td>297.51</td>\n",
       "      <td>0.0</td>\n",
       "      <td>2.0</td>\n",
       "      <td>weekday</td>\n",
       "      <td>POINT (-73.99180 40.72600)</td>\n",
       "      <td>113.0</td>\n",
       "      <td>Greenwich Village South</td>\n",
       "      <td>114.0</td>\n",
       "      <td>Manhattan</td>\n",
       "      <td>3.0</td>\n",
       "    </tr>\n",
       "    <tr>\n",
       "      <th>3</th>\n",
       "      <td>8/1/2014 0:12:00</td>\n",
       "      <td>40.7387</td>\n",
       "      <td>-73.9856</td>\n",
       "      <td>B02512</td>\n",
       "      <td>08-01-2014:00</td>\n",
       "      <td>broken clouds</td>\n",
       "      <td>57.0</td>\n",
       "      <td>1019.0</td>\n",
       "      <td>297.51</td>\n",
       "      <td>0.0</td>\n",
       "      <td>2.0</td>\n",
       "      <td>weekday</td>\n",
       "      <td>POINT (-73.98560 40.73870)</td>\n",
       "      <td>106.0</td>\n",
       "      <td>Gramercy</td>\n",
       "      <td>107.0</td>\n",
       "      <td>Manhattan</td>\n",
       "      <td>3.0</td>\n",
       "    </tr>\n",
       "    <tr>\n",
       "      <th>...</th>\n",
       "      <td>...</td>\n",
       "      <td>...</td>\n",
       "      <td>...</td>\n",
       "      <td>...</td>\n",
       "      <td>...</td>\n",
       "      <td>...</td>\n",
       "      <td>...</td>\n",
       "      <td>...</td>\n",
       "      <td>...</td>\n",
       "      <td>...</td>\n",
       "      <td>...</td>\n",
       "      <td>...</td>\n",
       "      <td>...</td>\n",
       "      <td>...</td>\n",
       "      <td>...</td>\n",
       "      <td>...</td>\n",
       "      <td>...</td>\n",
       "      <td>...</td>\n",
       "    </tr>\n",
       "    <tr>\n",
       "      <th>663841</th>\n",
       "      <td>6/30/2014 23:13:00</td>\n",
       "      <td>40.7640</td>\n",
       "      <td>-73.9887</td>\n",
       "      <td>B02764</td>\n",
       "      <td>06-30-2014:23</td>\n",
       "      <td>sky is clear</td>\n",
       "      <td>59.0</td>\n",
       "      <td>1016.0</td>\n",
       "      <td>302.18</td>\n",
       "      <td>199.0</td>\n",
       "      <td>1.0</td>\n",
       "      <td>weekday</td>\n",
       "      <td>POINT (-73.98870 40.76400)</td>\n",
       "      <td>49.0</td>\n",
       "      <td>Clinton West</td>\n",
       "      <td>50.0</td>\n",
       "      <td>Manhattan</td>\n",
       "      <td>3.0</td>\n",
       "    </tr>\n",
       "    <tr>\n",
       "      <th>663841</th>\n",
       "      <td>6/30/2014 23:13:00</td>\n",
       "      <td>40.7640</td>\n",
       "      <td>-73.9887</td>\n",
       "      <td>B02764</td>\n",
       "      <td>06-30-2014:23</td>\n",
       "      <td>sky is clear</td>\n",
       "      <td>59.0</td>\n",
       "      <td>1016.0</td>\n",
       "      <td>302.18</td>\n",
       "      <td>199.0</td>\n",
       "      <td>1.0</td>\n",
       "      <td>weekday</td>\n",
       "      <td>POINT (-73.98870 40.76400)</td>\n",
       "      <td>229.0</td>\n",
       "      <td>Times Sq/Theatre District</td>\n",
       "      <td>230.0</td>\n",
       "      <td>Manhattan</td>\n",
       "      <td>3.0</td>\n",
       "    </tr>\n",
       "    <tr>\n",
       "      <th>663842</th>\n",
       "      <td>6/30/2014 23:15:00</td>\n",
       "      <td>40.7262</td>\n",
       "      <td>-73.9944</td>\n",
       "      <td>B02764</td>\n",
       "      <td>06-30-2014:23</td>\n",
       "      <td>sky is clear</td>\n",
       "      <td>59.0</td>\n",
       "      <td>1016.0</td>\n",
       "      <td>302.18</td>\n",
       "      <td>199.0</td>\n",
       "      <td>1.0</td>\n",
       "      <td>weekday</td>\n",
       "      <td>POINT (-73.99440 40.72620)</td>\n",
       "      <td>113.0</td>\n",
       "      <td>Greenwich Village South</td>\n",
       "      <td>114.0</td>\n",
       "      <td>Manhattan</td>\n",
       "      <td>3.0</td>\n",
       "    </tr>\n",
       "    <tr>\n",
       "      <th>663843</th>\n",
       "      <td>6/30/2014 23:35:00</td>\n",
       "      <td>40.7404</td>\n",
       "      <td>-73.9848</td>\n",
       "      <td>B02764</td>\n",
       "      <td>06-30-2014:23</td>\n",
       "      <td>sky is clear</td>\n",
       "      <td>59.0</td>\n",
       "      <td>1016.0</td>\n",
       "      <td>302.18</td>\n",
       "      <td>199.0</td>\n",
       "      <td>1.0</td>\n",
       "      <td>weekday</td>\n",
       "      <td>POINT (-73.98480 40.74040)</td>\n",
       "      <td>106.0</td>\n",
       "      <td>Gramercy</td>\n",
       "      <td>107.0</td>\n",
       "      <td>Manhattan</td>\n",
       "      <td>3.0</td>\n",
       "    </tr>\n",
       "    <tr>\n",
       "      <th>663843</th>\n",
       "      <td>6/30/2014 23:35:00</td>\n",
       "      <td>40.7404</td>\n",
       "      <td>-73.9848</td>\n",
       "      <td>B02764</td>\n",
       "      <td>06-30-2014:23</td>\n",
       "      <td>sky is clear</td>\n",
       "      <td>59.0</td>\n",
       "      <td>1016.0</td>\n",
       "      <td>302.18</td>\n",
       "      <td>199.0</td>\n",
       "      <td>1.0</td>\n",
       "      <td>weekday</td>\n",
       "      <td>POINT (-73.98480 40.74040)</td>\n",
       "      <td>233.0</td>\n",
       "      <td>Union Sq</td>\n",
       "      <td>234.0</td>\n",
       "      <td>Manhattan</td>\n",
       "      <td>3.0</td>\n",
       "    </tr>\n",
       "  </tbody>\n",
       "</table>\n",
       "<p>2984314 rows × 18 columns</p>\n",
       "</div>"
      ],
      "text/plain": [
       "                 Date/Time      Lat      Lon    Base       datetime  \\\n",
       "0         8/1/2014 0:03:00  40.7366 -73.9906  B02512  08-01-2014:00   \n",
       "0         8/1/2014 0:03:00  40.7366 -73.9906  B02512  08-01-2014:00   \n",
       "1         8/1/2014 0:09:00  40.7260 -73.9918  B02512  08-01-2014:00   \n",
       "1         8/1/2014 0:09:00  40.7260 -73.9918  B02512  08-01-2014:00   \n",
       "3         8/1/2014 0:12:00  40.7387 -73.9856  B02512  08-01-2014:00   \n",
       "...                    ...      ...      ...     ...            ...   \n",
       "663841  6/30/2014 23:13:00  40.7640 -73.9887  B02764  06-30-2014:23   \n",
       "663841  6/30/2014 23:13:00  40.7640 -73.9887  B02764  06-30-2014:23   \n",
       "663842  6/30/2014 23:15:00  40.7262 -73.9944  B02764  06-30-2014:23   \n",
       "663843  6/30/2014 23:35:00  40.7404 -73.9848  B02764  06-30-2014:23   \n",
       "663843  6/30/2014 23:35:00  40.7404 -73.9848  B02764  06-30-2014:23   \n",
       "\n",
       "       weatherCondition  humidity  pressure  temperature  windDirection  \\\n",
       "0         broken clouds      57.0    1019.0       297.51            0.0   \n",
       "0         broken clouds      57.0    1019.0       297.51            0.0   \n",
       "1         broken clouds      57.0    1019.0       297.51            0.0   \n",
       "1         broken clouds      57.0    1019.0       297.51            0.0   \n",
       "3         broken clouds      57.0    1019.0       297.51            0.0   \n",
       "...                 ...       ...       ...          ...            ...   \n",
       "663841     sky is clear      59.0    1016.0       302.18          199.0   \n",
       "663841     sky is clear      59.0    1016.0       302.18          199.0   \n",
       "663842     sky is clear      59.0    1016.0       302.18          199.0   \n",
       "663843     sky is clear      59.0    1016.0       302.18          199.0   \n",
       "663843     sky is clear      59.0    1016.0       302.18          199.0   \n",
       "\n",
       "        windSpeed  holiday                    geometry  index_right  \\\n",
       "0             2.0  weekday  POINT (-73.99060 40.73660)        112.0   \n",
       "0             2.0  weekday  POINT (-73.99060 40.73660)        233.0   \n",
       "1             2.0  weekday  POINT (-73.99180 40.72600)         78.0   \n",
       "1             2.0  weekday  POINT (-73.99180 40.72600)        113.0   \n",
       "3             2.0  weekday  POINT (-73.98560 40.73870)        106.0   \n",
       "...           ...      ...                         ...          ...   \n",
       "663841        1.0  weekday  POINT (-73.98870 40.76400)         49.0   \n",
       "663841        1.0  weekday  POINT (-73.98870 40.76400)        229.0   \n",
       "663842        1.0  weekday  POINT (-73.99440 40.72620)        113.0   \n",
       "663843        1.0  weekday  POINT (-73.98480 40.74040)        106.0   \n",
       "663843        1.0  weekday  POINT (-73.98480 40.74040)        233.0   \n",
       "\n",
       "                             zone  LocationID    borough  borough_categ  \n",
       "0         Greenwich Village North       113.0  Manhattan            3.0  \n",
       "0                        Union Sq       234.0  Manhattan            3.0  \n",
       "1                    East Village        79.0  Manhattan            3.0  \n",
       "1         Greenwich Village South       114.0  Manhattan            3.0  \n",
       "3                        Gramercy       107.0  Manhattan            3.0  \n",
       "...                           ...         ...        ...            ...  \n",
       "663841               Clinton West        50.0  Manhattan            3.0  \n",
       "663841  Times Sq/Theatre District       230.0  Manhattan            3.0  \n",
       "663842    Greenwich Village South       114.0  Manhattan            3.0  \n",
       "663843                   Gramercy       107.0  Manhattan            3.0  \n",
       "663843                   Union Sq       234.0  Manhattan            3.0  \n",
       "\n",
       "[2984314 rows x 18 columns]"
      ]
     },
     "execution_count": 5,
     "metadata": {},
     "output_type": "execute_result"
    }
   ],
   "source": [
    "df = data\n",
    "data"
   ]
  },
  {
   "cell_type": "code",
   "execution_count": 6,
   "metadata": {},
   "outputs": [],
   "source": [
    "df = data.copy()\n",
    "columns = ['datetime', 'zone', 'weatherCondition', 'humidity', 'pressure', 'temperature', 'windDirection', 'windSpeed', 'holiday']"
   ]
  },
  {
   "cell_type": "code",
   "execution_count": 7,
   "metadata": {},
   "outputs": [
    {
     "name": "stderr",
     "output_type": "stream",
     "text": [
      "C:\\Users\\KaavyaaStalinThara\\Downloads\\New folder\\ML2020-Uber-Data-Analysis-main\\Preprocessing\\Discretization.ipynb:7: SettingWithCopyWarning: \n",
      "A value is trying to be set on a copy of a slice from a DataFrame.\n",
      "Try using .loc[row_indexer,col_indexer] = value instead\n",
      "\n",
      "See the caveats in the documentation: https://pandas.pydata.org/pandas-docs/stable/user_guide/indexing.html#returning-a-view-versus-a-copy\n",
      "  \"metadata\": {},\n"
     ]
    },
    {
     "name": "stdout",
     "output_type": "stream",
     "text": [
      "Result Saved in ../data/encodedMappings/zone.p\n",
      "Result Saved in ../data/encodedMappings/weatherCondition.p\n",
      "Result Saved in ../data/encodedMappings/holiday.p\n"
     ]
    }
   ],
   "source": [
    "df2 = df[columns]\n",
    "df2g = dis.encode(df2, ['zone', 'weatherCondition', 'holiday'])\n",
    "df2g = df2.groupby(columns).size().reset_index(name='counts')\n",
    "df2g['datetime'] = pd.to_datetime(df2g['datetime'], format='%m-%d-%Y:%H').apply(lambda x: time.mktime(x.timetuple()))"
   ]
  },
  {
   "cell_type": "code",
   "execution_count": 8,
   "metadata": {},
   "outputs": [],
   "source": [
    "from sklearn.preprocessing import MinMaxScaler\n",
    "counts = df2g['counts'].copy()\n",
    "datetime = df2g['datetime'].copy()"
   ]
  },
  {
   "cell_type": "code",
   "execution_count": 9,
   "metadata": {},
   "outputs": [
    {
     "data": {
      "text/html": [
       "<div>\n",
       "<style scoped>\n",
       "    .dataframe tbody tr th:only-of-type {\n",
       "        vertical-align: middle;\n",
       "    }\n",
       "\n",
       "    .dataframe tbody tr th {\n",
       "        vertical-align: top;\n",
       "    }\n",
       "\n",
       "    .dataframe thead th {\n",
       "        text-align: right;\n",
       "    }\n",
       "</style>\n",
       "<table border=\"1\" class=\"dataframe\">\n",
       "  <thead>\n",
       "    <tr style=\"text-align: right;\">\n",
       "      <th></th>\n",
       "      <th>datetime</th>\n",
       "      <th>zone</th>\n",
       "      <th>weatherCondition</th>\n",
       "      <th>humidity</th>\n",
       "      <th>pressure</th>\n",
       "      <th>temperature</th>\n",
       "      <th>windDirection</th>\n",
       "      <th>windSpeed</th>\n",
       "      <th>holiday</th>\n",
       "      <th>counts</th>\n",
       "    </tr>\n",
       "  </thead>\n",
       "  <tbody>\n",
       "    <tr>\n",
       "      <th>0</th>\n",
       "      <td>1.401574e+09</td>\n",
       "      <td>1</td>\n",
       "      <td>0</td>\n",
       "      <td>63.0</td>\n",
       "      <td>1024.0</td>\n",
       "      <td>291.18</td>\n",
       "      <td>120.0</td>\n",
       "      <td>4.0</td>\n",
       "      <td>1</td>\n",
       "      <td>22</td>\n",
       "    </tr>\n",
       "    <tr>\n",
       "      <th>1</th>\n",
       "      <td>1.401574e+09</td>\n",
       "      <td>4</td>\n",
       "      <td>0</td>\n",
       "      <td>63.0</td>\n",
       "      <td>1024.0</td>\n",
       "      <td>291.18</td>\n",
       "      <td>120.0</td>\n",
       "      <td>4.0</td>\n",
       "      <td>1</td>\n",
       "      <td>3</td>\n",
       "    </tr>\n",
       "    <tr>\n",
       "      <th>2</th>\n",
       "      <td>1.401574e+09</td>\n",
       "      <td>6</td>\n",
       "      <td>0</td>\n",
       "      <td>63.0</td>\n",
       "      <td>1024.0</td>\n",
       "      <td>291.18</td>\n",
       "      <td>120.0</td>\n",
       "      <td>4.0</td>\n",
       "      <td>1</td>\n",
       "      <td>1</td>\n",
       "    </tr>\n",
       "    <tr>\n",
       "      <th>3</th>\n",
       "      <td>1.401574e+09</td>\n",
       "      <td>7</td>\n",
       "      <td>0</td>\n",
       "      <td>63.0</td>\n",
       "      <td>1024.0</td>\n",
       "      <td>291.18</td>\n",
       "      <td>120.0</td>\n",
       "      <td>4.0</td>\n",
       "      <td>1</td>\n",
       "      <td>1</td>\n",
       "    </tr>\n",
       "    <tr>\n",
       "      <th>4</th>\n",
       "      <td>1.401574e+09</td>\n",
       "      <td>10</td>\n",
       "      <td>0</td>\n",
       "      <td>63.0</td>\n",
       "      <td>1024.0</td>\n",
       "      <td>291.18</td>\n",
       "      <td>120.0</td>\n",
       "      <td>4.0</td>\n",
       "      <td>1</td>\n",
       "      <td>13</td>\n",
       "    </tr>\n",
       "    <tr>\n",
       "      <th>...</th>\n",
       "      <td>...</td>\n",
       "      <td>...</td>\n",
       "      <td>...</td>\n",
       "      <td>...</td>\n",
       "      <td>...</td>\n",
       "      <td>...</td>\n",
       "      <td>...</td>\n",
       "      <td>...</td>\n",
       "      <td>...</td>\n",
       "      <td>...</td>\n",
       "    </tr>\n",
       "    <tr>\n",
       "      <th>206189</th>\n",
       "      <td>1.409519e+09</td>\n",
       "      <td>251</td>\n",
       "      <td>10</td>\n",
       "      <td>88.0</td>\n",
       "      <td>1015.0</td>\n",
       "      <td>298.53</td>\n",
       "      <td>0.0</td>\n",
       "      <td>2.0</td>\n",
       "      <td>1</td>\n",
       "      <td>3</td>\n",
       "    </tr>\n",
       "    <tr>\n",
       "      <th>206190</th>\n",
       "      <td>1.409519e+09</td>\n",
       "      <td>254</td>\n",
       "      <td>10</td>\n",
       "      <td>88.0</td>\n",
       "      <td>1015.0</td>\n",
       "      <td>298.53</td>\n",
       "      <td>0.0</td>\n",
       "      <td>2.0</td>\n",
       "      <td>1</td>\n",
       "      <td>5</td>\n",
       "    </tr>\n",
       "    <tr>\n",
       "      <th>206191</th>\n",
       "      <td>1.409519e+09</td>\n",
       "      <td>255</td>\n",
       "      <td>10</td>\n",
       "      <td>88.0</td>\n",
       "      <td>1015.0</td>\n",
       "      <td>298.53</td>\n",
       "      <td>0.0</td>\n",
       "      <td>2.0</td>\n",
       "      <td>1</td>\n",
       "      <td>7</td>\n",
       "    </tr>\n",
       "    <tr>\n",
       "      <th>206192</th>\n",
       "      <td>1.409519e+09</td>\n",
       "      <td>256</td>\n",
       "      <td>10</td>\n",
       "      <td>88.0</td>\n",
       "      <td>1015.0</td>\n",
       "      <td>298.53</td>\n",
       "      <td>0.0</td>\n",
       "      <td>2.0</td>\n",
       "      <td>1</td>\n",
       "      <td>6</td>\n",
       "    </tr>\n",
       "    <tr>\n",
       "      <th>206193</th>\n",
       "      <td>1.409519e+09</td>\n",
       "      <td>257</td>\n",
       "      <td>10</td>\n",
       "      <td>88.0</td>\n",
       "      <td>1015.0</td>\n",
       "      <td>298.53</td>\n",
       "      <td>0.0</td>\n",
       "      <td>2.0</td>\n",
       "      <td>1</td>\n",
       "      <td>10</td>\n",
       "    </tr>\n",
       "  </tbody>\n",
       "</table>\n",
       "<p>206194 rows × 10 columns</p>\n",
       "</div>"
      ],
      "text/plain": [
       "            datetime  zone  weatherCondition  humidity  pressure  temperature  \\\n",
       "0       1.401574e+09     1                 0      63.0    1024.0       291.18   \n",
       "1       1.401574e+09     4                 0      63.0    1024.0       291.18   \n",
       "2       1.401574e+09     6                 0      63.0    1024.0       291.18   \n",
       "3       1.401574e+09     7                 0      63.0    1024.0       291.18   \n",
       "4       1.401574e+09    10                 0      63.0    1024.0       291.18   \n",
       "...              ...   ...               ...       ...       ...          ...   \n",
       "206189  1.409519e+09   251                10      88.0    1015.0       298.53   \n",
       "206190  1.409519e+09   254                10      88.0    1015.0       298.53   \n",
       "206191  1.409519e+09   255                10      88.0    1015.0       298.53   \n",
       "206192  1.409519e+09   256                10      88.0    1015.0       298.53   \n",
       "206193  1.409519e+09   257                10      88.0    1015.0       298.53   \n",
       "\n",
       "        windDirection  windSpeed  holiday  counts  \n",
       "0               120.0        4.0        1      22  \n",
       "1               120.0        4.0        1       3  \n",
       "2               120.0        4.0        1       1  \n",
       "3               120.0        4.0        1       1  \n",
       "4               120.0        4.0        1      13  \n",
       "...               ...        ...      ...     ...  \n",
       "206189            0.0        2.0        1       3  \n",
       "206190            0.0        2.0        1       5  \n",
       "206191            0.0        2.0        1       7  \n",
       "206192            0.0        2.0        1       6  \n",
       "206193            0.0        2.0        1      10  \n",
       "\n",
       "[206194 rows x 10 columns]"
      ]
     },
     "execution_count": 9,
     "metadata": {},
     "output_type": "execute_result"
    }
   ],
   "source": [
    "df2g"
   ]
  },
  {
   "cell_type": "code",
   "execution_count": 10,
   "metadata": {},
   "outputs": [],
   "source": [
    "scaler = MinMaxScaler() \n",
    "scaled_values = scaler.fit_transform(df2g) \n",
    "df2g.loc[:,:] = scaled_values\n",
    "df2g['counts'] = counts\n",
    "df2g['datetime'] = datetime"
   ]
  },
  {
   "cell_type": "code",
   "execution_count": 11,
   "metadata": {},
   "outputs": [],
   "source": [
    "bins = [0, 10, 50, np.inf]\n",
    "names = ['low', 'med', 'high']\n",
    "\n",
    "df2g['label'] = pd.cut(df2g['counts'], bins, labels=names)"
   ]
  },
  {
   "cell_type": "code",
   "execution_count": 24,
   "metadata": {},
   "outputs": [
    {
     "name": "stdout",
     "output_type": "stream",
     "text": [
      "Result Saved in ../data/encodedMappings/label.p\n"
     ]
    }
   ],
   "source": [
    "df2g = dis.encode(df2g, ['label'])\n",
    "corrCols = columns.copy()\n",
    "corrCols.append('label')\n",
    "cor = df2g[corrCols].corr()\n"
   ]
  },
  {
   "cell_type": "code",
   "execution_count": 13,
   "metadata": {},
   "outputs": [
    {
     "data": {
      "text/plain": [
       "label    1.0\n",
       "Name: label, dtype: float64"
      ]
     },
     "execution_count": 13,
     "metadata": {},
     "output_type": "execute_result"
    }
   ],
   "source": [
    "#Correlation with output variable\n",
    "cor_target = abs(cor[\"label\"])\n",
    "#Selecting highly correlated features\n",
    "relevant_features = cor_target[cor_target>0.5]\n",
    "relevant_features"
   ]
  },
  {
   "cell_type": "code",
   "execution_count": 14,
   "metadata": {},
   "outputs": [],
   "source": [
    "class0, class1, class2 = df2g['label'].value_counts()\n",
    "from imblearn.over_sampling import RandomOverSampler\n",
    "from imblearn.under_sampling import RandomUnderSampler\n",
    "ros = RandomUnderSampler(random_state=101)\n",
    "x_ros, y_ros = ros.fit_resample(df2g[columns], df2g['label'])"
   ]
  },
  {
   "cell_type": "code",
   "execution_count": 15,
   "metadata": {},
   "outputs": [],
   "source": [
    "from sklearn.model_selection import train_test_split\n",
    "X_train, X_test, y_train, y_test = train_test_split( x_ros, y_ros, test_size=0.33, random_state=100)"
   ]
  },
  {
   "cell_type": "code",
   "execution_count": 16,
   "metadata": {},
   "outputs": [
    {
     "data": {
      "text/plain": [
       "[<matplotlib.lines.Line2D at 0x2244a7db2b0>]"
      ]
     },
     "execution_count": 16,
     "metadata": {},
     "output_type": "execute_result"
    },
    {
     "data": {
      "image/png": "[encoded data removed]",
      "text/plain": [
       "<Figure size 432x288 with 1 Axes>"
      ]
     },
     "metadata": {
      "needs_background": "light"
     },
     "output_type": "display_data"
    }
   ],
   "source": [
    "\n",
    "#regression tree model\n",
    "from sklearn.tree import DecisionTreeRegressor\n",
    "regressionmodel = DecisionTreeRegressor() \n",
    "\n",
    "\n",
    "#Fit the model\n",
    "regressionmodel.fit(x_ros, y_ros)\n",
    "\n",
    "\n",
    "#Predict \n",
    "predicted = regressionmodel.predict(X_test)\n",
    "predicted\n",
    "\n",
    "\n",
    "plt.plot(y_test,regressionmodel.predict(X_test), color = 'red')"
   ]
  },
  {
   "cell_type": "code",
   "execution_count": 17,
   "metadata": {},
   "outputs": [
    {
     "name": "stdout",
     "output_type": "stream",
     "text": [
      "0.0\n",
      "0.0\n",
      "1.0\n"
     ]
    }
   ],
   "source": [
    "from sklearn import metrics\n",
    "print(metrics.mean_absolute_error(y_test, predicted))\n",
    "print(metrics.mean_squared_error(y_test, predicted))\n",
    "print(metrics.r2_score(y_test, predicted))\n"
   ]
  },
  {
   "cell_type": "code",
   "execution_count": 18,
   "metadata": {},
   "outputs": [
    {
     "name": "stdout",
     "output_type": "stream",
     "text": [
      "Accuracy Score: 1.0\n"
     ]
    }
   ],
   "source": [
    "from sklearn import metrics\n",
    "print('Accuracy Score:', metrics.accuracy_score(y_test,predicted))"
   ]
  },
  {
   "cell_type": "code",
   "execution_count": 19,
   "metadata": {},
   "outputs": [],
   "source": [
    "model = DecisionTreeRegressor()\n",
    "trained = model.fit(X_train, y_train)"
   ]
  },
  {
   "cell_type": "code",
   "execution_count": 20,
   "metadata": {},
   "outputs": [
    {
     "name": "stdout",
     "output_type": "stream",
     "text": [
      "Accuracy Score: 0.699249795736463\n"
     ]
    }
   ],
   "source": [
    "x_predict = trained.predict(X_test)\n",
    "x_predict\n",
    "from sklearn import metrics\n",
    "print('Accuracy Score:', metrics.accuracy_score(y_test,x_predict))\n"
   ]
  },
  {
   "cell_type": "code",
   "execution_count": 21,
   "metadata": {},
   "outputs": [
    {
     "name": "stdout",
     "output_type": "stream",
     "text": [
      "Accuracy Score: 0.7438163856495581\n"
     ]
    },
    {
     "data": {
      "text/plain": [
       "array([[3542,   88,  828],\n",
       "       [  99, 3666,  724],\n",
       "       [ 946,  764, 2806]], dtype=int64)"
      ]
     },
     "execution_count": 21,
     "metadata": {},
     "output_type": "execute_result"
    }
   ],
   "source": [
    "# Third check of regresssion tree by using without random and depth size.\n",
    "from sklearn.tree import DecisionTreeClassifier\n",
    "classifier = DecisionTreeClassifier()\n",
    "classifier = classifier.fit(X_train,y_train)\n",
    "#prediction\n",
    "y_pred = classifier.predict(X_test)#Accuracy\n",
    "from sklearn import metrics\n",
    "print('Accuracy Score:', metrics.accuracy_score(y_test,y_pred))\n",
    "from sklearn.metrics import confusion_matrix\n",
    "ConfusionMatrix = confusion_matrix(y_test, y_pred)\n",
    "ConfusionMatrix"
   ]
  },
  {
   "cell_type": "code",
   "execution_count": 22,
   "metadata": {},
   "outputs": [],
   "source": [
    "from sklearn.metrics import classification_report"
   ]
  },
  {
   "cell_type": "code",
   "execution_count": 23,
   "metadata": {},
   "outputs": [
    {
     "name": "stdout",
     "output_type": "stream",
     "text": [
      "Regression Tree               precision    recall  f1-score   support\n",
      "\n",
      "           0       0.75      0.78      0.77      4458\n",
      "           1       0.75      0.73      0.74      4489\n",
      "           2       0.60      0.59      0.59      4516\n",
      "\n",
      "    accuracy                           0.70     13463\n",
      "   macro avg       0.70      0.70      0.70     13463\n",
      "weighted avg       0.70      0.70      0.70     13463\n",
      "\n"
     ]
    }
   ],
   "source": [
    "Outcome = classification_report(y_test, x_predict)\n",
    "print(\"Regression Tree\",Outcome)"
   ]
  },
  {
   "cell_type": "code",
   "execution_count": null,
   "metadata": {},
   "outputs": [],
   "source": []
  }
 ],
 "metadata": {
  "kernelspec": {
   "display_name": "Python 3",
   "language": "python",
   "name": "python3"
  },
  "language_info": {
   "codemirror_mode": {
    "name": "ipython",
    "version": 3
   },
   "file_extension": ".py",
   "mimetype": "text/x-python",
   "name": "python",
   "nbconvert_exporter": "python",
   "pygments_lexer": "ipython3",
   "version": "3.8.5"
  }
 },
 "nbformat": 4,
 "nbformat_minor": 5
}
