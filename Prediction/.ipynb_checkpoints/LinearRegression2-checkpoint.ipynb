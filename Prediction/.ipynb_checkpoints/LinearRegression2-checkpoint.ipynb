{
 "cells": [
  {
   "cell_type": "code",
   "execution_count": 1,
   "id": "independent-development",
   "metadata": {},
   "outputs": [],
   "source": [
    "import numpy as np\n",
    "from matplotlib import pyplot as plt\n",
    "import pandas as pd\n",
    "import os\n",
    "import sys\n",
    "\n",
    "module_path = os.path.abspath(os.path.join('..'))\n",
    "if module_path not in sys.path:\n",
    "    sys.path.append(module_path)\n",
    "\n",
    "# FIX ME: Root dir as argument\n",
    "root_dir = \"../../data/picklerCheckpoints/\"\n",
    "is_compressed = True;"
   ]
  },
  {
   "cell_type": "code",
   "execution_count": 2,
   "id": "burning-convertible",
   "metadata": {},
   "outputs": [
    {
     "name": "stdout",
     "output_type": "stream",
     "text": [
      "Importing Jupyter notebook from D:\\Academics\\MLRepoNew\\ML2020-Uber-Data-Analysis\\Preprocessing\\SpatialMapping.ipynb\n",
      "Importing Jupyter notebook from D:\\Academics\\MLRepoNew\\ML2020-Uber-Data-Analysis\\commons\\utility\\pickle_util.ipynb\n",
      "Importing Jupyter notebook from D:\\Academics\\MLRepoNew\\ML2020-Uber-Data-Analysis\\Preprocessing\\DataEnrichment.ipynb\n",
      "Importing Jupyter notebook from D:\\Academics\\MLRepoNew\\ML2020-Uber-Data-Analysis\\Preprocessing\\Discretization.ipynb\n"
     ]
    }
   ],
   "source": [
    "import nbimporter\n",
    "import Preprocessing.SpatialMapping as sm\n",
    "import Preprocessing.Discretization as dis\n",
    "import time\n",
    "import math\n",
    "import seaborn as sns"
   ]
  },
  {
   "cell_type": "code",
   "execution_count": 3,
   "id": "weird-impossible",
   "metadata": {},
   "outputs": [
    {
     "name": "stdout",
     "output_type": "stream",
     "text": [
      "Data for the month :apr Found.....\n",
      "++++++++++++++++++++++++++++++++++++++++++++++++++++++++++++++++++++++++++++++++++++++++++++++++++++\n",
      "Loading file ../data/picklerCheckpoints/spatialJoinData/uber-spatial-data-apr14.p\n",
      "Decompressing ../data/picklerCheckpoints/spatialJoinData/uber-spatial-data-apr14.p.pbz2..............Done\n",
      "++++++++++++++++++++++++++++++++++++++++++++++++++++++++++++++++++++++++++++++++++++++++++++++++++++\n",
      "\n"
     ]
    }
   ],
   "source": [
    "data = sm.run(['apr'])"
   ]
  },
  {
   "cell_type": "code",
   "execution_count": 37,
   "id": "overall-pearl",
   "metadata": {},
   "outputs": [],
   "source": [
    "df = data.copy()\n",
    "columns = ['datetime', 'zone', 'weatherCondition', 'humidity', 'pressure', 'temperature', 'windDirection', 'windSpeed', 'holiday']"
   ]
  },
  {
   "cell_type": "code",
   "execution_count": 38,
   "id": "champion-soccer",
   "metadata": {},
   "outputs": [
    {
     "name": "stderr",
     "output_type": "stream",
     "text": [
      "D:\\Academics\\MLRepoNew\\ML2020-Uber-Data-Analysis\\Preprocessing\\Discretization.ipynb:7: SettingWithCopyWarning: \n",
      "A value is trying to be set on a copy of a slice from a DataFrame.\n",
      "Try using .loc[row_indexer,col_indexer] = value instead\n",
      "\n",
      "See the caveats in the documentation: https://pandas.pydata.org/pandas-docs/stable/user_guide/indexing.html#returning-a-view-versus-a-copy\n",
      "  \"metadata\": {},\n"
     ]
    },
    {
     "name": "stdout",
     "output_type": "stream",
     "text": [
      "Result Saved in ../data/encodedMappings/zone.p\n"
     ]
    }
   ],
   "source": [
    "df2 = df[columns]\n",
    "df2g = dis.encode(df2, ['zone', 'weatherCondition', 'holiday'])\n",
    "df2g = df2.groupby(columns).size().reset_index(name='counts')\n",
    "df2g['datetime'] = pd.to_datetime(df2g['datetime'], format='%m-%d-%Y:%H').apply(lambda x: time.mktime(x.timetuple()))"
   ]
  },
  {
   "cell_type": "code",
   "execution_count": 39,
   "id": "permanent-diameter",
   "metadata": {},
   "outputs": [],
   "source": [
    "from sklearn.preprocessing import MinMaxScaler\n",
    "counts = df2g['counts'].copy()\n",
    "datetime = df2g['datetime'].copy()"
   ]
  },
  {
   "cell_type": "code",
   "execution_count": 40,
   "id": "invalid-wallpaper",
   "metadata": {},
   "outputs": [
    {
     "data": {
      "text/html": [
       "<div>\n",
       "<style scoped>\n",
       "    .dataframe tbody tr th:only-of-type {\n",
       "        vertical-align: middle;\n",
       "    }\n",
       "\n",
       "    .dataframe tbody tr th {\n",
       "        vertical-align: top;\n",
       "    }\n",
       "\n",
       "    .dataframe thead th {\n",
       "        text-align: right;\n",
       "    }\n",
       "</style>\n",
       "<table border=\"1\" class=\"dataframe\">\n",
       "  <thead>\n",
       "    <tr style=\"text-align: right;\">\n",
       "      <th></th>\n",
       "      <th>datetime</th>\n",
       "      <th>zone</th>\n",
       "      <th>counts</th>\n",
       "    </tr>\n",
       "  </thead>\n",
       "  <tbody>\n",
       "    <tr>\n",
       "      <th>0</th>\n",
       "      <td>1.396291e+09</td>\n",
       "      <td>10</td>\n",
       "      <td>3</td>\n",
       "    </tr>\n",
       "    <tr>\n",
       "      <th>1</th>\n",
       "      <td>1.396291e+09</td>\n",
       "      <td>11</td>\n",
       "      <td>1</td>\n",
       "    </tr>\n",
       "    <tr>\n",
       "      <th>2</th>\n",
       "      <td>1.396291e+09</td>\n",
       "      <td>14</td>\n",
       "      <td>2</td>\n",
       "    </tr>\n",
       "    <tr>\n",
       "      <th>3</th>\n",
       "      <td>1.396291e+09</td>\n",
       "      <td>22</td>\n",
       "      <td>1</td>\n",
       "    </tr>\n",
       "    <tr>\n",
       "      <th>4</th>\n",
       "      <td>1.396291e+09</td>\n",
       "      <td>25</td>\n",
       "      <td>1</td>\n",
       "    </tr>\n",
       "    <tr>\n",
       "      <th>...</th>\n",
       "      <td>...</td>\n",
       "      <td>...</td>\n",
       "      <td>...</td>\n",
       "    </tr>\n",
       "    <tr>\n",
       "      <th>82052</th>\n",
       "      <td>1.398879e+09</td>\n",
       "      <td>249</td>\n",
       "      <td>1</td>\n",
       "    </tr>\n",
       "    <tr>\n",
       "      <th>82053</th>\n",
       "      <td>1.398879e+09</td>\n",
       "      <td>252</td>\n",
       "      <td>2</td>\n",
       "    </tr>\n",
       "    <tr>\n",
       "      <th>82054</th>\n",
       "      <td>1.398879e+09</td>\n",
       "      <td>253</td>\n",
       "      <td>18</td>\n",
       "    </tr>\n",
       "    <tr>\n",
       "      <th>82055</th>\n",
       "      <td>1.398879e+09</td>\n",
       "      <td>254</td>\n",
       "      <td>3</td>\n",
       "    </tr>\n",
       "    <tr>\n",
       "      <th>82056</th>\n",
       "      <td>1.398879e+09</td>\n",
       "      <td>255</td>\n",
       "      <td>8</td>\n",
       "    </tr>\n",
       "  </tbody>\n",
       "</table>\n",
       "<p>82057 rows × 3 columns</p>\n",
       "</div>"
      ],
      "text/plain": [
       "           datetime  zone  counts\n",
       "0      1.396291e+09    10       3\n",
       "1      1.396291e+09    11       1\n",
       "2      1.396291e+09    14       2\n",
       "3      1.396291e+09    22       1\n",
       "4      1.396291e+09    25       1\n",
       "...             ...   ...     ...\n",
       "82052  1.398879e+09   249       1\n",
       "82053  1.398879e+09   252       2\n",
       "82054  1.398879e+09   253      18\n",
       "82055  1.398879e+09   254       3\n",
       "82056  1.398879e+09   255       8\n",
       "\n",
       "[82057 rows x 3 columns]"
      ]
     },
     "execution_count": 40,
     "metadata": {},
     "output_type": "execute_result"
    }
   ],
   "source": [
    "df2g"
   ]
  },
  {
   "cell_type": "code",
   "execution_count": 41,
   "id": "structured-trailer",
   "metadata": {},
   "outputs": [],
   "source": [
    "scaler = MinMaxScaler() \n",
    "scaled_values = scaler.fit_transform(df2g) \n",
    "df2g.loc[:,:] = scaled_values\n",
    "df2g['counts'] = counts\n",
    "df2g['datetime'] = datetime"
   ]
  },
  {
   "cell_type": "code",
   "execution_count": 42,
   "id": "sustained-ethiopia",
   "metadata": {},
   "outputs": [],
   "source": [
    "bins = [0, 11, 51, np.inf]\n",
    "names = ['low', 'med', 'high']\n",
    "\n",
    "df2g['label'] = pd.cut(df2g['counts'], bins, labels=names)"
   ]
  },
  {
   "cell_type": "code",
   "execution_count": 43,
   "id": "organized-robertson",
   "metadata": {},
   "outputs": [
    {
     "name": "stdout",
     "output_type": "stream",
     "text": [
      "Result Saved in ../data/encodedMappings/label.p\n"
     ]
    }
   ],
   "source": [
    "df2g = dis.encode(df2g, ['label'])"
   ]
  },
  {
   "cell_type": "code",
   "execution_count": 44,
   "id": "sorted-xerox",
   "metadata": {},
   "outputs": [
    {
     "data": {
      "image/png": "[encoded data removed]",
      "text/plain": [
       "<Figure size 864x720 with 2 Axes>"
      ]
     },
     "metadata": {
      "needs_background": "light"
     },
     "output_type": "display_data"
    }
   ],
   "source": [
    "plt.figure(figsize=(12,10))\n",
    "corrCols = columns.copy()\n",
    "corrCols.append('label')\n",
    "cor = df2g[corrCols].corr()\n",
    "sns.heatmap(cor, annot=True, cmap=plt.cm.Reds)\n",
    "plt.show()"
   ]
  },
  {
   "cell_type": "code",
   "execution_count": 45,
   "id": "proud-luxembourg",
   "metadata": {},
   "outputs": [
    {
     "data": {
      "text/plain": [
       "label    1.0\n",
       "Name: label, dtype: float64"
      ]
     },
     "execution_count": 45,
     "metadata": {},
     "output_type": "execute_result"
    }
   ],
   "source": [
    "#Correlation with output variable\n",
    "cor_target = abs(cor[\"label\"])\n",
    "#Selecting highly correlated features\n",
    "relevant_features = cor_target[cor_target>0.5]\n",
    "relevant_features"
   ]
  },
  {
   "cell_type": "code",
   "execution_count": null,
   "id": "recognized-dimension",
   "metadata": {},
   "outputs": [],
   "source": []
  },
  {
   "cell_type": "code",
   "execution_count": 46,
   "id": "short-translator",
   "metadata": {},
   "outputs": [],
   "source": [
    "from sklearn.model_selection import train_test_split"
   ]
  },
  {
   "cell_type": "code",
   "execution_count": 47,
   "id": "disciplinary-oakland",
   "metadata": {},
   "outputs": [],
   "source": [
    "X_train, X_test, y_train, y_test = train_test_split( df2g[columns], df2g['label'], test_size=0.33, random_state=42)"
   ]
  },
  {
   "cell_type": "code",
   "execution_count": 48,
   "id": "constant-hopkins",
   "metadata": {},
   "outputs": [],
   "source": [
    "from sklearn.linear_model import LinearRegression\n",
    "from sklearn.linear_model import Ridge"
   ]
  },
  {
   "cell_type": "code",
   "execution_count": 49,
   "id": "relevant-thunder",
   "metadata": {},
   "outputs": [],
   "source": [
    "model = LinearRegression()\n",
    "trained = model.fit(X_train, y_train)"
   ]
  },
  {
   "cell_type": "code",
   "execution_count": 50,
   "id": "smooth-proceeding",
   "metadata": {},
   "outputs": [],
   "source": [
    "x_predict = model.predict(X_test).round().astype(int)"
   ]
  },
  {
   "cell_type": "code",
   "execution_count": 51,
   "id": "integrated-intensity",
   "metadata": {},
   "outputs": [],
   "source": [
    "# x_predictdf = pd.DataFrame(x_predict, columns =['counts'])\n",
    "# x_predictdf['label'] = pd.cut(x_predictdf['counts'], bins, labels=names)\n",
    "# x_predictdf = dis.encode(x_predictdf, ['label'])\n"
   ]
  },
  {
   "cell_type": "code",
   "execution_count": 52,
   "id": "better-jaguar",
   "metadata": {},
   "outputs": [],
   "source": [
    "# y_testdf = pd.DataFrame(y_test, columns =['counts'])\n",
    "# y_testdf['label'] = pd.cut(y_testdf['counts'], bins, labels=names)\n",
    "# y_testdf = dis.encode(y_testdf, ['label'])\n"
   ]
  },
  {
   "cell_type": "code",
   "execution_count": null,
   "id": "nervous-payroll",
   "metadata": {},
   "outputs": [],
   "source": []
  },
  {
   "cell_type": "code",
   "execution_count": 53,
   "id": "undefined-elimination",
   "metadata": {},
   "outputs": [],
   "source": [
    "from sklearn import metrics"
   ]
  },
  {
   "cell_type": "code",
   "execution_count": 54,
   "id": "silent-niagara",
   "metadata": {},
   "outputs": [
    {
     "name": "stdout",
     "output_type": "stream",
     "text": [
      "0.2883045902729052\n",
      "0.2883045902729052\n",
      "-0.10967326250262266\n"
     ]
    }
   ],
   "source": [
    "print(metrics.mean_absolute_error(y_test, x_predict))\n",
    "print(metrics.mean_squared_error(y_test, x_predict))\n",
    "print(metrics.r2_score(y_test, x_predict))"
   ]
  },
  {
   "cell_type": "code",
   "execution_count": 55,
   "id": "distant-viking",
   "metadata": {},
   "outputs": [],
   "source": [
    "# print(metrics.mean_absolute_error(y_testdf['label'], x_predictdf['label']))\n",
    "# print(metrics.mean_squared_error(y_testdf['label'], x_predictdf['label']))\n",
    "# print(metrics.r2_score(y_testdf['label'], x_predictdf['label']))"
   ]
  },
  {
   "cell_type": "code",
   "execution_count": 56,
   "id": "vocational-avatar",
   "metadata": {},
   "outputs": [],
   "source": [
    "from sklearn.metrics import classification_report"
   ]
  },
  {
   "cell_type": "code",
   "execution_count": 57,
   "id": "nearby-average",
   "metadata": {},
   "outputs": [
    {
     "name": "stdout",
     "output_type": "stream",
     "text": [
      "              precision    recall  f1-score   support\n",
      "\n",
      "           0       0.00      0.00      0.00      1618\n",
      "           1       0.71      1.00      0.83     19272\n",
      "           2       0.00      0.00      0.00      6189\n",
      "\n",
      "    accuracy                           0.71     27079\n",
      "   macro avg       0.24      0.33      0.28     27079\n",
      "weighted avg       0.51      0.71      0.59     27079\n",
      "\n"
     ]
    },
    {
     "name": "stderr",
     "output_type": "stream",
     "text": [
      "D:\\Anaconda\\envs\\tensorflow\\lib\\site-packages\\sklearn\\metrics\\_classification.py:1245: UndefinedMetricWarning: Precision and F-score are ill-defined and being set to 0.0 in labels with no predicted samples. Use `zero_division` parameter to control this behavior.\n",
      "  _warn_prf(average, modifier, msg_start, len(result))\n",
      "D:\\Anaconda\\envs\\tensorflow\\lib\\site-packages\\sklearn\\metrics\\_classification.py:1245: UndefinedMetricWarning: Precision and F-score are ill-defined and being set to 0.0 in labels with no predicted samples. Use `zero_division` parameter to control this behavior.\n",
      "  _warn_prf(average, modifier, msg_start, len(result))\n",
      "D:\\Anaconda\\envs\\tensorflow\\lib\\site-packages\\sklearn\\metrics\\_classification.py:1245: UndefinedMetricWarning: Precision and F-score are ill-defined and being set to 0.0 in labels with no predicted samples. Use `zero_division` parameter to control this behavior.\n",
      "  _warn_prf(average, modifier, msg_start, len(result))\n"
     ]
    }
   ],
   "source": [
    "report = classification_report(y_test, x_predict)\n",
    "print(report)"
   ]
  },
  {
   "cell_type": "code",
   "execution_count": 58,
   "id": "animal-prediction",
   "metadata": {},
   "outputs": [],
   "source": [
    "# report = classification_report(y_testdf['label'],  x_predictdf['label'])\n",
    "# print(report)"
   ]
  },
  {
   "cell_type": "code",
   "execution_count": 59,
   "id": "typical-punch",
   "metadata": {},
   "outputs": [],
   "source": [
    "from sklearn.decomposition import PCA"
   ]
  },
  {
   "cell_type": "code",
   "execution_count": 60,
   "id": "enabling-heather",
   "metadata": {},
   "outputs": [],
   "source": [
    "pca = PCA(n_components=2)"
   ]
  },
  {
   "cell_type": "code",
   "execution_count": 61,
   "id": "going-reporter",
   "metadata": {},
   "outputs": [
    {
     "data": {
      "text/plain": [
       "PCA(n_components=2)"
      ]
     },
     "execution_count": 61,
     "metadata": {},
     "output_type": "execute_result"
    }
   ],
   "source": [
    "pca.fit(X_train)"
   ]
  },
  {
   "cell_type": "code",
   "execution_count": 62,
   "id": "grave-merchandise",
   "metadata": {},
   "outputs": [
    {
     "name": "stdout",
     "output_type": "stream",
     "text": [
      "[1.00000000e+00 1.49375455e-13]\n"
     ]
    }
   ],
   "source": [
    "print(pca.explained_variance_ratio_)"
   ]
  },
  {
   "cell_type": "code",
   "execution_count": 63,
   "id": "derived-scheduling",
   "metadata": {},
   "outputs": [
    {
     "name": "stdout",
     "output_type": "stream",
     "text": [
      "[1.76951082e+08 6.83900375e+01]\n"
     ]
    }
   ],
   "source": [
    "print(pca.singular_values_)"
   ]
  },
  {
   "cell_type": "code",
   "execution_count": 64,
   "id": "occasional-password",
   "metadata": {},
   "outputs": [],
   "source": [
    "transformed = pd.DataFrame(pca.fit_transform(X_train))\n"
   ]
  },
  {
   "cell_type": "code",
   "execution_count": 65,
   "id": "novel-basin",
   "metadata": {},
   "outputs": [
    {
     "data": {
      "text/plain": [
       "[<matplotlib.lines.Line2D at 0x25e17452f08>,\n",
       " <matplotlib.lines.Line2D at 0x25e17472c88>]"
      ]
     },
     "execution_count": 65,
     "metadata": {},
     "output_type": "execute_result"
    },
    {
     "data": {
      "image/png": "[encoded data removed]",
      "text/plain": [
       "<Figure size 432x288 with 1 Axes>"
      ]
     },
     "metadata": {
      "needs_background": "light"
     },
     "output_type": "display_data"
    }
   ],
   "source": [
    "plt.plot(X_test, x_predict, color='blue', linewidth=3)"
   ]
  },
  {
   "cell_type": "code",
   "execution_count": 66,
   "id": "color-compatibility",
   "metadata": {},
   "outputs": [
    {
     "data": {
      "text/html": [
       "<div>\n",
       "<style scoped>\n",
       "    .dataframe tbody tr th:only-of-type {\n",
       "        vertical-align: middle;\n",
       "    }\n",
       "\n",
       "    .dataframe tbody tr th {\n",
       "        vertical-align: top;\n",
       "    }\n",
       "\n",
       "    .dataframe thead th {\n",
       "        text-align: right;\n",
       "    }\n",
       "</style>\n",
       "<table border=\"1\" class=\"dataframe\">\n",
       "  <thead>\n",
       "    <tr style=\"text-align: right;\">\n",
       "      <th></th>\n",
       "      <th>datetime</th>\n",
       "      <th>zone</th>\n",
       "    </tr>\n",
       "  </thead>\n",
       "  <tbody>\n",
       "    <tr>\n",
       "      <th>5223</th>\n",
       "      <td>1.396467e+09</td>\n",
       "      <td>0.160784</td>\n",
       "    </tr>\n",
       "    <tr>\n",
       "      <th>37348</th>\n",
       "      <td>1.397468e+09</td>\n",
       "      <td>0.403922</td>\n",
       "    </tr>\n",
       "    <tr>\n",
       "      <th>2361</th>\n",
       "      <td>1.396370e+09</td>\n",
       "      <td>0.509804</td>\n",
       "    </tr>\n",
       "    <tr>\n",
       "      <th>73979</th>\n",
       "      <td>1.398638e+09</td>\n",
       "      <td>0.988235</td>\n",
       "    </tr>\n",
       "    <tr>\n",
       "      <th>8230</th>\n",
       "      <td>1.396564e+09</td>\n",
       "      <td>0.533333</td>\n",
       "    </tr>\n",
       "    <tr>\n",
       "      <th>...</th>\n",
       "      <td>...</td>\n",
       "      <td>...</td>\n",
       "    </tr>\n",
       "    <tr>\n",
       "      <th>37902</th>\n",
       "      <td>1.397482e+09</td>\n",
       "      <td>0.968627</td>\n",
       "    </tr>\n",
       "    <tr>\n",
       "      <th>77332</th>\n",
       "      <td>1.398746e+09</td>\n",
       "      <td>0.752941</td>\n",
       "    </tr>\n",
       "    <tr>\n",
       "      <th>3584</th>\n",
       "      <td>1.396417e+09</td>\n",
       "      <td>0.254902</td>\n",
       "    </tr>\n",
       "    <tr>\n",
       "      <th>6308</th>\n",
       "      <td>1.396503e+09</td>\n",
       "      <td>0.552941</td>\n",
       "    </tr>\n",
       "    <tr>\n",
       "      <th>9732</th>\n",
       "      <td>1.396607e+09</td>\n",
       "      <td>0.243137</td>\n",
       "    </tr>\n",
       "  </tbody>\n",
       "</table>\n",
       "<p>27079 rows × 2 columns</p>\n",
       "</div>"
      ],
      "text/plain": [
       "           datetime      zone\n",
       "5223   1.396467e+09  0.160784\n",
       "37348  1.397468e+09  0.403922\n",
       "2361   1.396370e+09  0.509804\n",
       "73979  1.398638e+09  0.988235\n",
       "8230   1.396564e+09  0.533333\n",
       "...             ...       ...\n",
       "37902  1.397482e+09  0.968627\n",
       "77332  1.398746e+09  0.752941\n",
       "3584   1.396417e+09  0.254902\n",
       "6308   1.396503e+09  0.552941\n",
       "9732   1.396607e+09  0.243137\n",
       "\n",
       "[27079 rows x 2 columns]"
      ]
     },
     "execution_count": 66,
     "metadata": {},
     "output_type": "execute_result"
    }
   ],
   "source": [
    "X_test"
   ]
  },
  {
   "cell_type": "code",
   "execution_count": 67,
   "id": "progressive-least",
   "metadata": {},
   "outputs": [
    {
     "data": {
      "text/plain": [
       "27079"
      ]
     },
     "execution_count": 67,
     "metadata": {},
     "output_type": "execute_result"
    }
   ],
   "source": [
    "len(x_predict)"
   ]
  },
  {
   "cell_type": "code",
   "execution_count": 68,
   "id": "nutritional-mount",
   "metadata": {},
   "outputs": [
    {
     "name": "stderr",
     "output_type": "stream",
     "text": [
      "No handles with labels found to put in legend.\n"
     ]
    },
    {
     "data": {
      "image/png": "[encoded data removed]",
      "text/plain": [
       "<Figure size 432x288 with 1 Axes>"
      ]
     },
     "metadata": {
      "needs_background": "light"
     },
     "output_type": "display_data"
    }
   ],
   "source": [
    "plt.scatter(transformed[0], transformed[1], alpha=0.7)\n",
    "plt.legend()\n",
    "plt.show()"
   ]
  },
  {
   "cell_type": "code",
   "execution_count": 69,
   "id": "failing-diary",
   "metadata": {},
   "outputs": [
    {
     "data": {
      "text/html": [
       "<div>\n",
       "<style scoped>\n",
       "    .dataframe tbody tr th:only-of-type {\n",
       "        vertical-align: middle;\n",
       "    }\n",
       "\n",
       "    .dataframe tbody tr th {\n",
       "        vertical-align: top;\n",
       "    }\n",
       "\n",
       "    .dataframe thead th {\n",
       "        text-align: right;\n",
       "    }\n",
       "</style>\n",
       "<table border=\"1\" class=\"dataframe\">\n",
       "  <thead>\n",
       "    <tr style=\"text-align: right;\">\n",
       "      <th></th>\n",
       "      <th>datetime</th>\n",
       "      <th>zone</th>\n",
       "    </tr>\n",
       "  </thead>\n",
       "  <tbody>\n",
       "    <tr>\n",
       "      <th>31595</th>\n",
       "      <td>1.397295e+09</td>\n",
       "      <td>0.145098</td>\n",
       "    </tr>\n",
       "    <tr>\n",
       "      <th>60192</th>\n",
       "      <td>1.398217e+09</td>\n",
       "      <td>0.615686</td>\n",
       "    </tr>\n",
       "    <tr>\n",
       "      <th>53875</th>\n",
       "      <td>1.398008e+09</td>\n",
       "      <td>0.760784</td>\n",
       "    </tr>\n",
       "    <tr>\n",
       "      <th>19690</th>\n",
       "      <td>1.396917e+09</td>\n",
       "      <td>0.188235</td>\n",
       "    </tr>\n",
       "    <tr>\n",
       "      <th>37497</th>\n",
       "      <td>1.397471e+09</td>\n",
       "      <td>0.611765</td>\n",
       "    </tr>\n",
       "    <tr>\n",
       "      <th>...</th>\n",
       "      <td>...</td>\n",
       "      <td>...</td>\n",
       "    </tr>\n",
       "    <tr>\n",
       "      <th>6265</th>\n",
       "      <td>1.396503e+09</td>\n",
       "      <td>0.196078</td>\n",
       "    </tr>\n",
       "    <tr>\n",
       "      <th>54886</th>\n",
       "      <td>1.398044e+09</td>\n",
       "      <td>0.717647</td>\n",
       "    </tr>\n",
       "    <tr>\n",
       "      <th>76820</th>\n",
       "      <td>1.398731e+09</td>\n",
       "      <td>0.619608</td>\n",
       "    </tr>\n",
       "    <tr>\n",
       "      <th>860</th>\n",
       "      <td>1.396327e+09</td>\n",
       "      <td>0.054902</td>\n",
       "    </tr>\n",
       "    <tr>\n",
       "      <th>15795</th>\n",
       "      <td>1.396780e+09</td>\n",
       "      <td>0.290196</td>\n",
       "    </tr>\n",
       "  </tbody>\n",
       "</table>\n",
       "<p>54978 rows × 2 columns</p>\n",
       "</div>"
      ],
      "text/plain": [
       "           datetime      zone\n",
       "31595  1.397295e+09  0.145098\n",
       "60192  1.398217e+09  0.615686\n",
       "53875  1.398008e+09  0.760784\n",
       "19690  1.396917e+09  0.188235\n",
       "37497  1.397471e+09  0.611765\n",
       "...             ...       ...\n",
       "6265   1.396503e+09  0.196078\n",
       "54886  1.398044e+09  0.717647\n",
       "76820  1.398731e+09  0.619608\n",
       "860    1.396327e+09  0.054902\n",
       "15795  1.396780e+09  0.290196\n",
       "\n",
       "[54978 rows x 2 columns]"
      ]
     },
     "execution_count": 69,
     "metadata": {},
     "output_type": "execute_result"
    }
   ],
   "source": [
    "X_train"
   ]
  }
 ],
 "metadata": {
  "kernelspec": {
   "display_name": "Python 3",
   "language": "python",
   "name": "python3"
  },
  "language_info": {
   "codemirror_mode": {
    "name": "ipython",
    "version": 3
   },
   "file_extension": ".py",
   "mimetype": "text/x-python",
   "name": "python",
   "nbconvert_exporter": "python",
   "pygments_lexer": "ipython3",
   "version": "3.7.9"
  }
 },
 "nbformat": 4,
 "nbformat_minor": 5
}
