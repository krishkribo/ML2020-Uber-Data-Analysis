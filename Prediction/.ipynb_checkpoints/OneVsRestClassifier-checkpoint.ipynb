{
 "cells": [
  {
   "cell_type": "code",
   "execution_count": 1,
   "id": "independent-development",
   "metadata": {},
   "outputs": [],
   "source": [
    "import numpy as np\n",
    "from matplotlib import pyplot as plt\n",
    "import pandas as pd\n",
    "import os\n",
    "import sys\n",
    "\n",
    "module_path = os.path.abspath(os.path.join('..'))\n",
    "if module_path not in sys.path:\n",
    "    sys.path.append(module_path)\n",
    "\n",
    "# FIX ME: Root dir as argument\n",
    "root_dir = \"../../data/picklerCheckpoints/\"\n",
    "is_compressed = True;"
   ]
  },
  {
   "cell_type": "code",
   "execution_count": 2,
   "id": "burning-convertible",
   "metadata": {},
   "outputs": [
    {
     "name": "stdout",
     "output_type": "stream",
     "text": [
      "Importing Jupyter notebook from D:\\Academics\\MLRepoNew\\ML2020-Uber-Data-Analysis\\Preprocessing\\SpatialMapping.ipynb\n",
      "Importing Jupyter notebook from D:\\Academics\\MLRepoNew\\ML2020-Uber-Data-Analysis\\commons\\utility\\pickle_util.ipynb\n",
      "Importing Jupyter notebook from D:\\Academics\\MLRepoNew\\ML2020-Uber-Data-Analysis\\Preprocessing\\DataEnrichment.ipynb\n",
      "Importing Jupyter notebook from D:\\Academics\\MLRepoNew\\ML2020-Uber-Data-Analysis\\Preprocessing\\Discretization.ipynb\n"
     ]
    }
   ],
   "source": [
    "import nbimporter\n",
    "import Preprocessing.SpatialMapping as sm\n",
    "import Preprocessing.Discretization as dis\n",
    "import time\n",
    "import math\n",
    "import seaborn as sns"
   ]
  },
  {
   "cell_type": "code",
   "execution_count": 3,
   "id": "weird-impossible",
   "metadata": {},
   "outputs": [
    {
     "name": "stdout",
     "output_type": "stream",
     "text": [
      "Data for the month :apr Found.....\n",
      "++++++++++++++++++++++++++++++++++++++++++++++++++++++++++++++++++++++++++++++++++++++++++++++++++++\n",
      "Loading file ../data/picklerCheckpoints/spatialJoinData/uber-spatial-data-apr14.p\n",
      "Decompressing ../data/picklerCheckpoints/spatialJoinData/uber-spatial-data-apr14.p.pbz2..............Done\n",
      "++++++++++++++++++++++++++++++++++++++++++++++++++++++++++++++++++++++++++++++++++++++++++++++++++++\n",
      "\n",
      "Data for the month :may Found.....\n",
      "++++++++++++++++++++++++++++++++++++++++++++++++++++++++++++++++++++++++++++++++++++++++++++++++++++\n",
      "Loading file ../data/picklerCheckpoints/spatialJoinData/uber-spatial-data-may14.p\n",
      "Decompressing ../data/picklerCheckpoints/spatialJoinData/uber-spatial-data-may14.p.pbz2..............Done\n",
      "++++++++++++++++++++++++++++++++++++++++++++++++++++++++++++++++++++++++++++++++++++++++++++++++++++\n",
      "\n"
     ]
    }
   ],
   "source": [
    "data = sm.run(['apr', 'may'])"
   ]
  },
  {
   "cell_type": "code",
   "execution_count": 4,
   "id": "overall-pearl",
   "metadata": {},
   "outputs": [],
   "source": [
    "df = data.copy()\n",
    "columns = ['datetime', 'zone', 'weatherCondition', 'humidity', 'pressure', 'temperature', 'windDirection', 'windSpeed', 'holiday']"
   ]
  },
  {
   "cell_type": "code",
   "execution_count": 5,
   "id": "champion-soccer",
   "metadata": {},
   "outputs": [
    {
     "name": "stderr",
     "output_type": "stream",
     "text": [
      "D:\\Academics\\MLRepoNew\\ML2020-Uber-Data-Analysis\\Preprocessing\\Discretization.ipynb:7: SettingWithCopyWarning: \n",
      "A value is trying to be set on a copy of a slice from a DataFrame.\n",
      "Try using .loc[row_indexer,col_indexer] = value instead\n",
      "\n",
      "See the caveats in the documentation: https://pandas.pydata.org/pandas-docs/stable/user_guide/indexing.html#returning-a-view-versus-a-copy\n",
      "  \"metadata\": {},\n"
     ]
    },
    {
     "name": "stdout",
     "output_type": "stream",
     "text": [
      "Result Saved in ../data/encodedMappings/zone.p\n",
      "Result Saved in ../data/encodedMappings/weatherCondition.p\n",
      "Result Saved in ../data/encodedMappings/holiday.p\n"
     ]
    }
   ],
   "source": [
    "df2 = df[columns]\n",
    "df2g = dis.encode(df2, ['zone', 'weatherCondition', 'holiday'])\n",
    "df2g = df2.groupby(columns).size().reset_index(name='counts')\n",
    "df2g['datetime'] = pd.to_datetime(df2g['datetime'], format='%m-%d-%Y:%H').apply(lambda x: time.mktime(x.timetuple()))"
   ]
  },
  {
   "cell_type": "code",
   "execution_count": 6,
   "id": "permanent-diameter",
   "metadata": {},
   "outputs": [],
   "source": [
    "from sklearn.preprocessing import MinMaxScaler\n",
    "counts = df2g['counts'].copy()\n",
    "datetime = df2g['datetime'].copy()"
   ]
  },
  {
   "cell_type": "code",
   "execution_count": 7,
   "id": "sealed-genealogy",
   "metadata": {},
   "outputs": [
    {
     "data": {
      "text/html": [
       "<div>\n",
       "<style scoped>\n",
       "    .dataframe tbody tr th:only-of-type {\n",
       "        vertical-align: middle;\n",
       "    }\n",
       "\n",
       "    .dataframe tbody tr th {\n",
       "        vertical-align: top;\n",
       "    }\n",
       "\n",
       "    .dataframe thead th {\n",
       "        text-align: right;\n",
       "    }\n",
       "</style>\n",
       "<table border=\"1\" class=\"dataframe\">\n",
       "  <thead>\n",
       "    <tr style=\"text-align: right;\">\n",
       "      <th></th>\n",
       "      <th>datetime</th>\n",
       "      <th>zone</th>\n",
       "      <th>weatherCondition</th>\n",
       "      <th>humidity</th>\n",
       "      <th>pressure</th>\n",
       "      <th>temperature</th>\n",
       "      <th>windDirection</th>\n",
       "      <th>windSpeed</th>\n",
       "      <th>holiday</th>\n",
       "      <th>counts</th>\n",
       "    </tr>\n",
       "  </thead>\n",
       "  <tbody>\n",
       "    <tr>\n",
       "      <th>0</th>\n",
       "      <td>1.396291e+09</td>\n",
       "      <td>10</td>\n",
       "      <td>11</td>\n",
       "      <td>40.0</td>\n",
       "      <td>1016.0</td>\n",
       "      <td>282.96</td>\n",
       "      <td>330.0</td>\n",
       "      <td>5.0</td>\n",
       "      <td>1</td>\n",
       "      <td>3</td>\n",
       "    </tr>\n",
       "    <tr>\n",
       "      <th>1</th>\n",
       "      <td>1.396291e+09</td>\n",
       "      <td>11</td>\n",
       "      <td>11</td>\n",
       "      <td>40.0</td>\n",
       "      <td>1016.0</td>\n",
       "      <td>282.96</td>\n",
       "      <td>330.0</td>\n",
       "      <td>5.0</td>\n",
       "      <td>1</td>\n",
       "      <td>1</td>\n",
       "    </tr>\n",
       "    <tr>\n",
       "      <th>2</th>\n",
       "      <td>1.396291e+09</td>\n",
       "      <td>14</td>\n",
       "      <td>11</td>\n",
       "      <td>40.0</td>\n",
       "      <td>1016.0</td>\n",
       "      <td>282.96</td>\n",
       "      <td>330.0</td>\n",
       "      <td>5.0</td>\n",
       "      <td>1</td>\n",
       "      <td>2</td>\n",
       "    </tr>\n",
       "    <tr>\n",
       "      <th>3</th>\n",
       "      <td>1.396291e+09</td>\n",
       "      <td>22</td>\n",
       "      <td>11</td>\n",
       "      <td>40.0</td>\n",
       "      <td>1016.0</td>\n",
       "      <td>282.96</td>\n",
       "      <td>330.0</td>\n",
       "      <td>5.0</td>\n",
       "      <td>1</td>\n",
       "      <td>1</td>\n",
       "    </tr>\n",
       "    <tr>\n",
       "      <th>4</th>\n",
       "      <td>1.396291e+09</td>\n",
       "      <td>25</td>\n",
       "      <td>11</td>\n",
       "      <td>40.0</td>\n",
       "      <td>1016.0</td>\n",
       "      <td>282.96</td>\n",
       "      <td>330.0</td>\n",
       "      <td>5.0</td>\n",
       "      <td>1</td>\n",
       "      <td>1</td>\n",
       "    </tr>\n",
       "    <tr>\n",
       "      <th>...</th>\n",
       "      <td>...</td>\n",
       "      <td>...</td>\n",
       "      <td>...</td>\n",
       "      <td>...</td>\n",
       "      <td>...</td>\n",
       "      <td>...</td>\n",
       "      <td>...</td>\n",
       "      <td>...</td>\n",
       "      <td>...</td>\n",
       "      <td>...</td>\n",
       "    </tr>\n",
       "    <tr>\n",
       "      <th>175073</th>\n",
       "      <td>1.401557e+09</td>\n",
       "      <td>251</td>\n",
       "      <td>11</td>\n",
       "      <td>43.0</td>\n",
       "      <td>1023.0</td>\n",
       "      <td>292.80</td>\n",
       "      <td>30.0</td>\n",
       "      <td>5.0</td>\n",
       "      <td>2</td>\n",
       "      <td>3</td>\n",
       "    </tr>\n",
       "    <tr>\n",
       "      <th>175074</th>\n",
       "      <td>1.401557e+09</td>\n",
       "      <td>254</td>\n",
       "      <td>11</td>\n",
       "      <td>43.0</td>\n",
       "      <td>1023.0</td>\n",
       "      <td>292.80</td>\n",
       "      <td>30.0</td>\n",
       "      <td>5.0</td>\n",
       "      <td>2</td>\n",
       "      <td>5</td>\n",
       "    </tr>\n",
       "    <tr>\n",
       "      <th>175075</th>\n",
       "      <td>1.401557e+09</td>\n",
       "      <td>255</td>\n",
       "      <td>11</td>\n",
       "      <td>43.0</td>\n",
       "      <td>1023.0</td>\n",
       "      <td>292.80</td>\n",
       "      <td>30.0</td>\n",
       "      <td>5.0</td>\n",
       "      <td>2</td>\n",
       "      <td>8</td>\n",
       "    </tr>\n",
       "    <tr>\n",
       "      <th>175076</th>\n",
       "      <td>1.401557e+09</td>\n",
       "      <td>256</td>\n",
       "      <td>11</td>\n",
       "      <td>43.0</td>\n",
       "      <td>1023.0</td>\n",
       "      <td>292.80</td>\n",
       "      <td>30.0</td>\n",
       "      <td>5.0</td>\n",
       "      <td>2</td>\n",
       "      <td>11</td>\n",
       "    </tr>\n",
       "    <tr>\n",
       "      <th>175077</th>\n",
       "      <td>1.401557e+09</td>\n",
       "      <td>257</td>\n",
       "      <td>11</td>\n",
       "      <td>43.0</td>\n",
       "      <td>1023.0</td>\n",
       "      <td>292.80</td>\n",
       "      <td>30.0</td>\n",
       "      <td>5.0</td>\n",
       "      <td>2</td>\n",
       "      <td>22</td>\n",
       "    </tr>\n",
       "  </tbody>\n",
       "</table>\n",
       "<p>175078 rows × 10 columns</p>\n",
       "</div>"
      ],
      "text/plain": [
       "            datetime  zone  weatherCondition  humidity  pressure  temperature  \\\n",
       "0       1.396291e+09    10                11      40.0    1016.0       282.96   \n",
       "1       1.396291e+09    11                11      40.0    1016.0       282.96   \n",
       "2       1.396291e+09    14                11      40.0    1016.0       282.96   \n",
       "3       1.396291e+09    22                11      40.0    1016.0       282.96   \n",
       "4       1.396291e+09    25                11      40.0    1016.0       282.96   \n",
       "...              ...   ...               ...       ...       ...          ...   \n",
       "175073  1.401557e+09   251                11      43.0    1023.0       292.80   \n",
       "175074  1.401557e+09   254                11      43.0    1023.0       292.80   \n",
       "175075  1.401557e+09   255                11      43.0    1023.0       292.80   \n",
       "175076  1.401557e+09   256                11      43.0    1023.0       292.80   \n",
       "175077  1.401557e+09   257                11      43.0    1023.0       292.80   \n",
       "\n",
       "        windDirection  windSpeed  holiday  counts  \n",
       "0               330.0        5.0        1       3  \n",
       "1               330.0        5.0        1       1  \n",
       "2               330.0        5.0        1       2  \n",
       "3               330.0        5.0        1       1  \n",
       "4               330.0        5.0        1       1  \n",
       "...               ...        ...      ...     ...  \n",
       "175073           30.0        5.0        2       3  \n",
       "175074           30.0        5.0        2       5  \n",
       "175075           30.0        5.0        2       8  \n",
       "175076           30.0        5.0        2      11  \n",
       "175077           30.0        5.0        2      22  \n",
       "\n",
       "[175078 rows x 10 columns]"
      ]
     },
     "execution_count": 7,
     "metadata": {},
     "output_type": "execute_result"
    }
   ],
   "source": [
    "df2g"
   ]
  },
  {
   "cell_type": "code",
   "execution_count": 8,
   "id": "structured-trailer",
   "metadata": {},
   "outputs": [],
   "source": [
    "scaler = MinMaxScaler() \n",
    "scaled_values = scaler.fit_transform(df2g) \n",
    "df2g.loc[:,:] = scaled_values\n",
    "df2g['counts'] = counts\n",
    "df2g['datetime'] = datetime"
   ]
  },
  {
   "cell_type": "code",
   "execution_count": 9,
   "id": "sustained-ethiopia",
   "metadata": {},
   "outputs": [],
   "source": [
    "bins = [0, 11, 51, np.inf]\n",
    "names = ['low', 'med', 'high']\n",
    "\n",
    "df2g['label'] = pd.cut(df2g['counts'], bins, labels=names)"
   ]
  },
  {
   "cell_type": "code",
   "execution_count": 10,
   "id": "organized-robertson",
   "metadata": {},
   "outputs": [
    {
     "name": "stdout",
     "output_type": "stream",
     "text": [
      "Result Saved in ../data/encodedMappings/label.p\n"
     ]
    }
   ],
   "source": [
    "df2g = dis.encode(df2g, ['label'])"
   ]
  },
  {
   "cell_type": "code",
   "execution_count": 11,
   "id": "sorted-xerox",
   "metadata": {},
   "outputs": [
    {
     "data": {
      "image/png": "[encoded data removed]",
      "text/plain": [
       "<Figure size 864x720 with 2 Axes>"
      ]
     },
     "metadata": {
      "needs_background": "light"
     },
     "output_type": "display_data"
    }
   ],
   "source": [
    "plt.figure(figsize=(12,10))\n",
    "corrCols = columns.copy()\n",
    "corrCols.append('label')\n",
    "cor = df2g[corrCols].corr()\n",
    "sns.heatmap(cor, annot=True, cmap=plt.cm.Reds)\n",
    "plt.show()"
   ]
  },
  {
   "cell_type": "code",
   "execution_count": 12,
   "id": "proud-luxembourg",
   "metadata": {},
   "outputs": [
    {
     "data": {
      "text/plain": [
       "label    1.0\n",
       "Name: label, dtype: float64"
      ]
     },
     "execution_count": 12,
     "metadata": {},
     "output_type": "execute_result"
    }
   ],
   "source": [
    "#Correlation with output variable\n",
    "cor_target = abs(cor[\"label\"])\n",
    "#Selecting highly correlated features\n",
    "relevant_features = cor_target[cor_target>0.5]\n",
    "relevant_features"
   ]
  },
  {
   "cell_type": "code",
   "execution_count": null,
   "id": "forced-stand",
   "metadata": {},
   "outputs": [],
   "source": []
  },
  {
   "cell_type": "code",
   "execution_count": 13,
   "id": "short-translator",
   "metadata": {},
   "outputs": [],
   "source": [
    "from sklearn.model_selection import train_test_split"
   ]
  },
  {
   "cell_type": "code",
   "execution_count": 14,
   "id": "disciplinary-oakland",
   "metadata": {},
   "outputs": [],
   "source": [
    "X_train, X_test, y_train, y_test = train_test_split( df2g[columns], df2g['label'], test_size=0.33, random_state=100)"
   ]
  },
  {
   "cell_type": "code",
   "execution_count": 15,
   "id": "constant-hopkins",
   "metadata": {},
   "outputs": [],
   "source": [
    "from sklearn.linear_model import LinearRegression\n",
    "from sklearn.linear_model import Ridge"
   ]
  },
  {
   "cell_type": "code",
   "execution_count": 16,
   "id": "relevant-thunder",
   "metadata": {},
   "outputs": [],
   "source": [
    "model = LinearRegression()\n",
    "trained = model.fit(X_train, y_train)"
   ]
  },
  {
   "cell_type": "code",
   "execution_count": 17,
   "id": "smooth-proceeding",
   "metadata": {},
   "outputs": [],
   "source": [
    "x_predict = model.predict(X_test).round().astype(int)"
   ]
  },
  {
   "cell_type": "code",
   "execution_count": 18,
   "id": "integrated-intensity",
   "metadata": {},
   "outputs": [],
   "source": [
    "# x_predictdf = pd.DataFrame(x_predict, columns =['counts'])\n",
    "# x_predictdf['label'] = pd.cut(x_predictdf['counts'], bins, labels=names)\n",
    "# x_predictdf = dis.encode(x_predictdf, ['label'])\n"
   ]
  },
  {
   "cell_type": "code",
   "execution_count": 19,
   "id": "better-jaguar",
   "metadata": {},
   "outputs": [],
   "source": [
    "# y_testdf = pd.DataFrame(y_test, columns =['counts'])\n",
    "# y_testdf['label'] = pd.cut(y_testdf['counts'], bins, labels=names)\n",
    "# y_testdf = dis.encode(y_testdf, ['label'])\n"
   ]
  },
  {
   "cell_type": "code",
   "execution_count": null,
   "id": "nervous-payroll",
   "metadata": {},
   "outputs": [],
   "source": []
  },
  {
   "cell_type": "code",
   "execution_count": 20,
   "id": "undefined-elimination",
   "metadata": {},
   "outputs": [],
   "source": [
    "from sklearn import metrics"
   ]
  },
  {
   "cell_type": "code",
   "execution_count": 21,
   "id": "silent-niagara",
   "metadata": {},
   "outputs": [
    {
     "name": "stdout",
     "output_type": "stream",
     "text": [
      "0.29233591802824704\n",
      "0.29233591802824704\n",
      "-0.11306065194042869\n"
     ]
    }
   ],
   "source": [
    "print(metrics.mean_absolute_error(y_test, x_predict))\n",
    "print(metrics.mean_squared_error(y_test, x_predict))\n",
    "print(metrics.r2_score(y_test, x_predict))"
   ]
  },
  {
   "cell_type": "code",
   "execution_count": 22,
   "id": "distant-viking",
   "metadata": {},
   "outputs": [],
   "source": [
    "# print(metrics.mean_absolute_error(y_testdf['label'], x_predictdf['label']))\n",
    "# print(metrics.mean_squared_error(y_testdf['label'], x_predictdf['label']))\n",
    "# print(metrics.r2_score(y_testdf['label'], x_predictdf['label']))"
   ]
  },
  {
   "cell_type": "code",
   "execution_count": 23,
   "id": "vocational-avatar",
   "metadata": {},
   "outputs": [],
   "source": [
    "from sklearn.metrics import classification_report"
   ]
  },
  {
   "cell_type": "code",
   "execution_count": 24,
   "id": "nearby-average",
   "metadata": {},
   "outputs": [
    {
     "name": "stdout",
     "output_type": "stream",
     "text": [
      "              precision    recall  f1-score   support\n",
      "\n",
      "           0       0.00      0.00      0.00      3467\n",
      "           1       0.71      1.00      0.83     40886\n",
      "           2       0.00      0.00      0.00     13423\n",
      "\n",
      "    accuracy                           0.71     57776\n",
      "   macro avg       0.24      0.33      0.28     57776\n",
      "weighted avg       0.50      0.71      0.59     57776\n",
      "\n"
     ]
    },
    {
     "name": "stderr",
     "output_type": "stream",
     "text": [
      "D:\\Anaconda\\envs\\tensorflow\\lib\\site-packages\\sklearn\\metrics\\_classification.py:1245: UndefinedMetricWarning: Precision and F-score are ill-defined and being set to 0.0 in labels with no predicted samples. Use `zero_division` parameter to control this behavior.\n",
      "  _warn_prf(average, modifier, msg_start, len(result))\n",
      "D:\\Anaconda\\envs\\tensorflow\\lib\\site-packages\\sklearn\\metrics\\_classification.py:1245: UndefinedMetricWarning: Precision and F-score are ill-defined and being set to 0.0 in labels with no predicted samples. Use `zero_division` parameter to control this behavior.\n",
      "  _warn_prf(average, modifier, msg_start, len(result))\n",
      "D:\\Anaconda\\envs\\tensorflow\\lib\\site-packages\\sklearn\\metrics\\_classification.py:1245: UndefinedMetricWarning: Precision and F-score are ill-defined and being set to 0.0 in labels with no predicted samples. Use `zero_division` parameter to control this behavior.\n",
      "  _warn_prf(average, modifier, msg_start, len(result))\n"
     ]
    }
   ],
   "source": [
    "report = classification_report(y_test, x_predict)\n",
    "print(report)"
   ]
  },
  {
   "cell_type": "code",
   "execution_count": 25,
   "id": "animal-prediction",
   "metadata": {},
   "outputs": [],
   "source": [
    "# report = classification_report(y_testdf['label'],  x_predictdf['label'])\n",
    "# print(report)"
   ]
  },
  {
   "cell_type": "code",
   "execution_count": 26,
   "id": "typical-punch",
   "metadata": {},
   "outputs": [],
   "source": [
    "from sklearn.decomposition import PCA"
   ]
  },
  {
   "cell_type": "code",
   "execution_count": 27,
   "id": "enabling-heather",
   "metadata": {},
   "outputs": [],
   "source": [
    "pca = PCA(n_components=2)"
   ]
  },
  {
   "cell_type": "code",
   "execution_count": 28,
   "id": "going-reporter",
   "metadata": {},
   "outputs": [
    {
     "data": {
      "text/plain": [
       "PCA(n_components=2)"
      ]
     },
     "execution_count": 28,
     "metadata": {},
     "output_type": "execute_result"
    }
   ],
   "source": [
    "pca.fit(X_train)"
   ]
  },
  {
   "cell_type": "code",
   "execution_count": 29,
   "id": "grave-merchandise",
   "metadata": {},
   "outputs": [
    {
     "name": "stdout",
     "output_type": "stream",
     "text": [
      "[1.0000000e+00 4.7474771e-14]\n"
     ]
    }
   ],
   "source": [
    "print(pca.explained_variance_ratio_)"
   ]
  },
  {
   "cell_type": "code",
   "execution_count": 30,
   "id": "derived-scheduling",
   "metadata": {},
   "outputs": [
    {
     "name": "stdout",
     "output_type": "stream",
     "text": [
      "[5.20000549e+08 1.13301391e+02]\n"
     ]
    }
   ],
   "source": [
    "print(pca.singular_values_)"
   ]
  },
  {
   "cell_type": "code",
   "execution_count": 31,
   "id": "occasional-password",
   "metadata": {},
   "outputs": [],
   "source": [
    "transformed = pd.DataFrame(pca.fit_transform(X_train))\n"
   ]
  },
  {
   "cell_type": "code",
   "execution_count": 32,
   "id": "novel-basin",
   "metadata": {},
   "outputs": [
    {
     "data": {
      "text/plain": [
       "[<matplotlib.lines.Line2D at 0x24edfd95188>,\n",
       " <matplotlib.lines.Line2D at 0x24edfdcf1c8>,\n",
       " <matplotlib.lines.Line2D at 0x24edfda99c8>,\n",
       " <matplotlib.lines.Line2D at 0x24edee6a7c8>,\n",
       " <matplotlib.lines.Line2D at 0x24edee69f08>,\n",
       " <matplotlib.lines.Line2D at 0x24edee68f88>,\n",
       " <matplotlib.lines.Line2D at 0x24edee68d88>,\n",
       " <matplotlib.lines.Line2D at 0x24edee68c48>,\n",
       " <matplotlib.lines.Line2D at 0x24edee68388>]"
      ]
     },
     "execution_count": 32,
     "metadata": {},
     "output_type": "execute_result"
    },
    {
     "data": {
      "image/png": "[encoded data removed]",
      "text/plain": [
       "<Figure size 432x288 with 1 Axes>"
      ]
     },
     "metadata": {
      "needs_background": "light"
     },
     "output_type": "display_data"
    }
   ],
   "source": [
    "plt.plot(X_test, x_predict, color='blue', linewidth=3)"
   ]
  },
  {
   "cell_type": "code",
   "execution_count": 33,
   "id": "color-compatibility",
   "metadata": {},
   "outputs": [
    {
     "data": {
      "text/html": [
       "<div>\n",
       "<style scoped>\n",
       "    .dataframe tbody tr th:only-of-type {\n",
       "        vertical-align: middle;\n",
       "    }\n",
       "\n",
       "    .dataframe tbody tr th {\n",
       "        vertical-align: top;\n",
       "    }\n",
       "\n",
       "    .dataframe thead th {\n",
       "        text-align: right;\n",
       "    }\n",
       "</style>\n",
       "<table border=\"1\" class=\"dataframe\">\n",
       "  <thead>\n",
       "    <tr style=\"text-align: right;\">\n",
       "      <th></th>\n",
       "      <th>datetime</th>\n",
       "      <th>zone</th>\n",
       "      <th>weatherCondition</th>\n",
       "      <th>humidity</th>\n",
       "      <th>pressure</th>\n",
       "      <th>temperature</th>\n",
       "      <th>windDirection</th>\n",
       "      <th>windSpeed</th>\n",
       "      <th>holiday</th>\n",
       "    </tr>\n",
       "  </thead>\n",
       "  <tbody>\n",
       "    <tr>\n",
       "      <th>220</th>\n",
       "      <td>1.396305e+09</td>\n",
       "      <td>0.704280</td>\n",
       "      <td>0.800000</td>\n",
       "      <td>0.555556</td>\n",
       "      <td>0.489362</td>\n",
       "      <td>0.158320</td>\n",
       "      <td>1.000000</td>\n",
       "      <td>0.333333</td>\n",
       "      <td>0.5</td>\n",
       "    </tr>\n",
       "    <tr>\n",
       "      <th>64854</th>\n",
       "      <td>1.398368e+09</td>\n",
       "      <td>0.856031</td>\n",
       "      <td>0.066667</td>\n",
       "      <td>0.055556</td>\n",
       "      <td>0.404255</td>\n",
       "      <td>0.419709</td>\n",
       "      <td>0.944444</td>\n",
       "      <td>0.583333</td>\n",
       "      <td>0.5</td>\n",
       "    </tr>\n",
       "    <tr>\n",
       "      <th>79469</th>\n",
       "      <td>1.398811e+09</td>\n",
       "      <td>0.797665</td>\n",
       "      <td>0.600000</td>\n",
       "      <td>0.933333</td>\n",
       "      <td>1.000000</td>\n",
       "      <td>0.227313</td>\n",
       "      <td>0.261111</td>\n",
       "      <td>0.416667</td>\n",
       "      <td>0.5</td>\n",
       "    </tr>\n",
       "    <tr>\n",
       "      <th>131747</th>\n",
       "      <td>1.400312e+09</td>\n",
       "      <td>0.392996</td>\n",
       "      <td>0.800000</td>\n",
       "      <td>0.900000</td>\n",
       "      <td>0.404255</td>\n",
       "      <td>0.485299</td>\n",
       "      <td>0.763889</td>\n",
       "      <td>0.000000</td>\n",
       "      <td>1.0</td>\n",
       "    </tr>\n",
       "    <tr>\n",
       "      <th>3625</th>\n",
       "      <td>1.396417e+09</td>\n",
       "      <td>0.603113</td>\n",
       "      <td>0.666667</td>\n",
       "      <td>0.788889</td>\n",
       "      <td>0.489362</td>\n",
       "      <td>0.149273</td>\n",
       "      <td>0.277778</td>\n",
       "      <td>0.083333</td>\n",
       "      <td>0.5</td>\n",
       "    </tr>\n",
       "    <tr>\n",
       "      <th>...</th>\n",
       "      <td>...</td>\n",
       "      <td>...</td>\n",
       "      <td>...</td>\n",
       "      <td>...</td>\n",
       "      <td>...</td>\n",
       "      <td>...</td>\n",
       "      <td>...</td>\n",
       "      <td>...</td>\n",
       "      <td>...</td>\n",
       "    </tr>\n",
       "    <tr>\n",
       "      <th>93611</th>\n",
       "      <td>1.399207e+09</td>\n",
       "      <td>0.797665</td>\n",
       "      <td>0.000000</td>\n",
       "      <td>0.288889</td>\n",
       "      <td>0.191489</td>\n",
       "      <td>0.543134</td>\n",
       "      <td>0.750000</td>\n",
       "      <td>0.833333</td>\n",
       "      <td>1.0</td>\n",
       "    </tr>\n",
       "    <tr>\n",
       "      <th>125209</th>\n",
       "      <td>1.400128e+09</td>\n",
       "      <td>0.731518</td>\n",
       "      <td>0.533333</td>\n",
       "      <td>0.977778</td>\n",
       "      <td>0.553191</td>\n",
       "      <td>0.530210</td>\n",
       "      <td>0.411111</td>\n",
       "      <td>0.083333</td>\n",
       "      <td>0.5</td>\n",
       "    </tr>\n",
       "    <tr>\n",
       "      <th>136035</th>\n",
       "      <td>1.400423e+09</td>\n",
       "      <td>0.365759</td>\n",
       "      <td>0.466667</td>\n",
       "      <td>0.411111</td>\n",
       "      <td>0.468085</td>\n",
       "      <td>0.600000</td>\n",
       "      <td>0.905556</td>\n",
       "      <td>0.250000</td>\n",
       "      <td>1.0</td>\n",
       "    </tr>\n",
       "    <tr>\n",
       "      <th>87897</th>\n",
       "      <td>1.399048e+09</td>\n",
       "      <td>0.879377</td>\n",
       "      <td>0.733333</td>\n",
       "      <td>0.488889</td>\n",
       "      <td>0.510638</td>\n",
       "      <td>0.553258</td>\n",
       "      <td>0.700000</td>\n",
       "      <td>0.333333</td>\n",
       "      <td>0.5</td>\n",
       "    </tr>\n",
       "    <tr>\n",
       "      <th>104172</th>\n",
       "      <td>1.399527e+09</td>\n",
       "      <td>0.315175</td>\n",
       "      <td>0.533333</td>\n",
       "      <td>0.977778</td>\n",
       "      <td>0.553191</td>\n",
       "      <td>0.392246</td>\n",
       "      <td>0.491667</td>\n",
       "      <td>0.000000</td>\n",
       "      <td>0.5</td>\n",
       "    </tr>\n",
       "  </tbody>\n",
       "</table>\n",
       "<p>57776 rows × 9 columns</p>\n",
       "</div>"
      ],
      "text/plain": [
       "            datetime      zone  weatherCondition  humidity  pressure  \\\n",
       "220     1.396305e+09  0.704280          0.800000  0.555556  0.489362   \n",
       "64854   1.398368e+09  0.856031          0.066667  0.055556  0.404255   \n",
       "79469   1.398811e+09  0.797665          0.600000  0.933333  1.000000   \n",
       "131747  1.400312e+09  0.392996          0.800000  0.900000  0.404255   \n",
       "3625    1.396417e+09  0.603113          0.666667  0.788889  0.489362   \n",
       "...              ...       ...               ...       ...       ...   \n",
       "93611   1.399207e+09  0.797665          0.000000  0.288889  0.191489   \n",
       "125209  1.400128e+09  0.731518          0.533333  0.977778  0.553191   \n",
       "136035  1.400423e+09  0.365759          0.466667  0.411111  0.468085   \n",
       "87897   1.399048e+09  0.879377          0.733333  0.488889  0.510638   \n",
       "104172  1.399527e+09  0.315175          0.533333  0.977778  0.553191   \n",
       "\n",
       "        temperature  windDirection  windSpeed  holiday  \n",
       "220        0.158320       1.000000   0.333333      0.5  \n",
       "64854      0.419709       0.944444   0.583333      0.5  \n",
       "79469      0.227313       0.261111   0.416667      0.5  \n",
       "131747     0.485299       0.763889   0.000000      1.0  \n",
       "3625       0.149273       0.277778   0.083333      0.5  \n",
       "...             ...            ...        ...      ...  \n",
       "93611      0.543134       0.750000   0.833333      1.0  \n",
       "125209     0.530210       0.411111   0.083333      0.5  \n",
       "136035     0.600000       0.905556   0.250000      1.0  \n",
       "87897      0.553258       0.700000   0.333333      0.5  \n",
       "104172     0.392246       0.491667   0.000000      0.5  \n",
       "\n",
       "[57776 rows x 9 columns]"
      ]
     },
     "execution_count": 33,
     "metadata": {},
     "output_type": "execute_result"
    }
   ],
   "source": [
    "X_test"
   ]
  },
  {
   "cell_type": "code",
   "execution_count": 34,
   "id": "progressive-least",
   "metadata": {},
   "outputs": [
    {
     "data": {
      "text/plain": [
       "57776"
      ]
     },
     "execution_count": 34,
     "metadata": {},
     "output_type": "execute_result"
    }
   ],
   "source": [
    "len(x_predict)"
   ]
  },
  {
   "cell_type": "code",
   "execution_count": 35,
   "id": "nutritional-mount",
   "metadata": {},
   "outputs": [
    {
     "name": "stderr",
     "output_type": "stream",
     "text": [
      "No handles with labels found to put in legend.\n"
     ]
    },
    {
     "data": {
      "image/png": "[encoded data removed]",
      "text/plain": [
       "<Figure size 432x288 with 1 Axes>"
      ]
     },
     "metadata": {
      "needs_background": "light"
     },
     "output_type": "display_data"
    }
   ],
   "source": [
    "plt.scatter(transformed[0], transformed[1], alpha=0.7)\n",
    "plt.legend()\n",
    "plt.show()"
   ]
  },
  {
   "cell_type": "code",
   "execution_count": 36,
   "id": "failing-diary",
   "metadata": {},
   "outputs": [
    {
     "data": {
      "text/html": [
       "<div>\n",
       "<style scoped>\n",
       "    .dataframe tbody tr th:only-of-type {\n",
       "        vertical-align: middle;\n",
       "    }\n",
       "\n",
       "    .dataframe tbody tr th {\n",
       "        vertical-align: top;\n",
       "    }\n",
       "\n",
       "    .dataframe thead th {\n",
       "        text-align: right;\n",
       "    }\n",
       "</style>\n",
       "<table border=\"1\" class=\"dataframe\">\n",
       "  <thead>\n",
       "    <tr style=\"text-align: right;\">\n",
       "      <th></th>\n",
       "      <th>datetime</th>\n",
       "      <th>zone</th>\n",
       "      <th>weatherCondition</th>\n",
       "      <th>humidity</th>\n",
       "      <th>pressure</th>\n",
       "      <th>temperature</th>\n",
       "      <th>windDirection</th>\n",
       "      <th>windSpeed</th>\n",
       "      <th>holiday</th>\n",
       "    </tr>\n",
       "  </thead>\n",
       "  <tbody>\n",
       "    <tr>\n",
       "      <th>129002</th>\n",
       "      <td>1.400236e+09</td>\n",
       "      <td>0.315175</td>\n",
       "      <td>0.200000</td>\n",
       "      <td>0.888889</td>\n",
       "      <td>0.319149</td>\n",
       "      <td>0.662682</td>\n",
       "      <td>0.530556</td>\n",
       "      <td>0.500000</td>\n",
       "      <td>0.5</td>\n",
       "    </tr>\n",
       "    <tr>\n",
       "      <th>80246</th>\n",
       "      <td>1.398832e+09</td>\n",
       "      <td>0.867704</td>\n",
       "      <td>0.333333</td>\n",
       "      <td>0.988889</td>\n",
       "      <td>0.957447</td>\n",
       "      <td>0.227894</td>\n",
       "      <td>0.241667</td>\n",
       "      <td>0.500000</td>\n",
       "      <td>0.5</td>\n",
       "    </tr>\n",
       "    <tr>\n",
       "      <th>72154</th>\n",
       "      <td>1.398577e+09</td>\n",
       "      <td>0.322957</td>\n",
       "      <td>0.066667</td>\n",
       "      <td>0.566667</td>\n",
       "      <td>0.404255</td>\n",
       "      <td>0.275606</td>\n",
       "      <td>0.916667</td>\n",
       "      <td>0.416667</td>\n",
       "      <td>1.0</td>\n",
       "    </tr>\n",
       "    <tr>\n",
       "      <th>159323</th>\n",
       "      <td>1.401100e+09</td>\n",
       "      <td>0.902724</td>\n",
       "      <td>0.000000</td>\n",
       "      <td>0.244444</td>\n",
       "      <td>0.446809</td>\n",
       "      <td>0.927302</td>\n",
       "      <td>0.750000</td>\n",
       "      <td>0.500000</td>\n",
       "      <td>0.0</td>\n",
       "    </tr>\n",
       "    <tr>\n",
       "      <th>131245</th>\n",
       "      <td>1.400301e+09</td>\n",
       "      <td>0.019455</td>\n",
       "      <td>0.466667</td>\n",
       "      <td>0.833333</td>\n",
       "      <td>0.361702</td>\n",
       "      <td>0.389661</td>\n",
       "      <td>0.841667</td>\n",
       "      <td>0.083333</td>\n",
       "      <td>1.0</td>\n",
       "    </tr>\n",
       "    <tr>\n",
       "      <th>...</th>\n",
       "      <td>...</td>\n",
       "      <td>...</td>\n",
       "      <td>...</td>\n",
       "      <td>...</td>\n",
       "      <td>...</td>\n",
       "      <td>...</td>\n",
       "      <td>...</td>\n",
       "      <td>...</td>\n",
       "      <td>...</td>\n",
       "    </tr>\n",
       "    <tr>\n",
       "      <th>82270</th>\n",
       "      <td>1.398890e+09</td>\n",
       "      <td>0.887160</td>\n",
       "      <td>0.600000</td>\n",
       "      <td>0.944444</td>\n",
       "      <td>0.744681</td>\n",
       "      <td>0.396252</td>\n",
       "      <td>0.341667</td>\n",
       "      <td>0.416667</td>\n",
       "      <td>0.5</td>\n",
       "    </tr>\n",
       "    <tr>\n",
       "      <th>65615</th>\n",
       "      <td>1.398393e+09</td>\n",
       "      <td>0.610895</td>\n",
       "      <td>0.800000</td>\n",
       "      <td>0.233333</td>\n",
       "      <td>0.425532</td>\n",
       "      <td>0.218094</td>\n",
       "      <td>0.027778</td>\n",
       "      <td>0.250000</td>\n",
       "      <td>0.5</td>\n",
       "    </tr>\n",
       "    <tr>\n",
       "      <th>77655</th>\n",
       "      <td>1.398757e+09</td>\n",
       "      <td>0.233463</td>\n",
       "      <td>0.800000</td>\n",
       "      <td>0.844444</td>\n",
       "      <td>0.446809</td>\n",
       "      <td>0.283037</td>\n",
       "      <td>0.311111</td>\n",
       "      <td>0.083333</td>\n",
       "      <td>0.5</td>\n",
       "    </tr>\n",
       "    <tr>\n",
       "      <th>56088</th>\n",
       "      <td>1.398080e+09</td>\n",
       "      <td>0.521401</td>\n",
       "      <td>0.733333</td>\n",
       "      <td>0.166667</td>\n",
       "      <td>0.489362</td>\n",
       "      <td>0.577383</td>\n",
       "      <td>0.361111</td>\n",
       "      <td>0.166667</td>\n",
       "      <td>0.5</td>\n",
       "    </tr>\n",
       "    <tr>\n",
       "      <th>38408</th>\n",
       "      <td>1.397497e+09</td>\n",
       "      <td>0.972763</td>\n",
       "      <td>0.000000</td>\n",
       "      <td>0.477778</td>\n",
       "      <td>0.319149</td>\n",
       "      <td>0.684976</td>\n",
       "      <td>0.472222</td>\n",
       "      <td>0.583333</td>\n",
       "      <td>0.5</td>\n",
       "    </tr>\n",
       "  </tbody>\n",
       "</table>\n",
       "<p>117302 rows × 9 columns</p>\n",
       "</div>"
      ],
      "text/plain": [
       "            datetime      zone  weatherCondition  humidity  pressure  \\\n",
       "129002  1.400236e+09  0.315175          0.200000  0.888889  0.319149   \n",
       "80246   1.398832e+09  0.867704          0.333333  0.988889  0.957447   \n",
       "72154   1.398577e+09  0.322957          0.066667  0.566667  0.404255   \n",
       "159323  1.401100e+09  0.902724          0.000000  0.244444  0.446809   \n",
       "131245  1.400301e+09  0.019455          0.466667  0.833333  0.361702   \n",
       "...              ...       ...               ...       ...       ...   \n",
       "82270   1.398890e+09  0.887160          0.600000  0.944444  0.744681   \n",
       "65615   1.398393e+09  0.610895          0.800000  0.233333  0.425532   \n",
       "77655   1.398757e+09  0.233463          0.800000  0.844444  0.446809   \n",
       "56088   1.398080e+09  0.521401          0.733333  0.166667  0.489362   \n",
       "38408   1.397497e+09  0.972763          0.000000  0.477778  0.319149   \n",
       "\n",
       "        temperature  windDirection  windSpeed  holiday  \n",
       "129002     0.662682       0.530556   0.500000      0.5  \n",
       "80246      0.227894       0.241667   0.500000      0.5  \n",
       "72154      0.275606       0.916667   0.416667      1.0  \n",
       "159323     0.927302       0.750000   0.500000      0.0  \n",
       "131245     0.389661       0.841667   0.083333      1.0  \n",
       "...             ...            ...        ...      ...  \n",
       "82270      0.396252       0.341667   0.416667      0.5  \n",
       "65615      0.218094       0.027778   0.250000      0.5  \n",
       "77655      0.283037       0.311111   0.083333      0.5  \n",
       "56088      0.577383       0.361111   0.166667      0.5  \n",
       "38408      0.684976       0.472222   0.583333      0.5  \n",
       "\n",
       "[117302 rows x 9 columns]"
      ]
     },
     "execution_count": 36,
     "metadata": {},
     "output_type": "execute_result"
    }
   ],
   "source": [
    "X_train"
   ]
  }
 ],
 "metadata": {
  "kernelspec": {
   "display_name": "Python 3",
   "language": "python",
   "name": "python3"
  },
  "language_info": {
   "codemirror_mode": {
    "name": "ipython",
    "version": 3
   },
   "file_extension": ".py",
   "mimetype": "text/x-python",
   "name": "python",
   "nbconvert_exporter": "python",
   "pygments_lexer": "ipython3",
   "version": "3.7.9"
  }
 },
 "nbformat": 4,
 "nbformat_minor": 5
}
