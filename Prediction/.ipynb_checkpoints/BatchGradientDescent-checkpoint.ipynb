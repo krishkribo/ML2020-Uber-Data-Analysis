{
 "cells": [
  {
   "cell_type": "code",
   "execution_count": 1,
   "id": "sophisticated-onion",
   "metadata": {},
   "outputs": [],
   "source": [
    "import numpy as np\n",
    "from matplotlib import pyplot as plt\n",
    "import pandas as pd\n",
    "import os\n",
    "import sys\n",
    "\n",
    "module_path = os.path.abspath(os.path.join('..'))\n",
    "if module_path not in sys.path:\n",
    "    sys.path.append(module_path)\n",
    "\n",
    "# FIX ME: Root dir as argument\n",
    "root_dir = \"../../data/picklerCheckpoints/\"\n",
    "is_compressed = True;"
   ]
  },
  {
   "cell_type": "code",
   "execution_count": 2,
   "id": "norwegian-graduate",
   "metadata": {},
   "outputs": [
    {
     "name": "stdout",
     "output_type": "stream",
     "text": [
      "Importing Jupyter notebook from D:\\Academics\\MLRepoNew\\ML2020-Uber-Data-Analysis\\Preprocessing\\SpatialMapping.ipynb\n",
      "Importing Jupyter notebook from D:\\Academics\\MLRepoNew\\ML2020-Uber-Data-Analysis\\commons\\utility\\pickle_util.ipynb\n",
      "Importing Jupyter notebook from D:\\Academics\\MLRepoNew\\ML2020-Uber-Data-Analysis\\Preprocessing\\DataEnrichment.ipynb\n",
      "Importing Jupyter notebook from D:\\Academics\\MLRepoNew\\ML2020-Uber-Data-Analysis\\Preprocessing\\Discretization.ipynb\n"
     ]
    }
   ],
   "source": [
    "import nbimporter\n",
    "import Preprocessing.SpatialMapping as sm\n",
    "import Preprocessing.Discretization as dis\n",
    "import time\n",
    "import math"
   ]
  },
  {
   "cell_type": "code",
   "execution_count": 3,
   "id": "naughty-spanish",
   "metadata": {},
   "outputs": [
    {
     "name": "stdout",
     "output_type": "stream",
     "text": [
      "Data for the month :jun Found.....\n",
      "++++++++++++++++++++++++++++++++++++++++++++++++++++++++++++++++++++++++++++++++++++++++++++++++++++\n",
      "Loading file ../data/picklerCheckpoints/spatialJoinData/uber-spatial-data-jun14.p\n",
      "Decompressing ../data/picklerCheckpoints/spatialJoinData/uber-spatial-data-jun14.p.pbz2..............Done\n",
      "++++++++++++++++++++++++++++++++++++++++++++++++++++++++++++++++++++++++++++++++++++++++++++++++++++\n",
      "\n",
      "Result Saved in ../data/picklerCheckpoints/spatialJoinData/uber-spatial-data-14.p\n"
     ]
    }
   ],
   "source": [
    "data = sm.run(['jun'])"
   ]
  },
  {
   "cell_type": "code",
   "execution_count": 168,
   "id": "emerging-impression",
   "metadata": {},
   "outputs": [],
   "source": [
    "df = data.copy()\n",
    "columns = ['datetime', 'zone']"
   ]
  },
  {
   "cell_type": "code",
   "execution_count": 169,
   "id": "entire-tyler",
   "metadata": {},
   "outputs": [
    {
     "name": "stderr",
     "output_type": "stream",
     "text": [
      "D:\\Academics\\MLRepoNew\\ML2020-Uber-Data-Analysis\\Preprocessing\\Discretization.ipynb:7: SettingWithCopyWarning: \n",
      "A value is trying to be set on a copy of a slice from a DataFrame.\n",
      "Try using .loc[row_indexer,col_indexer] = value instead\n",
      "\n",
      "See the caveats in the documentation: https://pandas.pydata.org/pandas-docs/stable/user_guide/indexing.html#returning-a-view-versus-a-copy\n",
      "  \"metadata\": {},\n"
     ]
    },
    {
     "name": "stdout",
     "output_type": "stream",
     "text": [
      "Result Saved in ../data/encodedMappings/zone.p\n",
      "Result Saved in ../data/encodedMappings/weatherCondition.p\n"
     ]
    }
   ],
   "source": [
    "df2 = df[columns]\n",
    "df2g = dis.encode(df2, ['zone'])\n",
    "df2g = df2.groupby(columns).size().reset_index(name='counts')\n",
    "df2g['datetime'] = pd.to_datetime(df2g['datetime'], format='%m-%d-%Y:%H').apply(lambda x: time.mktime(x.timetuple()))"
   ]
  },
  {
   "cell_type": "code",
   "execution_count": null,
   "id": "particular-control",
   "metadata": {},
   "outputs": [],
   "source": []
  },
  {
   "cell_type": "code",
   "execution_count": 170,
   "id": "amended-thing",
   "metadata": {},
   "outputs": [
    {
     "data": {
      "text/plain": [
       "count    93164.000000\n",
       "mean        14.384258\n",
       "std         26.169024\n",
       "min          1.000000\n",
       "25%          1.000000\n",
       "50%          5.000000\n",
       "75%         16.000000\n",
       "max        433.000000\n",
       "Name: counts, dtype: float64"
      ]
     },
     "execution_count": 170,
     "metadata": {},
     "output_type": "execute_result"
    }
   ],
   "source": [
    "df2g['counts'].describe()"
   ]
  },
  {
   "cell_type": "code",
   "execution_count": 171,
   "id": "urban-discount",
   "metadata": {},
   "outputs": [
    {
     "data": {
      "text/plain": [
       "<AxesSubplot:ylabel='Frequency'>"
      ]
     },
     "execution_count": 171,
     "metadata": {},
     "output_type": "execute_result"
    },
    {
     "data": {
      "image/png": "[encoded data removed]",
      "text/plain": [
       "<Figure size 432x288 with 1 Axes>"
      ]
     },
     "metadata": {
      "needs_background": "light"
     },
     "output_type": "display_data"
    }
   ],
   "source": [
    "df2g['counts'].plot.hist( bins=100, alpha=0.5)"
   ]
  },
  {
   "cell_type": "code",
   "execution_count": 172,
   "id": "toxic-intent",
   "metadata": {},
   "outputs": [
    {
     "data": {
      "text/html": [
       "<div>\n",
       "<style scoped>\n",
       "    .dataframe tbody tr th:only-of-type {\n",
       "        vertical-align: middle;\n",
       "    }\n",
       "\n",
       "    .dataframe tbody tr th {\n",
       "        vertical-align: top;\n",
       "    }\n",
       "\n",
       "    .dataframe thead th {\n",
       "        text-align: right;\n",
       "    }\n",
       "</style>\n",
       "<table border=\"1\" class=\"dataframe\">\n",
       "  <thead>\n",
       "    <tr style=\"text-align: right;\">\n",
       "      <th></th>\n",
       "      <th>Date/Time</th>\n",
       "      <th>Lat</th>\n",
       "      <th>Lon</th>\n",
       "      <th>Base</th>\n",
       "      <th>datetime</th>\n",
       "      <th>weatherCondition</th>\n",
       "      <th>humidity</th>\n",
       "      <th>pressure</th>\n",
       "      <th>temperature</th>\n",
       "      <th>windDirection</th>\n",
       "      <th>windSpeed</th>\n",
       "      <th>geometry</th>\n",
       "      <th>index_right</th>\n",
       "      <th>zone</th>\n",
       "      <th>LocationID</th>\n",
       "      <th>borough</th>\n",
       "      <th>borough_categ</th>\n",
       "    </tr>\n",
       "  </thead>\n",
       "  <tbody>\n",
       "    <tr>\n",
       "      <th>0</th>\n",
       "      <td>6/1/2014 0:00:00</td>\n",
       "      <td>40.7293</td>\n",
       "      <td>-73.9920</td>\n",
       "      <td>B02512</td>\n",
       "      <td>06-01-2014:00</td>\n",
       "      <td>broken clouds</td>\n",
       "      <td>63.0</td>\n",
       "      <td>1024.0</td>\n",
       "      <td>291.18</td>\n",
       "      <td>120.0</td>\n",
       "      <td>4.0</td>\n",
       "      <td>POINT (-73.99200 40.72930)</td>\n",
       "      <td>78.0</td>\n",
       "      <td>East Village</td>\n",
       "      <td>79.0</td>\n",
       "      <td>Manhattan</td>\n",
       "      <td>3.0</td>\n",
       "    </tr>\n",
       "    <tr>\n",
       "      <th>0</th>\n",
       "      <td>6/1/2014 0:00:00</td>\n",
       "      <td>40.7293</td>\n",
       "      <td>-73.9920</td>\n",
       "      <td>B02512</td>\n",
       "      <td>06-01-2014:00</td>\n",
       "      <td>broken clouds</td>\n",
       "      <td>63.0</td>\n",
       "      <td>1024.0</td>\n",
       "      <td>291.18</td>\n",
       "      <td>120.0</td>\n",
       "      <td>4.0</td>\n",
       "      <td>POINT (-73.99200 40.72930)</td>\n",
       "      <td>112.0</td>\n",
       "      <td>Greenwich Village North</td>\n",
       "      <td>113.0</td>\n",
       "      <td>Manhattan</td>\n",
       "      <td>3.0</td>\n",
       "    </tr>\n",
       "    <tr>\n",
       "      <th>0</th>\n",
       "      <td>6/1/2014 0:00:00</td>\n",
       "      <td>40.7293</td>\n",
       "      <td>-73.9920</td>\n",
       "      <td>B02512</td>\n",
       "      <td>06-01-2014:00</td>\n",
       "      <td>broken clouds</td>\n",
       "      <td>63.0</td>\n",
       "      <td>1024.0</td>\n",
       "      <td>291.18</td>\n",
       "      <td>120.0</td>\n",
       "      <td>4.0</td>\n",
       "      <td>POINT (-73.99200 40.72930)</td>\n",
       "      <td>113.0</td>\n",
       "      <td>Greenwich Village South</td>\n",
       "      <td>114.0</td>\n",
       "      <td>Manhattan</td>\n",
       "      <td>3.0</td>\n",
       "    </tr>\n",
       "    <tr>\n",
       "      <th>1</th>\n",
       "      <td>6/1/2014 0:01:00</td>\n",
       "      <td>40.7131</td>\n",
       "      <td>-74.0097</td>\n",
       "      <td>B02512</td>\n",
       "      <td>06-01-2014:00</td>\n",
       "      <td>broken clouds</td>\n",
       "      <td>63.0</td>\n",
       "      <td>1024.0</td>\n",
       "      <td>291.18</td>\n",
       "      <td>120.0</td>\n",
       "      <td>4.0</td>\n",
       "      <td>POINT (-74.00970 40.71310)</td>\n",
       "      <td>230.0</td>\n",
       "      <td>TriBeCa/Civic Center</td>\n",
       "      <td>231.0</td>\n",
       "      <td>Manhattan</td>\n",
       "      <td>3.0</td>\n",
       "    </tr>\n",
       "    <tr>\n",
       "      <th>1</th>\n",
       "      <td>6/1/2014 0:01:00</td>\n",
       "      <td>40.7131</td>\n",
       "      <td>-74.0097</td>\n",
       "      <td>B02512</td>\n",
       "      <td>06-01-2014:00</td>\n",
       "      <td>broken clouds</td>\n",
       "      <td>63.0</td>\n",
       "      <td>1024.0</td>\n",
       "      <td>291.18</td>\n",
       "      <td>120.0</td>\n",
       "      <td>4.0</td>\n",
       "      <td>POINT (-74.00970 40.71310)</td>\n",
       "      <td>260.0</td>\n",
       "      <td>World Trade Center</td>\n",
       "      <td>261.0</td>\n",
       "      <td>Manhattan</td>\n",
       "      <td>3.0</td>\n",
       "    </tr>\n",
       "    <tr>\n",
       "      <th>...</th>\n",
       "      <td>...</td>\n",
       "      <td>...</td>\n",
       "      <td>...</td>\n",
       "      <td>...</td>\n",
       "      <td>...</td>\n",
       "      <td>...</td>\n",
       "      <td>...</td>\n",
       "      <td>...</td>\n",
       "      <td>...</td>\n",
       "      <td>...</td>\n",
       "      <td>...</td>\n",
       "      <td>...</td>\n",
       "      <td>...</td>\n",
       "      <td>...</td>\n",
       "      <td>...</td>\n",
       "      <td>...</td>\n",
       "      <td>...</td>\n",
       "    </tr>\n",
       "    <tr>\n",
       "      <th>663841</th>\n",
       "      <td>6/30/2014 23:13:00</td>\n",
       "      <td>40.7640</td>\n",
       "      <td>-73.9887</td>\n",
       "      <td>B02764</td>\n",
       "      <td>06-30-2014:23</td>\n",
       "      <td>sky is clear</td>\n",
       "      <td>59.0</td>\n",
       "      <td>1016.0</td>\n",
       "      <td>302.18</td>\n",
       "      <td>199.0</td>\n",
       "      <td>1.0</td>\n",
       "      <td>POINT (-73.98870 40.76400)</td>\n",
       "      <td>49.0</td>\n",
       "      <td>Clinton West</td>\n",
       "      <td>50.0</td>\n",
       "      <td>Manhattan</td>\n",
       "      <td>3.0</td>\n",
       "    </tr>\n",
       "    <tr>\n",
       "      <th>663841</th>\n",
       "      <td>6/30/2014 23:13:00</td>\n",
       "      <td>40.7640</td>\n",
       "      <td>-73.9887</td>\n",
       "      <td>B02764</td>\n",
       "      <td>06-30-2014:23</td>\n",
       "      <td>sky is clear</td>\n",
       "      <td>59.0</td>\n",
       "      <td>1016.0</td>\n",
       "      <td>302.18</td>\n",
       "      <td>199.0</td>\n",
       "      <td>1.0</td>\n",
       "      <td>POINT (-73.98870 40.76400)</td>\n",
       "      <td>229.0</td>\n",
       "      <td>Times Sq/Theatre District</td>\n",
       "      <td>230.0</td>\n",
       "      <td>Manhattan</td>\n",
       "      <td>3.0</td>\n",
       "    </tr>\n",
       "    <tr>\n",
       "      <th>663842</th>\n",
       "      <td>6/30/2014 23:15:00</td>\n",
       "      <td>40.7262</td>\n",
       "      <td>-73.9944</td>\n",
       "      <td>B02764</td>\n",
       "      <td>06-30-2014:23</td>\n",
       "      <td>sky is clear</td>\n",
       "      <td>59.0</td>\n",
       "      <td>1016.0</td>\n",
       "      <td>302.18</td>\n",
       "      <td>199.0</td>\n",
       "      <td>1.0</td>\n",
       "      <td>POINT (-73.99440 40.72620)</td>\n",
       "      <td>113.0</td>\n",
       "      <td>Greenwich Village South</td>\n",
       "      <td>114.0</td>\n",
       "      <td>Manhattan</td>\n",
       "      <td>3.0</td>\n",
       "    </tr>\n",
       "    <tr>\n",
       "      <th>663843</th>\n",
       "      <td>6/30/2014 23:35:00</td>\n",
       "      <td>40.7404</td>\n",
       "      <td>-73.9848</td>\n",
       "      <td>B02764</td>\n",
       "      <td>06-30-2014:23</td>\n",
       "      <td>sky is clear</td>\n",
       "      <td>59.0</td>\n",
       "      <td>1016.0</td>\n",
       "      <td>302.18</td>\n",
       "      <td>199.0</td>\n",
       "      <td>1.0</td>\n",
       "      <td>POINT (-73.98480 40.74040)</td>\n",
       "      <td>106.0</td>\n",
       "      <td>Gramercy</td>\n",
       "      <td>107.0</td>\n",
       "      <td>Manhattan</td>\n",
       "      <td>3.0</td>\n",
       "    </tr>\n",
       "    <tr>\n",
       "      <th>663843</th>\n",
       "      <td>6/30/2014 23:35:00</td>\n",
       "      <td>40.7404</td>\n",
       "      <td>-73.9848</td>\n",
       "      <td>B02764</td>\n",
       "      <td>06-30-2014:23</td>\n",
       "      <td>sky is clear</td>\n",
       "      <td>59.0</td>\n",
       "      <td>1016.0</td>\n",
       "      <td>302.18</td>\n",
       "      <td>199.0</td>\n",
       "      <td>1.0</td>\n",
       "      <td>POINT (-73.98480 40.74040)</td>\n",
       "      <td>233.0</td>\n",
       "      <td>Union Sq</td>\n",
       "      <td>234.0</td>\n",
       "      <td>Manhattan</td>\n",
       "      <td>3.0</td>\n",
       "    </tr>\n",
       "  </tbody>\n",
       "</table>\n",
       "<p>1340095 rows × 17 columns</p>\n",
       "</div>"
      ],
      "text/plain": [
       "                 Date/Time      Lat      Lon    Base       datetime  \\\n",
       "0         6/1/2014 0:00:00  40.7293 -73.9920  B02512  06-01-2014:00   \n",
       "0         6/1/2014 0:00:00  40.7293 -73.9920  B02512  06-01-2014:00   \n",
       "0         6/1/2014 0:00:00  40.7293 -73.9920  B02512  06-01-2014:00   \n",
       "1         6/1/2014 0:01:00  40.7131 -74.0097  B02512  06-01-2014:00   \n",
       "1         6/1/2014 0:01:00  40.7131 -74.0097  B02512  06-01-2014:00   \n",
       "...                    ...      ...      ...     ...            ...   \n",
       "663841  6/30/2014 23:13:00  40.7640 -73.9887  B02764  06-30-2014:23   \n",
       "663841  6/30/2014 23:13:00  40.7640 -73.9887  B02764  06-30-2014:23   \n",
       "663842  6/30/2014 23:15:00  40.7262 -73.9944  B02764  06-30-2014:23   \n",
       "663843  6/30/2014 23:35:00  40.7404 -73.9848  B02764  06-30-2014:23   \n",
       "663843  6/30/2014 23:35:00  40.7404 -73.9848  B02764  06-30-2014:23   \n",
       "\n",
       "       weatherCondition  humidity  pressure  temperature  windDirection  \\\n",
       "0         broken clouds      63.0    1024.0       291.18          120.0   \n",
       "0         broken clouds      63.0    1024.0       291.18          120.0   \n",
       "0         broken clouds      63.0    1024.0       291.18          120.0   \n",
       "1         broken clouds      63.0    1024.0       291.18          120.0   \n",
       "1         broken clouds      63.0    1024.0       291.18          120.0   \n",
       "...                 ...       ...       ...          ...            ...   \n",
       "663841     sky is clear      59.0    1016.0       302.18          199.0   \n",
       "663841     sky is clear      59.0    1016.0       302.18          199.0   \n",
       "663842     sky is clear      59.0    1016.0       302.18          199.0   \n",
       "663843     sky is clear      59.0    1016.0       302.18          199.0   \n",
       "663843     sky is clear      59.0    1016.0       302.18          199.0   \n",
       "\n",
       "        windSpeed                    geometry  index_right  \\\n",
       "0             4.0  POINT (-73.99200 40.72930)         78.0   \n",
       "0             4.0  POINT (-73.99200 40.72930)        112.0   \n",
       "0             4.0  POINT (-73.99200 40.72930)        113.0   \n",
       "1             4.0  POINT (-74.00970 40.71310)        230.0   \n",
       "1             4.0  POINT (-74.00970 40.71310)        260.0   \n",
       "...           ...                         ...          ...   \n",
       "663841        1.0  POINT (-73.98870 40.76400)         49.0   \n",
       "663841        1.0  POINT (-73.98870 40.76400)        229.0   \n",
       "663842        1.0  POINT (-73.99440 40.72620)        113.0   \n",
       "663843        1.0  POINT (-73.98480 40.74040)        106.0   \n",
       "663843        1.0  POINT (-73.98480 40.74040)        233.0   \n",
       "\n",
       "                             zone  LocationID    borough  borough_categ  \n",
       "0                    East Village        79.0  Manhattan            3.0  \n",
       "0         Greenwich Village North       113.0  Manhattan            3.0  \n",
       "0         Greenwich Village South       114.0  Manhattan            3.0  \n",
       "1            TriBeCa/Civic Center       231.0  Manhattan            3.0  \n",
       "1              World Trade Center       261.0  Manhattan            3.0  \n",
       "...                           ...         ...        ...            ...  \n",
       "663841               Clinton West        50.0  Manhattan            3.0  \n",
       "663841  Times Sq/Theatre District       230.0  Manhattan            3.0  \n",
       "663842    Greenwich Village South       114.0  Manhattan            3.0  \n",
       "663843                   Gramercy       107.0  Manhattan            3.0  \n",
       "663843                   Union Sq       234.0  Manhattan            3.0  \n",
       "\n",
       "[1340095 rows x 17 columns]"
      ]
     },
     "execution_count": 172,
     "metadata": {},
     "output_type": "execute_result"
    }
   ],
   "source": [
    "df"
   ]
  },
  {
   "cell_type": "code",
   "execution_count": 173,
   "id": "better-subcommittee",
   "metadata": {},
   "outputs": [],
   "source": [
    "bins = [0, 11, 51, np.inf]\n",
    "names = ['low', 'med', 'high']\n",
    "\n",
    "df2g['label'] = pd.cut(df2g['counts'], bins, labels=names)"
   ]
  },
  {
   "cell_type": "code",
   "execution_count": 174,
   "id": "congressional-gateway",
   "metadata": {},
   "outputs": [
    {
     "name": "stdout",
     "output_type": "stream",
     "text": [
      "Result Saved in ../data/encodedMappings/label.p\n"
     ]
    }
   ],
   "source": [
    "df2g = dis.encode(df2g, ['label'])"
   ]
  },
  {
   "cell_type": "code",
   "execution_count": 175,
   "id": "solar-static",
   "metadata": {},
   "outputs": [
    {
     "data": {
      "text/html": [
       "<div>\n",
       "<style scoped>\n",
       "    .dataframe tbody tr th:only-of-type {\n",
       "        vertical-align: middle;\n",
       "    }\n",
       "\n",
       "    .dataframe tbody tr th {\n",
       "        vertical-align: top;\n",
       "    }\n",
       "\n",
       "    .dataframe thead th {\n",
       "        text-align: right;\n",
       "    }\n",
       "</style>\n",
       "<table border=\"1\" class=\"dataframe\">\n",
       "  <thead>\n",
       "    <tr style=\"text-align: right;\">\n",
       "      <th></th>\n",
       "      <th>datetime</th>\n",
       "      <th>zone</th>\n",
       "      <th>weatherCondition</th>\n",
       "      <th>humidity</th>\n",
       "      <th>pressure</th>\n",
       "      <th>temperature</th>\n",
       "      <th>windDirection</th>\n",
       "      <th>windSpeed</th>\n",
       "      <th>counts</th>\n",
       "      <th>label</th>\n",
       "    </tr>\n",
       "  </thead>\n",
       "  <tbody>\n",
       "    <tr>\n",
       "      <th>0</th>\n",
       "      <td>1.401561e+09</td>\n",
       "      <td>1</td>\n",
       "      <td>0</td>\n",
       "      <td>63.0</td>\n",
       "      <td>1024.0</td>\n",
       "      <td>291.18</td>\n",
       "      <td>120.0</td>\n",
       "      <td>4.0</td>\n",
       "      <td>22</td>\n",
       "      <td>2</td>\n",
       "    </tr>\n",
       "    <tr>\n",
       "      <th>1</th>\n",
       "      <td>1.401561e+09</td>\n",
       "      <td>4</td>\n",
       "      <td>0</td>\n",
       "      <td>63.0</td>\n",
       "      <td>1024.0</td>\n",
       "      <td>291.18</td>\n",
       "      <td>120.0</td>\n",
       "      <td>4.0</td>\n",
       "      <td>3</td>\n",
       "      <td>1</td>\n",
       "    </tr>\n",
       "    <tr>\n",
       "      <th>2</th>\n",
       "      <td>1.401561e+09</td>\n",
       "      <td>6</td>\n",
       "      <td>0</td>\n",
       "      <td>63.0</td>\n",
       "      <td>1024.0</td>\n",
       "      <td>291.18</td>\n",
       "      <td>120.0</td>\n",
       "      <td>4.0</td>\n",
       "      <td>1</td>\n",
       "      <td>1</td>\n",
       "    </tr>\n",
       "    <tr>\n",
       "      <th>3</th>\n",
       "      <td>1.401561e+09</td>\n",
       "      <td>7</td>\n",
       "      <td>0</td>\n",
       "      <td>63.0</td>\n",
       "      <td>1024.0</td>\n",
       "      <td>291.18</td>\n",
       "      <td>120.0</td>\n",
       "      <td>4.0</td>\n",
       "      <td>1</td>\n",
       "      <td>1</td>\n",
       "    </tr>\n",
       "    <tr>\n",
       "      <th>4</th>\n",
       "      <td>1.401561e+09</td>\n",
       "      <td>10</td>\n",
       "      <td>0</td>\n",
       "      <td>63.0</td>\n",
       "      <td>1024.0</td>\n",
       "      <td>291.18</td>\n",
       "      <td>120.0</td>\n",
       "      <td>4.0</td>\n",
       "      <td>13</td>\n",
       "      <td>2</td>\n",
       "    </tr>\n",
       "    <tr>\n",
       "      <th>...</th>\n",
       "      <td>...</td>\n",
       "      <td>...</td>\n",
       "      <td>...</td>\n",
       "      <td>...</td>\n",
       "      <td>...</td>\n",
       "      <td>...</td>\n",
       "      <td>...</td>\n",
       "      <td>...</td>\n",
       "      <td>...</td>\n",
       "      <td>...</td>\n",
       "    </tr>\n",
       "    <tr>\n",
       "      <th>93159</th>\n",
       "      <td>1.404149e+09</td>\n",
       "      <td>245</td>\n",
       "      <td>14</td>\n",
       "      <td>59.0</td>\n",
       "      <td>1016.0</td>\n",
       "      <td>302.18</td>\n",
       "      <td>199.0</td>\n",
       "      <td>1.0</td>\n",
       "      <td>8</td>\n",
       "      <td>1</td>\n",
       "    </tr>\n",
       "    <tr>\n",
       "      <th>93160</th>\n",
       "      <td>1.404149e+09</td>\n",
       "      <td>246</td>\n",
       "      <td>14</td>\n",
       "      <td>59.0</td>\n",
       "      <td>1016.0</td>\n",
       "      <td>302.18</td>\n",
       "      <td>199.0</td>\n",
       "      <td>1.0</td>\n",
       "      <td>1</td>\n",
       "      <td>1</td>\n",
       "    </tr>\n",
       "    <tr>\n",
       "      <th>93161</th>\n",
       "      <td>1.404149e+09</td>\n",
       "      <td>250</td>\n",
       "      <td>14</td>\n",
       "      <td>59.0</td>\n",
       "      <td>1016.0</td>\n",
       "      <td>302.18</td>\n",
       "      <td>199.0</td>\n",
       "      <td>1.0</td>\n",
       "      <td>7</td>\n",
       "      <td>1</td>\n",
       "    </tr>\n",
       "    <tr>\n",
       "      <th>93162</th>\n",
       "      <td>1.404149e+09</td>\n",
       "      <td>251</td>\n",
       "      <td>14</td>\n",
       "      <td>59.0</td>\n",
       "      <td>1016.0</td>\n",
       "      <td>302.18</td>\n",
       "      <td>199.0</td>\n",
       "      <td>1.0</td>\n",
       "      <td>2</td>\n",
       "      <td>1</td>\n",
       "    </tr>\n",
       "    <tr>\n",
       "      <th>93163</th>\n",
       "      <td>1.404149e+09</td>\n",
       "      <td>252</td>\n",
       "      <td>14</td>\n",
       "      <td>59.0</td>\n",
       "      <td>1016.0</td>\n",
       "      <td>302.18</td>\n",
       "      <td>199.0</td>\n",
       "      <td>1.0</td>\n",
       "      <td>2</td>\n",
       "      <td>1</td>\n",
       "    </tr>\n",
       "  </tbody>\n",
       "</table>\n",
       "<p>93164 rows × 10 columns</p>\n",
       "</div>"
      ],
      "text/plain": [
       "           datetime  zone  weatherCondition  humidity  pressure  temperature  \\\n",
       "0      1.401561e+09     1                 0      63.0    1024.0       291.18   \n",
       "1      1.401561e+09     4                 0      63.0    1024.0       291.18   \n",
       "2      1.401561e+09     6                 0      63.0    1024.0       291.18   \n",
       "3      1.401561e+09     7                 0      63.0    1024.0       291.18   \n",
       "4      1.401561e+09    10                 0      63.0    1024.0       291.18   \n",
       "...             ...   ...               ...       ...       ...          ...   \n",
       "93159  1.404149e+09   245                14      59.0    1016.0       302.18   \n",
       "93160  1.404149e+09   246                14      59.0    1016.0       302.18   \n",
       "93161  1.404149e+09   250                14      59.0    1016.0       302.18   \n",
       "93162  1.404149e+09   251                14      59.0    1016.0       302.18   \n",
       "93163  1.404149e+09   252                14      59.0    1016.0       302.18   \n",
       "\n",
       "       windDirection  windSpeed  counts  label  \n",
       "0              120.0        4.0      22      2  \n",
       "1              120.0        4.0       3      1  \n",
       "2              120.0        4.0       1      1  \n",
       "3              120.0        4.0       1      1  \n",
       "4              120.0        4.0      13      2  \n",
       "...              ...        ...     ...    ...  \n",
       "93159          199.0        1.0       8      1  \n",
       "93160          199.0        1.0       1      1  \n",
       "93161          199.0        1.0       7      1  \n",
       "93162          199.0        1.0       2      1  \n",
       "93163          199.0        1.0       2      1  \n",
       "\n",
       "[93164 rows x 10 columns]"
      ]
     },
     "execution_count": 175,
     "metadata": {},
     "output_type": "execute_result"
    }
   ],
   "source": [
    "df2g"
   ]
  },
  {
   "cell_type": "code",
   "execution_count": null,
   "id": "following-qatar",
   "metadata": {},
   "outputs": [],
   "source": []
  },
  {
   "cell_type": "code",
   "execution_count": 176,
   "id": "standard-empty",
   "metadata": {},
   "outputs": [],
   "source": [
    "X = df2g.values[:,:8]\n",
    "y = df2g.values[:,-1]"
   ]
  },
  {
   "cell_type": "code",
   "execution_count": 177,
   "id": "complicated-civilization",
   "metadata": {},
   "outputs": [],
   "source": [
    "from sklearn.preprocessing import StandardScaler\n",
    "sc = StandardScaler()\n",
    "X = sc.fit_transform(X)"
   ]
  },
  {
   "cell_type": "code",
   "execution_count": 178,
   "id": "hungry-radiation",
   "metadata": {},
   "outputs": [],
   "source": [
    "def cost_function(X, Y, B):\n",
    "    m = len(Y)\n",
    "    J = np.sum((X.dot(B) - Y) ** 2)/(2 * m)\n",
    "    return J"
   ]
  },
  {
   "cell_type": "code",
   "execution_count": 179,
   "id": "broken-manitoba",
   "metadata": {},
   "outputs": [],
   "source": [
    "def batch_gradient_descent(X, Y, B, alpha, iterations): \n",
    "    cost_history = [0] * iterations\n",
    "    m = len(Y)\n",
    "    \n",
    "    for iteration in range(iterations):\n",
    "        #print(iteration)\n",
    "        # Hypothesis Values\n",
    "        h = X.dot(B)\n",
    "        # Difference b/w Hypothesis and Actual Y\n",
    "        loss = h-Y\n",
    "        # Gradient Calculation\n",
    "        gradient = X.T.dot(loss) / m\n",
    "        # Changing Values of B using Gradient\n",
    "        B = B - alpha * gradient\n",
    "        # New Cost Value\n",
    "        cost = cost_function(X, Y, B)\n",
    "        cost_history[iteration] = cost\n",
    "    return B, cost_history"
   ]
  },
  {
   "cell_type": "code",
   "execution_count": 180,
   "id": "chicken-announcement",
   "metadata": {},
   "outputs": [],
   "source": [
    "m = 90000\n",
    "f = len(columns)\n",
    "X_train = X[:m,:f]\n",
    "X_train = np.c_[np.ones(len(X_train),dtype='int64'),X_train]\n",
    "y_train = y[:m]\n",
    "                        \n",
    "X_test = X[m:,:f]\n",
    "X_test = np.c_[np.ones(len(X_test),dtype='int64'),X_test]\n",
    "y_test = y[m:]"
   ]
  },
  {
   "cell_type": "code",
   "execution_count": 181,
   "id": "narrow-aberdeen",
   "metadata": {},
   "outputs": [],
   "source": [
    "# Initial Coefficients\n",
    "B = np.zeros(X_train.shape[1])\n",
    "alpha = 0.05\n",
    "iter_ = 10000\n",
    "newB, cost_history = batch_gradient_descent(X_train, y_train, B, alpha, iter_)"
   ]
  },
  {
   "cell_type": "code",
   "execution_count": 182,
   "id": "figured-adventure",
   "metadata": {},
   "outputs": [],
   "source": [
    "def pred(x_test, newB):\n",
    "    return np.floor(x_test.dot(newB))"
   ]
  },
  {
   "cell_type": "code",
   "execution_count": 183,
   "id": "authentic-seven",
   "metadata": {},
   "outputs": [],
   "source": [
    "y_ = pred(X_test,newB)\n"
   ]
  },
  {
   "cell_type": "code",
   "execution_count": 184,
   "id": "noted-pierce",
   "metadata": {},
   "outputs": [],
   "source": [
    "def r2(y_,y):\n",
    "    sst = np.sum((y-y.mean())**2)\n",
    "    ssr = np.sum((y_-y)**2)\n",
    "    r2 = 1-(ssr/sst)\n",
    "    return(r2)\n"
   ]
  },
  {
   "cell_type": "code",
   "execution_count": 185,
   "id": "approved-loading",
   "metadata": {
    "scrolled": false
   },
   "outputs": [
    {
     "data": {
      "text/plain": [
       "-0.14887010295171654"
      ]
     },
     "execution_count": 185,
     "metadata": {},
     "output_type": "execute_result"
    }
   ],
   "source": [
    "r2(y_,y_test)"
   ]
  },
  {
   "cell_type": "code",
   "execution_count": 186,
   "id": "personalized-drunk",
   "metadata": {
    "scrolled": true
   },
   "outputs": [],
   "source": [
    "from sklearn import metrics"
   ]
  },
  {
   "cell_type": "code",
   "execution_count": 187,
   "id": "stuffed-sweet",
   "metadata": {},
   "outputs": [
    {
     "name": "stdout",
     "output_type": "stream",
     "text": [
      "0.2784450063211125\n",
      "0.2784450063211125\n",
      "-0.14887010295171654\n"
     ]
    }
   ],
   "source": [
    "print(metrics.mean_absolute_error(y_test, y_))\n",
    "print(metrics.mean_squared_error(y_test, y_))\n",
    "print(metrics.r2_score(y_test, y_))"
   ]
  },
  {
   "cell_type": "code",
   "execution_count": 194,
   "id": "vocal-contract",
   "metadata": {},
   "outputs": [],
   "source": [
    "from sklearn.metrics import confusion_matrix"
   ]
  },
  {
   "cell_type": "code",
   "execution_count": 189,
   "id": "shared-custom",
   "metadata": {},
   "outputs": [
    {
     "name": "stdout",
     "output_type": "stream",
     "text": [
      "[[   0  140    0]\n",
      " [   0 2283    0]\n",
      " [   0  741    0]]\n"
     ]
    }
   ],
   "source": [
    "matrix = confusion_matrix(y_test, y_)\n",
    "print(matrix)"
   ]
  },
  {
   "cell_type": "code",
   "execution_count": 190,
   "id": "unique-front",
   "metadata": {},
   "outputs": [],
   "source": [
    "from sklearn.metrics import classification_report"
   ]
  },
  {
   "cell_type": "code",
   "execution_count": 191,
   "id": "worst-price",
   "metadata": {},
   "outputs": [
    {
     "name": "stdout",
     "output_type": "stream",
     "text": [
      "              precision    recall  f1-score   support\n",
      "\n",
      "         0.0       0.00      0.00      0.00       140\n",
      "         1.0       0.72      1.00      0.84      2283\n",
      "         2.0       0.00      0.00      0.00       741\n",
      "\n",
      "    accuracy                           0.72      3164\n",
      "   macro avg       0.24      0.33      0.28      3164\n",
      "weighted avg       0.52      0.72      0.60      3164\n",
      "\n"
     ]
    },
    {
     "name": "stderr",
     "output_type": "stream",
     "text": [
      "d:\\python\\lib\\site-packages\\sklearn\\metrics\\_classification.py:1245: UndefinedMetricWarning: Precision and F-score are ill-defined and being set to 0.0 in labels with no predicted samples. Use `zero_division` parameter to control this behavior.\n",
      "  _warn_prf(average, modifier, msg_start, len(result))\n",
      "d:\\python\\lib\\site-packages\\sklearn\\metrics\\_classification.py:1245: UndefinedMetricWarning: Precision and F-score are ill-defined and being set to 0.0 in labels with no predicted samples. Use `zero_division` parameter to control this behavior.\n",
      "  _warn_prf(average, modifier, msg_start, len(result))\n",
      "d:\\python\\lib\\site-packages\\sklearn\\metrics\\_classification.py:1245: UndefinedMetricWarning: Precision and F-score are ill-defined and being set to 0.0 in labels with no predicted samples. Use `zero_division` parameter to control this behavior.\n",
      "  _warn_prf(average, modifier, msg_start, len(result))\n"
     ]
    }
   ],
   "source": [
    "report = classification_report(y_test, y_)\n",
    "print(report)"
   ]
  },
  {
   "cell_type": "code",
   "execution_count": 195,
   "id": "exceptional-discussion",
   "metadata": {},
   "outputs": [
    {
     "data": {
      "text/plain": [
       "array([2., 1., 1., ..., 1., 1., 1.])"
      ]
     },
     "execution_count": 195,
     "metadata": {},
     "output_type": "execute_result"
    }
   ],
   "source": [
    "y_train"
   ]
  }
 ],
 "metadata": {
  "kernelspec": {
   "display_name": "Python 3",
   "language": "python",
   "name": "python3"
  },
  "language_info": {
   "codemirror_mode": {
    "name": "ipython",
    "version": 3
   },
   "file_extension": ".py",
   "mimetype": "text/x-python",
   "name": "python",
   "nbconvert_exporter": "python",
   "pygments_lexer": "ipython3",
   "version": "3.8.7"
  }
 },
 "nbformat": 4,
 "nbformat_minor": 5
}
