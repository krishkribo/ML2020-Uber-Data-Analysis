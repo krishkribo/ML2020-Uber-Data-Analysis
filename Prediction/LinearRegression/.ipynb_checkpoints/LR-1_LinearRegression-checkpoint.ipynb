{
 "cells": [
  {
   "cell_type": "code",
   "execution_count": 1,
   "id": "independent-development",
   "metadata": {},
   "outputs": [],
   "source": [
    "import numpy as np\n",
    "from matplotlib import pyplot as plt\n",
    "import pandas as pd\n",
    "import os\n",
    "import sys\n",
    "\n",
    "module_path = os.path.abspath(os.path.join('..'))\n",
    "if module_path not in sys.path:\n",
    "    sys.path.append(module_path)\n",
    "\n",
    "# FIX ME: Root dir as argument\n",
    "root_dir = \"../../../data/picklerCheckpoints/\"\n",
    "is_compressed = True;"
   ]
  },
  {
   "cell_type": "code",
   "execution_count": 3,
   "id": "burning-convertible",
   "metadata": {
    "scrolled": true
   },
   "outputs": [
    {
     "ename": "SyntaxError",
     "evalue": "invalid syntax (<ipython-input-3-9918026db28e>, line 4)",
     "output_type": "error",
     "traceback": [
      "\u001b[1;36m  File \u001b[1;32m\"<ipython-input-3-9918026db28e>\"\u001b[1;36m, line \u001b[1;32m4\u001b[0m\n\u001b[1;33m    import ...Preprocessing.SpatialMapping as sm\u001b[0m\n\u001b[1;37m           ^\u001b[0m\n\u001b[1;31mSyntaxError\u001b[0m\u001b[1;31m:\u001b[0m invalid syntax\n"
     ]
    }
   ],
   "source": [
    "!{sys.executable} -m pip install seaborn\n",
    "#!{sys.executable} -m pip install imblearn\n",
    "import nbimporter\n",
    "import Preprocessing.SpatialMapping as sm\n",
    "import Preprocessing.Discretization as dis\n",
    "import time\n",
    "import math\n",
    "import seaborn as sns"
   ]
  },
  {
   "cell_type": "code",
   "execution_count": null,
   "id": "weird-impossible",
   "metadata": {},
   "outputs": [],
   "source": [
    "data = sm.run(['apr', 'may', 'jun', 'jul', 'aug'])"
   ]
  },
  {
   "cell_type": "code",
   "execution_count": null,
   "id": "overall-pearl",
   "metadata": {},
   "outputs": [],
   "source": [
    "df = data.copy()\n",
    "columns = ['datetime', 'zone']"
   ]
  },
  {
   "cell_type": "code",
   "execution_count": null,
   "id": "champion-soccer",
   "metadata": {},
   "outputs": [],
   "source": [
    "df2 = df[columns]\n",
    "df2g = dis.encode(df2, ['zone'])\n",
    "df2g = df2.groupby(columns).size().reset_index(name='counts')\n",
    "df2g['datetime'] = pd.to_datetime(df2g['datetime'], format='%m-%d-%Y:%H').apply(lambda x: time.mktime(x.timetuple()))"
   ]
  },
  {
   "cell_type": "code",
   "execution_count": null,
   "id": "permanent-diameter",
   "metadata": {},
   "outputs": [],
   "source": [
    "from sklearn.preprocessing import MinMaxScaler\n",
    "counts = df2g['counts'].copy()\n",
    "datetime = df2g['datetime'].copy()"
   ]
  },
  {
   "cell_type": "code",
   "execution_count": null,
   "id": "naval-round",
   "metadata": {},
   "outputs": [],
   "source": [
    "df2g"
   ]
  },
  {
   "cell_type": "code",
   "execution_count": null,
   "id": "structured-trailer",
   "metadata": {},
   "outputs": [],
   "source": [
    "scaler = MinMaxScaler() \n",
    "scaled_values = scaler.fit_transform(df2g) \n",
    "df2g.loc[:,:] = scaled_values\n",
    "df2g['counts'] = counts\n",
    "df2g['datetime'] = datetime"
   ]
  },
  {
   "cell_type": "code",
   "execution_count": null,
   "id": "sustained-ethiopia",
   "metadata": {},
   "outputs": [],
   "source": [
    "bins = [0, 10, 50, np.inf]\n",
    "names = ['low', 'med', 'high']\n",
    "\n",
    "df2g['label'] = pd.cut(df2g['counts'], bins, labels=names)"
   ]
  },
  {
   "cell_type": "code",
   "execution_count": null,
   "id": "little-journalist",
   "metadata": {},
   "outputs": [],
   "source": []
  },
  {
   "cell_type": "code",
   "execution_count": null,
   "id": "organized-robertson",
   "metadata": {},
   "outputs": [],
   "source": [
    "df2g = dis.encode(df2g, ['label'])"
   ]
  },
  {
   "cell_type": "code",
   "execution_count": null,
   "id": "sorted-xerox",
   "metadata": {},
   "outputs": [],
   "source": [
    "plt.figure(figsize=(12,10))\n",
    "corrCols = columns.copy()\n",
    "corrCols.append('label')\n",
    "cor = df2g[corrCols].corr()\n",
    "sns.heatmap(cor, annot=True, cmap=plt.cm.Reds)\n",
    "plt.show()"
   ]
  },
  {
   "cell_type": "code",
   "execution_count": null,
   "id": "proud-luxembourg",
   "metadata": {},
   "outputs": [],
   "source": [
    "#Correlation with output variable\n",
    "cor_target = abs(cor[\"label\"])\n",
    "#Selecting highly correlated features\n",
    "relevant_features = cor_target[cor_target>0.5]\n",
    "relevant_features"
   ]
  },
  {
   "cell_type": "code",
   "execution_count": null,
   "id": "coordinate-pension",
   "metadata": {},
   "outputs": [],
   "source": [
    "class0, class1, class2 = df2g['label'].value_counts()"
   ]
  },
  {
   "cell_type": "code",
   "execution_count": null,
   "id": "horizontal-military",
   "metadata": {},
   "outputs": [],
   "source": [
    "from imblearn.over_sampling import RandomOverSampler\n",
    "from imblearn.under_sampling import RandomUnderSampler\n",
    "ros = RandomUnderSampler(random_state=101)"
   ]
  },
  {
   "cell_type": "code",
   "execution_count": null,
   "id": "lesser-mother",
   "metadata": {},
   "outputs": [],
   "source": [
    "x_ros, y_ros = ros.fit_resample(df2g[columns], df2g['label'])"
   ]
  },
  {
   "cell_type": "code",
   "execution_count": null,
   "id": "vanilla-heaven",
   "metadata": {},
   "outputs": [],
   "source": [
    "class2"
   ]
  },
  {
   "cell_type": "code",
   "execution_count": null,
   "id": "short-translator",
   "metadata": {},
   "outputs": [],
   "source": [
    "from sklearn.model_selection import train_test_split"
   ]
  },
  {
   "cell_type": "code",
   "execution_count": null,
   "id": "disciplinary-oakland",
   "metadata": {},
   "outputs": [],
   "source": [
    "X_train, X_test, y_train, y_test = train_test_split( x_ros, y_ros, test_size=0.33, random_state=100)"
   ]
  },
  {
   "cell_type": "code",
   "execution_count": null,
   "id": "constant-hopkins",
   "metadata": {},
   "outputs": [],
   "source": [
    "from sklearn.linear_model import LinearRegression\n",
    "from sklearn.linear_model import Ridge"
   ]
  },
  {
   "cell_type": "code",
   "execution_count": null,
   "id": "relevant-thunder",
   "metadata": {},
   "outputs": [],
   "source": [
    "model = LinearRegression()\n",
    "startTr = int(round(time.time() * 1000))\n",
    "trained = model.fit(X_train, y_train)\n",
    "endTr = int(round(time.time() * 1000))"
   ]
  },
  {
   "cell_type": "code",
   "execution_count": null,
   "id": "smooth-proceeding",
   "metadata": {},
   "outputs": [],
   "source": [
    "startTe = int(round(time.time() * 1000))\n",
    "x_predict = model.predict(X_test).astype(int)\n",
    "endTe = int(round(time.time() * 1000))"
   ]
  },
  {
   "cell_type": "code",
   "execution_count": null,
   "id": "nervous-payroll",
   "metadata": {},
   "outputs": [],
   "source": [
    "X_test[y_test==2]"
   ]
  },
  {
   "cell_type": "code",
   "execution_count": null,
   "id": "undefined-elimination",
   "metadata": {},
   "outputs": [],
   "source": [
    "from sklearn import metrics"
   ]
  },
  {
   "cell_type": "code",
   "execution_count": null,
   "id": "silent-niagara",
   "metadata": {},
   "outputs": [],
   "source": [
    "print(metrics.mean_absolute_error(y_test, x_predict))\n",
    "print(metrics.mean_squared_error(y_test, x_predict))\n",
    "print(metrics.r2_score(y_test, x_predict))"
   ]
  },
  {
   "cell_type": "code",
   "execution_count": null,
   "id": "vocational-avatar",
   "metadata": {},
   "outputs": [],
   "source": [
    "from sklearn.metrics import classification_report"
   ]
  },
  {
   "cell_type": "code",
   "execution_count": null,
   "id": "nearby-average",
   "metadata": {},
   "outputs": [],
   "source": [
    "report = classification_report(y_test, x_predict)\n",
    "print(report)"
   ]
  },
  {
   "cell_type": "code",
   "execution_count": null,
   "id": "animal-prediction",
   "metadata": {},
   "outputs": [],
   "source": [
    "# report = classification_report(y_testdf['label'],  x_predictdf['label'])\n",
    "# print(report)"
   ]
  },
  {
   "cell_type": "code",
   "execution_count": null,
   "id": "typical-punch",
   "metadata": {},
   "outputs": [],
   "source": [
    "from sklearn.decomposition import PCA"
   ]
  },
  {
   "cell_type": "code",
   "execution_count": null,
   "id": "enabling-heather",
   "metadata": {},
   "outputs": [],
   "source": [
    "pca = PCA(n_components=2)"
   ]
  },
  {
   "cell_type": "code",
   "execution_count": null,
   "id": "going-reporter",
   "metadata": {},
   "outputs": [],
   "source": [
    "pca.fit(X_train)"
   ]
  },
  {
   "cell_type": "code",
   "execution_count": null,
   "id": "grave-merchandise",
   "metadata": {},
   "outputs": [],
   "source": [
    "print(pca.explained_variance_ratio_)"
   ]
  },
  {
   "cell_type": "code",
   "execution_count": null,
   "id": "derived-scheduling",
   "metadata": {},
   "outputs": [],
   "source": [
    "print(pca.singular_values_)"
   ]
  },
  {
   "cell_type": "code",
   "execution_count": null,
   "id": "occasional-password",
   "metadata": {},
   "outputs": [],
   "source": [
    "transformed = pd.DataFrame(pca.fit_transform(X_train))\n"
   ]
  },
  {
   "cell_type": "code",
   "execution_count": null,
   "id": "novel-basin",
   "metadata": {},
   "outputs": [],
   "source": [
    "plt.plot(X_test, x_predict, color='blue', linewidth=3)"
   ]
  },
  {
   "cell_type": "code",
   "execution_count": null,
   "id": "color-compatibility",
   "metadata": {},
   "outputs": [],
   "source": [
    "X_test"
   ]
  },
  {
   "cell_type": "code",
   "execution_count": null,
   "id": "progressive-least",
   "metadata": {},
   "outputs": [],
   "source": [
    "len(x_predict)"
   ]
  },
  {
   "cell_type": "code",
   "execution_count": null,
   "id": "nutritional-mount",
   "metadata": {},
   "outputs": [],
   "source": [
    "plt.scatter(transformed[0], transformed[1], edgecolors='w', alpha=0.3)\n",
    "plt.legend()\n",
    "plt.show()"
   ]
  },
  {
   "cell_type": "code",
   "execution_count": null,
   "id": "failing-diary",
   "metadata": {},
   "outputs": [],
   "source": [
    "print(\"Training time: = %3d\" %(endTr-startTr))"
   ]
  },
  {
   "cell_type": "code",
   "execution_count": null,
   "id": "portuguese-renewal",
   "metadata": {},
   "outputs": [],
   "source": [
    "print(\"Testing time: = %3d\" %(endTe-startTe))"
   ]
  }
 ],
 "metadata": {
  "kernelspec": {
   "display_name": "Python 3.7 (tensorflow2)",
   "language": "python",
   "name": "tensorflow2"
  },
  "language_info": {
   "codemirror_mode": {
    "name": "ipython",
    "version": 3
   },
   "file_extension": ".py",
   "mimetype": "text/x-python",
   "name": "python",
   "nbconvert_exporter": "python",
   "pygments_lexer": "ipython3",
   "version": "3.8.7"
  }
 },
 "nbformat": 4,
 "nbformat_minor": 5
}
