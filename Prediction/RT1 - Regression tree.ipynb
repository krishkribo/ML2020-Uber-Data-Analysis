{
 "cells": [
  {
   "cell_type": "code",
   "execution_count": 1,
   "metadata": {},
   "outputs": [],
   "source": [
    "import os\n",
    "import sys\n",
    "\n",
    "module_path = os.path.abspath(os.path.join('..'))\n",
    "if module_path not in sys.path:\n",
    "    sys.path.append(module_path)\n",
    "\n",
    "# FIX ME: Root dir as argument\n",
    "root_dir = \"../../data/picklerCheckpoints/\"\n",
    "is_compressed = True;\n"
   ]
  },
  {
   "cell_type": "code",
   "execution_count": 2,
   "metadata": {
    "scrolled": true
   },
   "outputs": [
    {
     "name": "stdout",
     "output_type": "stream",
     "text": [
      "Importing Jupyter notebook from C:\\Users\\KaavyaaStalinThara\\Downloads\\New folder\\ML2020-Uber-Data-Analysis-main\\commons\\utility\\pickle_util.ipynb\n",
      "Importing Jupyter notebook from C:\\Users\\KaavyaaStalinThara\\Downloads\\New folder\\ML2020-Uber-Data-Analysis-main\\Preprocessing\\DataEnrichment.ipynb\n",
      "Importing Jupyter notebook from C:\\Users\\KaavyaaStalinThara\\Downloads\\New folder\\ML2020-Uber-Data-Analysis-main\\Preprocessing\\SpatialMapping.ipynb\n",
      "Importing Jupyter notebook from C:\\Users\\KaavyaaStalinThara\\Downloads\\New folder\\ML2020-Uber-Data-Analysis-main\\Preprocessing\\Discretization.ipynb\n"
     ]
    }
   ],
   "source": [
    "import numpy as np\n",
    "import pandas as pd\n",
    "import nbimporter\n",
    "import geopandas as gpd\n",
    "from matplotlib import pyplot as plt\n",
    "import commons.utility.pickle_util as pickle\n",
    "import Preprocessing.DataEnrichment as de\n",
    "import Preprocessing.SpatialMapping as sm\n",
    "import Preprocessing.Discretization as dis\n",
    "from sklearn.preprocessing import LabelEncoder\n",
    "from sklearn.linear_model import LinearRegression\n",
    "from sklearn.linear_model import Ridge\n",
    "from sklearn.preprocessing import MinMaxScaler\n",
    "import datetime as dt\n",
    "import time\n",
    "\n",
    "coord_system = {'init': 'epsg:4326'}"
   ]
  },
  {
   "cell_type": "code",
   "execution_count": 3,
   "metadata": {},
   "outputs": [
    {
     "name": "stdout",
     "output_type": "stream",
     "text": [
      "Data for the month :jun Found.....\n",
      "++++++++++++++++++++++++++++++++++++++++++++++++++++++++++++++++++++++++++++++++++++++++++++++++++++\n",
      "Loading file ../data/picklerCheckpoints/spatialJoinData/uber-spatial-data-jun14.p\n",
      "Decompressing ../data/picklerCheckpoints/spatialJoinData/uber-spatial-data-jun14.p.pbz2..............Done\n",
      "++++++++++++++++++++++++++++++++++++++++++++++++++++++++++++++++++++++++++++++++++++++++++++++++++++\n",
      "\n",
      "Data for the month :jul Found.....\n",
      "++++++++++++++++++++++++++++++++++++++++++++++++++++++++++++++++++++++++++++++++++++++++++++++++++++\n",
      "Loading file ../data/picklerCheckpoints/spatialJoinData/uber-spatial-data-jul14.p\n",
      "Decompressing ../data/picklerCheckpoints/spatialJoinData/uber-spatial-data-jul14.p.pbz2..............Done\n",
      "++++++++++++++++++++++++++++++++++++++++++++++++++++++++++++++++++++++++++++++++++++++++++++++++++++\n",
      "\n"
     ]
    }
   ],
   "source": [
    "data = sm.run(['jun', 'jul'])"
   ]
  },
  {
   "cell_type": "code",
   "execution_count": 4,
   "metadata": {},
   "outputs": [],
   "source": [
    "df = data"
   ]
  },
  {
   "cell_type": "code",
   "execution_count": 5,
   "metadata": {},
   "outputs": [],
   "source": [
    "df['region'] = df['zone'] + ':' + df['borough']"
   ]
  },
  {
   "cell_type": "code",
   "execution_count": 6,
   "metadata": {},
   "outputs": [
    {
     "name": "stdout",
     "output_type": "stream",
     "text": [
      "Result Saved in ../data/encodedMappings/region.p\n",
      "Result Saved in ../data/encodedMappings/weatherCondition.p\n"
     ]
    }
   ],
   "source": [
    "df = dis.encode(df, ['region', 'weatherCondition'])"
   ]
  },
  {
   "cell_type": "code",
   "execution_count": 7,
   "metadata": {},
   "outputs": [],
   "source": [
    "#df"
   ]
  },
  {
   "cell_type": "code",
   "execution_count": 8,
   "metadata": {},
   "outputs": [
    {
     "data": {
      "text/html": [
       "<div>\n",
       "<style scoped>\n",
       "    .dataframe tbody tr th:only-of-type {\n",
       "        vertical-align: middle;\n",
       "    }\n",
       "\n",
       "    .dataframe tbody tr th {\n",
       "        vertical-align: top;\n",
       "    }\n",
       "\n",
       "    .dataframe thead th {\n",
       "        text-align: right;\n",
       "    }\n",
       "</style>\n",
       "<table border=\"1\" class=\"dataframe\">\n",
       "  <thead>\n",
       "    <tr style=\"text-align: right;\">\n",
       "      <th></th>\n",
       "      <th>Date/Time</th>\n",
       "      <th>Lat</th>\n",
       "      <th>Lon</th>\n",
       "      <th>Base</th>\n",
       "      <th>datetime</th>\n",
       "      <th>weatherCondition</th>\n",
       "      <th>humidity</th>\n",
       "      <th>pressure</th>\n",
       "      <th>temperature</th>\n",
       "      <th>windDirection</th>\n",
       "      <th>windSpeed</th>\n",
       "      <th>holiday</th>\n",
       "      <th>geometry</th>\n",
       "      <th>index_right</th>\n",
       "      <th>zone</th>\n",
       "      <th>LocationID</th>\n",
       "      <th>borough</th>\n",
       "      <th>borough_categ</th>\n",
       "      <th>region</th>\n",
       "    </tr>\n",
       "  </thead>\n",
       "  <tbody>\n",
       "    <tr>\n",
       "      <th>0</th>\n",
       "      <td>6/1/2014 0:00:00</td>\n",
       "      <td>40.7293</td>\n",
       "      <td>-73.9920</td>\n",
       "      <td>B02512</td>\n",
       "      <td>06-01-2014:00</td>\n",
       "      <td>0</td>\n",
       "      <td>63.0</td>\n",
       "      <td>1024.0</td>\n",
       "      <td>291.18</td>\n",
       "      <td>120.0</td>\n",
       "      <td>4.0</td>\n",
       "      <td>weekend</td>\n",
       "      <td>POINT (-73.99200 40.72930)</td>\n",
       "      <td>78.0</td>\n",
       "      <td>East Village</td>\n",
       "      <td>79.0</td>\n",
       "      <td>Manhattan</td>\n",
       "      <td>3.0</td>\n",
       "      <td>75</td>\n",
       "    </tr>\n",
       "    <tr>\n",
       "      <th>0</th>\n",
       "      <td>6/1/2014 0:00:00</td>\n",
       "      <td>40.7293</td>\n",
       "      <td>-73.9920</td>\n",
       "      <td>B02512</td>\n",
       "      <td>06-01-2014:00</td>\n",
       "      <td>0</td>\n",
       "      <td>63.0</td>\n",
       "      <td>1024.0</td>\n",
       "      <td>291.18</td>\n",
       "      <td>120.0</td>\n",
       "      <td>4.0</td>\n",
       "      <td>weekend</td>\n",
       "      <td>POINT (-73.99200 40.72930)</td>\n",
       "      <td>112.0</td>\n",
       "      <td>Greenwich Village North</td>\n",
       "      <td>113.0</td>\n",
       "      <td>Manhattan</td>\n",
       "      <td>3.0</td>\n",
       "      <td>106</td>\n",
       "    </tr>\n",
       "    <tr>\n",
       "      <th>0</th>\n",
       "      <td>6/1/2014 0:00:00</td>\n",
       "      <td>40.7293</td>\n",
       "      <td>-73.9920</td>\n",
       "      <td>B02512</td>\n",
       "      <td>06-01-2014:00</td>\n",
       "      <td>0</td>\n",
       "      <td>63.0</td>\n",
       "      <td>1024.0</td>\n",
       "      <td>291.18</td>\n",
       "      <td>120.0</td>\n",
       "      <td>4.0</td>\n",
       "      <td>weekend</td>\n",
       "      <td>POINT (-73.99200 40.72930)</td>\n",
       "      <td>113.0</td>\n",
       "      <td>Greenwich Village South</td>\n",
       "      <td>114.0</td>\n",
       "      <td>Manhattan</td>\n",
       "      <td>3.0</td>\n",
       "      <td>107</td>\n",
       "    </tr>\n",
       "    <tr>\n",
       "      <th>1</th>\n",
       "      <td>6/1/2014 0:01:00</td>\n",
       "      <td>40.7131</td>\n",
       "      <td>-74.0097</td>\n",
       "      <td>B02512</td>\n",
       "      <td>06-01-2014:00</td>\n",
       "      <td>0</td>\n",
       "      <td>63.0</td>\n",
       "      <td>1024.0</td>\n",
       "      <td>291.18</td>\n",
       "      <td>120.0</td>\n",
       "      <td>4.0</td>\n",
       "      <td>weekend</td>\n",
       "      <td>POINT (-74.00970 40.71310)</td>\n",
       "      <td>230.0</td>\n",
       "      <td>TriBeCa/Civic Center</td>\n",
       "      <td>231.0</td>\n",
       "      <td>Manhattan</td>\n",
       "      <td>3.0</td>\n",
       "      <td>225</td>\n",
       "    </tr>\n",
       "    <tr>\n",
       "      <th>1</th>\n",
       "      <td>6/1/2014 0:01:00</td>\n",
       "      <td>40.7131</td>\n",
       "      <td>-74.0097</td>\n",
       "      <td>B02512</td>\n",
       "      <td>06-01-2014:00</td>\n",
       "      <td>0</td>\n",
       "      <td>63.0</td>\n",
       "      <td>1024.0</td>\n",
       "      <td>291.18</td>\n",
       "      <td>120.0</td>\n",
       "      <td>4.0</td>\n",
       "      <td>weekend</td>\n",
       "      <td>POINT (-74.00970 40.71310)</td>\n",
       "      <td>260.0</td>\n",
       "      <td>World Trade Center</td>\n",
       "      <td>261.0</td>\n",
       "      <td>Manhattan</td>\n",
       "      <td>3.0</td>\n",
       "      <td>255</td>\n",
       "    </tr>\n",
       "    <tr>\n",
       "      <th>...</th>\n",
       "      <td>...</td>\n",
       "      <td>...</td>\n",
       "      <td>...</td>\n",
       "      <td>...</td>\n",
       "      <td>...</td>\n",
       "      <td>...</td>\n",
       "      <td>...</td>\n",
       "      <td>...</td>\n",
       "      <td>...</td>\n",
       "      <td>...</td>\n",
       "      <td>...</td>\n",
       "      <td>...</td>\n",
       "      <td>...</td>\n",
       "      <td>...</td>\n",
       "      <td>...</td>\n",
       "      <td>...</td>\n",
       "      <td>...</td>\n",
       "      <td>...</td>\n",
       "      <td>...</td>\n",
       "    </tr>\n",
       "    <tr>\n",
       "      <th>796119</th>\n",
       "      <td>7/31/2014 23:30:00</td>\n",
       "      <td>40.7225</td>\n",
       "      <td>-74.0038</td>\n",
       "      <td>B02764</td>\n",
       "      <td>07-31-2014:23</td>\n",
       "      <td>0</td>\n",
       "      <td>54.0</td>\n",
       "      <td>1019.0</td>\n",
       "      <td>298.71</td>\n",
       "      <td>200.0</td>\n",
       "      <td>2.0</td>\n",
       "      <td>weekday</td>\n",
       "      <td>POINT (-74.00380 40.72250)</td>\n",
       "      <td>124.0</td>\n",
       "      <td>Hudson Sq</td>\n",
       "      <td>125.0</td>\n",
       "      <td>Manhattan</td>\n",
       "      <td>3.0</td>\n",
       "      <td>118</td>\n",
       "    </tr>\n",
       "    <tr>\n",
       "      <th>796119</th>\n",
       "      <td>7/31/2014 23:30:00</td>\n",
       "      <td>40.7225</td>\n",
       "      <td>-74.0038</td>\n",
       "      <td>B02764</td>\n",
       "      <td>07-31-2014:23</td>\n",
       "      <td>0</td>\n",
       "      <td>54.0</td>\n",
       "      <td>1019.0</td>\n",
       "      <td>298.71</td>\n",
       "      <td>200.0</td>\n",
       "      <td>2.0</td>\n",
       "      <td>weekday</td>\n",
       "      <td>POINT (-74.00380 40.72250)</td>\n",
       "      <td>210.0</td>\n",
       "      <td>SoHo</td>\n",
       "      <td>211.0</td>\n",
       "      <td>Manhattan</td>\n",
       "      <td>3.0</td>\n",
       "      <td>205</td>\n",
       "    </tr>\n",
       "    <tr>\n",
       "      <th>796119</th>\n",
       "      <td>7/31/2014 23:30:00</td>\n",
       "      <td>40.7225</td>\n",
       "      <td>-74.0038</td>\n",
       "      <td>B02764</td>\n",
       "      <td>07-31-2014:23</td>\n",
       "      <td>0</td>\n",
       "      <td>54.0</td>\n",
       "      <td>1019.0</td>\n",
       "      <td>298.71</td>\n",
       "      <td>200.0</td>\n",
       "      <td>2.0</td>\n",
       "      <td>weekday</td>\n",
       "      <td>POINT (-74.00380 40.72250)</td>\n",
       "      <td>230.0</td>\n",
       "      <td>TriBeCa/Civic Center</td>\n",
       "      <td>231.0</td>\n",
       "      <td>Manhattan</td>\n",
       "      <td>3.0</td>\n",
       "      <td>225</td>\n",
       "    </tr>\n",
       "    <tr>\n",
       "      <th>796120</th>\n",
       "      <td>7/31/2014 23:58:00</td>\n",
       "      <td>40.7199</td>\n",
       "      <td>-73.9884</td>\n",
       "      <td>B02764</td>\n",
       "      <td>07-31-2014:23</td>\n",
       "      <td>0</td>\n",
       "      <td>54.0</td>\n",
       "      <td>1019.0</td>\n",
       "      <td>298.71</td>\n",
       "      <td>200.0</td>\n",
       "      <td>2.0</td>\n",
       "      <td>weekday</td>\n",
       "      <td>POINT (-73.98840 40.71990)</td>\n",
       "      <td>147.0</td>\n",
       "      <td>Lower East Side</td>\n",
       "      <td>148.0</td>\n",
       "      <td>Manhattan</td>\n",
       "      <td>3.0</td>\n",
       "      <td>142</td>\n",
       "    </tr>\n",
       "    <tr>\n",
       "      <th>796120</th>\n",
       "      <td>7/31/2014 23:58:00</td>\n",
       "      <td>40.7199</td>\n",
       "      <td>-73.9884</td>\n",
       "      <td>B02764</td>\n",
       "      <td>07-31-2014:23</td>\n",
       "      <td>0</td>\n",
       "      <td>54.0</td>\n",
       "      <td>1019.0</td>\n",
       "      <td>298.71</td>\n",
       "      <td>200.0</td>\n",
       "      <td>2.0</td>\n",
       "      <td>weekday</td>\n",
       "      <td>POINT (-73.98840 40.71990)</td>\n",
       "      <td>231.0</td>\n",
       "      <td>Two Bridges/Seward Park</td>\n",
       "      <td>232.0</td>\n",
       "      <td>Manhattan</td>\n",
       "      <td>3.0</td>\n",
       "      <td>226</td>\n",
       "    </tr>\n",
       "  </tbody>\n",
       "</table>\n",
       "<p>2938510 rows × 19 columns</p>\n",
       "</div>"
      ],
      "text/plain": [
       "                 Date/Time      Lat      Lon    Base       datetime  \\\n",
       "0         6/1/2014 0:00:00  40.7293 -73.9920  B02512  06-01-2014:00   \n",
       "0         6/1/2014 0:00:00  40.7293 -73.9920  B02512  06-01-2014:00   \n",
       "0         6/1/2014 0:00:00  40.7293 -73.9920  B02512  06-01-2014:00   \n",
       "1         6/1/2014 0:01:00  40.7131 -74.0097  B02512  06-01-2014:00   \n",
       "1         6/1/2014 0:01:00  40.7131 -74.0097  B02512  06-01-2014:00   \n",
       "...                    ...      ...      ...     ...            ...   \n",
       "796119  7/31/2014 23:30:00  40.7225 -74.0038  B02764  07-31-2014:23   \n",
       "796119  7/31/2014 23:30:00  40.7225 -74.0038  B02764  07-31-2014:23   \n",
       "796119  7/31/2014 23:30:00  40.7225 -74.0038  B02764  07-31-2014:23   \n",
       "796120  7/31/2014 23:58:00  40.7199 -73.9884  B02764  07-31-2014:23   \n",
       "796120  7/31/2014 23:58:00  40.7199 -73.9884  B02764  07-31-2014:23   \n",
       "\n",
       "        weatherCondition  humidity  pressure  temperature  windDirection  \\\n",
       "0                      0      63.0    1024.0       291.18          120.0   \n",
       "0                      0      63.0    1024.0       291.18          120.0   \n",
       "0                      0      63.0    1024.0       291.18          120.0   \n",
       "1                      0      63.0    1024.0       291.18          120.0   \n",
       "1                      0      63.0    1024.0       291.18          120.0   \n",
       "...                  ...       ...       ...          ...            ...   \n",
       "796119                 0      54.0    1019.0       298.71          200.0   \n",
       "796119                 0      54.0    1019.0       298.71          200.0   \n",
       "796119                 0      54.0    1019.0       298.71          200.0   \n",
       "796120                 0      54.0    1019.0       298.71          200.0   \n",
       "796120                 0      54.0    1019.0       298.71          200.0   \n",
       "\n",
       "        windSpeed  holiday                    geometry  index_right  \\\n",
       "0             4.0  weekend  POINT (-73.99200 40.72930)         78.0   \n",
       "0             4.0  weekend  POINT (-73.99200 40.72930)        112.0   \n",
       "0             4.0  weekend  POINT (-73.99200 40.72930)        113.0   \n",
       "1             4.0  weekend  POINT (-74.00970 40.71310)        230.0   \n",
       "1             4.0  weekend  POINT (-74.00970 40.71310)        260.0   \n",
       "...           ...      ...                         ...          ...   \n",
       "796119        2.0  weekday  POINT (-74.00380 40.72250)        124.0   \n",
       "796119        2.0  weekday  POINT (-74.00380 40.72250)        210.0   \n",
       "796119        2.0  weekday  POINT (-74.00380 40.72250)        230.0   \n",
       "796120        2.0  weekday  POINT (-73.98840 40.71990)        147.0   \n",
       "796120        2.0  weekday  POINT (-73.98840 40.71990)        231.0   \n",
       "\n",
       "                           zone  LocationID    borough  borough_categ  region  \n",
       "0                  East Village        79.0  Manhattan            3.0      75  \n",
       "0       Greenwich Village North       113.0  Manhattan            3.0     106  \n",
       "0       Greenwich Village South       114.0  Manhattan            3.0     107  \n",
       "1          TriBeCa/Civic Center       231.0  Manhattan            3.0     225  \n",
       "1            World Trade Center       261.0  Manhattan            3.0     255  \n",
       "...                         ...         ...        ...            ...     ...  \n",
       "796119                Hudson Sq       125.0  Manhattan            3.0     118  \n",
       "796119                     SoHo       211.0  Manhattan            3.0     205  \n",
       "796119     TriBeCa/Civic Center       231.0  Manhattan            3.0     225  \n",
       "796120          Lower East Side       148.0  Manhattan            3.0     142  \n",
       "796120  Two Bridges/Seward Park       232.0  Manhattan            3.0     226  \n",
       "\n",
       "[2938510 rows x 19 columns]"
      ]
     },
     "execution_count": 8,
     "metadata": {},
     "output_type": "execute_result"
    }
   ],
   "source": [
    "data"
   ]
  },
  {
   "cell_type": "code",
   "execution_count": 9,
   "metadata": {},
   "outputs": [],
   "source": [
    "columns = ['datetime', 'region', 'weatherCondition', 'humidity', 'pressure', 'temperature', 'windDirection', 'windSpeed']\n",
    "training_data = df\n"
   ]
  },
  {
   "cell_type": "code",
   "execution_count": 10,
   "metadata": {},
   "outputs": [],
   "source": [
    "#training_data = training_data.groupby(['Date/Time', 'region'])['count'].sum().reset_index()"
   ]
  },
  {
   "cell_type": "code",
   "execution_count": null,
   "metadata": {},
   "outputs": [],
   "source": []
  },
  {
   "cell_type": "code",
   "execution_count": 11,
   "metadata": {},
   "outputs": [
    {
     "name": "stderr",
     "output_type": "stream",
     "text": [
      "<ipython-input-11-9de6ec1ba355>:6: SettingWithCopyWarning: \n",
      "A value is trying to be set on a copy of a slice from a DataFrame.\n",
      "Try using .loc[row_indexer,col_indexer] = value instead\n",
      "\n",
      "See the caveats in the documentation: https://pandas.pydata.org/pandas-docs/stable/user_guide/indexing.html#returning-a-view-versus-a-copy\n",
      "  training_data['count'] = 1\n"
     ]
    }
   ],
   "source": [
    "training_data['datetime'] = pd.to_datetime(training_data['datetime'], format='%m-%d-%Y:%H')\n",
    "# training_data['Date/Time'] = training_data['Date/Time'].map(dt.datetime.toordinal)\n",
    "# training_data['datetime'] = training_data['Date/Time'].dt.strftime('%m-%d-%Y:%H')\n",
    "training_data['datetime'] = training_data['datetime'].apply(lambda x: time.mktime(x.timetuple()))\n",
    "training_data = training_data[columns]\n",
    "training_data['count'] = 1"
   ]
  },
  {
   "cell_type": "code",
   "execution_count": 12,
   "metadata": {},
   "outputs": [],
   "source": [
    "training_data = training_data.groupby(columns)['count'].sum().reset_index()\n",
    "\n"
   ]
  },
  {
   "cell_type": "code",
   "execution_count": 13,
   "metadata": {},
   "outputs": [],
   "source": [
    "from sklearn.model_selection import train_test_split"
   ]
  },
  {
   "cell_type": "code",
   "execution_count": 14,
   "metadata": {},
   "outputs": [],
   "source": [
    "X_train, X_test, y_train, y_test = train_test_split( training_data[columns], training_data[columns], test_size=0.33, random_state=42)"
   ]
  },
  {
   "cell_type": "code",
   "execution_count": 19,
   "metadata": {},
   "outputs": [],
   "source": [
    "#Secound check based on min_samples\n",
    "X = training_data[columns]\n",
    "y = training_data[columns]\n",
    "#Regression Tree\n",
    "from sklearn.tree import DecisionTreeRegressor\n",
    "regression_model1 = DecisionTreeRegressor(min_samples_leaf=30) \n",
    "regression_model2 = DecisionTreeRegressor(min_samples_leaf=15) \n",
    "\n",
    "#Fit the model\n",
    "regression_model1.fit(X,y)\n",
    "regression_model2.fit(X,y)\n",
    "\n",
    "#Prediction\n",
    "predicted1 = regression_model1.predict(X_test)\n",
    "predicted2 = regression_model2.predict(X_test)\n",
    "\n"
   ]
  },
  {
   "cell_type": "code",
   "execution_count": 20,
   "metadata": {},
   "outputs": [],
   "source": [
    "#Third check is bassed on max_depth\n",
    "X = training_data[columns]\n",
    "y = training_data[columns]\n",
    "#Regression Tree\n",
    "from sklearn.tree import DecisionTreeRegressor\n",
    "#Based on max_depth\n",
    "regression_model1 = DecisionTreeRegressor(criterion=\"mse\",max_depth=5) \n",
    "regression_model2 = DecisionTreeRegressor(criterion=\"mse\",max_depth=2) \n",
    "\n",
    "#Fit the model\n",
    "regression_model1.fit(X,y)\n",
    "regression_model2.fit(X,y)\n",
    "\n",
    "#Prediction\n",
    "predicted1 = regression_model1.predict(X_test)\n",
    "predicted2 = regression_model2.predict(X_test)\n",
    "\n"
   ]
  },
  {
   "cell_type": "code",
   "execution_count": 21,
   "metadata": {},
   "outputs": [
    {
     "data": {
      "image/png": "[encoded data removed]",
      "text/plain": [
       "<Figure size 432x288 with 1 Axes>"
      ]
     },
     "metadata": {
      "needs_background": "light"
     },
     "output_type": "display_data"
    }
   ],
   "source": [
    "\n",
    "# Plot the results\n",
    "plt.figure()\n",
    "plt.scatter(X, y, s=100, edgecolor=\"black\",\n",
    "            c=\"darkorange\", label=\"data\")\n",
    "plt.plot(X_test, predicted1, color=\"cornflowerblue\", linewidth=2)\n",
    "plt.plot(X_test, predicted2, color=\"yellowgreen\", linewidth=2)\n",
    "plt.xlabel(\"data\")\n",
    "plt.ylabel(\"target\")\n",
    "plt.title(\"Decision Tree Regression\")\n",
    "plt.legend()\n",
    "plt.show()"
   ]
  },
  {
   "cell_type": "code",
   "execution_count": 22,
   "metadata": {},
   "outputs": [],
   "source": [
    "#Accuracy and error evaluation"
   ]
  },
  {
   "cell_type": "code",
   "execution_count": 23,
   "metadata": {},
   "outputs": [],
   "source": [
    "from sklearn import metrics"
   ]
  },
  {
   "cell_type": "code",
   "execution_count": 24,
   "metadata": {},
   "outputs": [
    {
     "name": "stdout",
     "output_type": "stream",
     "text": [
      "40935.66083121212\n",
      "17863849504.80915\n",
      "0.1940195029913248\n"
     ]
    }
   ],
   "source": [
    "print(metrics.mean_absolute_error(X_test, predicted2))\n",
    "print(metrics.mean_squared_error(X_test, predicted2))\n",
    "print(metrics.r2_score(X_test, predicted2))"
   ]
  },
  {
   "cell_type": "code",
   "execution_count": null,
   "metadata": {},
   "outputs": [],
   "source": []
  }
 ],
 "metadata": {
  "kernelspec": {
   "display_name": "Python 3",
   "language": "python",
   "name": "python3"
  },
  "language_info": {
   "codemirror_mode": {
    "name": "ipython",
    "version": 3
   },
   "file_extension": ".py",
   "mimetype": "text/x-python",
   "name": "python",
   "nbconvert_exporter": "python",
   "pygments_lexer": "ipython3",
   "version": "3.8.5"
  }
 },
 "nbformat": 4,
 "nbformat_minor": 5
}
