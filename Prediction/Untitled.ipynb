{
 "cells": [
  {
   "cell_type": "code",
   "execution_count": 26,
   "id": "embedded-animation",
   "metadata": {},
   "outputs": [],
   "source": [
    "import numpy as np\n",
    "from matplotlib import pyplot as plt\n",
    "import pandas as pd\n",
    "%matplotlib inline\n",
    "data = pd.read_excel('../data/Folds5x2_pp.xlsx').values\n",
    "#print(data.head(5))"
   ]
  },
  {
   "cell_type": "code",
   "execution_count": 27,
   "id": "consolidated-gibson",
   "metadata": {},
   "outputs": [],
   "source": [
    "#seperating data\n",
    "X = data[:,:4]\n",
    "y = data[:,-1]"
   ]
  },
  {
   "cell_type": "code",
   "execution_count": 28,
   "id": "fewer-stock",
   "metadata": {},
   "outputs": [],
   "source": [
    "from sklearn.preprocessing import StandardScaler\n",
    "sc = StandardScaler()\n",
    "X = sc.fit_transform(X)"
   ]
  },
  {
   "cell_type": "code",
   "execution_count": 29,
   "id": "renewable-mystery",
   "metadata": {},
   "outputs": [],
   "source": [
    "def cost_function(X, Y, B):\n",
    "    m = len(Y)\n",
    "    J = np.sum((X.dot(B) - Y) ** 2)/(2 * m)\n",
    "    return J"
   ]
  },
  {
   "cell_type": "code",
   "execution_count": 30,
   "id": "regional-possession",
   "metadata": {},
   "outputs": [],
   "source": [
    "def batch_gradient_descent(X, Y, B, alpha, iterations): \n",
    "    cost_history = [0] * iterations\n",
    "    m = len(Y)\n",
    "    \n",
    "    for iteration in range(iterations):\n",
    "        #print(iteration)\n",
    "        # Hypothesis Values\n",
    "        h = X.dot(B)\n",
    "        # Difference b/w Hypothesis and Actual Y\n",
    "        loss = h-Y\n",
    "        # Gradient Calculation\n",
    "        gradient = X.T.dot(loss) / m\n",
    "        # Changing Values of B using Gradient\n",
    "        B = B - alpha * gradient\n",
    "        # New Cost Value\n",
    "        cost = cost_function(X, Y, B)\n",
    "        cost_history[iteration] = cost\n",
    "    return B, cost_history"
   ]
  },
  {
   "cell_type": "code",
   "execution_count": 31,
   "id": "temporal-reply",
   "metadata": {},
   "outputs": [],
   "source": [
    "m = 7000\n",
    "f = 2\n",
    "X_train = X[:m,:f]\n",
    "X_train = np.c_[np.ones(len(X_train),dtype='int64'),X_train]\n",
    "y_train = y[:m]\n",
    "                        \n",
    "X_test = X[m:,:f]\n",
    "X_test = np.c_[np.ones(len(X_test),dtype='int64'),X_test]\n",
    "y_test = y[m:]"
   ]
  },
  {
   "cell_type": "code",
   "execution_count": 32,
   "id": "leading-closer",
   "metadata": {},
   "outputs": [],
   "source": [
    "# Initial Coefficients\n",
    "B = np.zeros(X_train.shape[1])\n",
    "alpha = 0.005\n",
    "iter_ = 2000\n",
    "newB, cost_history = batch_gradient_descent(X_train, y_train, B, alpha, iter_)"
   ]
  },
  {
   "cell_type": "code",
   "execution_count": 33,
   "id": "changing-ivory",
   "metadata": {},
   "outputs": [],
   "source": [
    "def pred(x_test, newB):\n",
    "    return x_test.dot(newB)"
   ]
  },
  {
   "cell_type": "code",
   "execution_count": 34,
   "id": "deluxe-large",
   "metadata": {},
   "outputs": [],
   "source": [
    "y_ = pred(X_test,newB)\n"
   ]
  },
  {
   "cell_type": "code",
   "execution_count": 35,
   "id": "remarkable-compact",
   "metadata": {},
   "outputs": [],
   "source": [
    "def r2(y_,y):\n",
    "    sst = np.sum((y-y.mean())**2)\n",
    "    ssr = np.sum((y_-y)**2)\n",
    "    r2 = 1-(ssr/sst)\n",
    "    return(r2)\n"
   ]
  },
  {
   "cell_type": "code",
   "execution_count": 36,
   "id": "personalized-dispatch",
   "metadata": {},
   "outputs": [
    {
     "data": {
      "text/plain": [
       "0.91404488821296"
      ]
     },
     "execution_count": 36,
     "metadata": {},
     "output_type": "execute_result"
    }
   ],
   "source": [
    "r2(y_,y_test)"
   ]
  },
  {
   "cell_type": "code",
   "execution_count": null,
   "id": "requested-carter",
   "metadata": {},
   "outputs": [],
   "source": []
  }
 ],
 "metadata": {
  "kernelspec": {
   "display_name": "Python 3",
   "language": "python",
   "name": "python3"
  },
  "language_info": {
   "codemirror_mode": {
    "name": "ipython",
    "version": 3
   },
   "file_extension": ".py",
   "mimetype": "text/x-python",
   "name": "python",
   "nbconvert_exporter": "python",
   "pygments_lexer": "ipython3",
   "version": "3.8.7"
  }
 },
 "nbformat": 4,
 "nbformat_minor": 5
}
