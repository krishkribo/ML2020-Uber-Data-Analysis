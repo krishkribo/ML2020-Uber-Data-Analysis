{
 "cells": [
  {
   "cell_type": "code",
   "execution_count": 1,
   "id": "defensive-mattress",
   "metadata": {},
   "outputs": [],
   "source": [
    "import os\n",
    "import sys\n",
    "\n",
    "module_path = os.path.abspath(os.path.join('..'))\n",
    "if module_path not in sys.path:\n",
    "    sys.path.append(module_path)\n",
    "\n",
    "# FIX ME: Root dir as argument\n",
    "root_dir = \"../../data/picklerCheckpoints/\"\n",
    "is_compressed = True;\n"
   ]
  },
  {
   "cell_type": "code",
   "execution_count": 2,
   "id": "double-significance",
   "metadata": {
    "scrolled": true
   },
   "outputs": [
    {
     "name": "stdout",
     "output_type": "stream",
     "text": [
      "Importing Jupyter notebook from D:\\Academics\\MLRepoNew\\ML2020-Uber-Data-Analysis\\commons\\utility\\pickle_util.ipynb\n",
      "Importing Jupyter notebook from D:\\Academics\\MLRepoNew\\ML2020-Uber-Data-Analysis\\Preprocessing\\DataEnrichment.ipynb\n",
      "Importing Jupyter notebook from D:\\Academics\\MLRepoNew\\ML2020-Uber-Data-Analysis\\Preprocessing\\SpatialMapping.ipynb\n",
      "Importing Jupyter notebook from D:\\Academics\\MLRepoNew\\ML2020-Uber-Data-Analysis\\Preprocessing\\Discretization.ipynb\n"
     ]
    }
   ],
   "source": [
    "import numpy as np\n",
    "import pandas as pd\n",
    "import nbimporter\n",
    "import geopandas as gpd\n",
    "import commons.utility.pickle_util as pickle\n",
    "import Preprocessing.DataEnrichment as de\n",
    "import Preprocessing.SpatialMapping as sm\n",
    "import Preprocessing.Discretization as dis\n",
    "from sklearn.preprocessing import LabelEncoder\n",
    "from sklearn.linear_model import LinearRegression\n",
    "from sklearn.linear_model import Ridge\n",
    "from sklearn.preprocessing import MinMaxScaler\n",
    "import datetime as dt\n",
    "import time\n",
    "\n",
    "coord_system = {'init': 'epsg:4326'}"
   ]
  },
  {
   "cell_type": "code",
   "execution_count": 3,
   "id": "false-deviation",
   "metadata": {},
   "outputs": [
    {
     "name": "stdout",
     "output_type": "stream",
     "text": [
      "Data for the month :jun Found.....\n",
      "++++++++++++++++++++++++++++++++++++++++++++++++++++++++++++++++++++++++++++++++++++++++++++++++++++\n",
      "Loading file ../data/picklerCheckpoints/spatialJoinData/uber-spatial-data-jun14.p\n",
      "Decompressing ../data/picklerCheckpoints/spatialJoinData/uber-spatial-data-jun14.p.pbz2..............Done\n",
      "++++++++++++++++++++++++++++++++++++++++++++++++++++++++++++++++++++++++++++++++++++++++++++++++++++\n",
      "\n",
      "Data for the month :jul Found.....\n",
      "++++++++++++++++++++++++++++++++++++++++++++++++++++++++++++++++++++++++++++++++++++++++++++++++++++\n",
      "Loading file ../data/picklerCheckpoints/spatialJoinData/uber-spatial-data-jul14.p\n",
      "Decompressing ../data/picklerCheckpoints/spatialJoinData/uber-spatial-data-jul14.p.pbz2..............Done\n",
      "++++++++++++++++++++++++++++++++++++++++++++++++++++++++++++++++++++++++++++++++++++++++++++++++++++\n",
      "\n",
      "Data for the month :aug Found.....\n",
      "++++++++++++++++++++++++++++++++++++++++++++++++++++++++++++++++++++++++++++++++++++++++++++++++++++\n",
      "Loading file ../data/picklerCheckpoints/spatialJoinData/uber-spatial-data-aug14.p\n",
      "Decompressing ../data/picklerCheckpoints/spatialJoinData/uber-spatial-data-aug14.p.pbz2..............Done\n",
      "++++++++++++++++++++++++++++++++++++++++++++++++++++++++++++++++++++++++++++++++++++++++++++++++++++\n",
      "\n",
      "Data for the month :sep Found.....\n",
      "++++++++++++++++++++++++++++++++++++++++++++++++++++++++++++++++++++++++++++++++++++++++++++++++++++\n",
      "Loading file ../data/picklerCheckpoints/spatialJoinData/uber-spatial-data-sep14.p\n",
      "Decompressing ../data/picklerCheckpoints/spatialJoinData/uber-spatial-data-sep14.p.pbz2..............Done\n",
      "++++++++++++++++++++++++++++++++++++++++++++++++++++++++++++++++++++++++++++++++++++++++++++++++++++\n",
      "\n",
      "Result Saved in ../data/picklerCheckpoints/spatialJoinData/uber-spatial-data-14.p\n"
     ]
    }
   ],
   "source": [
    "data = sm.run(['jun', 'jul', 'aug', 'sep'])"
   ]
  },
  {
   "cell_type": "code",
   "execution_count": 4,
   "id": "negative-potential",
   "metadata": {},
   "outputs": [],
   "source": [
    "df = data"
   ]
  },
  {
   "cell_type": "code",
   "execution_count": 5,
   "id": "regulation-emphasis",
   "metadata": {},
   "outputs": [],
   "source": [
    "df['region'] = df['zone'] + ':' + df['borough']"
   ]
  },
  {
   "cell_type": "code",
   "execution_count": 6,
   "id": "operational-queensland",
   "metadata": {},
   "outputs": [
    {
     "name": "stdout",
     "output_type": "stream",
     "text": [
      "Result Saved in ../data/encodedMappings/region.p\n",
      "Result Saved in ../data/encodedMappings/weatherCondition.p\n"
     ]
    }
   ],
   "source": [
    "df = dis.encode(df, ['region', 'weatherCondition'])"
   ]
  },
  {
   "cell_type": "code",
   "execution_count": 7,
   "id": "nasty-lingerie",
   "metadata": {},
   "outputs": [],
   "source": [
    "#df"
   ]
  },
  {
   "cell_type": "code",
   "execution_count": 8,
   "id": "dirty-colors",
   "metadata": {},
   "outputs": [
    {
     "data": {
      "text/html": [
       "<div>\n",
       "<style scoped>\n",
       "    .dataframe tbody tr th:only-of-type {\n",
       "        vertical-align: middle;\n",
       "    }\n",
       "\n",
       "    .dataframe tbody tr th {\n",
       "        vertical-align: top;\n",
       "    }\n",
       "\n",
       "    .dataframe thead th {\n",
       "        text-align: right;\n",
       "    }\n",
       "</style>\n",
       "<table border=\"1\" class=\"dataframe\">\n",
       "  <thead>\n",
       "    <tr style=\"text-align: right;\">\n",
       "      <th></th>\n",
       "      <th>Date/Time</th>\n",
       "      <th>Lat</th>\n",
       "      <th>Lon</th>\n",
       "      <th>Base</th>\n",
       "      <th>datetime</th>\n",
       "      <th>weatherCondition</th>\n",
       "      <th>humidity</th>\n",
       "      <th>pressure</th>\n",
       "      <th>temperature</th>\n",
       "      <th>windDirection</th>\n",
       "      <th>windSpeed</th>\n",
       "      <th>geometry</th>\n",
       "      <th>index_right</th>\n",
       "      <th>zone</th>\n",
       "      <th>LocationID</th>\n",
       "      <th>borough</th>\n",
       "      <th>borough_categ</th>\n",
       "      <th>region</th>\n",
       "    </tr>\n",
       "  </thead>\n",
       "  <tbody>\n",
       "    <tr>\n",
       "      <th>0</th>\n",
       "      <td>6/1/2014 0:00:00</td>\n",
       "      <td>40.7293</td>\n",
       "      <td>-73.9920</td>\n",
       "      <td>B02512</td>\n",
       "      <td>06-01-2014:00</td>\n",
       "      <td>0</td>\n",
       "      <td>63.0</td>\n",
       "      <td>1024.0</td>\n",
       "      <td>291.18</td>\n",
       "      <td>120.0</td>\n",
       "      <td>4.0</td>\n",
       "      <td>POINT (-73.99200 40.72930)</td>\n",
       "      <td>78.0</td>\n",
       "      <td>East Village</td>\n",
       "      <td>79.0</td>\n",
       "      <td>Manhattan</td>\n",
       "      <td>3.0</td>\n",
       "      <td>75</td>\n",
       "    </tr>\n",
       "    <tr>\n",
       "      <th>0</th>\n",
       "      <td>6/1/2014 0:00:00</td>\n",
       "      <td>40.7293</td>\n",
       "      <td>-73.9920</td>\n",
       "      <td>B02512</td>\n",
       "      <td>06-01-2014:00</td>\n",
       "      <td>0</td>\n",
       "      <td>63.0</td>\n",
       "      <td>1024.0</td>\n",
       "      <td>291.18</td>\n",
       "      <td>120.0</td>\n",
       "      <td>4.0</td>\n",
       "      <td>POINT (-73.99200 40.72930)</td>\n",
       "      <td>112.0</td>\n",
       "      <td>Greenwich Village North</td>\n",
       "      <td>113.0</td>\n",
       "      <td>Manhattan</td>\n",
       "      <td>3.0</td>\n",
       "      <td>107</td>\n",
       "    </tr>\n",
       "    <tr>\n",
       "      <th>0</th>\n",
       "      <td>6/1/2014 0:00:00</td>\n",
       "      <td>40.7293</td>\n",
       "      <td>-73.9920</td>\n",
       "      <td>B02512</td>\n",
       "      <td>06-01-2014:00</td>\n",
       "      <td>0</td>\n",
       "      <td>63.0</td>\n",
       "      <td>1024.0</td>\n",
       "      <td>291.18</td>\n",
       "      <td>120.0</td>\n",
       "      <td>4.0</td>\n",
       "      <td>POINT (-73.99200 40.72930)</td>\n",
       "      <td>113.0</td>\n",
       "      <td>Greenwich Village South</td>\n",
       "      <td>114.0</td>\n",
       "      <td>Manhattan</td>\n",
       "      <td>3.0</td>\n",
       "      <td>108</td>\n",
       "    </tr>\n",
       "    <tr>\n",
       "      <th>1</th>\n",
       "      <td>6/1/2014 0:01:00</td>\n",
       "      <td>40.7131</td>\n",
       "      <td>-74.0097</td>\n",
       "      <td>B02512</td>\n",
       "      <td>06-01-2014:00</td>\n",
       "      <td>0</td>\n",
       "      <td>63.0</td>\n",
       "      <td>1024.0</td>\n",
       "      <td>291.18</td>\n",
       "      <td>120.0</td>\n",
       "      <td>4.0</td>\n",
       "      <td>POINT (-74.00970 40.71310)</td>\n",
       "      <td>230.0</td>\n",
       "      <td>TriBeCa/Civic Center</td>\n",
       "      <td>231.0</td>\n",
       "      <td>Manhattan</td>\n",
       "      <td>3.0</td>\n",
       "      <td>226</td>\n",
       "    </tr>\n",
       "    <tr>\n",
       "      <th>1</th>\n",
       "      <td>6/1/2014 0:01:00</td>\n",
       "      <td>40.7131</td>\n",
       "      <td>-74.0097</td>\n",
       "      <td>B02512</td>\n",
       "      <td>06-01-2014:00</td>\n",
       "      <td>0</td>\n",
       "      <td>63.0</td>\n",
       "      <td>1024.0</td>\n",
       "      <td>291.18</td>\n",
       "      <td>120.0</td>\n",
       "      <td>4.0</td>\n",
       "      <td>POINT (-74.00970 40.71310)</td>\n",
       "      <td>260.0</td>\n",
       "      <td>World Trade Center</td>\n",
       "      <td>261.0</td>\n",
       "      <td>Manhattan</td>\n",
       "      <td>3.0</td>\n",
       "      <td>256</td>\n",
       "    </tr>\n",
       "    <tr>\n",
       "      <th>...</th>\n",
       "      <td>...</td>\n",
       "      <td>...</td>\n",
       "      <td>...</td>\n",
       "      <td>...</td>\n",
       "      <td>...</td>\n",
       "      <td>...</td>\n",
       "      <td>...</td>\n",
       "      <td>...</td>\n",
       "      <td>...</td>\n",
       "      <td>...</td>\n",
       "      <td>...</td>\n",
       "      <td>...</td>\n",
       "      <td>...</td>\n",
       "      <td>...</td>\n",
       "      <td>...</td>\n",
       "      <td>...</td>\n",
       "      <td>...</td>\n",
       "      <td>...</td>\n",
       "    </tr>\n",
       "    <tr>\n",
       "      <th>1028134</th>\n",
       "      <td>9/30/2014 22:58:00</td>\n",
       "      <td>40.7081</td>\n",
       "      <td>-74.0066</td>\n",
       "      <td>B02764</td>\n",
       "      <td>09-30-2014:22</td>\n",
       "      <td>0</td>\n",
       "      <td>72.0</td>\n",
       "      <td>1014.0</td>\n",
       "      <td>292.54</td>\n",
       "      <td>80.0</td>\n",
       "      <td>3.0</td>\n",
       "      <td>POINT (-74.00660 40.70810)</td>\n",
       "      <td>86.0</td>\n",
       "      <td>Financial District North</td>\n",
       "      <td>87.0</td>\n",
       "      <td>Manhattan</td>\n",
       "      <td>3.0</td>\n",
       "      <td>83</td>\n",
       "    </tr>\n",
       "    <tr>\n",
       "      <th>1028134</th>\n",
       "      <td>9/30/2014 22:58:00</td>\n",
       "      <td>40.7081</td>\n",
       "      <td>-74.0066</td>\n",
       "      <td>B02764</td>\n",
       "      <td>09-30-2014:22</td>\n",
       "      <td>0</td>\n",
       "      <td>72.0</td>\n",
       "      <td>1014.0</td>\n",
       "      <td>292.54</td>\n",
       "      <td>80.0</td>\n",
       "      <td>3.0</td>\n",
       "      <td>POINT (-74.00660 40.70810)</td>\n",
       "      <td>208.0</td>\n",
       "      <td>Seaport</td>\n",
       "      <td>209.0</td>\n",
       "      <td>Manhattan</td>\n",
       "      <td>3.0</td>\n",
       "      <td>204</td>\n",
       "    </tr>\n",
       "    <tr>\n",
       "      <th>1028135</th>\n",
       "      <td>9/30/2014 22:58:00</td>\n",
       "      <td>40.7140</td>\n",
       "      <td>-73.9496</td>\n",
       "      <td>B02764</td>\n",
       "      <td>09-30-2014:22</td>\n",
       "      <td>0</td>\n",
       "      <td>72.0</td>\n",
       "      <td>1014.0</td>\n",
       "      <td>292.54</td>\n",
       "      <td>80.0</td>\n",
       "      <td>3.0</td>\n",
       "      <td>POINT (-73.94960 40.71400)</td>\n",
       "      <td>79.0</td>\n",
       "      <td>East Williamsburg</td>\n",
       "      <td>80.0</td>\n",
       "      <td>Brooklyn</td>\n",
       "      <td>1.0</td>\n",
       "      <td>76</td>\n",
       "    </tr>\n",
       "    <tr>\n",
       "      <th>1028135</th>\n",
       "      <td>9/30/2014 22:58:00</td>\n",
       "      <td>40.7140</td>\n",
       "      <td>-73.9496</td>\n",
       "      <td>B02764</td>\n",
       "      <td>09-30-2014:22</td>\n",
       "      <td>0</td>\n",
       "      <td>72.0</td>\n",
       "      <td>1014.0</td>\n",
       "      <td>292.54</td>\n",
       "      <td>80.0</td>\n",
       "      <td>3.0</td>\n",
       "      <td>POINT (-73.94960 40.71400)</td>\n",
       "      <td>254.0</td>\n",
       "      <td>Williamsburg (North Side)</td>\n",
       "      <td>255.0</td>\n",
       "      <td>Brooklyn</td>\n",
       "      <td>1.0</td>\n",
       "      <td>250</td>\n",
       "    </tr>\n",
       "    <tr>\n",
       "      <th>1028135</th>\n",
       "      <td>9/30/2014 22:58:00</td>\n",
       "      <td>40.7140</td>\n",
       "      <td>-73.9496</td>\n",
       "      <td>B02764</td>\n",
       "      <td>09-30-2014:22</td>\n",
       "      <td>0</td>\n",
       "      <td>72.0</td>\n",
       "      <td>1014.0</td>\n",
       "      <td>292.54</td>\n",
       "      <td>80.0</td>\n",
       "      <td>3.0</td>\n",
       "      <td>POINT (-73.94960 40.71400)</td>\n",
       "      <td>255.0</td>\n",
       "      <td>Williamsburg (South Side)</td>\n",
       "      <td>256.0</td>\n",
       "      <td>Brooklyn</td>\n",
       "      <td>1.0</td>\n",
       "      <td>251</td>\n",
       "    </tr>\n",
       "  </tbody>\n",
       "</table>\n",
       "<p>6643381 rows × 18 columns</p>\n",
       "</div>"
      ],
      "text/plain": [
       "                  Date/Time      Lat      Lon    Base       datetime  \\\n",
       "0          6/1/2014 0:00:00  40.7293 -73.9920  B02512  06-01-2014:00   \n",
       "0          6/1/2014 0:00:00  40.7293 -73.9920  B02512  06-01-2014:00   \n",
       "0          6/1/2014 0:00:00  40.7293 -73.9920  B02512  06-01-2014:00   \n",
       "1          6/1/2014 0:01:00  40.7131 -74.0097  B02512  06-01-2014:00   \n",
       "1          6/1/2014 0:01:00  40.7131 -74.0097  B02512  06-01-2014:00   \n",
       "...                     ...      ...      ...     ...            ...   \n",
       "1028134  9/30/2014 22:58:00  40.7081 -74.0066  B02764  09-30-2014:22   \n",
       "1028134  9/30/2014 22:58:00  40.7081 -74.0066  B02764  09-30-2014:22   \n",
       "1028135  9/30/2014 22:58:00  40.7140 -73.9496  B02764  09-30-2014:22   \n",
       "1028135  9/30/2014 22:58:00  40.7140 -73.9496  B02764  09-30-2014:22   \n",
       "1028135  9/30/2014 22:58:00  40.7140 -73.9496  B02764  09-30-2014:22   \n",
       "\n",
       "         weatherCondition  humidity  pressure  temperature  windDirection  \\\n",
       "0                       0      63.0    1024.0       291.18          120.0   \n",
       "0                       0      63.0    1024.0       291.18          120.0   \n",
       "0                       0      63.0    1024.0       291.18          120.0   \n",
       "1                       0      63.0    1024.0       291.18          120.0   \n",
       "1                       0      63.0    1024.0       291.18          120.0   \n",
       "...                   ...       ...       ...          ...            ...   \n",
       "1028134                 0      72.0    1014.0       292.54           80.0   \n",
       "1028134                 0      72.0    1014.0       292.54           80.0   \n",
       "1028135                 0      72.0    1014.0       292.54           80.0   \n",
       "1028135                 0      72.0    1014.0       292.54           80.0   \n",
       "1028135                 0      72.0    1014.0       292.54           80.0   \n",
       "\n",
       "         windSpeed                    geometry  index_right  \\\n",
       "0              4.0  POINT (-73.99200 40.72930)         78.0   \n",
       "0              4.0  POINT (-73.99200 40.72930)        112.0   \n",
       "0              4.0  POINT (-73.99200 40.72930)        113.0   \n",
       "1              4.0  POINT (-74.00970 40.71310)        230.0   \n",
       "1              4.0  POINT (-74.00970 40.71310)        260.0   \n",
       "...            ...                         ...          ...   \n",
       "1028134        3.0  POINT (-74.00660 40.70810)         86.0   \n",
       "1028134        3.0  POINT (-74.00660 40.70810)        208.0   \n",
       "1028135        3.0  POINT (-73.94960 40.71400)         79.0   \n",
       "1028135        3.0  POINT (-73.94960 40.71400)        254.0   \n",
       "1028135        3.0  POINT (-73.94960 40.71400)        255.0   \n",
       "\n",
       "                              zone  LocationID    borough  borough_categ  \\\n",
       "0                     East Village        79.0  Manhattan            3.0   \n",
       "0          Greenwich Village North       113.0  Manhattan            3.0   \n",
       "0          Greenwich Village South       114.0  Manhattan            3.0   \n",
       "1             TriBeCa/Civic Center       231.0  Manhattan            3.0   \n",
       "1               World Trade Center       261.0  Manhattan            3.0   \n",
       "...                            ...         ...        ...            ...   \n",
       "1028134   Financial District North        87.0  Manhattan            3.0   \n",
       "1028134                    Seaport       209.0  Manhattan            3.0   \n",
       "1028135          East Williamsburg        80.0   Brooklyn            1.0   \n",
       "1028135  Williamsburg (North Side)       255.0   Brooklyn            1.0   \n",
       "1028135  Williamsburg (South Side)       256.0   Brooklyn            1.0   \n",
       "\n",
       "         region  \n",
       "0            75  \n",
       "0           107  \n",
       "0           108  \n",
       "1           226  \n",
       "1           256  \n",
       "...         ...  \n",
       "1028134      83  \n",
       "1028134     204  \n",
       "1028135      76  \n",
       "1028135     250  \n",
       "1028135     251  \n",
       "\n",
       "[6643381 rows x 18 columns]"
      ]
     },
     "execution_count": 8,
     "metadata": {},
     "output_type": "execute_result"
    }
   ],
   "source": [
    "data"
   ]
  },
  {
   "cell_type": "code",
   "execution_count": 9,
   "id": "turkish-garden",
   "metadata": {},
   "outputs": [],
   "source": [
    "columns = ['datetime', 'region', 'weatherCondition', 'humidity', 'pressure', 'temperature', 'windDirection', 'windSpeed']\n",
    "training_data = df\n",
    "# training_data[\"datetime\"] = pd.to_datetime(training_data['Date/Time'])\n",
    "# training_data['datetime'] = training_data['datetime'].dt.strftime('%m-%d-%Y:%H')\n",
    "# training_data[\"datetime\"] = pd.to_datetime(training_data['datetime'], format='%m-%d-%Y:%H')\n",
    "# training_data['datetime'] = training_data['datetime'].apply(lambda x: time.mktime(x.timetuple()))\n",
    "\n",
    "# Xscaler = MinMaxScaler(feature_range=(0, 1)) # scale so that all the X data will range from 0 to 1\n",
    "# Xscaler.fit(training_data)\n",
    "# training_data = Xscaler.transform(training_data)\n",
    "#training_data['count'] = 1"
   ]
  },
  {
   "cell_type": "code",
   "execution_count": 10,
   "id": "sonic-logistics",
   "metadata": {},
   "outputs": [],
   "source": [
    "#training_data = training_data.groupby(['Date/Time', 'region'])['count'].sum().reset_index()"
   ]
  },
  {
   "cell_type": "code",
   "execution_count": null,
   "id": "european-venture",
   "metadata": {},
   "outputs": [],
   "source": []
  },
  {
   "cell_type": "code",
   "execution_count": 11,
   "id": "about-links",
   "metadata": {},
   "outputs": [
    {
     "name": "stderr",
     "output_type": "stream",
     "text": [
      "<ipython-input-11-9de6ec1ba355>:6: SettingWithCopyWarning: \n",
      "A value is trying to be set on a copy of a slice from a DataFrame.\n",
      "Try using .loc[row_indexer,col_indexer] = value instead\n",
      "\n",
      "See the caveats in the documentation: https://pandas.pydata.org/pandas-docs/stable/user_guide/indexing.html#returning-a-view-versus-a-copy\n",
      "  training_data['count'] = 1\n"
     ]
    }
   ],
   "source": [
    "training_data['datetime'] = pd.to_datetime(training_data['datetime'], format='%m-%d-%Y:%H')\n",
    "# training_data['Date/Time'] = training_data['Date/Time'].map(dt.datetime.toordinal)\n",
    "# training_data['datetime'] = training_data['Date/Time'].dt.strftime('%m-%d-%Y:%H')\n",
    "training_data['datetime'] = training_data['datetime'].apply(lambda x: time.mktime(x.timetuple()))\n",
    "training_data = training_data[columns]\n",
    "training_data['count'] = 1"
   ]
  },
  {
   "cell_type": "code",
   "execution_count": 12,
   "id": "criminal-greeting",
   "metadata": {},
   "outputs": [],
   "source": [
    "# training_data['year'] = training_data['Date/Time'].dt.year\n",
    "# training_data['month'] = training_data['Date/Time'].dt.month\n",
    "# training_data['day'] = training_data['Date/Time'].dt.day\n",
    "# training_data['hour'] = training_data['Date/Time'].dt.hour\n",
    "training_data = training_data.groupby(columns)['count'].sum().reset_index()\n",
    "\n"
   ]
  },
  {
   "cell_type": "code",
   "execution_count": 13,
   "id": "advance-horizontal",
   "metadata": {},
   "outputs": [],
   "source": [
    "from sklearn.model_selection import train_test_split"
   ]
  },
  {
   "cell_type": "code",
   "execution_count": 14,
   "id": "bronze-sleep",
   "metadata": {},
   "outputs": [],
   "source": [
    "X_train, X_test, y_train, y_test = train_test_split( training_data[columns], training_data['count'], test_size=0.33, random_state=42)"
   ]
  },
  {
   "cell_type": "code",
   "execution_count": 15,
   "id": "qualified-wheat",
   "metadata": {},
   "outputs": [],
   "source": [
    "# Xscaler = MinMaxScaler(feature_range=(0, 1)) # scale so that all the X data will range from 0 to 1\n",
    "# Xscaler.fit(X_train)\n",
    "# X_train_scaled = Xscaler.transform(X_train)\n",
    "# print(X_train.shape)\n",
    "\n",
    "# X_test_scaled = Xscaler.transform(X_test)\n",
    "# print(X_train.shape)"
   ]
  },
  {
   "cell_type": "code",
   "execution_count": 16,
   "id": "suspected-mobile",
   "metadata": {},
   "outputs": [],
   "source": [
    "model = Ridge(alpha=0.9)\n",
    "trained = model.fit(X_train, y_train)"
   ]
  },
  {
   "cell_type": "code",
   "execution_count": 17,
   "id": "foster-marble",
   "metadata": {},
   "outputs": [],
   "source": [
    "x_predict = model.predict(X_test).round().astype(int)"
   ]
  },
  {
   "cell_type": "code",
   "execution_count": 18,
   "id": "helpful-webcam",
   "metadata": {},
   "outputs": [],
   "source": [
    "from sklearn import metrics"
   ]
  },
  {
   "cell_type": "code",
   "execution_count": 19,
   "id": "compressed-narrative",
   "metadata": {},
   "outputs": [
    {
     "name": "stdout",
     "output_type": "stream",
     "text": [
      "16.393853329804053\n",
      "778.2917379080432\n",
      "0.015448116079627372\n"
     ]
    }
   ],
   "source": [
    "print(metrics.mean_absolute_error(y_test, x_predict))\n",
    "print(metrics.mean_squared_error(y_test, x_predict))\n",
    "print(metrics.r2_score(y_test, x_predict))"
   ]
  },
  {
   "cell_type": "code",
   "execution_count": 20,
   "id": "younger-worcester",
   "metadata": {},
   "outputs": [
    {
     "data": {
      "text/plain": [
       "373412    64\n",
       "61838     22\n",
       "415491    35\n",
       "226429     2\n",
       "129687    28\n",
       "          ..\n",
       "259178     2\n",
       "365838    12\n",
       "131932    63\n",
       "146867     1\n",
       "121958     5\n",
       "Name: count, Length: 283799, dtype: int64"
      ]
     },
     "execution_count": 20,
     "metadata": {},
     "output_type": "execute_result"
    }
   ],
   "source": [
    "y_train"
   ]
  },
  {
   "cell_type": "code",
   "execution_count": 21,
   "id": "intense-spanking",
   "metadata": {},
   "outputs": [
    {
     "data": {
      "text/plain": [
       "273507     55\n",
       "146156      5\n",
       "42302       3\n",
       "28580       2\n",
       "414515      1\n",
       "         ... \n",
       "287090    117\n",
       "242301      7\n",
       "355960     10\n",
       "268172     20\n",
       "34524       8\n",
       "Name: count, Length: 139783, dtype: int64"
      ]
     },
     "execution_count": 21,
     "metadata": {},
     "output_type": "execute_result"
    }
   ],
   "source": [
    "y_test"
   ]
  },
  {
   "cell_type": "code",
   "execution_count": 22,
   "id": "direct-photographer",
   "metadata": {},
   "outputs": [
    {
     "data": {
      "text/plain": [
       "273507     55\n",
       "146156      5\n",
       "42302       3\n",
       "28580       2\n",
       "414515      1\n",
       "         ... \n",
       "287090    117\n",
       "242301      7\n",
       "355960     10\n",
       "268172     20\n",
       "34524       8\n",
       "Name: count, Length: 139783, dtype: int64"
      ]
     },
     "execution_count": 22,
     "metadata": {},
     "output_type": "execute_result"
    }
   ],
   "source": [
    "y_test"
   ]
  },
  {
   "cell_type": "code",
   "execution_count": 23,
   "id": "continuing-rendering",
   "metadata": {},
   "outputs": [
    {
     "ename": "KeyError",
     "evalue": "'Date/Time'",
     "output_type": "error",
     "traceback": [
      "\u001b[1;31m---------------------------------------------------------------------------\u001b[0m",
      "\u001b[1;31mKeyError\u001b[0m                                  Traceback (most recent call last)",
      "\u001b[1;32md:\\python\\lib\\site-packages\\pandas\\core\\indexes\\base.py\u001b[0m in \u001b[0;36mget_loc\u001b[1;34m(self, key, method, tolerance)\u001b[0m\n\u001b[0;32m   3079\u001b[0m             \u001b[1;32mtry\u001b[0m\u001b[1;33m:\u001b[0m\u001b[1;33m\u001b[0m\u001b[1;33m\u001b[0m\u001b[0m\n\u001b[1;32m-> 3080\u001b[1;33m                 \u001b[1;32mreturn\u001b[0m \u001b[0mself\u001b[0m\u001b[1;33m.\u001b[0m\u001b[0m_engine\u001b[0m\u001b[1;33m.\u001b[0m\u001b[0mget_loc\u001b[0m\u001b[1;33m(\u001b[0m\u001b[0mcasted_key\u001b[0m\u001b[1;33m)\u001b[0m\u001b[1;33m\u001b[0m\u001b[1;33m\u001b[0m\u001b[0m\n\u001b[0m\u001b[0;32m   3081\u001b[0m             \u001b[1;32mexcept\u001b[0m \u001b[0mKeyError\u001b[0m \u001b[1;32mas\u001b[0m \u001b[0merr\u001b[0m\u001b[1;33m:\u001b[0m\u001b[1;33m\u001b[0m\u001b[1;33m\u001b[0m\u001b[0m\n",
      "\u001b[1;32mpandas\\_libs\\index.pyx\u001b[0m in \u001b[0;36mpandas._libs.index.IndexEngine.get_loc\u001b[1;34m()\u001b[0m\n",
      "\u001b[1;32mpandas\\_libs\\index.pyx\u001b[0m in \u001b[0;36mpandas._libs.index.IndexEngine.get_loc\u001b[1;34m()\u001b[0m\n",
      "\u001b[1;32mpandas\\_libs\\hashtable_class_helper.pxi\u001b[0m in \u001b[0;36mpandas._libs.hashtable.PyObjectHashTable.get_item\u001b[1;34m()\u001b[0m\n",
      "\u001b[1;32mpandas\\_libs\\hashtable_class_helper.pxi\u001b[0m in \u001b[0;36mpandas._libs.hashtable.PyObjectHashTable.get_item\u001b[1;34m()\u001b[0m\n",
      "\u001b[1;31mKeyError\u001b[0m: 'Date/Time'",
      "\nThe above exception was the direct cause of the following exception:\n",
      "\u001b[1;31mKeyError\u001b[0m                                  Traceback (most recent call last)",
      "\u001b[1;32m<ipython-input-23-d28a740817da>\u001b[0m in \u001b[0;36m<module>\u001b[1;34m\u001b[0m\n\u001b[1;32m----> 1\u001b[1;33m \u001b[0mtraining_data\u001b[0m\u001b[1;33m[\u001b[0m\u001b[1;33m(\u001b[0m\u001b[0mtraining_data\u001b[0m\u001b[1;33m.\u001b[0m\u001b[0mregion\u001b[0m\u001b[1;33m==\u001b[0m \u001b[1;36m249\u001b[0m\u001b[1;33m)\u001b[0m \u001b[1;33m&\u001b[0m \u001b[1;33m(\u001b[0m\u001b[0mtraining_data\u001b[0m\u001b[1;33m[\u001b[0m\u001b[1;34m'Date/Time'\u001b[0m\u001b[1;33m]\u001b[0m \u001b[1;33m==\u001b[0m \u001b[1;36m735397\u001b[0m\u001b[1;33m)\u001b[0m\u001b[1;33m]\u001b[0m\u001b[1;33m\u001b[0m\u001b[1;33m\u001b[0m\u001b[0m\n\u001b[0m",
      "\u001b[1;32md:\\python\\lib\\site-packages\\pandas\\core\\frame.py\u001b[0m in \u001b[0;36m__getitem__\u001b[1;34m(self, key)\u001b[0m\n\u001b[0;32m   3022\u001b[0m             \u001b[1;32mif\u001b[0m \u001b[0mself\u001b[0m\u001b[1;33m.\u001b[0m\u001b[0mcolumns\u001b[0m\u001b[1;33m.\u001b[0m\u001b[0mnlevels\u001b[0m \u001b[1;33m>\u001b[0m \u001b[1;36m1\u001b[0m\u001b[1;33m:\u001b[0m\u001b[1;33m\u001b[0m\u001b[1;33m\u001b[0m\u001b[0m\n\u001b[0;32m   3023\u001b[0m                 \u001b[1;32mreturn\u001b[0m \u001b[0mself\u001b[0m\u001b[1;33m.\u001b[0m\u001b[0m_getitem_multilevel\u001b[0m\u001b[1;33m(\u001b[0m\u001b[0mkey\u001b[0m\u001b[1;33m)\u001b[0m\u001b[1;33m\u001b[0m\u001b[1;33m\u001b[0m\u001b[0m\n\u001b[1;32m-> 3024\u001b[1;33m             \u001b[0mindexer\u001b[0m \u001b[1;33m=\u001b[0m \u001b[0mself\u001b[0m\u001b[1;33m.\u001b[0m\u001b[0mcolumns\u001b[0m\u001b[1;33m.\u001b[0m\u001b[0mget_loc\u001b[0m\u001b[1;33m(\u001b[0m\u001b[0mkey\u001b[0m\u001b[1;33m)\u001b[0m\u001b[1;33m\u001b[0m\u001b[1;33m\u001b[0m\u001b[0m\n\u001b[0m\u001b[0;32m   3025\u001b[0m             \u001b[1;32mif\u001b[0m \u001b[0mis_integer\u001b[0m\u001b[1;33m(\u001b[0m\u001b[0mindexer\u001b[0m\u001b[1;33m)\u001b[0m\u001b[1;33m:\u001b[0m\u001b[1;33m\u001b[0m\u001b[1;33m\u001b[0m\u001b[0m\n\u001b[0;32m   3026\u001b[0m                 \u001b[0mindexer\u001b[0m \u001b[1;33m=\u001b[0m \u001b[1;33m[\u001b[0m\u001b[0mindexer\u001b[0m\u001b[1;33m]\u001b[0m\u001b[1;33m\u001b[0m\u001b[1;33m\u001b[0m\u001b[0m\n",
      "\u001b[1;32md:\\python\\lib\\site-packages\\pandas\\core\\indexes\\base.py\u001b[0m in \u001b[0;36mget_loc\u001b[1;34m(self, key, method, tolerance)\u001b[0m\n\u001b[0;32m   3080\u001b[0m                 \u001b[1;32mreturn\u001b[0m \u001b[0mself\u001b[0m\u001b[1;33m.\u001b[0m\u001b[0m_engine\u001b[0m\u001b[1;33m.\u001b[0m\u001b[0mget_loc\u001b[0m\u001b[1;33m(\u001b[0m\u001b[0mcasted_key\u001b[0m\u001b[1;33m)\u001b[0m\u001b[1;33m\u001b[0m\u001b[1;33m\u001b[0m\u001b[0m\n\u001b[0;32m   3081\u001b[0m             \u001b[1;32mexcept\u001b[0m \u001b[0mKeyError\u001b[0m \u001b[1;32mas\u001b[0m \u001b[0merr\u001b[0m\u001b[1;33m:\u001b[0m\u001b[1;33m\u001b[0m\u001b[1;33m\u001b[0m\u001b[0m\n\u001b[1;32m-> 3082\u001b[1;33m                 \u001b[1;32mraise\u001b[0m \u001b[0mKeyError\u001b[0m\u001b[1;33m(\u001b[0m\u001b[0mkey\u001b[0m\u001b[1;33m)\u001b[0m \u001b[1;32mfrom\u001b[0m \u001b[0merr\u001b[0m\u001b[1;33m\u001b[0m\u001b[1;33m\u001b[0m\u001b[0m\n\u001b[0m\u001b[0;32m   3083\u001b[0m \u001b[1;33m\u001b[0m\u001b[0m\n\u001b[0;32m   3084\u001b[0m         \u001b[1;32mif\u001b[0m \u001b[0mtolerance\u001b[0m \u001b[1;32mis\u001b[0m \u001b[1;32mnot\u001b[0m \u001b[1;32mNone\u001b[0m\u001b[1;33m:\u001b[0m\u001b[1;33m\u001b[0m\u001b[1;33m\u001b[0m\u001b[0m\n",
      "\u001b[1;31mKeyError\u001b[0m: 'Date/Time'"
     ]
    }
   ],
   "source": [
    "training_data[(training_data.region== 249) & (training_data['Date/Time'] == 735397)]"
   ]
  },
  {
   "cell_type": "code",
   "execution_count": null,
   "id": "becoming-template",
   "metadata": {},
   "outputs": [],
   "source": [
    "data\n"
   ]
  }
 ],
 "metadata": {
  "kernelspec": {
   "display_name": "Python 3",
   "language": "python",
   "name": "python3"
  },
  "language_info": {
   "codemirror_mode": {
    "name": "ipython",
    "version": 3
   },
   "file_extension": ".py",
   "mimetype": "text/x-python",
   "name": "python",
   "nbconvert_exporter": "python",
   "pygments_lexer": "ipython3",
   "version": "3.8.7"
  }
 },
 "nbformat": 4,
 "nbformat_minor": 5
}
