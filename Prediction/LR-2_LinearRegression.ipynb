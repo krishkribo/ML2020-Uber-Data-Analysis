{
 "cells": [
  {
   "cell_type": "markdown",
   "id": "empirical-weekly",
   "metadata": {},
   "source": [
    "### Linear Regression - Feature columns: All Features || Prediction: Pickup count by Zone || Pickup counts Labels"
   ]
  },
  {
   "cell_type": "code",
   "execution_count": 2,
   "id": "independent-development",
   "metadata": {},
   "outputs": [],
   "source": [
    "import numpy as np\n",
    "from matplotlib import pyplot as plt\n",
    "import pandas as pd\n",
    "import os\n",
    "import sys\n",
    "\n",
    "module_path = os.path.abspath(os.path.join('..'))\n",
    "if module_path not in sys.path:\n",
    "    sys.path.append(module_path)\n",
    "\n",
    "# FIX ME: Root dir as argument\n",
    "root_dir = \"../../../data/picklerCheckpoints/\"\n",
    "is_compressed = True;"
   ]
  },
  {
   "cell_type": "code",
   "execution_count": 3,
   "id": "burning-convertible",
   "metadata": {
    "scrolled": true
   },
   "outputs": [
    {
     "name": "stdout",
     "output_type": "stream",
     "text": [
      "Requirement already satisfied: seaborn in d:\\python\\lib\\site-packages (0.11.1)\n",
      "Requirement already satisfied: scipy>=1.0 in d:\\python\\lib\\site-packages (from seaborn) (1.4.1)\n",
      "Requirement already satisfied: matplotlib>=2.2 in d:\\python\\lib\\site-packages (from seaborn) (3.3.4)\n",
      "Requirement already satisfied: numpy>=1.15 in d:\\python\\lib\\site-packages (from seaborn) (1.19.5)\n",
      "Requirement already satisfied: pandas>=0.23 in d:\\python\\lib\\site-packages (from seaborn) (1.2.1)\n",
      "Requirement already satisfied: pillow>=6.2.0 in d:\\python\\lib\\site-packages (from matplotlib>=2.2->seaborn) (8.1.0)\n",
      "Requirement already satisfied: cycler>=0.10 in d:\\python\\lib\\site-packages (from matplotlib>=2.2->seaborn) (0.10.0)\n",
      "Requirement already satisfied: kiwisolver>=1.0.1 in d:\\python\\lib\\site-packages (from matplotlib>=2.2->seaborn) (1.3.1)\n",
      "Requirement already satisfied: python-dateutil>=2.1 in d:\\python\\lib\\site-packages (from matplotlib>=2.2->seaborn) (2.8.1)\n",
      "Requirement already satisfied: pyparsing!=2.0.4,!=2.1.2,!=2.1.6,>=2.0.3 in d:\\python\\lib\\site-packages (from matplotlib>=2.2->seaborn) (2.4.7)\n",
      "Requirement already satisfied: pytz>=2017.3 in d:\\python\\lib\\site-packages (from pandas>=0.23->seaborn) (2021.1)\n",
      "Requirement already satisfied: six in d:\\python\\lib\\site-packages (from cycler>=0.10->matplotlib>=2.2->seaborn) (1.15.0)\n",
      "Importing Jupyter notebook from D:\\Academics\\MLRepoFeb\\ML2020-Uber-Data-Analysis\\Preprocessing\\SpatialMapping.ipynb\n"
     ]
    },
    {
     "name": "stderr",
     "output_type": "stream",
     "text": [
      "WARNING: You are using pip version 20.2.3; however, version 21.0.1 is available.\n",
      "You should consider upgrading via the 'D:\\python\\python.exe -m pip install --upgrade pip' command.\n"
     ]
    },
    {
     "name": "stdout",
     "output_type": "stream",
     "text": [
      "Importing Jupyter notebook from D:\\Academics\\MLRepoFeb\\ML2020-Uber-Data-Analysis\\commons\\utility\\pickle_util.ipynb\n",
      "Importing Jupyter notebook from D:\\Academics\\MLRepoFeb\\ML2020-Uber-Data-Analysis\\Preprocessing\\DataEnrichment.ipynb\n",
      "Importing Jupyter notebook from D:\\Academics\\MLRepoFeb\\ML2020-Uber-Data-Analysis\\Preprocessing\\Discretization.ipynb\n"
     ]
    }
   ],
   "source": [
    "!{sys.executable} -m pip install seaborn\n",
    "#!{sys.executable} -m pip install imblearn\n",
    "import nbimporter\n",
    "import Preprocessing.SpatialMapping as sm\n",
    "import Preprocessing.Discretization as dis\n",
    "import time\n",
    "import math\n",
    "import seaborn as sns\n",
    "plt.rcParams.update({'font.size': 22})"
   ]
  },
  {
   "cell_type": "code",
   "execution_count": 4,
   "id": "weird-impossible",
   "metadata": {},
   "outputs": [
    {
     "name": "stdout",
     "output_type": "stream",
     "text": [
      "Data for the month :apr Found.....\n",
      "++++++++++++++++++++++++++++++++++++++++++++++++++++++++++++++++++++++++++++++++++++++++++++++++++++\n",
      "Loading file ../data/picklerCheckpoints/spatialJoinData/uber-spatial-data-apr14.p\n",
      "Decompressing ../data/picklerCheckpoints/spatialJoinData/uber-spatial-data-apr14.p.pbz2..............Done\n",
      "++++++++++++++++++++++++++++++++++++++++++++++++++++++++++++++++++++++++++++++++++++++++++++++++++++\n",
      "\n",
      "Data for the month :may Found.....\n",
      "++++++++++++++++++++++++++++++++++++++++++++++++++++++++++++++++++++++++++++++++++++++++++++++++++++\n",
      "Loading file ../data/picklerCheckpoints/spatialJoinData/uber-spatial-data-may14.p\n",
      "Decompressing ../data/picklerCheckpoints/spatialJoinData/uber-spatial-data-may14.p.pbz2..............Done\n",
      "++++++++++++++++++++++++++++++++++++++++++++++++++++++++++++++++++++++++++++++++++++++++++++++++++++\n",
      "\n",
      "Data for the month :jun Found.....\n",
      "++++++++++++++++++++++++++++++++++++++++++++++++++++++++++++++++++++++++++++++++++++++++++++++++++++\n",
      "Loading file ../data/picklerCheckpoints/spatialJoinData/uber-spatial-data-jun14.p\n",
      "Decompressing ../data/picklerCheckpoints/spatialJoinData/uber-spatial-data-jun14.p.pbz2..............Done\n",
      "++++++++++++++++++++++++++++++++++++++++++++++++++++++++++++++++++++++++++++++++++++++++++++++++++++\n",
      "\n",
      "Data for the month :jul Found.....\n",
      "++++++++++++++++++++++++++++++++++++++++++++++++++++++++++++++++++++++++++++++++++++++++++++++++++++\n",
      "Loading file ../data/picklerCheckpoints/spatialJoinData/uber-spatial-data-jul14.p\n",
      "Decompressing ../data/picklerCheckpoints/spatialJoinData/uber-spatial-data-jul14.p.pbz2..............Done\n",
      "++++++++++++++++++++++++++++++++++++++++++++++++++++++++++++++++++++++++++++++++++++++++++++++++++++\n",
      "\n",
      "Data for the month :aug Found.....\n",
      "++++++++++++++++++++++++++++++++++++++++++++++++++++++++++++++++++++++++++++++++++++++++++++++++++++\n",
      "Loading file ../data/picklerCheckpoints/spatialJoinData/uber-spatial-data-aug14.p\n",
      "Decompressing ../data/picklerCheckpoints/spatialJoinData/uber-spatial-data-aug14.p.pbz2..............Done\n",
      "++++++++++++++++++++++++++++++++++++++++++++++++++++++++++++++++++++++++++++++++++++++++++++++++++++\n",
      "\n"
     ]
    }
   ],
   "source": [
    "data = sm.run(['apr', 'may', 'jun', 'jul', 'aug'])"
   ]
  },
  {
   "cell_type": "code",
   "execution_count": 5,
   "id": "overall-pearl",
   "metadata": {},
   "outputs": [],
   "source": [
    "df = data.copy()\n",
    "columns = ['datetime', 'zone', 'weatherCondition', 'humidity', 'pressure', 'temperature', 'windDirection', 'windSpeed', 'holiday']"
   ]
  },
  {
   "cell_type": "code",
   "execution_count": 6,
   "id": "champion-soccer",
   "metadata": {},
   "outputs": [
    {
     "name": "stderr",
     "output_type": "stream",
     "text": [
      "D:\\Academics\\MLRepoFeb\\ML2020-Uber-Data-Analysis\\Preprocessing\\Discretization.ipynb:7: SettingWithCopyWarning: \n",
      "A value is trying to be set on a copy of a slice from a DataFrame.\n",
      "Try using .loc[row_indexer,col_indexer] = value instead\n",
      "\n",
      "See the caveats in the documentation: https://pandas.pydata.org/pandas-docs/stable/user_guide/indexing.html#returning-a-view-versus-a-copy\n",
      "  \"metadata\": {},\n"
     ]
    },
    {
     "name": "stdout",
     "output_type": "stream",
     "text": [
      "Result Saved in ../data/encodedMappings/zone.p\n",
      "Result Saved in ../data/encodedMappings/weatherCondition.p\n",
      "Result Saved in ../data/encodedMappings/holiday.p\n"
     ]
    }
   ],
   "source": [
    "df2 = df[columns]\n",
    "df2g = dis.encode(df2, ['zone', 'weatherCondition', 'holiday'])\n",
    "df2g = df2.groupby(columns).size().reset_index(name='counts')\n",
    "df2g['datetime'] = pd.to_datetime(df2g['datetime'], format='%m-%d-%Y:%H').apply(lambda x: time.mktime(x.timetuple()))"
   ]
  },
  {
   "cell_type": "code",
   "execution_count": 7,
   "id": "permanent-diameter",
   "metadata": {},
   "outputs": [],
   "source": [
    "from sklearn.preprocessing import MinMaxScaler\n",
    "counts = df2g['counts'].copy()\n",
    "datetime = df2g['datetime'].copy()"
   ]
  },
  {
   "cell_type": "code",
   "execution_count": 8,
   "id": "naval-round",
   "metadata": {},
   "outputs": [
    {
     "data": {
      "text/html": [
       "<div>\n",
       "<style scoped>\n",
       "    .dataframe tbody tr th:only-of-type {\n",
       "        vertical-align: middle;\n",
       "    }\n",
       "\n",
       "    .dataframe tbody tr th {\n",
       "        vertical-align: top;\n",
       "    }\n",
       "\n",
       "    .dataframe thead th {\n",
       "        text-align: right;\n",
       "    }\n",
       "</style>\n",
       "<table border=\"1\" class=\"dataframe\">\n",
       "  <thead>\n",
       "    <tr style=\"text-align: right;\">\n",
       "      <th></th>\n",
       "      <th>datetime</th>\n",
       "      <th>zone</th>\n",
       "      <th>weatherCondition</th>\n",
       "      <th>humidity</th>\n",
       "      <th>pressure</th>\n",
       "      <th>temperature</th>\n",
       "      <th>windDirection</th>\n",
       "      <th>windSpeed</th>\n",
       "      <th>holiday</th>\n",
       "      <th>counts</th>\n",
       "    </tr>\n",
       "  </thead>\n",
       "  <tbody>\n",
       "    <tr>\n",
       "      <th>0</th>\n",
       "      <td>1.396291e+09</td>\n",
       "      <td>10</td>\n",
       "      <td>15</td>\n",
       "      <td>40.0</td>\n",
       "      <td>1016.0</td>\n",
       "      <td>282.96</td>\n",
       "      <td>330.0</td>\n",
       "      <td>5.0</td>\n",
       "      <td>1</td>\n",
       "      <td>3</td>\n",
       "    </tr>\n",
       "    <tr>\n",
       "      <th>1</th>\n",
       "      <td>1.396291e+09</td>\n",
       "      <td>11</td>\n",
       "      <td>15</td>\n",
       "      <td>40.0</td>\n",
       "      <td>1016.0</td>\n",
       "      <td>282.96</td>\n",
       "      <td>330.0</td>\n",
       "      <td>5.0</td>\n",
       "      <td>1</td>\n",
       "      <td>1</td>\n",
       "    </tr>\n",
       "    <tr>\n",
       "      <th>2</th>\n",
       "      <td>1.396291e+09</td>\n",
       "      <td>14</td>\n",
       "      <td>15</td>\n",
       "      <td>40.0</td>\n",
       "      <td>1016.0</td>\n",
       "      <td>282.96</td>\n",
       "      <td>330.0</td>\n",
       "      <td>5.0</td>\n",
       "      <td>1</td>\n",
       "      <td>2</td>\n",
       "    </tr>\n",
       "    <tr>\n",
       "      <th>3</th>\n",
       "      <td>1.396291e+09</td>\n",
       "      <td>22</td>\n",
       "      <td>15</td>\n",
       "      <td>40.0</td>\n",
       "      <td>1016.0</td>\n",
       "      <td>282.96</td>\n",
       "      <td>330.0</td>\n",
       "      <td>5.0</td>\n",
       "      <td>1</td>\n",
       "      <td>1</td>\n",
       "    </tr>\n",
       "    <tr>\n",
       "      <th>4</th>\n",
       "      <td>1.396291e+09</td>\n",
       "      <td>25</td>\n",
       "      <td>15</td>\n",
       "      <td>40.0</td>\n",
       "      <td>1016.0</td>\n",
       "      <td>282.96</td>\n",
       "      <td>330.0</td>\n",
       "      <td>5.0</td>\n",
       "      <td>1</td>\n",
       "      <td>1</td>\n",
       "    </tr>\n",
       "    <tr>\n",
       "      <th>...</th>\n",
       "      <td>...</td>\n",
       "      <td>...</td>\n",
       "      <td>...</td>\n",
       "      <td>...</td>\n",
       "      <td>...</td>\n",
       "      <td>...</td>\n",
       "      <td>...</td>\n",
       "      <td>...</td>\n",
       "      <td>...</td>\n",
       "      <td>...</td>\n",
       "    </tr>\n",
       "    <tr>\n",
       "      <th>486661</th>\n",
       "      <td>1.409506e+09</td>\n",
       "      <td>251</td>\n",
       "      <td>10</td>\n",
       "      <td>88.0</td>\n",
       "      <td>1015.0</td>\n",
       "      <td>298.53</td>\n",
       "      <td>0.0</td>\n",
       "      <td>2.0</td>\n",
       "      <td>2</td>\n",
       "      <td>3</td>\n",
       "    </tr>\n",
       "    <tr>\n",
       "      <th>486662</th>\n",
       "      <td>1.409506e+09</td>\n",
       "      <td>254</td>\n",
       "      <td>10</td>\n",
       "      <td>88.0</td>\n",
       "      <td>1015.0</td>\n",
       "      <td>298.53</td>\n",
       "      <td>0.0</td>\n",
       "      <td>2.0</td>\n",
       "      <td>2</td>\n",
       "      <td>5</td>\n",
       "    </tr>\n",
       "    <tr>\n",
       "      <th>486663</th>\n",
       "      <td>1.409506e+09</td>\n",
       "      <td>255</td>\n",
       "      <td>10</td>\n",
       "      <td>88.0</td>\n",
       "      <td>1015.0</td>\n",
       "      <td>298.53</td>\n",
       "      <td>0.0</td>\n",
       "      <td>2.0</td>\n",
       "      <td>2</td>\n",
       "      <td>7</td>\n",
       "    </tr>\n",
       "    <tr>\n",
       "      <th>486664</th>\n",
       "      <td>1.409506e+09</td>\n",
       "      <td>256</td>\n",
       "      <td>10</td>\n",
       "      <td>88.0</td>\n",
       "      <td>1015.0</td>\n",
       "      <td>298.53</td>\n",
       "      <td>0.0</td>\n",
       "      <td>2.0</td>\n",
       "      <td>2</td>\n",
       "      <td>6</td>\n",
       "    </tr>\n",
       "    <tr>\n",
       "      <th>486665</th>\n",
       "      <td>1.409506e+09</td>\n",
       "      <td>257</td>\n",
       "      <td>10</td>\n",
       "      <td>88.0</td>\n",
       "      <td>1015.0</td>\n",
       "      <td>298.53</td>\n",
       "      <td>0.0</td>\n",
       "      <td>2.0</td>\n",
       "      <td>2</td>\n",
       "      <td>10</td>\n",
       "    </tr>\n",
       "  </tbody>\n",
       "</table>\n",
       "<p>486666 rows × 10 columns</p>\n",
       "</div>"
      ],
      "text/plain": [
       "            datetime  zone  weatherCondition  humidity  pressure  temperature  \\\n",
       "0       1.396291e+09    10                15      40.0    1016.0       282.96   \n",
       "1       1.396291e+09    11                15      40.0    1016.0       282.96   \n",
       "2       1.396291e+09    14                15      40.0    1016.0       282.96   \n",
       "3       1.396291e+09    22                15      40.0    1016.0       282.96   \n",
       "4       1.396291e+09    25                15      40.0    1016.0       282.96   \n",
       "...              ...   ...               ...       ...       ...          ...   \n",
       "486661  1.409506e+09   251                10      88.0    1015.0       298.53   \n",
       "486662  1.409506e+09   254                10      88.0    1015.0       298.53   \n",
       "486663  1.409506e+09   255                10      88.0    1015.0       298.53   \n",
       "486664  1.409506e+09   256                10      88.0    1015.0       298.53   \n",
       "486665  1.409506e+09   257                10      88.0    1015.0       298.53   \n",
       "\n",
       "        windDirection  windSpeed  holiday  counts  \n",
       "0               330.0        5.0        1       3  \n",
       "1               330.0        5.0        1       1  \n",
       "2               330.0        5.0        1       2  \n",
       "3               330.0        5.0        1       1  \n",
       "4               330.0        5.0        1       1  \n",
       "...               ...        ...      ...     ...  \n",
       "486661            0.0        2.0        2       3  \n",
       "486662            0.0        2.0        2       5  \n",
       "486663            0.0        2.0        2       7  \n",
       "486664            0.0        2.0        2       6  \n",
       "486665            0.0        2.0        2      10  \n",
       "\n",
       "[486666 rows x 10 columns]"
      ]
     },
     "execution_count": 8,
     "metadata": {},
     "output_type": "execute_result"
    }
   ],
   "source": [
    "df2g"
   ]
  },
  {
   "cell_type": "code",
   "execution_count": 9,
   "id": "restricted-latter",
   "metadata": {},
   "outputs": [],
   "source": [
    "# bins = [0, 10, 50, np.inf]\n",
    "# names = ['low', 'med', 'high']\n",
    "\n",
    "df2g['label'] = df2g['counts']"
   ]
  },
  {
   "cell_type": "code",
   "execution_count": 10,
   "id": "smaller-opera",
   "metadata": {},
   "outputs": [],
   "source": [
    "# df2g = dis.encode(df2g, ['label'])"
   ]
  },
  {
   "cell_type": "code",
   "execution_count": 11,
   "id": "dressed-difference",
   "metadata": {},
   "outputs": [],
   "source": [
    "# class0, class1, class2 = df2g['label'].value_counts()"
   ]
  },
  {
   "cell_type": "code",
   "execution_count": 12,
   "id": "consistent-olive",
   "metadata": {},
   "outputs": [],
   "source": [
    "from imblearn.over_sampling import RandomOverSampler\n",
    "from imblearn.under_sampling import RandomUnderSampler\n",
    "ros = RandomUnderSampler(random_state=101)"
   ]
  },
  {
   "cell_type": "code",
   "execution_count": 13,
   "id": "intermediate-respect",
   "metadata": {},
   "outputs": [],
   "source": [
    "x_ros, y_ros = ros.fit_resample(df2g[columns], df2g['label'])\n",
    "df3 = x_ros\n",
    "df3['label'] = y_ros"
   ]
  },
  {
   "cell_type": "code",
   "execution_count": 14,
   "id": "structured-trailer",
   "metadata": {},
   "outputs": [],
   "source": [
    "scaler = MinMaxScaler() \n",
    "scaled_values = scaler.fit_transform(df3) \n",
    "df3.loc[:,:] = scaled_values\n",
    "df3['counts'] = counts\n",
    "df3['datetime'] = datetime"
   ]
  },
  {
   "cell_type": "code",
   "execution_count": 15,
   "id": "sustained-ethiopia",
   "metadata": {},
   "outputs": [
    {
     "data": {
      "text/html": [
       "<div>\n",
       "<style scoped>\n",
       "    .dataframe tbody tr th:only-of-type {\n",
       "        vertical-align: middle;\n",
       "    }\n",
       "\n",
       "    .dataframe tbody tr th {\n",
       "        vertical-align: top;\n",
       "    }\n",
       "\n",
       "    .dataframe thead th {\n",
       "        text-align: right;\n",
       "    }\n",
       "</style>\n",
       "<table border=\"1\" class=\"dataframe\">\n",
       "  <thead>\n",
       "    <tr style=\"text-align: right;\">\n",
       "      <th></th>\n",
       "      <th>datetime</th>\n",
       "      <th>zone</th>\n",
       "      <th>weatherCondition</th>\n",
       "      <th>humidity</th>\n",
       "      <th>pressure</th>\n",
       "      <th>temperature</th>\n",
       "      <th>windDirection</th>\n",
       "      <th>windSpeed</th>\n",
       "      <th>holiday</th>\n",
       "      <th>label</th>\n",
       "      <th>counts</th>\n",
       "    </tr>\n",
       "  </thead>\n",
       "  <tbody>\n",
       "    <tr>\n",
       "      <th>0</th>\n",
       "      <td>1.396291e+09</td>\n",
       "      <td>0.046875</td>\n",
       "      <td>0.681818</td>\n",
       "      <td>0.595506</td>\n",
       "      <td>0.560976</td>\n",
       "      <td>0.686562</td>\n",
       "      <td>0.000000</td>\n",
       "      <td>0.083333</td>\n",
       "      <td>0.0</td>\n",
       "      <td>0.000000</td>\n",
       "      <td>3</td>\n",
       "    </tr>\n",
       "    <tr>\n",
       "      <th>1</th>\n",
       "      <td>1.396291e+09</td>\n",
       "      <td>0.335938</td>\n",
       "      <td>0.227273</td>\n",
       "      <td>0.808989</td>\n",
       "      <td>0.195122</td>\n",
       "      <td>0.786596</td>\n",
       "      <td>0.472222</td>\n",
       "      <td>0.250000</td>\n",
       "      <td>0.0</td>\n",
       "      <td>0.001786</td>\n",
       "      <td>1</td>\n",
       "    </tr>\n",
       "    <tr>\n",
       "      <th>2</th>\n",
       "      <td>1.396291e+09</td>\n",
       "      <td>0.550781</td>\n",
       "      <td>0.136364</td>\n",
       "      <td>0.303371</td>\n",
       "      <td>0.853659</td>\n",
       "      <td>0.000000</td>\n",
       "      <td>0.083333</td>\n",
       "      <td>0.333333</td>\n",
       "      <td>0.0</td>\n",
       "      <td>0.003571</td>\n",
       "      <td>2</td>\n",
       "    </tr>\n",
       "    <tr>\n",
       "      <th>3</th>\n",
       "      <td>1.396291e+09</td>\n",
       "      <td>0.000000</td>\n",
       "      <td>0.681818</td>\n",
       "      <td>0.337079</td>\n",
       "      <td>0.292683</td>\n",
       "      <td>0.619206</td>\n",
       "      <td>0.944444</td>\n",
       "      <td>0.250000</td>\n",
       "      <td>0.0</td>\n",
       "      <td>0.005357</td>\n",
       "      <td>1</td>\n",
       "    </tr>\n",
       "    <tr>\n",
       "      <th>4</th>\n",
       "      <td>1.396291e+09</td>\n",
       "      <td>0.191406</td>\n",
       "      <td>0.136364</td>\n",
       "      <td>0.561798</td>\n",
       "      <td>0.146341</td>\n",
       "      <td>0.125375</td>\n",
       "      <td>0.861111</td>\n",
       "      <td>0.333333</td>\n",
       "      <td>0.0</td>\n",
       "      <td>0.007143</td>\n",
       "      <td>1</td>\n",
       "    </tr>\n",
       "    <tr>\n",
       "      <th>...</th>\n",
       "      <td>...</td>\n",
       "      <td>...</td>\n",
       "      <td>...</td>\n",
       "      <td>...</td>\n",
       "      <td>...</td>\n",
       "      <td>...</td>\n",
       "      <td>...</td>\n",
       "      <td>...</td>\n",
       "      <td>...</td>\n",
       "      <td>...</td>\n",
       "      <td>...</td>\n",
       "    </tr>\n",
       "    <tr>\n",
       "      <th>387</th>\n",
       "      <td>1.396312e+09</td>\n",
       "      <td>0.601562</td>\n",
       "      <td>0.318182</td>\n",
       "      <td>0.977528</td>\n",
       "      <td>0.902439</td>\n",
       "      <td>0.178515</td>\n",
       "      <td>0.283333</td>\n",
       "      <td>0.416667</td>\n",
       "      <td>0.0</td>\n",
       "      <td>0.864286</td>\n",
       "      <td>1</td>\n",
       "    </tr>\n",
       "    <tr>\n",
       "      <th>388</th>\n",
       "      <td>1.396312e+09</td>\n",
       "      <td>0.601562</td>\n",
       "      <td>0.454545</td>\n",
       "      <td>0.932584</td>\n",
       "      <td>0.170732</td>\n",
       "      <td>0.734245</td>\n",
       "      <td>0.277778</td>\n",
       "      <td>0.166667</td>\n",
       "      <td>0.0</td>\n",
       "      <td>0.912500</td>\n",
       "      <td>8</td>\n",
       "    </tr>\n",
       "    <tr>\n",
       "      <th>389</th>\n",
       "      <td>1.396312e+09</td>\n",
       "      <td>0.601562</td>\n",
       "      <td>0.227273</td>\n",
       "      <td>0.617978</td>\n",
       "      <td>0.195122</td>\n",
       "      <td>0.835945</td>\n",
       "      <td>0.000000</td>\n",
       "      <td>0.166667</td>\n",
       "      <td>0.0</td>\n",
       "      <td>0.919643</td>\n",
       "      <td>2</td>\n",
       "    </tr>\n",
       "    <tr>\n",
       "      <th>390</th>\n",
       "      <td>1.396312e+09</td>\n",
       "      <td>0.601562</td>\n",
       "      <td>0.454545</td>\n",
       "      <td>0.617978</td>\n",
       "      <td>0.170732</td>\n",
       "      <td>0.838946</td>\n",
       "      <td>0.777778</td>\n",
       "      <td>0.333333</td>\n",
       "      <td>0.0</td>\n",
       "      <td>0.964286</td>\n",
       "      <td>1</td>\n",
       "    </tr>\n",
       "    <tr>\n",
       "      <th>391</th>\n",
       "      <td>1.396312e+09</td>\n",
       "      <td>0.601562</td>\n",
       "      <td>0.454545</td>\n",
       "      <td>0.808989</td>\n",
       "      <td>0.195122</td>\n",
       "      <td>0.754585</td>\n",
       "      <td>0.388889</td>\n",
       "      <td>0.250000</td>\n",
       "      <td>0.0</td>\n",
       "      <td>1.000000</td>\n",
       "      <td>6</td>\n",
       "    </tr>\n",
       "  </tbody>\n",
       "</table>\n",
       "<p>392 rows × 11 columns</p>\n",
       "</div>"
      ],
      "text/plain": [
       "         datetime      zone  weatherCondition  humidity  pressure  \\\n",
       "0    1.396291e+09  0.046875          0.681818  0.595506  0.560976   \n",
       "1    1.396291e+09  0.335938          0.227273  0.808989  0.195122   \n",
       "2    1.396291e+09  0.550781          0.136364  0.303371  0.853659   \n",
       "3    1.396291e+09  0.000000          0.681818  0.337079  0.292683   \n",
       "4    1.396291e+09  0.191406          0.136364  0.561798  0.146341   \n",
       "..            ...       ...               ...       ...       ...   \n",
       "387  1.396312e+09  0.601562          0.318182  0.977528  0.902439   \n",
       "388  1.396312e+09  0.601562          0.454545  0.932584  0.170732   \n",
       "389  1.396312e+09  0.601562          0.227273  0.617978  0.195122   \n",
       "390  1.396312e+09  0.601562          0.454545  0.617978  0.170732   \n",
       "391  1.396312e+09  0.601562          0.454545  0.808989  0.195122   \n",
       "\n",
       "     temperature  windDirection  windSpeed  holiday     label  counts  \n",
       "0       0.686562       0.000000   0.083333      0.0  0.000000       3  \n",
       "1       0.786596       0.472222   0.250000      0.0  0.001786       1  \n",
       "2       0.000000       0.083333   0.333333      0.0  0.003571       2  \n",
       "3       0.619206       0.944444   0.250000      0.0  0.005357       1  \n",
       "4       0.125375       0.861111   0.333333      0.0  0.007143       1  \n",
       "..           ...            ...        ...      ...       ...     ...  \n",
       "387     0.178515       0.283333   0.416667      0.0  0.864286       1  \n",
       "388     0.734245       0.277778   0.166667      0.0  0.912500       8  \n",
       "389     0.835945       0.000000   0.166667      0.0  0.919643       2  \n",
       "390     0.838946       0.777778   0.333333      0.0  0.964286       1  \n",
       "391     0.754585       0.388889   0.250000      0.0  1.000000       6  \n",
       "\n",
       "[392 rows x 11 columns]"
      ]
     },
     "execution_count": 15,
     "metadata": {},
     "output_type": "execute_result"
    }
   ],
   "source": [
    "x_ros"
   ]
  },
  {
   "cell_type": "code",
   "execution_count": null,
   "id": "little-journalist",
   "metadata": {},
   "outputs": [],
   "source": []
  },
  {
   "cell_type": "code",
   "execution_count": null,
   "id": "organized-robertson",
   "metadata": {},
   "outputs": [],
   "source": []
  },
  {
   "cell_type": "code",
   "execution_count": 16,
   "id": "sorted-xerox",
   "metadata": {},
   "outputs": [
    {
     "data": {
      "image/png": "[encoded data removed]",
      "text/plain": [
       "<Figure size 864x720 with 2 Axes>"
      ]
     },
     "metadata": {
      "needs_background": "light"
     },
     "output_type": "display_data"
    }
   ],
   "source": [
    "plt.figure(figsize=(12,10))\n",
    "plt.rcParams.update({'font.size': 14})\n",
    "corrCols = columns.copy()\n",
    "corrCols.append('label')\n",
    "cor = df3[corrCols].corr()\n",
    "sns.heatmap(cor, annot=True, cmap=plt.cm.Reds)\n",
    "plt.savefig('LinearRegression/LR-2-Correlation.png')\n",
    "plt.show()"
   ]
  },
  {
   "cell_type": "code",
   "execution_count": 17,
   "id": "proud-luxembourg",
   "metadata": {},
   "outputs": [
    {
     "data": {
      "text/plain": [
       "datetime    0.909276\n",
       "label       1.000000\n",
       "Name: label, dtype: float64"
      ]
     },
     "execution_count": 17,
     "metadata": {},
     "output_type": "execute_result"
    }
   ],
   "source": [
    "#Correlation with output variable\n",
    "cor_target = abs(cor[\"label\"])\n",
    "#Selecting highly correlated features\n",
    "relevant_features = cor_target[cor_target>0.5]\n",
    "relevant_features"
   ]
  },
  {
   "cell_type": "code",
   "execution_count": null,
   "id": "vanilla-heaven",
   "metadata": {},
   "outputs": [],
   "source": []
  },
  {
   "cell_type": "code",
   "execution_count": 18,
   "id": "short-translator",
   "metadata": {},
   "outputs": [],
   "source": [
    "from sklearn.model_selection import train_test_split"
   ]
  },
  {
   "cell_type": "code",
   "execution_count": 19,
   "id": "disciplinary-oakland",
   "metadata": {},
   "outputs": [],
   "source": [
    "X_train, X_test, y_train, y_test = train_test_split( df3[columns], df3['label'], test_size=0.33, random_state=100)"
   ]
  },
  {
   "cell_type": "code",
   "execution_count": 20,
   "id": "constant-hopkins",
   "metadata": {},
   "outputs": [],
   "source": [
    "from sklearn.linear_model import LinearRegression\n",
    "from sklearn.linear_model import Ridge"
   ]
  },
  {
   "cell_type": "code",
   "execution_count": 21,
   "id": "relevant-thunder",
   "metadata": {},
   "outputs": [],
   "source": [
    "model = LinearRegression()\n",
    "startTr = int(round(time.time() * 1000))\n",
    "trained = model.fit(X_train, y_train)\n",
    "endTr = int(round(time.time() * 1000))"
   ]
  },
  {
   "cell_type": "code",
   "execution_count": 22,
   "id": "smooth-proceeding",
   "metadata": {},
   "outputs": [],
   "source": [
    "startTe = int(round(time.time() * 1000))\n",
    "x_predict = model.predict(X_test)\n",
    "endTe = int(round(time.time() * 1000))"
   ]
  },
  {
   "cell_type": "code",
   "execution_count": null,
   "id": "warming-constraint",
   "metadata": {},
   "outputs": [],
   "source": []
  },
  {
   "cell_type": "code",
   "execution_count": 23,
   "id": "nervous-payroll",
   "metadata": {},
   "outputs": [],
   "source": [
    "testDf = pd.DataFrame(X_test, columns=columns)\n",
    "testDf['label'] = y_test\n",
    "testDf.loc[:,:] = scaler.inverse_transform(testDf)\n",
    "predictedDf = pd.DataFrame(X_test, columns=columns)\n",
    "predictedDf['label'] = x_predict\n",
    "predictedDf.loc[:,:] = scaler.inverse_transform(predictedDf)\n",
    "predictedDf['label'] = predictedDf['label'].astype(int)"
   ]
  },
  {
   "cell_type": "code",
   "execution_count": 24,
   "id": "impressed-canvas",
   "metadata": {},
   "outputs": [],
   "source": [
    "y_test = testDf['label'].astype(int)\n",
    "x_predict = predictedDf['label']"
   ]
  },
  {
   "cell_type": "code",
   "execution_count": 25,
   "id": "undefined-elimination",
   "metadata": {},
   "outputs": [],
   "source": [
    "from sklearn import metrics"
   ]
  },
  {
   "cell_type": "code",
   "execution_count": 26,
   "id": "silent-niagara",
   "metadata": {},
   "outputs": [
    {
     "name": "stdout",
     "output_type": "stream",
     "text": [
      "38.676923076923075\n",
      "2391.9846153846156\n",
      "0.843511611373138\n"
     ]
    }
   ],
   "source": [
    "print(metrics.mean_absolute_error(y_test, x_predict))\n",
    "print(metrics.mean_squared_error(y_test, x_predict))\n",
    "print(metrics.r2_score(y_test, x_predict))"
   ]
  },
  {
   "cell_type": "code",
   "execution_count": 27,
   "id": "vocational-avatar",
   "metadata": {},
   "outputs": [],
   "source": [
    "from sklearn.metrics import classification_report"
   ]
  },
  {
   "cell_type": "code",
   "execution_count": 28,
   "id": "nearby-average",
   "metadata": {},
   "outputs": [
    {
     "name": "stdout",
     "output_type": "stream",
     "text": [
      "              precision    recall  f1-score   support\n",
      "\n",
      "         -29       0.00      0.00      0.00         0\n",
      "         -26       0.00      0.00      0.00         0\n",
      "         -21       0.00      0.00      0.00         0\n",
      "         -19       0.00      0.00      0.00         0\n",
      "         -15       0.00      0.00      0.00         0\n",
      "         -10       0.00      0.00      0.00         0\n",
      "          -9       0.00      0.00      0.00         0\n",
      "          -6       0.00      0.00      0.00         0\n",
      "          -5       0.00      0.00      0.00         0\n",
      "          -4       0.00      0.00      0.00         0\n",
      "          -1       0.00      0.00      0.00         0\n",
      "           0       0.00      0.00      0.00         0\n",
      "           2       0.00      0.00      0.00         1\n",
      "           3       0.00      0.00      0.00         0\n",
      "           4       0.00      0.00      0.00         1\n",
      "           5       0.00      0.00      0.00         0\n",
      "           6       0.00      0.00      0.00         1\n",
      "           7       0.00      0.00      0.00         1\n",
      "           8       0.00      0.00      0.00         1\n",
      "           9       0.00      0.00      0.00         0\n",
      "          10       0.00      0.00      0.00         0\n",
      "          11       0.00      0.00      0.00         0\n",
      "          14       0.00      0.00      0.00         0\n",
      "          16       0.00      0.00      0.00         1\n",
      "          19       0.00      0.00      0.00         1\n",
      "          20       0.00      0.00      0.00         1\n",
      "          21       0.00      0.00      0.00         1\n",
      "          22       0.00      0.00      0.00         1\n",
      "          24       0.00      0.00      0.00         1\n",
      "          26       0.00      0.00      0.00         1\n",
      "          28       0.00      0.00      0.00         1\n",
      "          32       0.00      0.00      0.00         1\n",
      "          34       0.00      0.00      0.00         1\n",
      "          36       0.00      0.00      0.00         1\n",
      "          44       0.00      0.00      0.00         1\n",
      "          46       0.00      0.00      0.00         1\n",
      "          47       0.00      0.00      0.00         1\n",
      "          48       0.00      0.00      0.00         1\n",
      "          51       0.00      0.00      0.00         1\n",
      "          55       0.00      0.00      0.00         1\n",
      "          57       0.00      0.00      0.00         1\n",
      "          60       0.00      0.00      0.00         1\n",
      "          61       0.00      0.00      0.00         1\n",
      "          65       0.00      0.00      0.00         1\n",
      "          70       0.00      0.00      0.00         1\n",
      "          76       0.00      0.00      0.00         1\n",
      "          79       0.00      0.00      0.00         1\n",
      "          81       0.00      0.00      0.00         1\n",
      "          85       0.00      0.00      0.00         1\n",
      "          89       0.00      0.00      0.00         1\n",
      "          91       0.00      0.00      0.00         1\n",
      "          97       0.00      0.00      0.00         1\n",
      "          98       0.00      0.00      0.00         1\n",
      "          99       0.00      0.00      0.00         1\n",
      "         104       0.00      0.00      0.00         1\n",
      "         111       0.00      0.00      0.00         1\n",
      "         119       0.00      0.00      0.00         1\n",
      "         121       0.00      0.00      0.00         1\n",
      "         122       0.00      0.00      0.00         1\n",
      "         125       0.00      0.00      0.00         1\n",
      "         126       0.00      0.00      0.00         1\n",
      "         128       0.00      0.00      0.00         1\n",
      "         130       0.00      0.00      0.00         1\n",
      "         133       0.00      0.00      0.00         1\n",
      "         134       0.00      0.00      0.00         1\n",
      "         135       0.00      0.00      0.00         1\n",
      "         137       0.00      0.00      0.00         1\n",
      "         141       0.00      0.00      0.00         1\n",
      "         147       0.00      0.00      0.00         0\n",
      "         148       0.00      0.00      0.00         1\n",
      "         150       0.00      0.00      0.00         1\n",
      "         151       0.00      0.00      0.00         1\n",
      "         153       0.00      0.00      0.00         1\n",
      "         154       0.00      0.00      0.00         1\n",
      "         158       0.00      0.00      0.00         1\n",
      "         161       0.00      0.00      0.00         1\n",
      "         162       0.00      0.00      0.00         1\n",
      "         163       0.00      0.00      0.00         0\n",
      "         164       0.00      0.00      0.00         1\n",
      "         167       0.00      0.00      0.00         1\n",
      "         170       0.00      0.00      0.00         1\n",
      "         171       0.00      0.00      0.00         1\n",
      "         173       0.00      0.00      0.00         0\n",
      "         175       0.00      0.00      0.00         1\n",
      "         176       0.00      0.00      0.00         0\n",
      "         177       0.00      0.00      0.00         0\n",
      "         179       0.00      0.00      0.00         1\n",
      "         181       0.00      0.00      0.00         0\n",
      "         182       0.00      0.00      0.00         0\n",
      "         183       0.00      0.00      0.00         0\n",
      "         184       0.00      0.00      0.00         0\n",
      "         185       0.00      0.00      0.00         0\n",
      "         186       0.00      0.00      0.00         0\n",
      "         187       0.00      0.00      0.00         0\n",
      "         188       0.00      0.00      0.00         1\n",
      "         189       0.00      0.00      0.00         1\n",
      "         190       0.00      0.00      0.00         0\n",
      "         191       0.00      0.00      0.00         1\n",
      "         192       0.00      0.00      0.00         1\n",
      "         193       0.00      0.00      0.00         0\n",
      "         194       0.00      0.00      0.00         0\n",
      "         196       0.00      0.00      0.00         1\n",
      "         199       0.00      0.00      0.00         1\n",
      "         201       0.00      0.00      0.00         0\n",
      "         202       0.00      0.00      0.00         1\n",
      "         205       0.00      0.00      0.00         0\n",
      "         210       0.00      0.00      0.00         1\n",
      "         214       0.00      0.00      0.00         1\n",
      "         218       0.00      0.00      0.00         0\n",
      "         220       1.00      1.00      1.00         1\n",
      "         221       0.00      0.00      0.00         0\n",
      "         223       0.00      0.00      0.00         0\n",
      "         226       0.00      0.00      0.00         1\n",
      "         228       0.00      0.00      0.00         1\n",
      "         229       0.00      0.00      0.00         0\n",
      "         230       0.00      0.00      0.00         0\n",
      "         231       0.00      0.00      0.00         0\n",
      "         232       0.00      0.00      0.00         1\n",
      "         233       0.00      0.00      0.00         0\n",
      "         234       0.00      0.00      0.00         1\n",
      "         235       0.00      0.00      0.00         1\n",
      "         236       0.00      0.00      0.00         1\n",
      "         237       0.00      0.00      0.00         0\n",
      "         239       0.00      0.00      0.00         0\n",
      "         240       0.00      0.00      0.00         1\n",
      "         242       0.00      0.00      0.00         1\n",
      "         247       0.00      0.00      0.00         1\n",
      "         248       0.00      0.00      0.00         0\n",
      "         249       0.00      0.00      0.00         1\n",
      "         250       0.00      0.00      0.00         1\n",
      "         253       0.00      0.00      0.00         1\n",
      "         254       0.00      0.00      0.00         0\n",
      "         256       0.00      0.00      0.00         1\n",
      "         258       0.00      0.00      0.00         1\n",
      "         259       0.00      0.00      0.00         1\n",
      "         261       0.00      0.00      0.00         1\n",
      "         266       0.00      0.00      0.00         1\n",
      "         267       0.00      0.00      0.00         1\n",
      "         268       0.00      0.00      0.00         1\n",
      "         272       0.00      0.00      0.00         0\n",
      "         273       0.00      0.00      0.00         1\n",
      "         277       0.00      0.00      0.00         1\n",
      "         278       0.00      0.00      0.00         0\n",
      "         279       0.00      0.00      0.00         0\n",
      "         280       0.00      0.00      0.00         1\n",
      "         281       0.00      0.00      0.00         0\n",
      "         283       0.00      0.00      0.00         1\n",
      "         284       0.00      0.00      0.00         0\n",
      "         285       0.00      0.00      0.00         1\n",
      "         286       0.00      0.00      0.00         0\n",
      "         287       0.00      0.00      0.00         0\n",
      "         288       0.00      0.00      0.00         0\n",
      "         290       0.00      0.00      0.00         1\n",
      "         292       0.00      0.00      0.00         0\n",
      "         293       0.00      0.00      0.00         0\n",
      "         295       0.00      0.00      0.00         1\n",
      "         296       0.00      0.00      0.00         0\n",
      "         297       0.00      0.00      0.00         1\n",
      "         299       0.00      0.00      0.00         1\n",
      "         300       0.00      0.00      0.00         1\n",
      "         301       0.00      0.00      0.00         0\n",
      "         302       0.00      0.00      0.00         0\n",
      "         303       0.00      0.00      0.00         0\n",
      "         305       0.00      0.00      0.00         0\n",
      "         306       0.00      0.00      0.00         1\n",
      "         309       0.00      0.00      0.00         1\n",
      "         310       0.00      0.00      0.00         1\n",
      "         311       0.00      0.00      0.00         1\n",
      "         313       0.00      0.00      0.00         1\n",
      "         314       0.00      0.00      0.00         0\n",
      "         329       0.00      0.00      0.00         1\n",
      "         331       0.00      0.00      0.00         1\n",
      "         335       0.00      0.00      0.00         1\n",
      "         337       0.00      0.00      0.00         1\n",
      "         341       0.00      0.00      0.00         1\n",
      "         346       0.00      0.00      0.00         1\n",
      "         351       0.00      0.00      0.00         1\n",
      "         353       0.00      0.00      0.00         1\n",
      "         355       0.00      0.00      0.00         1\n",
      "         356       0.00      0.00      0.00         0\n",
      "         358       0.00      0.00      0.00         0\n",
      "         360       0.00      0.00      0.00         0\n",
      "         361       0.00      0.00      0.00         1\n",
      "         365       0.00      0.00      0.00         0\n",
      "         366       0.00      0.00      0.00         1\n",
      "         367       0.00      0.00      0.00         1\n",
      "         374       0.00      0.00      0.00         1\n",
      "         375       0.00      0.00      0.00         1\n",
      "         384       0.00      0.00      0.00         1\n",
      "         393       0.00      0.00      0.00         1\n",
      "         398       0.00      0.00      0.00         1\n",
      "         419       0.00      0.00      0.00         1\n",
      "         456       0.00      0.00      0.00         1\n",
      "         473       0.00      0.00      0.00         1\n",
      "         484       0.00      0.00      0.00         1\n",
      "         561       0.00      0.00      0.00         1\n",
      "\n",
      "    accuracy                           0.01       130\n",
      "   macro avg       0.01      0.01      0.01       130\n",
      "weighted avg       0.01      0.01      0.01       130\n",
      "\n"
     ]
    },
    {
     "name": "stderr",
     "output_type": "stream",
     "text": [
      "D:\\python\\lib\\site-packages\\sklearn\\metrics\\_classification.py:1245: UndefinedMetricWarning: Precision and F-score are ill-defined and being set to 0.0 in labels with no predicted samples. Use `zero_division` parameter to control this behavior.\n",
      "  _warn_prf(average, modifier, msg_start, len(result))\n",
      "D:\\python\\lib\\site-packages\\sklearn\\metrics\\_classification.py:1245: UndefinedMetricWarning: Recall and F-score are ill-defined and being set to 0.0 in labels with no true samples. Use `zero_division` parameter to control this behavior.\n",
      "  _warn_prf(average, modifier, msg_start, len(result))\n",
      "D:\\python\\lib\\site-packages\\sklearn\\metrics\\_classification.py:1245: UndefinedMetricWarning: Precision and F-score are ill-defined and being set to 0.0 in labels with no predicted samples. Use `zero_division` parameter to control this behavior.\n",
      "  _warn_prf(average, modifier, msg_start, len(result))\n",
      "D:\\python\\lib\\site-packages\\sklearn\\metrics\\_classification.py:1245: UndefinedMetricWarning: Recall and F-score are ill-defined and being set to 0.0 in labels with no true samples. Use `zero_division` parameter to control this behavior.\n",
      "  _warn_prf(average, modifier, msg_start, len(result))\n",
      "D:\\python\\lib\\site-packages\\sklearn\\metrics\\_classification.py:1245: UndefinedMetricWarning: Precision and F-score are ill-defined and being set to 0.0 in labels with no predicted samples. Use `zero_division` parameter to control this behavior.\n",
      "  _warn_prf(average, modifier, msg_start, len(result))\n",
      "D:\\python\\lib\\site-packages\\sklearn\\metrics\\_classification.py:1245: UndefinedMetricWarning: Recall and F-score are ill-defined and being set to 0.0 in labels with no true samples. Use `zero_division` parameter to control this behavior.\n",
      "  _warn_prf(average, modifier, msg_start, len(result))\n"
     ]
    }
   ],
   "source": [
    "report = classification_report(y_test, x_predict)\n",
    "print(report)"
   ]
  },
  {
   "cell_type": "code",
   "execution_count": 29,
   "id": "animal-prediction",
   "metadata": {},
   "outputs": [],
   "source": [
    "# report = classification_report(y_testdf['label'],  x_predictdf['label'])\n",
    "# print(report)"
   ]
  },
  {
   "cell_type": "code",
   "execution_count": 30,
   "id": "typical-punch",
   "metadata": {},
   "outputs": [],
   "source": [
    "from sklearn.decomposition import PCA"
   ]
  },
  {
   "cell_type": "code",
   "execution_count": 31,
   "id": "enabling-heather",
   "metadata": {},
   "outputs": [],
   "source": [
    "pca = PCA(n_components=2)"
   ]
  },
  {
   "cell_type": "code",
   "execution_count": 32,
   "id": "going-reporter",
   "metadata": {},
   "outputs": [
    {
     "data": {
      "text/plain": [
       "PCA(n_components=2)"
      ]
     },
     "execution_count": 32,
     "metadata": {},
     "output_type": "execute_result"
    }
   ],
   "source": [
    "pca.fit(X_train)"
   ]
  },
  {
   "cell_type": "code",
   "execution_count": 33,
   "id": "grave-merchandise",
   "metadata": {},
   "outputs": [
    {
     "name": "stdout",
     "output_type": "stream",
     "text": [
      "[9.99999990e-01 2.28603952e-09]\n"
     ]
    }
   ],
   "source": [
    "print(pca.explained_variance_ratio_)"
   ]
  },
  {
   "cell_type": "code",
   "execution_count": 34,
   "id": "derived-scheduling",
   "metadata": {},
   "outputs": [
    {
     "name": "stdout",
     "output_type": "stream",
     "text": [
      "[1.09872845e+05 5.25330046e+00]\n"
     ]
    }
   ],
   "source": [
    "print(pca.singular_values_)"
   ]
  },
  {
   "cell_type": "code",
   "execution_count": 35,
   "id": "occasional-password",
   "metadata": {},
   "outputs": [],
   "source": [
    "transformed = pd.DataFrame(pca.fit_transform(X_test))\n"
   ]
  },
  {
   "cell_type": "code",
   "execution_count": 36,
   "id": "novel-basin",
   "metadata": {},
   "outputs": [
    {
     "data": {
      "text/plain": [
       "[<matplotlib.lines.Line2D at 0x2319a20b130>,\n",
       " <matplotlib.lines.Line2D at 0x2319a20b250>,\n",
       " <matplotlib.lines.Line2D at 0x2319a20b1c0>,\n",
       " <matplotlib.lines.Line2D at 0x2319a20b040>,\n",
       " <matplotlib.lines.Line2D at 0x2319a200f40>,\n",
       " <matplotlib.lines.Line2D at 0x2319a1fd2e0>,\n",
       " <matplotlib.lines.Line2D at 0x2319a1fd220>,\n",
       " <matplotlib.lines.Line2D at 0x2319a1fd160>,\n",
       " <matplotlib.lines.Line2D at 0x2319a1fd0a0>]"
      ]
     },
     "execution_count": 36,
     "metadata": {},
     "output_type": "execute_result"
    },
    {
     "data": {
      "image/png": "[encoded data removed]",
      "text/plain": [
       "<Figure size 432x288 with 1 Axes>"
      ]
     },
     "metadata": {
      "needs_background": "light"
     },
     "output_type": "display_data"
    }
   ],
   "source": [
    "plt.plot(X_test, x_predict, color='blue', linewidth=3)"
   ]
  },
  {
   "cell_type": "code",
   "execution_count": 37,
   "id": "color-compatibility",
   "metadata": {},
   "outputs": [
    {
     "data": {
      "text/html": [
       "<div>\n",
       "<style scoped>\n",
       "    .dataframe tbody tr th:only-of-type {\n",
       "        vertical-align: middle;\n",
       "    }\n",
       "\n",
       "    .dataframe tbody tr th {\n",
       "        vertical-align: top;\n",
       "    }\n",
       "\n",
       "    .dataframe thead th {\n",
       "        text-align: right;\n",
       "    }\n",
       "</style>\n",
       "<table border=\"1\" class=\"dataframe\">\n",
       "  <thead>\n",
       "    <tr style=\"text-align: right;\">\n",
       "      <th></th>\n",
       "      <th>datetime</th>\n",
       "      <th>zone</th>\n",
       "      <th>weatherCondition</th>\n",
       "      <th>humidity</th>\n",
       "      <th>pressure</th>\n",
       "      <th>temperature</th>\n",
       "      <th>windDirection</th>\n",
       "      <th>windSpeed</th>\n",
       "      <th>holiday</th>\n",
       "    </tr>\n",
       "  </thead>\n",
       "  <tbody>\n",
       "    <tr>\n",
       "      <th>124</th>\n",
       "      <td>1.396301e+09</td>\n",
       "      <td>0.289062</td>\n",
       "      <td>0.454545</td>\n",
       "      <td>0.955056</td>\n",
       "      <td>0.195122</td>\n",
       "      <td>0.521507</td>\n",
       "      <td>0.494444</td>\n",
       "      <td>0.000000</td>\n",
       "      <td>0.0</td>\n",
       "    </tr>\n",
       "    <tr>\n",
       "      <th>140</th>\n",
       "      <td>1.396301e+09</td>\n",
       "      <td>0.605469</td>\n",
       "      <td>0.409091</td>\n",
       "      <td>0.505618</td>\n",
       "      <td>0.463415</td>\n",
       "      <td>0.627209</td>\n",
       "      <td>0.527778</td>\n",
       "      <td>0.333333</td>\n",
       "      <td>0.0</td>\n",
       "    </tr>\n",
       "    <tr>\n",
       "      <th>276</th>\n",
       "      <td>1.396309e+09</td>\n",
       "      <td>0.601562</td>\n",
       "      <td>0.000000</td>\n",
       "      <td>0.314607</td>\n",
       "      <td>0.243902</td>\n",
       "      <td>0.631877</td>\n",
       "      <td>0.550000</td>\n",
       "      <td>0.083333</td>\n",
       "      <td>0.0</td>\n",
       "    </tr>\n",
       "    <tr>\n",
       "      <th>252</th>\n",
       "      <td>1.396309e+09</td>\n",
       "      <td>0.601562</td>\n",
       "      <td>0.000000</td>\n",
       "      <td>0.382022</td>\n",
       "      <td>0.536585</td>\n",
       "      <td>0.452818</td>\n",
       "      <td>0.333333</td>\n",
       "      <td>0.333333</td>\n",
       "      <td>0.0</td>\n",
       "    </tr>\n",
       "    <tr>\n",
       "      <th>326</th>\n",
       "      <td>1.396309e+09</td>\n",
       "      <td>0.601562</td>\n",
       "      <td>0.409091</td>\n",
       "      <td>0.494382</td>\n",
       "      <td>0.560976</td>\n",
       "      <td>0.482161</td>\n",
       "      <td>0.000000</td>\n",
       "      <td>0.166667</td>\n",
       "      <td>0.0</td>\n",
       "    </tr>\n",
       "    <tr>\n",
       "      <th>...</th>\n",
       "      <td>...</td>\n",
       "      <td>...</td>\n",
       "      <td>...</td>\n",
       "      <td>...</td>\n",
       "      <td>...</td>\n",
       "      <td>...</td>\n",
       "      <td>...</td>\n",
       "      <td>...</td>\n",
       "      <td>...</td>\n",
       "    </tr>\n",
       "    <tr>\n",
       "      <th>19</th>\n",
       "      <td>1.396291e+09</td>\n",
       "      <td>1.000000</td>\n",
       "      <td>0.727273</td>\n",
       "      <td>0.606742</td>\n",
       "      <td>0.097561</td>\n",
       "      <td>0.075692</td>\n",
       "      <td>0.861111</td>\n",
       "      <td>0.250000</td>\n",
       "      <td>0.0</td>\n",
       "    </tr>\n",
       "    <tr>\n",
       "      <th>26</th>\n",
       "      <td>1.396291e+09</td>\n",
       "      <td>0.253906</td>\n",
       "      <td>0.454545</td>\n",
       "      <td>0.752809</td>\n",
       "      <td>0.439024</td>\n",
       "      <td>0.576192</td>\n",
       "      <td>0.516667</td>\n",
       "      <td>0.083333</td>\n",
       "      <td>0.0</td>\n",
       "    </tr>\n",
       "    <tr>\n",
       "      <th>297</th>\n",
       "      <td>1.396309e+09</td>\n",
       "      <td>0.601562</td>\n",
       "      <td>0.409091</td>\n",
       "      <td>0.797753</td>\n",
       "      <td>0.365854</td>\n",
       "      <td>0.336779</td>\n",
       "      <td>0.222222</td>\n",
       "      <td>0.250000</td>\n",
       "      <td>0.0</td>\n",
       "    </tr>\n",
       "    <tr>\n",
       "      <th>35</th>\n",
       "      <td>1.396291e+09</td>\n",
       "      <td>0.683594</td>\n",
       "      <td>0.681818</td>\n",
       "      <td>0.696629</td>\n",
       "      <td>0.317073</td>\n",
       "      <td>0.669890</td>\n",
       "      <td>0.527778</td>\n",
       "      <td>0.250000</td>\n",
       "      <td>1.0</td>\n",
       "    </tr>\n",
       "    <tr>\n",
       "      <th>157</th>\n",
       "      <td>1.396301e+09</td>\n",
       "      <td>0.875000</td>\n",
       "      <td>0.227273</td>\n",
       "      <td>0.292135</td>\n",
       "      <td>0.341463</td>\n",
       "      <td>0.777593</td>\n",
       "      <td>0.861111</td>\n",
       "      <td>0.333333</td>\n",
       "      <td>0.0</td>\n",
       "    </tr>\n",
       "  </tbody>\n",
       "</table>\n",
       "<p>130 rows × 9 columns</p>\n",
       "</div>"
      ],
      "text/plain": [
       "         datetime      zone  weatherCondition  humidity  pressure  \\\n",
       "124  1.396301e+09  0.289062          0.454545  0.955056  0.195122   \n",
       "140  1.396301e+09  0.605469          0.409091  0.505618  0.463415   \n",
       "276  1.396309e+09  0.601562          0.000000  0.314607  0.243902   \n",
       "252  1.396309e+09  0.601562          0.000000  0.382022  0.536585   \n",
       "326  1.396309e+09  0.601562          0.409091  0.494382  0.560976   \n",
       "..            ...       ...               ...       ...       ...   \n",
       "19   1.396291e+09  1.000000          0.727273  0.606742  0.097561   \n",
       "26   1.396291e+09  0.253906          0.454545  0.752809  0.439024   \n",
       "297  1.396309e+09  0.601562          0.409091  0.797753  0.365854   \n",
       "35   1.396291e+09  0.683594          0.681818  0.696629  0.317073   \n",
       "157  1.396301e+09  0.875000          0.227273  0.292135  0.341463   \n",
       "\n",
       "     temperature  windDirection  windSpeed  holiday  \n",
       "124     0.521507       0.494444   0.000000      0.0  \n",
       "140     0.627209       0.527778   0.333333      0.0  \n",
       "276     0.631877       0.550000   0.083333      0.0  \n",
       "252     0.452818       0.333333   0.333333      0.0  \n",
       "326     0.482161       0.000000   0.166667      0.0  \n",
       "..           ...            ...        ...      ...  \n",
       "19      0.075692       0.861111   0.250000      0.0  \n",
       "26      0.576192       0.516667   0.083333      0.0  \n",
       "297     0.336779       0.222222   0.250000      0.0  \n",
       "35      0.669890       0.527778   0.250000      1.0  \n",
       "157     0.777593       0.861111   0.333333      0.0  \n",
       "\n",
       "[130 rows x 9 columns]"
      ]
     },
     "execution_count": 37,
     "metadata": {},
     "output_type": "execute_result"
    }
   ],
   "source": [
    "X_test"
   ]
  },
  {
   "cell_type": "code",
   "execution_count": 38,
   "id": "progressive-least",
   "metadata": {},
   "outputs": [
    {
     "data": {
      "text/plain": [
       "130"
      ]
     },
     "execution_count": 38,
     "metadata": {},
     "output_type": "execute_result"
    }
   ],
   "source": [
    "len(x_predict)"
   ]
  },
  {
   "cell_type": "code",
   "execution_count": 39,
   "id": "nutritional-mount",
   "metadata": {},
   "outputs": [
    {
     "name": "stderr",
     "output_type": "stream",
     "text": [
      "No handles with labels found to put in legend.\n"
     ]
    },
    {
     "data": {
      "image/png": "[encoded data removed]",
      "text/plain": [
       "<Figure size 432x288 with 1 Axes>"
      ]
     },
     "metadata": {
      "needs_background": "light"
     },
     "output_type": "display_data"
    }
   ],
   "source": [
    "plt.scatter(transformed[0], y_test, edgecolors='w', alpha=0.3)\n",
    "plt.plot(transformed[0], x_predict, color='r', alpha=0.3)\n",
    "plt.legend()\n",
    "plt.xlabel('PC-1')\n",
    "plt.ylabel('Demand prediction')\n",
    "plt.title('Predicting the novel test data LR-2')\n",
    "plt.savefig('LinearRegression/LR-2.png')\n",
    "plt.show()"
   ]
  },
  {
   "cell_type": "code",
   "execution_count": 40,
   "id": "failing-diary",
   "metadata": {},
   "outputs": [
    {
     "name": "stdout",
     "output_type": "stream",
     "text": [
      "Training time: =   8\n"
     ]
    }
   ],
   "source": [
    "print(\"Training time: = %3d\" %(endTr-startTr))"
   ]
  },
  {
   "cell_type": "code",
   "execution_count": 41,
   "id": "portuguese-renewal",
   "metadata": {},
   "outputs": [
    {
     "name": "stdout",
     "output_type": "stream",
     "text": [
      "Testing time: =   3\n"
     ]
    }
   ],
   "source": [
    "print(\"Testing time: = %3d\" %(endTe-startTe))"
   ]
  },
  {
   "cell_type": "code",
   "execution_count": null,
   "id": "identified-portrait",
   "metadata": {},
   "outputs": [],
   "source": []
  }
 ],
 "metadata": {
  "kernelspec": {
   "display_name": "Python 3.7 (tensorflow2)",
   "language": "python",
   "name": "tensorflow2"
  },
  "language_info": {
   "codemirror_mode": {
    "name": "ipython",
    "version": 3
   },
   "file_extension": ".py",
   "mimetype": "text/x-python",
   "name": "python",
   "nbconvert_exporter": "python",
   "pygments_lexer": "ipython3",
   "version": "3.8.7"
  }
 },
 "nbformat": 4,
 "nbformat_minor": 5
}
