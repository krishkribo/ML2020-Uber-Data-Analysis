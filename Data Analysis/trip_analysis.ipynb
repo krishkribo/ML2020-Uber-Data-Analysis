{
 "cells": [
  {
   "cell_type": "code",
   "execution_count": 2,
   "metadata": {},
   "outputs": [],
   "source": [
    "# Data analysis of the day vs tip count \n",
    "\n",
    "import pandas as pd\n",
    "import os \n",
    "import numpy as np\n",
    "import matplotlib as m\n",
    "import matplotlib.pyplot as plt\n",
    "from tqdm import tqdm"
   ]
  },
  {
   "cell_type": "code",
   "execution_count": null,
   "metadata": {},
   "outputs": [],
   "source": [
    "# path handelling \n",
    "data = os.listdir(os.chdir(r\"../../data/uberData/\"))\n",
    "data_new=[]\n",
    "for d in data:\n",
    "    if not d.split('-')[0] != 'uber':\n",
    "        data_new.append(d)\n",
    "print(data_new)"
   ]
  },
  {
   "cell_type": "code",
   "execution_count": null,
   "metadata": {},
   "outputs": [],
   "source": [
    "trips = []\n",
    "unique_day = []\n",
    "for d in tqdm(data_new):\n",
    "    trip_count = 0\n",
    "    data = pd.read_csv(d)\n",
    "    date_year = data['Date/Time']\n",
    "    day = data.apply(lambda x: int(x['Date/Time'].split(' ')[0].split('/')[1]),axis=1)\n",
    "    unique_day.append(np.sort(np.unique(day)))\n",
    "    df = pd.DataFrame({'day':day})\n",
    "    trip_counts = df['day'].value_counts()\n",
    "    trips.append(trip_counts)\n",
    "    #print(unique_day)\n",
    "    #print(trip_counts)"
   ]
  },
  {
   "cell_type": "code",
   "execution_count": null,
   "metadata": {},
   "outputs": [],
   "source": [
    "# plot the data\n",
    "color = ['r','g','b','c','m','k']\n",
    "\n",
    "plt.figure(figsize=(6,5))  \n",
    "\n",
    "for trip in range(len(trips)):\n",
    "    plt.plot(unique_day[trip],trips[trip],color=color[trip])\n",
    "    \n",
    "plt.legend([d_n.split(\".\")[0].split(\"-\")[-1] for d_n in data_new])\n",
    "plt.xlabel('Day in month')\n",
    "plt.ylabel('Trip count')\n",
    "plt.show()"
   ]
  },
  {
   "cell_type": "code",
   "execution_count": null,
   "metadata": {},
   "outputs": [],
   "source": [
    "plt.draw()\n",
    "os.chdir(r\"D:\\University files\\2020-2021\\1b\\Machine Learning\\Project\\Uber-data-analysis\")\n",
    "fig1.savefig('day_trip_analysis.png')"
   ]
  },
  {
   "cell_type": "code",
   "execution_count": null,
   "metadata": {},
   "outputs": [],
   "source": []
  }
 ],
 "metadata": {
  "kernelspec": {
   "display_name": "Python 3",
   "language": "python",
   "name": "python3"
  },
  "language_info": {
   "codemirror_mode": {
    "name": "ipython",
    "version": 3
   },
   "file_extension": ".py",
   "mimetype": "text/x-python",
   "name": "python",
   "nbconvert_exporter": "python",
   "pygments_lexer": "ipython3",
   "version": "3.7.9"
  }
 },
 "nbformat": 4,
 "nbformat_minor": 4
}
